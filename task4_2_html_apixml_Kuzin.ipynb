{
  "nbformat": 4,
  "nbformat_minor": 0,
  "metadata": {
    "kernelspec": {
      "display_name": "Python 3",
      "language": "python",
      "name": "python3"
    },
    "language_info": {
      "codemirror_mode": {
        "name": "ipython",
        "version": 3
      },
      "file_extension": ".py",
      "mimetype": "text/x-python",
      "name": "python",
      "nbconvert_exporter": "python",
      "pygments_lexer": "ipython3",
      "version": "3.7.4"
    },
    "colab": {
      "name": "task4_2_html_apixml.ipynb",
      "provenance": [],
      "toc_visible": true
    }
  },
  "cells": [
    {
      "cell_type": "markdown",
      "metadata": {
        "id": "jQm6AKAK3h0c",
        "colab_type": "text"
      },
      "source": [
        "## Извлечение данных из веб-страниц\n",
        "\n",
        "Модуль requests позволяет получать доступ к веб-страницам. \n",
        "\n",
        "Запрос типа get - это когда вы передаете серверу какую-то информацию в адресной строке. Например, если вы перейдете по такому адресу: [https://www.google.ru/?q=python+анализ+данных](https://www.google.ru/?q=python+анализ+данных), то этим вы просите гугл искать по запросу \"python анализ данных\". \n",
        "\n",
        "post-запрос - это когда вам нужно ввести информацию в какую-нибудь форму, например, ввести логин-пароль, который не будет отображать в адресной строке браузера.\n"
      ]
    },
    {
      "cell_type": "code",
      "metadata": {
        "id": "tVRoiGHk3h0g",
        "colab_type": "code",
        "colab": {}
      },
      "source": [
        "import requests"
      ],
      "execution_count": 0,
      "outputs": []
    },
    {
      "cell_type": "markdown",
      "metadata": {
        "id": "5p1bxCFe3h0o",
        "colab_type": "text"
      },
      "source": [
        "---\n",
        "В качестве примера будем использовать данные о биржевых опционах компании Apple Inc., доступных на сайте Yahoo!Finance  \n",
        "\n",
        "---"
      ]
    },
    {
      "cell_type": "code",
      "metadata": {
        "id": "KbqUHp0D3h0s",
        "colab_type": "code",
        "colab": {}
      },
      "source": [
        "req = requests.get('https://finance.yahoo.com/quote/AAPL/options/')"
      ],
      "execution_count": 0,
      "outputs": []
    },
    {
      "cell_type": "markdown",
      "metadata": {
        "id": "sygpTBRm3h03",
        "colab_type": "text"
      },
      "source": [
        "---\n",
        "Чтобы проверить, что страница нормально загрузилась используется метод **ok**\n",
        "\n",
        "---"
      ]
    },
    {
      "cell_type": "code",
      "metadata": {
        "id": "gpRX7a383h0_",
        "colab_type": "code",
        "outputId": "6cf5adbd-1943-45be-b25d-f57ff5b6ca22",
        "colab": {
          "base_uri": "https://localhost:8080/",
          "height": 35
        }
      },
      "source": [
        "req.ok "
      ],
      "execution_count": 0,
      "outputs": [
        {
          "output_type": "execute_result",
          "data": {
            "text/plain": [
              "True"
            ]
          },
          "metadata": {
            "tags": []
          },
          "execution_count": 3
        }
      ]
    },
    {
      "cell_type": "code",
      "metadata": {
        "id": "8Q1-sMfD3h1R",
        "colab_type": "code",
        "colab": {}
      },
      "source": [
        "print(req.text)"
      ],
      "execution_count": 0,
      "outputs": []
    },
    {
      "cell_type": "markdown",
      "metadata": {
        "id": "BacM7-fH3h1e",
        "colab_type": "text"
      },
      "source": [
        "### Beautiful Soup\n",
        "\n",
        "\n",
        "Для обработки веб-страниц существует множество пакетов. Проблема с HTML в том, что в вебе много HTML-страниц, написанных не по стандарту HTML. Впрочем, обработка даже не вполне корректного HTML-кода не так сложна, если под рукой есть подходящие инструменты.\n",
        "\n",
        "Пакет **Beautiful Soup 4** входит в стандартную поставку Anaconda, но если вы используете другой дистрибутив Python, возможно, вам придётся его установить вручную с помощью pip install beautifulsoup4."
      ]
    },
    {
      "cell_type": "code",
      "metadata": {
        "id": "NlfV8P6j3h1i",
        "colab_type": "code",
        "colab": {}
      },
      "source": [
        "from bs4 import BeautifulSoup"
      ],
      "execution_count": 0,
      "outputs": []
    },
    {
      "cell_type": "markdown",
      "metadata": {
        "id": "Fx1JqP8i3h1u",
        "colab_type": "text"
      },
      "source": [
        "---\n",
        "Чтобы использовать Beautiful Soup, нужно передать функции BeautifulSoup текст веб-страницы (в виде одной строки). \n",
        "\n",
        "html.parser - парсер (программа, которая осуществляет обработку HTML), входит в поставку Python и не требует установки\n",
        "\n",
        "---\n"
      ]
    },
    {
      "cell_type": "code",
      "metadata": {
        "id": "VIW61K_n3h1x",
        "colab_type": "code",
        "colab": {}
      },
      "source": [
        "page = BeautifulSoup(req.text, 'html.parser')"
      ],
      "execution_count": 0,
      "outputs": []
    },
    {
      "cell_type": "code",
      "metadata": {
        "id": "MvUb3i0v3h17",
        "colab_type": "code",
        "colab": {}
      },
      "source": [
        "page"
      ],
      "execution_count": 0,
      "outputs": []
    },
    {
      "cell_type": "markdown",
      "metadata": {
        "id": "rrtHJ3eX3h2I",
        "colab_type": "text"
      },
      "source": [
        "---\n",
        "Объект **page** очень похож на строку, на самом деле, это не просто строка. К page можно делать запросы. Например:\n",
        "\n",
        "---"
      ]
    },
    {
      "cell_type": "code",
      "metadata": {
        "id": "eQcZAL2h3h2M",
        "colab_type": "code",
        "colab": {}
      },
      "source": [
        "page.html"
      ],
      "execution_count": 0,
      "outputs": []
    },
    {
      "cell_type": "markdown",
      "metadata": {
        "id": "l2wtAzP23h2W",
        "colab_type": "text"
      },
      "source": [
        "---\n",
        " Можно пойти вглубь и посмотреть на содержимое `<head>`\n",
        "\n",
        "---"
      ]
    },
    {
      "cell_type": "code",
      "metadata": {
        "id": "KtCAL7UT3h2Z",
        "colab_type": "code",
        "outputId": "df18b7ec-e734-4952-9cfc-6f8258ff9188",
        "colab": {
          "base_uri": "https://localhost:8080/",
          "height": 126
        }
      },
      "source": [
        "page.html.head"
      ],
      "execution_count": 0,
      "outputs": [
        {
          "output_type": "execute_result",
          "data": {
            "text/plain": [
              "<head prefix=\"og: http://ogp.me/ns#\"><script>window.performance && window.performance.mark && window.performance.mark('PageStart');</script><meta charset=\"utf-8\"/><title>Apple Inc. (AAPL) Options Chain - Yahoo Finance</title><meta content=\"AAPL, Apple Inc., AAPL options, Apple Inc. options, AAPL option chain, Apple Inc. option chain, option, option chain, AAPL stock chart, Apple Inc. stock chart, stock chart, stocks, quotes, finance\" name=\"keywords\"/><meta content=\"on\" http-equiv=\"x-dns-prefetch-control\"/><meta content=\"on\" property=\"twitter:dnt\"/><meta content=\"90376669494\" property=\"fb:app_id\"/><meta content=\"#400090\" name=\"theme-color\"/><meta content=\"width=device-width, initial-scale=1\" name=\"viewport\"/><meta content=\"View the basic AAPL option chain and compare options of Apple Inc. on Yahoo Finance.\" lang=\"en-US\" name=\"description\"/><meta content=\"guce.yahoo.com\" name=\"oath:guce:consent-host\"/><meta content=\"A9862C0E6E1BE95BCE0BF3D0298FD58B\" name=\"msvalidate.01\"/><link href=\"/manifest.json\" rel=\"manifest\"/><link href=\"//l.yimg.com\" rel=\"dns-prefetch\"/><link href=\"//s.yimg.com\" rel=\"dns-prefetch\"/><link href=\"//csc.beap.bc.yahoo.com\" rel=\"dns-prefetch\"/><link href=\"//geo.query.yahoo.com\" rel=\"dns-prefetch\"/><link href=\"//y.analytics.yahoo.com\" rel=\"dns-prefetch\"/><link href=\"//b.scorecardresearch.com\" rel=\"dns-prefetch\"/><link href=\"//iquery.finance.yahoo.com\" rel=\"dns-prefetch\"/><link href=\"//fc.yahoo.com\" rel=\"dns-prefetch\"/><link href=\"//video-api.yql.yahoo.com\" rel=\"dns-prefetch\"/><link href=\"//yrtas.btrll.com\" rel=\"dns-prefetch\"/><link href=\"//shim.btrll.com\" rel=\"dns-prefetch\"/><link href=\"//consent.cmp.oath.com\" rel=\"dns-prefetch\"/><link href=\"//geo.yahoo.com\" rel=\"dns-prefetch\"/><link crossorigin=\"anonymous\" href=\"//l.yimg.com\" rel=\"preconnect\"/><link crossorigin=\"anonymous\" href=\"//s.yimg.com\" rel=\"preconnect\"/><link href=\"//csc.beap.bc.yahoo.com\" rel=\"preconnect\"/><link href=\"//geo.query.yahoo.com\" rel=\"preconnect\"/><link href=\"//y.analytics.yahoo.com\" rel=\"preconnect\"/><link href=\"//b.scorecardresearch.com\" rel=\"preconnect\"/><link href=\"//iquery.finance.yahoo.com\" rel=\"preconnect\"/><link href=\"//fc.yahoo.com\" rel=\"preconnect\"/><link href=\"//video-api.yql.yahoo.com\" rel=\"preconnect\"/><link href=\"//yrtas.btrll.com\" rel=\"preconnect\"/><link href=\"//shim.btrll.com\" rel=\"preconnect\"/><link href=\"//consent.cmp.oath.com\" rel=\"preconnect\"/><link href=\"//geo.yahoo.com\" rel=\"preconnect\"/><link href=\"//ads.yahoo.com\" rel=\"preconnect\"/><link href=\"/_finStreamer-worker.js\" rel=\"preload\"/><link href=\"/_rapidworker-1.2.js\" rel=\"preload\"/><link href=\"https://s.yimg.com/cv/apiv2/default/icons/favicon_y19_32x32_custom.svg\" rel=\"icon\" sizes=\"any\"/><link href=\"https://s.yimg.com/cv/apiv2/default/fp/20180826/icons/favicon_y19_32x32.ico\" rel=\"alternate icon\" type=\"image/x-icon\"/><link href=\"https://finance.yahoo.com/quote/AAPL/options/\" rel=\"canonical\"/><meta content=\"@YahooFinance\" property=\"twitter:site\"/><meta content=\"90376669494\" property=\"fb:pages\"/><meta content=\"https://s.yimg.com/cv/apiv2/social/images/yahoo_default_logo.png\" property=\"og:image\"/><meta content=\"View the basic AAPL option chain and compare options of Apple Inc. on Yahoo Finance.\" property=\"og:description\"/><meta content=\"Apple Inc. (AAPL) Options Chain - Yahoo Finance\" property=\"og:title\"/><meta content=\"View the basic AAPL option chain and compare options of Apple Inc. on Yahoo Finance.\" property=\"twitter:description\"/><meta content=\"Apple Inc. (AAPL) Options Chain - Yahoo Finance\" property=\"twitter:title\"/><meta content=\"yfinance://quote/AAPL\" property=\"al:ios:url\"/><meta content=\"328412701\" property=\"al:ios:app_store_id\"/><meta content=\"Yahoo Finance\" property=\"al:ios:app_name\"/><meta content=\"intent://quote/AAPL/#Intent;scheme=yfinance;action=android.intent.action.VIEW;package=com.yahoo.mobile.client.android.finance;S.browser_fallback_url=https%3A%2F%2Fplay.google.com%2Fstore%2Fapps%2Fdetails%3Fid%3Dcom.yahoo.mobile.client.android.finance;end\" property=\"al:android:url\"/><meta content=\"Yahoo Finance\" property=\"al:android:app_name\"/><meta content=\"com.yahoo.mobile.client.android.finance\" property=\"al:android:package\"/><meta content=\"app-id=328412701, affiliate-data=ct=us.fin.mbl.smart-banner&amp;pt=9029, app-argument=yfinance://quote/AAPL\" name=\"apple-itunes-app\"/><meta content=\"guce.yahoo.com\" name=\"oath:guce:consent-host\"/><link href=\"https://s.yimg.com/aaq/yc/css/bundle.ce149847.css\" rel=\"stylesheet\"/><link href=\"https://s.yimg.com/aaq/yc/css/patch.cd698090.css\" rel=\"stylesheet\"/><link href=\"https://s.yimg.com/uc/finance/dd-site/css/app.ce4d70bc.css\" rel=\"stylesheet\"/><link href=\"https://s.yimg.com/uc/finance/dd-site/css/atomic-light.9be8053b.css\" rel=\"stylesheet\"/><script defer=\"\" src=\"https://www.yahoo.com/polyfill.min.js?features=locale-data-en-us%2Cpromise%2Carray.isarray%2Carray.prototype.every%2Carray.prototype.foreach%2Carray.prototype.indexof%2Carray.prototype.map%2Cdate.now%2Cfunction.prototype.bind%2Cobject.keys%2Cstring.prototype.trim%2Cobject.defineproperty%2Cobject.defineproperties%2Cobject.create%2Cobject.freeze%2Carray.prototype.filter%2Carray.prototype.reduce%2Cobject.assign%2Crequestanimationframe%2Cintl&amp;version=2.1.23\"></script><script src=\"https://s.yimg.com/aaq/yc/2.9.0/en.js\"></script><script src=\"https://s.yimg.com/zz/combo?ss/rapid3.js\"></script><script async=\"\" defer=\"\" src=\"https://yep.video.yahoo.com/oath/js/1/oath-player.js\"></script><script src=\"https://consent.cmp.oath.com/cmpStub.min.js\"></script><script async=\"\" src=\"https://consent.cmp.oath.com/cmp.js\"></script><script src=\"https://s.yimg.com/rq/darla/3-21-0/js/g-r-min.js\"></script><script>(function(html){var c = html.className;c += \" JsEnabled\";c = c.replace(\"NoJs\",\"\");html.className = c;})(document.documentElement);</script><script>!function(o,c){var a,t,i,n,e=[],r={passive:!0,capture:!0},p=new Date,f=\"pointerup\",u=\"pointercancel\",d=window;function m(n,e){a||(a=e,t=n,i=new Date,M(c),w())}function w(){0<=t&&t<i-p&&(e.forEach(function(n){n(t,a)}),e=[])}function s(n){if(n.cancelable){var e=(1e12<n.timeStamp?new Date:d.performance.now())-n.timeStamp;\"pointerdown\"===n.type?function(n,e){function a(){m(n,e),i()}function t(){i()}function i(){c(f,a,r),c(u,t,r)}o(f,a,r),o(u,t,r)}(e,n):m(e,n)}}function M(e){[\"click\",\"mousedown\",\"keydown\",\"touchstart\",\"pointerdown\"].forEach(function(n){e(n,s,r)})}d.performance&&d.performance.now&&M(o),n=function(n,e){var a=d.YAHOO&&d.YAHOO.i13n&&d.YAHOO.i13n.rapidInstance||d.YMedia&&d.YMedia.My&&d.YMedia.My.App&&d.YMedia.My.App.getRapidTracker&&d.YMedia.My.App.getRapidTracker()||d.rapidInstance,t=Math.round(n);a&&a.beaconPerformanceData&&0<t&&(t={utm:{yaft_fid:t}},a.beaconPerformanceData({perf_usertime:t}))},e.push(n),w()}(addEventListener,removeEventListener);</script><script>!function(s,f,p){var a=[],e={_version:\"3.6.0\",_config:{classPrefix:\"\",enableClasses:!0,enableJSClass:!0,usePrefixes:!0},_q:[],on:function(e,t){var n=this;setTimeout(function(){t(n[e])},0)},addTest:function(e,t,n){a.push({name:e,fn:t,options:n})},addAsyncTest:function(e){a.push({name:null,fn:e})}},l=function(){};l.prototype=e,l=new l;var c=[];function v(e,t){return typeof e===t}var t=\"Moz O ms Webkit\",u=e._config.usePrefixes?t.split(\" \"):[];e._cssomPrefixes=u;var y=f.documentElement,m=\"svg\"===y.nodeName.toLowerCase();function g(){return\"function\"!=typeof f.createElement?f.createElement(arguments[0]):m?f.createElementNS.call(f,\"http://www.w3.org/2000/svg\",arguments[0]):f.createElement.apply(f,arguments)}var n={elem:g(\"modernizr\")};l._q.push(function(){delete n.elem});var h={style:n.elem.style};function o(e,t,n,r){var o,i,s,a,l,c=\"modernizr\",u=g(\"div\"),d=((l=f.body)||((l=g(m?\"svg\":\"body\")).fake=!0),l);if(parseInt(n,10))for(;n--;)(s=g(\"div\")).id=r?r[n]:c+(n+1),u.appendChild(s);return(o=g(\"style\")).type=\"text/css\",o.id=\"s\"+c,(d.fake?d:u).appendChild(o),d.appendChild(u),o.styleSheet?o.styleSheet.cssText=e:o.appendChild(f.createTextNode(e)),u.id=c,d.fake&&(d.style.background=\"\",d.style.overflow=\"hidden\",a=y.style.overflow,y.style.overflow=\"hidden\",y.appendChild(d)),i=t(u,e),d.fake?(d.parentNode.removeChild(d),y.style.overflow=a,y.offsetHeight):u.parentNode.removeChild(u),!!i}function i(e){return e.replace(/([A-Z])/g,function(e,t){return\"-\"+t.toLowerCase()}).replace(/^ms-/,\"-ms-\")}function S(e,t){var n=e.length;if(\"CSS\"in s&&\"supports\"in s.CSS){for(;n--;)if(s.CSS.supports(i(e[n]),t))return!0;return!1}if(\"CSSSupportsRule\"in s){for(var r=[];n--;)r.push(\"(\"+i(e[n])+\":\"+t+\")\");return o(\"@supports (\"+(r=r.join(\" or \"))+\") { #modernizr { position: absolute; } }\",function(e){return\"absolute\"==function(e,t,n){var r;if(\"getComputedStyle\"in s){r=getComputedStyle.call(s,e,t);var o=s.console;null!==r?n&&(r=r.getPropertyValue(n)):o&&o[o.error?\"error\":\"log\"].call(o,\"getComputedStyle returning null, its possible modernizr test results are inaccurate\")}else r=!t&&e.currentStyle&&e.currentStyle[n];return r}(e,null,\"position\")})}return p}function C(e){return e.replace(/([a-z])-([a-z])/g,function(e,t,n){return t+n.toUpperCase()}).replace(/^-/,\"\")}l._q.unshift(function(){delete h.style});var d=e._config.usePrefixes?t.toLowerCase().split(\" \"):[];function w(e,t){return function(){return e.apply(t,arguments)}}function r(e,t,n,r,o){var i=e.charAt(0).toUpperCase()+e.slice(1),s=(e+\" \"+u.join(i+\" \")+i).split(\" \");return v(t,\"string\")||v(t,\"undefined\")?function(e,t,n,r){if(r=!v(r,\"undefined\")&&r,!v(n,\"undefined\")){var o=S(e,n);if(!v(o,\"undefined\"))return o}for(var i,s,a,l,c,u=[\"modernizr\",\"tspan\",\"samp\"];!h.style&&u.length;)i=!0,h.modElem=g(u.shift()),h.style=h.modElem.style;function d(){i&&(delete h.style,delete h.modElem)}for(a=e.length,s=0;s<a;s++)if(l=e[s],c=h.style[l],~(\"\"+l).indexOf(\"-\")&&(l=C(l)),h.style[l]!==p){if(r||v(n,\"undefined\"))return d(),\"pfx\"!=t||l;try{h.style[l]=n}catch(e){}if(h.style[l]!=c)return d(),\"pfx\"!=t||l}return d(),!1}(s,t,r,o):function(e,t,n){var r;for(var o in e)if(e[o]in t)return!1===n?e[o]:v(r=t[e[o]],\"function\")?w(r,n||t):r;return!1}(s=(e+\" \"+d.join(i+\" \")+i).split(\" \"),t,n)}e._domPrefixes=d,e.testAllProps=r;var x=function(e){var t,n=T.length,r=s.CSSRule;if(void 0===r)return p;if(!e)return!1;if((t=(e=e.replace(/^@/,\"\")).replace(/-/g,\"_\").toUpperCase()+\"_RULE\")in r)return\"@\"+e;for(var o=0;o<n;o++){var i=T[o];if(i.toUpperCase()+\"_\"+t in r)return\"@-\"+i.toLowerCase()+\"-\"+e}return!1};e.atRule=x;e.prefixed=function(e,t,n){return 0===e.indexOf(\"@\")?x(e):(-1!=e.indexOf(\"-\")&&(e=C(e)),t?r(e,t,n):r(e,\"pfx\"))};l.addTest(\"canvas\",function(){var e=g(\"canvas\");return!(!e.getContext||!e.getContext(\"2d\"))});var T=e._config.usePrefixes?\" -webkit- -moz- -o- -ms- \".split(\" \"):[\"\",\"\"];function P(e,t,n){return r(e,p,p,t,n)}e._prefixes=T,l.addTest(\"csspositionsticky\",function(){var e=\"position:\",t=g(\"a\").style;return t.cssText=e+T.join(\"sticky;\"+e).slice(0,-e.length),-1!==t.position.indexOf(\"sticky\")}),e.testAllProps=P;var _=\"CSS\"in s&&\"supports\"in s.CSS,b=\"supportsCSS\"in s;l.addTest(\"supports\",_||b),l.addTest(\"csstransforms3d\",function(){return!!P(\"perspective\",\"1px\",!0)}),l.addTest(\"csstransitions\",P(\"transition\",\"all\",!0)),l.addTest(\"history\",function(){var e=navigator.userAgent;return(-1===e.indexOf(\"Android 2.\")&&-1===e.indexOf(\"Android 4.0\")||-1===e.indexOf(\"Mobile Safari\")||-1!==e.indexOf(\"Chrome\")||-1!==e.indexOf(\"Windows Phone\")||\"file:\"===location.protocol)&&(s.history&&\"pushState\"in s.history)}),l.addTest(\"inlinesvg\",function(){var e=g(\"div\");return e.innerHTML=\"<svg/>\",\"http://www.w3.org/2000/svg\"==(\"undefined\"!=typeof SVGRect&&e.firstChild&&e.firstChild.namespaceURI)}),l.addTest(\"localstorage\",function(){var e=\"modernizr\";try{return localStorage.setItem(e,e),localStorage.removeItem(e),!0}catch(e){return!1}}),l.addTest(\"sessionstorage\",function(){var e=\"modernizr\";try{return sessionStorage.setItem(e,e),sessionStorage.removeItem(e),!0}catch(e){return!1}}),l.addTest(\"svg\",!!f.createElementNS&&!!f.createElementNS(\"http://www.w3.org/2000/svg\",\"svg\").createSVGRect),l.addTest(\"video\",function(){var e=g(\"video\"),t=!1;try{(t=!!e.canPlayType)&&((t=new Boolean(t)).ogg=e.canPlayType('video/ogg; codecs=\"theora\"').replace(/^no$/,\"\"),t.h264=e.canPlayType('video/mp4; codecs=\"avc1.42E01E\"').replace(/^no$/,\"\"),t.webm=e.canPlayType('video/webm; codecs=\"vp8, vorbis\"').replace(/^no$/,\"\"),t.vp9=e.canPlayType('video/webm; codecs=\"vp9\"').replace(/^no$/,\"\"),t.hls=e.canPlayType('application/x-mpegURL; codecs=\"avc1.42E01E\"').replace(/^no$/,\"\"))}catch(e){}return t}),function(){var e,t,n,r,o,i;for(var s in a)if(a.hasOwnProperty(s)){if(e=[],(t=a[s]).name&&(e.push(t.name.toLowerCase()),t.options&&t.options.aliases&&t.options.aliases.length))for(n=0;n<t.options.aliases.length;n++)e.push(t.options.aliases[n].toLowerCase());for(r=v(t.fn,\"function\")?t.fn():t.fn,o=0;o<e.length;o++)1===(i=e[o].split(\".\")).length?l[i[0]]=r:(!l[i[0]]||l[i[0]]instanceof Boolean||(l[i[0]]=new Boolean(l[i[0]])),l[i[0]][i[1]]=r),c.push((r?\"\":\"no-\")+i.join(\"-\"))}}(),delete e.addTest,delete e.addAsyncTest;for(var E=0;E<l._q.length;E++)l._q[E]();s.Modernizr=l}(window,document);</script><script>!function(e){function t(t){t.matches?e.classList&&(e.classList.remove(\"themelight\"),e.classList.add(\"themedark\")):e.classList&&(e.classList.remove(\"themedark\"),e.classList.add(\"themelight\"))}if(window&&\"function\"==typeof window.matchMedia){var s=window.matchMedia(\"(prefers-color-scheme: dark)\");s.addListener(t),t(s)}}(document.documentElement);</script><script>!function(e){var t={};function n(r){if(t[r])return t[r].exports;var o=t[r]={i:r,l:!1,exports:{}};return e[r].call(o.exports,o,o.exports,n),o.l=!0,o.exports}n.m=e,n.c=t,n.d=function(e,t,r){n.o(e,t)||Object.defineProperty(e,t,{configurable:!1,enumerable:!0,get:r})},n.n=function(e){var t=e&&e.__esModule?function(){return e.default}:function(){return e};return n.d(t,\"a\",t),t},n.o=function(e,t){return Object.prototype.hasOwnProperty.call(e,t)},n.p=\"/\",n(n.s=7)}({7:function(e,t){!function(){var e=!1;function t(e){var t=\"string\"==typeof e.data,n=e.data;if(t)try{n=JSON.parse(e.data)}catch(e){}if(n&&n.__cmpCall){var r=n.__cmpCall;window.__cmp(r.command,r.parameter,function(n,o){var a={__cmpReturn:{returnValue:n,success:o,callId:r.callId}};e&&e.source&&e.source.postMessage(t?JSON.stringify(a):a,\"*\")})}}\"function\"==typeof __cmp||(window.__cmp=function(){var t=arguments;if(__cmp.a=__cmp.a||[],!t.length)return __cmp.a;\"ping\"===t[0]?t[2]({gdprAppliesGlobally:e,cmpLoaded:!1},!0):__cmp.a.push([].slice.apply(t))},function e(){if(document.body&&document.body.firstChild){var t=document.body,n=document.createElement(\"iframe\");n.style.display=\"none\",n.height=n.width=0,n.name=\"__cmpLocator\",t.insertBefore(n,t.firstChild)}else setTimeout(e,5)}(),window.addEventListener?window.addEventListener(\"message\",t,!1):window.attachEvent(\"onmessage\",t))}()}});</script><script>document.createElement(\"header\");document.createElement(\"section\");document.createElement(\"article\");document.createElement(\"figure\");document.createElement(\"nav\");document.createElement(\"aside\");document.createElement(\"footer\");</script><script>(function () {\n",
              "if (!window.YAHOO || !window.YAHOO.i13n || !window.YAHOO.i13n.Rapid) { return; }\n",
              "var rapidConfig = {\"async_all_clicks\":true,\"click_timeout\":300,\"client_only\":1,\"compr_type\":\"deflate\",\"keys\":{\"ver\":\"ydotcom\",\"navtype\":\"server\",\"pt\":\"utility\",\"pct\":\"qsp\",\"pstcat\":\"equities\",\"pg_name\":\"options\",\"rvt\":\"AAPL\",\"ticker\":\"AAPL\",\"mrkt\":\"us\",\"site\":\"finance\",\"lang\":\"en-US\",\"colo\":\"bf1\",\"_yrid\":\"b74gg2dev8skv\",\"_rid\":\"b74gg2dev8skv\",\"abk\":\"\"},\"pageview_on_init\":true,\"query_parameters\":true,\"test_id\":\"finance-US-en-US-def\",\"tracked_mods_viewability\":[],\"track_right_click\":true,\"viewability\":true,\"dwell_on\":true,\"perf_navigationtime\":2,\"perf_resourcetime\":1,\"webworker_file\":\"/__rapidworker-1.2.js\",\"spaceid\":28951412};\n",
              "window.rapidInstance = new window.YAHOO.i13n.Rapid(rapidConfig);\n",
              "})();</script></head>"
            ]
          },
          "metadata": {
            "tags": []
          },
          "execution_count": 9
        }
      ]
    },
    {
      "cell_type": "markdown",
      "metadata": {
        "id": "SRNt_5oN3h2j",
        "colab_type": "text"
      },
      "source": [
        "---\n",
        "Теперь мы видим только то, что внутри тега `<head>`. Мы можем пойти еще глубже, и получить то, что находится внутри тега `<title>`, который в свою очередь находится внутри тега `<head>` (говорят, что `<title>` является *потомком* `<head>`:\n",
        "\n",
        "---"
      ]
    },
    {
      "cell_type": "code",
      "metadata": {
        "id": "FuWoL4s03h2l",
        "colab_type": "code",
        "outputId": "0f157202-8760-4bee-c5ad-d251b8118cd4",
        "colab": {
          "base_uri": "https://localhost:8080/",
          "height": 35
        }
      },
      "source": [
        "page.html.head.title"
      ],
      "execution_count": 0,
      "outputs": [
        {
          "output_type": "execute_result",
          "data": {
            "text/plain": [
              "<title>Apple Inc. (AAPL) Options Chain - Yahoo Finance</title>"
            ]
          },
          "metadata": {
            "tags": []
          },
          "execution_count": 10
        }
      ]
    },
    {
      "cell_type": "code",
      "metadata": {
        "id": "MrT2q1TU3h2r",
        "colab_type": "code",
        "outputId": "a0e852d9-6d9b-4f77-cbdd-3a27c0c2613c",
        "colab": {
          "base_uri": "https://localhost:8080/",
          "height": 35
        }
      },
      "source": [
        "page.title"
      ],
      "execution_count": 0,
      "outputs": [
        {
          "output_type": "execute_result",
          "data": {
            "text/plain": [
              "<title>Apple Inc. (AAPL) Options Chain - Yahoo Finance</title>"
            ]
          },
          "metadata": {
            "tags": []
          },
          "execution_count": 11
        }
      ]
    },
    {
      "cell_type": "markdown",
      "metadata": {
        "id": "zqD2VlNv3h2w",
        "colab_type": "text"
      },
      "source": [
        "---\n",
        "У тегов, кроме названия, бывают еще свойства — например, в строчке `<html lang=\"en-US\">` мы видим свойство `lang` у тега `<html>`, имеющее значение `\"en-US\"`. \n",
        "\n",
        "---"
      ]
    },
    {
      "cell_type": "code",
      "metadata": {
        "id": "4L6-EVAO3h2y",
        "colab_type": "code",
        "outputId": "cc7a50b5-d14d-4f23-f535-0e19686ee81f",
        "colab": {
          "base_uri": "https://localhost:8080/",
          "height": 35
        }
      },
      "source": [
        "page.html['lang']"
      ],
      "execution_count": 0,
      "outputs": [
        {
          "output_type": "execute_result",
          "data": {
            "text/plain": [
              "'en-US'"
            ]
          },
          "metadata": {
            "tags": []
          },
          "execution_count": 12
        }
      ]
    },
    {
      "cell_type": "markdown",
      "metadata": {
        "id": "LP6Hrd3_3h24",
        "colab_type": "text"
      },
      "source": [
        "---\n",
        "Другим важным примером тега со свойствами является тег `<a>`, который создает ссылку. У него есть свойство `href`, которое хранит собственно ссылку.\n",
        "\n",
        "\n",
        "---"
      ]
    },
    {
      "cell_type": "code",
      "metadata": {
        "id": "gAJlqLqb3h25",
        "colab_type": "code",
        "colab": {}
      },
      "source": [
        "page('a')"
      ],
      "execution_count": 0,
      "outputs": []
    },
    {
      "cell_type": "code",
      "metadata": {
        "id": "ZoU5Zvtt3h3A",
        "colab_type": "code",
        "colab": {}
      },
      "source": [
        "for link in page('a'):\n",
        "    print(link['href'])"
      ],
      "execution_count": 0,
      "outputs": []
    },
    {
      "cell_type": "markdown",
      "metadata": {
        "id": "9VZRIyde3h3D",
        "colab_type": "text"
      },
      "source": [
        "---\n",
        "Одним из потомков `<body>` является `<table>`. Ее можно получить вот так.\n",
        "\n",
        "---"
      ]
    },
    {
      "cell_type": "code",
      "metadata": {
        "id": "OPG_i5I93h3E",
        "colab_type": "code",
        "outputId": "ed970758-0611-4e01-e3ca-bcf503ba5f68",
        "colab": {
          "base_uri": "https://localhost:8080/",
          "height": 55
        }
      },
      "source": [
        "page.body.table"
      ],
      "execution_count": 0,
      "outputs": [
        {
          "output_type": "execute_result",
          "data": {
            "text/plain": [
              "<table class=\"calls W(100%) Pos(r) Bd(0) Pt(0) list-options\" data-reactid=\"23\"><thead data-reactid=\"24\"><tr class=\"C($c-fuji-grey-j)\" data-reactid=\"25\"><th class=\"Va(b) Py(4px) Fw(400) Fz(xs) Ta(start) Pstart(10px) C($tertiaryColor)\" data-reactid=\"26\"><span data-reactid=\"27\">Contract Name</span><!-- react-text: 28 --><!-- /react-text --></th><th class=\"Va(b) Py(4px) Fw(400) Fz(xs) Ta(end) Pstart(7px) C($tertiaryColor)\" data-reactid=\"29\"><span data-reactid=\"30\">Last Trade Date</span><!-- react-text: 31 --><!-- /react-text --></th><th class=\"Va(b) Py(4px) Fw(400) Fz(xs) Ta(end) Pstart(7px) C($tertiaryColor) C($primaryColor) Fw(500)!\" data-reactid=\"32\"><span data-reactid=\"33\">Strike</span><svg class=\"Va(m)! W(14px) H(14px) Fill($primaryColor)! Stk($primaryColor)! Pt(1px) Pos(a) Cur(p)\" data-icon=\"caret-up\" data-reactid=\"34\" height=\"48\" style=\"fill:#000;stroke:#000;stroke-width:0;vertical-align:bottom;\" viewbox=\"0 0 48 48\" width=\"48\"><path d=\"M24.21 16.03L11.48 28.76c-.78.78-.78 2.047 0 2.827.78.78 2.048.78 2.83 0l9.898-9.9 9.9 9.9c.78.78 2.047.78 2.827 0 .78-.78.78-2.047 0-2.828L24.21 16.03z\" data-reactid=\"35\"></path></svg></th><th class=\"Va(b) Py(4px) Fw(400) Fz(xs) Ta(end) Pstart(7px) C($tertiaryColor)\" data-reactid=\"36\"><span data-reactid=\"37\">Last Price</span><!-- react-text: 38 --><!-- /react-text --></th><th class=\"Va(b) Py(4px) Fw(400) Fz(xs) Ta(end) Pstart(7px) C($tertiaryColor)\" data-reactid=\"39\"><span data-reactid=\"40\">Bid</span><!-- react-text: 41 --><!-- /react-text --></th><th class=\"Va(b) Py(4px) Fw(400) Fz(xs) Ta(end) Pstart(7px) C($tertiaryColor)\" data-reactid=\"42\"><span data-reactid=\"43\">Ask</span><!-- react-text: 44 --><!-- /react-text --></th><th class=\"Va(b) Py(4px) Fw(400) Fz(xs) Ta(end) Pstart(7px) C($tertiaryColor)\" data-reactid=\"45\"><span data-reactid=\"46\">Change</span><!-- react-text: 47 --><!-- /react-text --></th><th class=\"Va(b) Py(4px) Fw(400) Fz(xs) Ta(end) Pstart(7px) C($tertiaryColor)\" data-reactid=\"48\"><span data-reactid=\"49\">% Change</span><!-- react-text: 50 --><!-- /react-text --></th><th class=\"Va(b) Py(4px) Fw(400) Fz(xs) Ta(end) Pstart(7px) C($tertiaryColor)\" data-reactid=\"51\"><span data-reactid=\"52\">Volume</span><!-- react-text: 53 --><!-- /react-text --></th><th class=\"Va(b) Py(4px) Fw(400) Fz(xs) Ta(end) Pstart(7px) C($tertiaryColor)\" data-reactid=\"54\"><span data-reactid=\"55\">Open Interest</span><!-- react-text: 56 --><!-- /react-text --></th><th class=\"Va(b) Py(4px) Fw(400) Fz(xs) Ta(end) Pstart(7px) Pend(6px) C($tertiaryColor)\" data-reactid=\"57\"><span data-reactid=\"58\">Implied Volatility</span><!-- react-text: 59 --><!-- /react-text --></th></tr></thead><tbody data-reactid=\"60\"><tr class=\"data-row0 Bgc($hoverBgColor):h BdT Bdc($seperatorColor) H(33px) in-the-money Bgc($hoverBgColor) Whs(nw)\" data-reactid=\"61\"><td class=\"data-col0 Ta(start) Pstart(10px) Bdstartw(8px) Bdstarts(s) Bdstartc(t) in-the-money_Bdstartc($linkColor)\" data-reactid=\"62\"><a class=\"Fz(s) Ell C($linkColor)\" data-reactid=\"63\" href=\"/quote/AAPL191220C00100000?p=AAPL191220C00100000\">AAPL191220C00100000</a></td><td class=\"data-col1 Ta(end) Pstart(7px)\" data-reactid=\"64\">2019-12-04 10:40AM EST</td><td class=\"data-col2 Ta(end) Pstart(7px)\" data-reactid=\"65\"><a class=\"C($linkColor) Fz(s)\" data-reactid=\"66\" data-symbol=\"AAPL\" href=\"/quote/AAPL/options?strike=100&amp;straddle=false\">100.00</a></td><td class=\"data-col3 Ta(end) Pstart(7px)\" data-reactid=\"67\">173.10</td><td class=\"data-col4 Ta(end) Pstart(7px)\" data-reactid=\"68\">173.15</td><td class=\"data-col5 Ta(end) Pstart(7px)\" data-reactid=\"69\">176.95</td><td class=\"data-col6 Ta(end) Pstart(7px)\" data-reactid=\"70\"><span class=\"Trsdu(0.3s) C($dataGreen)\" data-reactid=\"71\">+3.45</span></td><td class=\"data-col7 Ta(end) Pstart(7px)\" data-reactid=\"72\"><span class=\"Trsdu(0.3s) C($dataGreen)\" data-reactid=\"73\">+2.03%</span></td><td class=\"data-col8 Ta(end) Pstart(7px)\" data-reactid=\"74\">4</td><td class=\"data-col9 Ta(end) Pstart(7px)\" data-reactid=\"75\">62</td><td class=\"data-col10 Ta(end) Pstart(7px) Pend(6px) Bdstartc(t)\" data-reactid=\"76\">432.42%</td></tr><tr class=\"data-row1 Bgc($hoverBgColor):h BdT Bdc($seperatorColor) H(33px) in-the-money Bgc($hoverBgColor) Bgc($altRowColor) Whs(nw)\" data-reactid=\"77\"><td class=\"data-col0 Ta(start) Pstart(10px) Bdstartw(8px) Bdstarts(s) Bdstartc(t) in-the-money_Bdstartc($linkColor)\" data-reactid=\"78\"><a class=\"Fz(s) Ell C($linkColor)\" data-reactid=\"79\" href=\"/quote/AAPL191220C00105000?p=AAPL191220C00105000\">AAPL191220C00105000</a></td><td class=\"data-col1 Ta(end) Pstart(7px)\" data-reactid=\"80\">2019-12-09 12:24PM EST</td><td class=\"data-col2 Ta(end) Pstart(7px)\" data-reactid=\"81\"><a class=\"C($linkColor) Fz(s)\" data-reactid=\"82\" data-symbol=\"AAPL\" href=\"/quote/AAPL/options?strike=105&amp;straddle=false\">105.00</a></td><td class=\"data-col3 Ta(end) Pstart(7px)\" data-reactid=\"83\">168.10</td><td class=\"data-col4 Ta(end) Pstart(7px)\" data-reactid=\"84\">168.15</td><td class=\"data-col5 Ta(end) Pstart(7px)\" data-reactid=\"85\">171.95</td><td class=\"data-col6 Ta(end) Pstart(7px)\" data-reactid=\"86\"><span class=\"Trsdu(0.3s) C($dataGreen)\" data-reactid=\"87\">+3.45</span></td><td class=\"data-col7 Ta(end) Pstart(7px)\" data-reactid=\"88\"><span class=\"Trsdu(0.3s) C($dataGreen)\" data-reactid=\"89\">+2.10%</span></td><td class=\"data-col8 Ta(end) Pstart(7px)\" data-reactid=\"90\">6</td><td class=\"data-col9 Ta(end) Pstart(7px)\" data-reactid=\"91\">1</td><td class=\"data-col10 Ta(end) Pstart(7px) Pend(6px) Bdstartc(t)\" data-reactid=\"92\">413.38%</td></tr><tr class=\"data-row2 Bgc($hoverBgColor):h BdT Bdc($seperatorColor) H(33px) in-the-money Bgc($hoverBgColor) Whs(nw)\" data-reactid=\"93\"><td class=\"data-col0 Ta(start) Pstart(10px) Bdstartw(8px) Bdstarts(s) Bdstartc(t) in-the-money_Bdstartc($linkColor)\" data-reactid=\"94\"><a class=\"Fz(s) Ell C($linkColor)\" data-reactid=\"95\" href=\"/quote/AAPL191220C00110000?p=AAPL191220C00110000\">AAPL191220C00110000</a></td><td class=\"data-col1 Ta(end) Pstart(7px)\" data-reactid=\"96\">2019-12-12 3:38PM EST</td><td class=\"data-col2 Ta(end) Pstart(7px)\" data-reactid=\"97\"><a class=\"C($linkColor) Fz(s)\" data-reactid=\"98\" data-symbol=\"AAPL\" href=\"/quote/AAPL/options?strike=110&amp;straddle=false\">110.00</a></td><td class=\"data-col3 Ta(end) Pstart(7px)\" data-reactid=\"99\">163.85</td><td class=\"data-col4 Ta(end) Pstart(7px)\" data-reactid=\"100\">163.15</td><td class=\"data-col5 Ta(end) Pstart(7px)\" data-reactid=\"101\">166.95</td><td class=\"data-col6 Ta(end) Pstart(7px)\" data-reactid=\"102\"><span class=\"Trsdu(0.3s) C($dataGreen)\" data-reactid=\"103\">+2.65</span></td><td class=\"data-col7 Ta(end) Pstart(7px)\" data-reactid=\"104\"><span class=\"Trsdu(0.3s) C($dataGreen)\" data-reactid=\"105\">+1.64%</span></td><td class=\"data-col8 Ta(end) Pstart(7px)\" data-reactid=\"106\">2</td><td class=\"data-col9 Ta(end) Pstart(7px)\" data-reactid=\"107\">3</td><td class=\"data-col10 Ta(end) Pstart(7px) Pend(6px) Bdstartc(t)\" data-reactid=\"108\">395.31%</td></tr><tr class=\"data-row3 Bgc($hoverBgColor):h BdT Bdc($seperatorColor) H(33px) in-the-money Bgc($hoverBgColor) Bgc($altRowColor) Whs(nw)\" data-reactid=\"109\"><td class=\"data-col0 Ta(start) Pstart(10px) Bdstartw(8px) Bdstarts(s) Bdstartc(t) in-the-money_Bdstartc($linkColor)\" data-reactid=\"110\"><a class=\"Fz(s) Ell C($linkColor)\" data-reactid=\"111\" href=\"/quote/AAPL191220C00115000?p=AAPL191220C00115000\">AAPL191220C00115000</a></td><td class=\"data-col1 Ta(end) Pstart(7px)\" data-reactid=\"112\">2019-11-06 3:15PM EST</td><td class=\"data-col2 Ta(end) Pstart(7px)\" data-reactid=\"113\"><a class=\"C($linkColor) Fz(s)\" data-reactid=\"114\" data-symbol=\"AAPL\" href=\"/quote/AAPL/options?strike=115&amp;straddle=false\">115.00</a></td><td class=\"data-col3 Ta(end) Pstart(7px)\" data-reactid=\"115\">141.62</td><td class=\"data-col4 Ta(end) Pstart(7px)\" data-reactid=\"116\">153.40</td><td class=\"data-col5 Ta(end) Pstart(7px)\" data-reactid=\"117\">157.85</td><td class=\"data-col6 Ta(end) Pstart(7px)\" data-reactid=\"118\"><span class=\"Trsdu(0.3s) \" data-reactid=\"119\">0.00</span></td><td class=\"data-col7 Ta(end) Pstart(7px)\" data-reactid=\"120\"><span class=\"Trsdu(0.3s) \" data-reactid=\"121\">-</span></td><td class=\"data-col8 Ta(end) Pstart(7px)\" data-reactid=\"122\">3</td><td class=\"data-col9 Ta(end) Pstart(7px)\" data-reactid=\"123\">1</td><td class=\"data-col10 Ta(end) Pstart(7px) Pend(6px) Bdstartc(t)\" data-reactid=\"124\">0.00%</td></tr><tr class=\"data-row4 Bgc($hoverBgColor):h BdT Bdc($seperatorColor) H(33px) in-the-money Bgc($hoverBgColor) Whs(nw)\" data-reactid=\"125\"><td class=\"data-col0 Ta(start) Pstart(10px) Bdstartw(8px) Bdstarts(s) Bdstartc(t) in-the-money_Bdstartc($linkColor)\" data-reactid=\"126\"><a class=\"Fz(s) Ell C($linkColor)\" data-reactid=\"127\" href=\"/quote/AAPL191220C00120000?p=AAPL191220C00120000\">AAPL191220C00120000</a></td><td class=\"data-col1 Ta(end) Pstart(7px)\" data-reactid=\"128\">2019-11-07 9:46AM EST</td><td class=\"data-col2 Ta(end) Pstart(7px)\" data-reactid=\"129\"><a class=\"C($linkColor) Fz(s)\" data-reactid=\"130\" data-symbol=\"AAPL\" href=\"/quote/AAPL/options?strike=120&amp;straddle=false\">120.00</a></td><td class=\"data-col3 Ta(end) Pstart(7px)\" data-reactid=\"131\">138.60</td><td class=\"data-col4 Ta(end) Pstart(7px)\" data-reactid=\"132\">148.50</td><td class=\"data-col5 Ta(end) Pstart(7px)\" data-reactid=\"133\">152.85</td><td class=\"data-col6 Ta(end) Pstart(7px)\" data-reactid=\"134\"><span class=\"Trsdu(0.3s) \" data-reactid=\"135\">0.00</span></td><td class=\"data-col7 Ta(end) Pstart(7px)\" data-reactid=\"136\"><span class=\"Trsdu(0.3s) \" data-reactid=\"137\">-</span></td><td class=\"data-col8 Ta(end) Pstart(7px)\" data-reactid=\"138\">13</td><td class=\"data-col9 Ta(end) Pstart(7px)\" data-reactid=\"139\">13</td><td class=\"data-col10 Ta(end) Pstart(7px) Pend(6px) Bdstartc(t)\" data-reactid=\"140\">0.00%</td></tr><tr class=\"data-row5 Bgc($hoverBgColor):h BdT Bdc($seperatorColor) H(33px) in-the-money Bgc($hoverBgColor) Bgc($altRowColor) Whs(nw)\" data-reactid=\"141\"><td class=\"data-col0 Ta(start) Pstart(10px) Bdstartw(8px) Bdstarts(s) Bdstartc(t) in-the-money_Bdstartc($linkColor)\" data-reactid=\"142\"><a class=\"Fz(s) Ell C($linkColor)\" data-reactid=\"143\" href=\"/quote/AAPL191220C00125000?p=AAPL191220C00125000\">AAPL191220C00125000</a></td><td class=\"data-col1 Ta(end) Pstart(7px)\" data-reactid=\"144\">2019-11-21 11:46AM EST</td><td class=\"data-col2 Ta(end) Pstart(7px)\" data-reactid=\"145\"><a class=\"C($linkColor) Fz(s)\" data-reactid=\"146\" data-symbol=\"AAPL\" href=\"/quote/AAPL/options?strike=125&amp;straddle=false\">125.00</a></td><td class=\"data-col3 Ta(end) Pstart(7px)\" data-reactid=\"147\">137.19</td><td class=\"data-col4 Ta(end) Pstart(7px)\" data-reactid=\"148\">148.15</td><td class=\"data-col5 Ta(end) Pstart(7px)\" data-reactid=\"149\">151.90</td><td class=\"data-col6 Ta(end) Pstart(7px)\" data-reactid=\"150\"><span class=\"Trsdu(0.3s) \" data-reactid=\"151\">0.00</span></td><td class=\"data-col7 Ta(end) Pstart(7px)\" data-reactid=\"152\"><span class=\"Trsdu(0.3s) \" data-reactid=\"153\">-</span></td><td class=\"data-col8 Ta(end) Pstart(7px)\" data-reactid=\"154\">1</td><td class=\"data-col9 Ta(end) Pstart(7px)\" data-reactid=\"155\">1</td><td class=\"data-col10 Ta(end) Pstart(7px) Pend(6px) Bdstartc(t)\" data-reactid=\"156\">343.65%</td></tr><tr class=\"data-row6 Bgc($hoverBgColor):h BdT Bdc($seperatorColor) H(33px) in-the-money Bgc($hoverBgColor) Whs(nw)\" data-reactid=\"157\"><td class=\"data-col0 Ta(start) Pstart(10px) Bdstartw(8px) Bdstarts(s) Bdstartc(t) in-the-money_Bdstartc($linkColor)\" data-reactid=\"158\"><a class=\"Fz(s) Ell C($linkColor)\" data-reactid=\"159\" href=\"/quote/AAPL191220C00130000?p=AAPL191220C00130000\">AAPL191220C00130000</a></td><td class=\"data-col1 Ta(end) Pstart(7px)\" data-reactid=\"160\">2019-11-06 3:25PM EST</td><td class=\"data-col2 Ta(end) Pstart(7px)\" data-reactid=\"161\"><a class=\"C($linkColor) Fz(s)\" data-reactid=\"162\" data-symbol=\"AAPL\" href=\"/quote/AAPL/options?strike=130&amp;straddle=false\">130.00</a></td><td class=\"data-col3 Ta(end) Pstart(7px)\" data-reactid=\"163\">126.17</td><td class=\"data-col4 Ta(end) Pstart(7px)\" data-reactid=\"164\">138.50</td><td class=\"data-col5 Ta(end) Pstart(7px)\" data-reactid=\"165\">142.90</td><td class=\"data-col6 Ta(end) Pstart(7px)\" data-reactid=\"166\"><span class=\"Trsdu(0.3s) \" data-reactid=\"167\">0.00</span></td><td class=\"data-col7 Ta(end) Pstart(7px)\" data-reactid=\"168\"><span class=\"Trsdu(0.3s) \" data-reactid=\"169\">-</span></td><td class=\"data-col8 Ta(end) Pstart(7px)\" data-reactid=\"170\">10</td><td class=\"data-col9 Ta(end) Pstart(7px)\" data-reactid=\"171\">8</td><td class=\"data-col10 Ta(end) Pstart(7px) Pend(6px) Bdstartc(t)\" data-reactid=\"172\">0.00%</td></tr><tr class=\"data-row7 Bgc($hoverBgColor):h BdT Bdc($seperatorColor) H(33px) in-the-money Bgc($hoverBgColor) Bgc($altRowColor) Whs(nw)\" data-reactid=\"173\"><td class=\"data-col0 Ta(start) Pstart(10px) Bdstartw(8px) Bdstarts(s) Bdstartc(t) in-the-money_Bdstartc($linkColor)\" data-reactid=\"174\"><a class=\"Fz(s) Ell C($linkColor)\" data-reactid=\"175\" href=\"/quote/AAPL191220C00135000?p=AAPL191220C00135000\">AAPL191220C00135000</a></td><td class=\"data-col1 Ta(end) Pstart(7px)\" data-reactid=\"176\">2019-12-06 11:34AM EST</td><td class=\"data-col2 Ta(end) Pstart(7px)\" data-reactid=\"177\"><a class=\"C($linkColor) Fz(s)\" data-reactid=\"178\" data-symbol=\"AAPL\" href=\"/quote/AAPL/options?strike=135&amp;straddle=false\">135.00</a></td><td class=\"data-col3 Ta(end) Pstart(7px)\" data-reactid=\"179\">135.00</td><td class=\"data-col4 Ta(end) Pstart(7px)\" data-reactid=\"180\">138.15</td><td class=\"data-col5 Ta(end) Pstart(7px)\" data-reactid=\"181\">141.90</td><td class=\"data-col6 Ta(end) Pstart(7px)\" data-reactid=\"182\"><span class=\"Trsdu(0.3s) \" data-reactid=\"183\">0.00</span></td><td class=\"data-col7 Ta(end) Pstart(7px)\" data-reactid=\"184\"><span class=\"Trsdu(0.3s) \" data-reactid=\"185\">-</span></td><td class=\"data-col8 Ta(end) Pstart(7px)\" data-reactid=\"186\">6</td><td class=\"data-col9 Ta(end) Pstart(7px)\" data-reactid=\"187\">18</td><td class=\"data-col10 Ta(end) Pstart(7px) Pend(6px) Bdstartc(t)\" data-reactid=\"188\">313.97%</td></tr><tr class=\"data-row8 Bgc($hoverBgColor):h BdT Bdc($seperatorColor) H(33px) in-the-money Bgc($hoverBgColor) Whs(nw)\" data-reactid=\"189\"><td class=\"data-col0 Ta(start) Pstart(10px) Bdstartw(8px) Bdstarts(s) Bdstartc(t) in-the-money_Bdstartc($linkColor)\" data-reactid=\"190\"><a class=\"Fz(s) Ell C($linkColor)\" data-reactid=\"191\" href=\"/quote/AAPL191220C00140000?p=AAPL191220C00140000\">AAPL191220C00140000</a></td><td class=\"data-col1 Ta(end) Pstart(7px)\" data-reactid=\"192\">2019-12-13 12:08PM EST</td><td class=\"data-col2 Ta(end) Pstart(7px)\" data-reactid=\"193\"><a class=\"C($linkColor) Fz(s)\" data-reactid=\"194\" data-symbol=\"AAPL\" href=\"/quote/AAPL/options?strike=140&amp;straddle=false\">140.00</a></td><td class=\"data-col3 Ta(end) Pstart(7px)\" data-reactid=\"195\">134.00</td><td class=\"data-col4 Ta(end) Pstart(7px)\" data-reactid=\"196\">133.15</td><td class=\"data-col5 Ta(end) Pstart(7px)\" data-reactid=\"197\">136.95</td><td class=\"data-col6 Ta(end) Pstart(7px)\" data-reactid=\"198\"><span class=\"Trsdu(0.3s) C($dataGreen)\" data-reactid=\"199\">+5.23</span></td><td class=\"data-col7 Ta(end) Pstart(7px)\" data-reactid=\"200\"><span class=\"Trsdu(0.3s) C($dataGreen)\" data-reactid=\"201\">+4.06%</span></td><td class=\"data-col8 Ta(end) Pstart(7px)\" data-reactid=\"202\">2</td><td class=\"data-col9 Ta(end) Pstart(7px)\" data-reactid=\"203\">7</td><td class=\"data-col10 Ta(end) Pstart(7px) Pend(6px) Bdstartc(t)\" data-reactid=\"204\">301.66%</td></tr><tr class=\"data-row9 Bgc($hoverBgColor):h BdT Bdc($seperatorColor) H(33px) in-the-money Bgc($hoverBgColor) Bgc($altRowColor) Whs(nw)\" data-reactid=\"205\"><td class=\"data-col0 Ta(start) Pstart(10px) Bdstartw(8px) Bdstarts(s) Bdstartc(t) in-the-money_Bdstartc($linkColor)\" data-reactid=\"206\"><a class=\"Fz(s) Ell C($linkColor)\" data-reactid=\"207\" href=\"/quote/AAPL191220C00145000?p=AAPL191220C00145000\">AAPL191220C00145000</a></td><td class=\"data-col1 Ta(end) Pstart(7px)\" data-reactid=\"208\">2019-12-09 12:16PM EST</td><td class=\"data-col2 Ta(end) Pstart(7px)\" data-reactid=\"209\"><a class=\"C($linkColor) Fz(s)\" data-reactid=\"210\" data-symbol=\"AAPL\" href=\"/quote/AAPL/options?strike=145&amp;straddle=false\">145.00</a></td><td class=\"data-col3 Ta(end) Pstart(7px)\" data-reactid=\"211\">120.48</td><td class=\"data-col4 Ta(end) Pstart(7px)\" data-reactid=\"212\">128.15</td><td class=\"data-col5 Ta(end) Pstart(7px)\" data-reactid=\"213\">131.95</td><td class=\"data-col6 Ta(end) Pstart(7px)\" data-reactid=\"214\"><span class=\"Trsdu(0.3s) \" data-reactid=\"215\">0.00</span></td><td class=\"data-col7 Ta(end) Pstart(7px)\" data-reactid=\"216\"><span class=\"Trsdu(0.3s) \" data-reactid=\"217\">-</span></td><td class=\"data-col8 Ta(end) Pstart(7px)\" data-reactid=\"218\">22</td><td class=\"data-col9 Ta(end) Pstart(7px)\" data-reactid=\"219\">2</td><td class=\"data-col10 Ta(end) Pstart(7px) Pend(6px) Bdstartc(t)\" data-reactid=\"220\">288.04%</td></tr><tr class=\"data-row10 Bgc($hoverBgColor):h BdT Bdc($seperatorColor) H(33px) in-the-money Bgc($hoverBgColor) Whs(nw)\" data-reactid=\"221\"><td class=\"data-col0 Ta(start) Pstart(10px) Bdstartw(8px) Bdstarts(s) Bdstartc(t) in-the-money_Bdstartc($linkColor)\" data-reactid=\"222\"><a class=\"Fz(s) Ell C($linkColor)\" data-reactid=\"223\" href=\"/quote/AAPL191220C00150000?p=AAPL191220C00150000\">AAPL191220C00150000</a></td><td class=\"data-col1 Ta(end) Pstart(7px)\" data-reactid=\"224\">2019-12-13 9:43AM EST</td><td class=\"data-col2 Ta(end) Pstart(7px)\" data-reactid=\"225\"><a class=\"C($linkColor) Fz(s)\" data-reactid=\"226\" data-symbol=\"AAPL\" href=\"/quote/AAPL/options?strike=150&amp;straddle=false\">150.00</a></td><td class=\"data-col3 Ta(end) Pstart(7px)\" data-reactid=\"227\">123.50</td><td class=\"data-col4 Ta(end) Pstart(7px)\" data-reactid=\"228\">123.50</td><td class=\"data-col5 Ta(end) Pstart(7px)\" data-reactid=\"229\">126.90</td><td class=\"data-col6 Ta(end) Pstart(7px)\" data-reactid=\"230\"><span class=\"Trsdu(0.3s) C($dataGreen)\" data-reactid=\"231\">+9.95</span></td><td class=\"data-col7 Ta(end) Pstart(7px)\" data-reactid=\"232\"><span class=\"Trsdu(0.3s) C($dataGreen)\" data-reactid=\"233\">+8.76%</span></td><td class=\"data-col8 Ta(end) Pstart(7px)\" data-reactid=\"234\">2</td><td class=\"data-col9 Ta(end) Pstart(7px)\" data-reactid=\"235\">6</td><td class=\"data-col10 Ta(end) Pstart(7px) Pend(6px) Bdstartc(t)\" data-reactid=\"236\">162.50%</td></tr><tr class=\"data-row11 Bgc($hoverBgColor):h BdT Bdc($seperatorColor) H(33px) in-the-money Bgc($hoverBgColor) Bgc($altRowColor) Whs(nw)\" data-reactid=\"237\"><td class=\"data-col0 Ta(start) Pstart(10px) Bdstartw(8px) Bdstarts(s) Bdstartc(t) in-the-money_Bdstartc($linkColor)\" data-reactid=\"238\"><a class=\"Fz(s) Ell C($linkColor)\" data-reactid=\"239\" href=\"/quote/AAPL191220C00155000?p=AAPL191220C00155000\">AAPL191220C00155000</a></td><td class=\"data-col1 Ta(end) Pstart(7px)\" data-reactid=\"240\">2019-11-06 3:28PM EST</td><td class=\"data-col2 Ta(end) Pstart(7px)\" data-reactid=\"241\"><a class=\"C($linkColor) Fz(s)\" data-reactid=\"242\" data-symbol=\"AAPL\" href=\"/quote/AAPL/options?strike=155&amp;straddle=false\">155.00</a></td><td class=\"data-col3 Ta(end) Pstart(7px)\" data-reactid=\"243\">101.50</td><td class=\"data-col4 Ta(end) Pstart(7px)\" data-reactid=\"244\">113.70</td><td class=\"data-col5 Ta(end) Pstart(7px)\" data-reactid=\"245\">117.90</td><td class=\"data-col6 Ta(end) Pstart(7px)\" data-reactid=\"246\"><span class=\"Trsdu(0.3s) \" data-reactid=\"247\">0.00</span></td><td class=\"data-col7 Ta(end) Pstart(7px)\" data-reactid=\"248\"><span class=\"Trsdu(0.3s) \" data-reactid=\"249\">-</span></td><td class=\"data-col8 Ta(end) Pstart(7px)\" data-reactid=\"250\">17</td><td class=\"data-col9 Ta(end) Pstart(7px)\" data-reactid=\"251\">0</td><td class=\"data-col10 Ta(end) Pstart(7px) Pend(6px) Bdstartc(t)\" data-reactid=\"252\">0.00%</td></tr><tr class=\"data-row12 Bgc($hoverBgColor):h BdT Bdc($seperatorColor) H(33px) in-the-money Bgc($hoverBgColor) Whs(nw)\" data-reactid=\"253\"><td class=\"data-col0 Ta(start) Pstart(10px) Bdstartw(8px) Bdstarts(s) Bdstartc(t) in-the-money_Bdstartc($linkColor)\" data-reactid=\"254\"><a class=\"Fz(s) Ell C($linkColor)\" data-reactid=\"255\" href=\"/quote/AAPL191220C00160000?p=AAPL191220C00160000\">AAPL191220C00160000</a></td><td class=\"data-col1 Ta(end) Pstart(7px)\" data-reactid=\"256\">2019-11-26 10:33AM EST</td><td class=\"data-col2 Ta(end) Pstart(7px)\" data-reactid=\"257\"><a class=\"C($linkColor) Fz(s)\" data-reactid=\"258\" data-symbol=\"AAPL\" href=\"/quote/AAPL/options?strike=160&amp;straddle=false\">160.00</a></td><td class=\"data-col3 Ta(end) Pstart(7px)\" data-reactid=\"259\">111.55</td><td class=\"data-col4 Ta(end) Pstart(7px)\" data-reactid=\"260\">113.15</td><td class=\"data-col5 Ta(end) Pstart(7px)\" data-reactid=\"261\">116.95</td><td class=\"data-col6 Ta(end) Pstart(7px)\" data-reactid=\"262\"><span class=\"Trsdu(0.3s) \" data-reactid=\"263\">0.00</span></td><td class=\"data-col7 Ta(end) Pstart(7px)\" data-reactid=\"264\"><span class=\"Trsdu(0.3s) \" data-reactid=\"265\">-</span></td><td class=\"data-col8 Ta(end) Pstart(7px)\" data-reactid=\"266\">24</td><td class=\"data-col9 Ta(end) Pstart(7px)\" data-reactid=\"267\">34</td><td class=\"data-col10 Ta(end) Pstart(7px) Pend(6px) Bdstartc(t)\" data-reactid=\"268\">249.71%</td></tr><tr class=\"data-row13 Bgc($hoverBgColor):h BdT Bdc($seperatorColor) H(33px) in-the-money Bgc($hoverBgColor) Bgc($altRowColor) Whs(nw)\" data-reactid=\"269\"><td class=\"data-col0 Ta(start) Pstart(10px) Bdstartw(8px) Bdstarts(s) Bdstartc(t) in-the-money_Bdstartc($linkColor)\" data-reactid=\"270\"><a class=\"Fz(s) Ell C($linkColor)\" data-reactid=\"271\" href=\"/quote/AAPL191220C00165000?p=AAPL191220C00165000\">AAPL191220C00165000</a></td><td class=\"data-col1 Ta(end) Pstart(7px)\" data-reactid=\"272\">2019-11-27 1:56PM EST</td><td class=\"data-col2 Ta(end) Pstart(7px)\" data-reactid=\"273\"><a class=\"C($linkColor) Fz(s)\" data-reactid=\"274\" data-symbol=\"AAPL\" href=\"/quote/AAPL/options?strike=165&amp;straddle=false\">165.00</a></td><td class=\"data-col3 Ta(end) Pstart(7px)\" data-reactid=\"275\">101.85</td><td class=\"data-col4 Ta(end) Pstart(7px)\" data-reactid=\"276\">108.15</td><td class=\"data-col5 Ta(end) Pstart(7px)\" data-reactid=\"277\">111.95</td><td class=\"data-col6 Ta(end) Pstart(7px)\" data-reactid=\"278\"><span class=\"Trsdu(0.3s) \" data-reactid=\"279\">0.00</span></td><td class=\"data-col7 Ta(end) Pstart(7px)\" data-reactid=\"280\"><span class=\"Trsdu(0.3s) \" data-reactid=\"281\">-</span></td><td class=\"data-col8 Ta(end) Pstart(7px)\" data-reactid=\"282\">2</td><td class=\"data-col9 Ta(end) Pstart(7px)\" data-reactid=\"283\">19</td><td class=\"data-col10 Ta(end) Pstart(7px) Pend(6px) Bdstartc(t)\" data-reactid=\"284\">237.70%</td></tr><tr class=\"data-row14 Bgc($hoverBgColor):h BdT Bdc($seperatorColor) H(33px) in-the-money Bgc($hoverBgColor) Whs(nw)\" data-reactid=\"285\"><td class=\"data-col0 Ta(start) Pstart(10px) Bdstartw(8px) Bdstarts(s) Bdstartc(t) in-the-money_Bdstartc($linkColor)\" data-reactid=\"286\"><a class=\"Fz(s) Ell C($linkColor)\" data-reactid=\"287\" href=\"/quote/AAPL191220C00170000?p=AAPL191220C00170000\">AAPL191220C00170000</a></td><td class=\"data-col1 Ta(end) Pstart(7px)\" data-reactid=\"288\">2019-12-13 3:40PM EST</td><td class=\"data-col2 Ta(end) Pstart(7px)\" data-reactid=\"289\"><a class=\"C($linkColor) Fz(s)\" data-reactid=\"290\" data-symbol=\"AAPL\" href=\"/quote/AAPL/options?strike=170&amp;straddle=false\">170.00</a></td><td class=\"data-col3 Ta(end) Pstart(7px)\" data-reactid=\"291\">104.95</td><td class=\"data-col4 Ta(end) Pstart(7px)\" data-reactid=\"292\">103.15</td><td class=\"data-col5 Ta(end) Pstart(7px)\" data-reactid=\"293\">106.90</td><td class=\"data-col6 Ta(end) Pstart(7px)\" data-reactid=\"294\"><span class=\"Trsdu(0.3s) C($dataGreen)\" data-reactid=\"295\">+5.05</span></td><td class=\"data-col7 Ta(end) Pstart(7px)\" data-reactid=\"296\"><span class=\"Trsdu(0.3s) C($dataGreen)\" data-reactid=\"297\">+5.06%</span></td><td class=\"data-col8 Ta(end) Pstart(7px)\" data-reactid=\"298\">1</td><td class=\"data-col9 Ta(end) Pstart(7px)\" data-reactid=\"299\">481</td><td class=\"data-col10 Ta(end) Pstart(7px) Pend(6px) Bdstartc(t)\" data-reactid=\"300\">224.61%</td></tr><tr class=\"data-row15 Bgc($hoverBgColor):h BdT Bdc($seperatorColor) H(33px) in-the-money Bgc($hoverBgColor) Bgc($altRowColor) Whs(nw)\" data-reactid=\"301\"><td class=\"data-col0 Ta(start) Pstart(10px) Bdstartw(8px) Bdstarts(s) Bdstartc(t) in-the-money_Bdstartc($linkColor)\" data-reactid=\"302\"><a class=\"Fz(s) Ell C($linkColor)\" data-reactid=\"303\" href=\"/quote/AAPL191220C00175000?p=AAPL191220C00175000\">AAPL191220C00175000</a></td><td class=\"data-col1 Ta(end) Pstart(7px)\" data-reactid=\"304\">2019-12-13 2:32PM EST</td><td class=\"data-col2 Ta(end) Pstart(7px)\" data-reactid=\"305\"><a class=\"C($linkColor) Fz(s)\" data-reactid=\"306\" data-symbol=\"AAPL\" href=\"/quote/AAPL/options?strike=175&amp;straddle=false\">175.00</a></td><td class=\"data-col3 Ta(end) Pstart(7px)\" data-reactid=\"307\">98.64</td><td class=\"data-col4 Ta(end) Pstart(7px)\" data-reactid=\"308\">98.15</td><td class=\"data-col5 Ta(end) Pstart(7px)\" data-reactid=\"309\">102.00</td><td class=\"data-col6 Ta(end) Pstart(7px)\" data-reactid=\"310\"><span class=\"Trsdu(0.3s) C($dataGreen)\" data-reactid=\"311\">+4.67</span></td><td class=\"data-col7 Ta(end) Pstart(7px)\" data-reactid=\"312\"><span class=\"Trsdu(0.3s) C($dataGreen)\" data-reactid=\"313\">+4.97%</span></td><td class=\"data-col8 Ta(end) Pstart(7px)\" data-reactid=\"314\">3</td><td class=\"data-col9 Ta(end) Pstart(7px)\" data-reactid=\"315\">29</td><td class=\"data-col10 Ta(end) Pstart(7px) Pend(6px) Bdstartc(t)\" data-reactid=\"316\">215.92%</td></tr><tr class=\"data-row16 Bgc($hoverBgColor):h BdT Bdc($seperatorColor) H(33px) in-the-money Bgc($hoverBgColor) Whs(nw)\" data-reactid=\"317\"><td class=\"data-col0 Ta(start) Pstart(10px) Bdstartw(8px) Bdstarts(s) Bdstartc(t) in-the-money_Bdstartc($linkColor)\" data-reactid=\"318\"><a class=\"Fz(s) Ell C($linkColor)\" data-reactid=\"319\" href=\"/quote/AAPL191220C00180000?p=AAPL191220C00180000\">AAPL191220C00180000</a></td><td class=\"data-col1 Ta(end) Pstart(7px)\" data-reactid=\"320\">2019-12-13 2:56PM EST</td><td class=\"data-col2 Ta(end) Pstart(7px)\" data-reactid=\"321\"><a class=\"C($linkColor) Fz(s)\" data-reactid=\"322\" data-symbol=\"AAPL\" href=\"/quote/AAPL/options?strike=180&amp;straddle=false\">180.00</a></td><td class=\"data-col3 Ta(end) Pstart(7px)\" data-reactid=\"323\">94.45</td><td class=\"data-col4 Ta(end) Pstart(7px)\" data-reactid=\"324\">93.15</td><td class=\"data-col5 Ta(end) Pstart(7px)\" data-reactid=\"325\">96.95</td><td class=\"data-col6 Ta(end) Pstart(7px)\" data-reactid=\"326\"><span class=\"Trsdu(0.3s) C($dataGreen)\" data-reactid=\"327\">+4.38</span></td><td class=\"data-col7 Ta(end) Pstart(7px)\" data-reactid=\"328\"><span class=\"Trsdu(0.3s) C($dataGreen)\" data-reactid=\"329\">+4.86%</span></td><td class=\"data-col8 Ta(end) Pstart(7px)\" data-reactid=\"330\">6</td><td class=\"data-col9 Ta(end) Pstart(7px)\" data-reactid=\"331\">55</td><td class=\"data-col10 Ta(end) Pstart(7px) Pend(6px) Bdstartc(t)\" data-reactid=\"332\">203.47%</td></tr><tr class=\"data-row17 Bgc($hoverBgColor):h BdT Bdc($seperatorColor) H(33px) in-the-money Bgc($hoverBgColor) Bgc($altRowColor) Whs(nw)\" data-reactid=\"333\"><td class=\"data-col0 Ta(start) Pstart(10px) Bdstartw(8px) Bdstarts(s) Bdstartc(t) in-the-money_Bdstartc($linkColor)\" data-reactid=\"334\"><a class=\"Fz(s) Ell C($linkColor)\" data-reactid=\"335\" href=\"/quote/AAPL191220C00185000?p=AAPL191220C00185000\">AAPL191220C00185000</a></td><td class=\"data-col1 Ta(end) Pstart(7px)\" data-reactid=\"336\">2019-12-10 2:53PM EST</td><td class=\"data-col2 Ta(end) Pstart(7px)\" data-reactid=\"337\"><a class=\"C($linkColor) Fz(s)\" data-reactid=\"338\" data-symbol=\"AAPL\" href=\"/quote/AAPL/options?strike=185&amp;straddle=false\">185.00</a></td><td class=\"data-col3 Ta(end) Pstart(7px)\" data-reactid=\"339\">84.40</td><td class=\"data-col4 Ta(end) Pstart(7px)\" data-reactid=\"340\">88.15</td><td class=\"data-col5 Ta(end) Pstart(7px)\" data-reactid=\"341\">91.95</td><td class=\"data-col6 Ta(end) Pstart(7px)\" data-reactid=\"342\"><span class=\"Trsdu(0.3s) \" data-reactid=\"343\">0.00</span></td><td class=\"data-col7 Ta(end) Pstart(7px)\" data-reactid=\"344\"><span class=\"Trsdu(0.3s) \" data-reactid=\"345\">-</span></td><td class=\"data-col8 Ta(end) Pstart(7px)\" data-reactid=\"346\">1</td><td class=\"data-col9 Ta(end) Pstart(7px)\" data-reactid=\"347\">58</td><td class=\"data-col10 Ta(end) Pstart(7px) Pend(6px) Bdstartc(t)\" data-reactid=\"348\">192.58%</td></tr><tr class=\"data-row18 Bgc($hoverBgColor):h BdT Bdc($seperatorColor) H(33px) in-the-money Bgc($hoverBgColor) Whs(nw)\" data-reactid=\"349\"><td class=\"data-col0 Ta(start) Pstart(10px) Bdstartw(8px) Bdstarts(s) Bdstartc(t) in-the-money_Bdstartc($linkColor)\" data-reactid=\"350\"><a class=\"Fz(s) Ell C($linkColor)\" data-reactid=\"351\" href=\"/quote/AAPL191220C00190000?p=AAPL191220C00190000\">AAPL191220C00190000</a></td><td class=\"data-col1 Ta(end) Pstart(7px)\" data-reactid=\"352\">2019-12-06 9:30AM EST</td><td class=\"data-col2 Ta(end) Pstart(7px)\" data-reactid=\"353\"><a class=\"C($linkColor) Fz(s)\" data-reactid=\"354\" data-symbol=\"AAPL\" href=\"/quote/AAPL/options?strike=190&amp;straddle=false\">190.00</a></td><td class=\"data-col3 Ta(end) Pstart(7px)\" data-reactid=\"355\">77.80</td><td class=\"data-col4 Ta(end) Pstart(7px)\" data-reactid=\"356\">83.15</td><td class=\"data-col5 Ta(end) Pstart(7px)\" data-reactid=\"357\">86.95</td><td class=\"data-col6 Ta(end) Pstart(7px)\" data-reactid=\"358\"><span class=\"Trsdu(0.3s) \" data-reactid=\"359\">0.00</span></td><td class=\"data-col7 Ta(end) Pstart(7px)\" data-reactid=\"360\"><span class=\"Trsdu(0.3s) \" data-reactid=\"361\">-</span></td><td class=\"data-col8 Ta(end) Pstart(7px)\" data-reactid=\"362\">6</td><td class=\"data-col9 Ta(end) Pstart(7px)\" data-reactid=\"363\">71</td><td class=\"data-col10 Ta(end) Pstart(7px) Pend(6px) Bdstartc(t)\" data-reactid=\"364\">181.98%</td></tr><tr class=\"data-row19 Bgc($hoverBgColor):h BdT Bdc($seperatorColor) H(33px) in-the-money Bgc($hoverBgColor) Bgc($altRowColor) Whs(nw)\" data-reactid=\"365\"><td class=\"data-col0 Ta(start) Pstart(10px) Bdstartw(8px) Bdstarts(s) Bdstartc(t) in-the-money_Bdstartc($linkColor)\" data-reactid=\"366\"><a class=\"Fz(s) Ell C($linkColor)\" data-reactid=\"367\" href=\"/quote/AAPL191220C00195000?p=AAPL191220C00195000\">AAPL191220C00195000</a></td><td class=\"data-col1 Ta(end) Pstart(7px)\" data-reactid=\"368\">2019-12-13 12:06PM EST</td><td class=\"data-col2 Ta(end) Pstart(7px)\" data-reactid=\"369\"><a class=\"C($linkColor) Fz(s)\" data-reactid=\"370\" data-symbol=\"AAPL\" href=\"/quote/AAPL/options?strike=195&amp;straddle=false\">195.00</a></td><td class=\"data-col3 Ta(end) Pstart(7px)\" data-reactid=\"371\">79.16</td><td class=\"data-col4 Ta(end) Pstart(7px)\" data-reactid=\"372\">78.15</td><td class=\"data-col5 Ta(end) Pstart(7px)\" data-reactid=\"373\">82.00</td><td class=\"data-col6 Ta(end) Pstart(7px)\" data-reactid=\"374\"><span class=\"Trsdu(0.3s) C($dataGreen)\" data-reactid=\"375\">+3.98</span></td><td class=\"data-col7 Ta(end) Pstart(7px)\" data-reactid=\"376\"><span class=\"Trsdu(0.3s) C($dataGreen)\" data-reactid=\"377\">+5.29%</span></td><td class=\"data-col8 Ta(end) Pstart(7px)\" data-reactid=\"378\">2</td><td class=\"data-col9 Ta(end) Pstart(7px)\" data-reactid=\"379\">29</td><td class=\"data-col10 Ta(end) Pstart(7px) Pend(6px) Bdstartc(t)\" data-reactid=\"380\">172.66%</td></tr><tr class=\"data-row20 Bgc($hoverBgColor):h BdT Bdc($seperatorColor) H(33px) in-the-money Bgc($hoverBgColor) Whs(nw)\" data-reactid=\"381\"><td class=\"data-col0 Ta(start) Pstart(10px) Bdstartw(8px) Bdstarts(s) Bdstartc(t) in-the-money_Bdstartc($linkColor)\" data-reactid=\"382\"><a class=\"Fz(s) Ell C($linkColor)\" data-reactid=\"383\" href=\"/quote/AAPL191220C00200000?p=AAPL191220C00200000\">AAPL191220C00200000</a></td><td class=\"data-col1 Ta(end) Pstart(7px)\" data-reactid=\"384\">2019-12-13 3:37PM EST</td><td class=\"data-col2 Ta(end) Pstart(7px)\" data-reactid=\"385\"><a class=\"C($linkColor) Fz(s)\" data-reactid=\"386\" data-symbol=\"AAPL\" href=\"/quote/AAPL/options?strike=200&amp;straddle=false\">200.00</a></td><td class=\"data-col3 Ta(end) Pstart(7px)\" data-reactid=\"387\">74.95</td><td class=\"data-col4 Ta(end) Pstart(7px)\" data-reactid=\"388\">73.15</td><td class=\"data-col5 Ta(end) Pstart(7px)\" data-reactid=\"389\">77.00</td><td class=\"data-col6 Ta(end) Pstart(7px)\" data-reactid=\"390\"><span class=\"Trsdu(0.3s) C($dataGreen)\" data-reactid=\"391\">+4.15</span></td><td class=\"data-col7 Ta(end) Pstart(7px)\" data-reactid=\"392\"><span class=\"Trsdu(0.3s) C($dataGreen)\" data-reactid=\"393\">+5.86%</span></td><td class=\"data-col8 Ta(end) Pstart(7px)\" data-reactid=\"394\">40</td><td class=\"data-col9 Ta(end) Pstart(7px)\" data-reactid=\"395\">330</td><td class=\"data-col10 Ta(end) Pstart(7px) Pend(6px) Bdstartc(t)\" data-reactid=\"396\">162.40%</td></tr><tr class=\"data-row21 Bgc($hoverBgColor):h BdT Bdc($seperatorColor) H(33px) in-the-money Bgc($hoverBgColor) Bgc($altRowColor) Whs(nw)\" data-reactid=\"397\"><td class=\"data-col0 Ta(start) Pstart(10px) Bdstartw(8px) Bdstarts(s) Bdstartc(t) in-the-money_Bdstartc($linkColor)\" data-reactid=\"398\"><a class=\"Fz(s) Ell C($linkColor)\" data-reactid=\"399\" href=\"/quote/AAPL191220C00205000?p=AAPL191220C00205000\">AAPL191220C00205000</a></td><td class=\"data-col1 Ta(end) Pstart(7px)\" data-reactid=\"400\">2019-12-13 3:53PM EST</td><td class=\"data-col2 Ta(end) Pstart(7px)\" data-reactid=\"401\"><a class=\"C($linkColor) Fz(s)\" data-reactid=\"402\" data-symbol=\"AAPL\" href=\"/quote/AAPL/options?strike=205&amp;straddle=false\">205.00</a></td><td class=\"data-col3 Ta(end) Pstart(7px)\" data-reactid=\"403\">70.20</td><td class=\"data-col4 Ta(end) Pstart(7px)\" data-reactid=\"404\">68.20</td><td class=\"data-col5 Ta(end) Pstart(7px)\" data-reactid=\"405\">71.90</td><td class=\"data-col6 Ta(end) Pstart(7px)\" data-reactid=\"406\"><span class=\"Trsdu(0.3s) C($dataGreen)\" data-reactid=\"407\">+5.02</span></td><td class=\"data-col7 Ta(end) Pstart(7px)\" data-reactid=\"408\"><span class=\"Trsdu(0.3s) C($dataGreen)\" data-reactid=\"409\">+7.70%</span></td><td class=\"data-col8 Ta(end) Pstart(7px)\" data-reactid=\"410\">3</td><td class=\"data-col9 Ta(end) Pstart(7px)\" data-reactid=\"411\">397</td><td class=\"data-col10 Ta(end) Pstart(7px) Pend(6px) Bdstartc(t)\" data-reactid=\"412\">150.29%</td></tr><tr class=\"data-row22 Bgc($hoverBgColor):h BdT Bdc($seperatorColor) H(33px) in-the-money Bgc($hoverBgColor) Whs(nw)\" data-reactid=\"413\"><td class=\"data-col0 Ta(start) Pstart(10px) Bdstartw(8px) Bdstarts(s) Bdstartc(t) in-the-money_Bdstartc($linkColor)\" data-reactid=\"414\"><a class=\"Fz(s) Ell C($linkColor)\" data-reactid=\"415\" href=\"/quote/AAPL191220C00210000?p=AAPL191220C00210000\">AAPL191220C00210000</a></td><td class=\"data-col1 Ta(end) Pstart(7px)\" data-reactid=\"416\">2019-12-13 3:46PM EST</td><td class=\"data-col2 Ta(end) Pstart(7px)\" data-reactid=\"417\"><a class=\"C($linkColor) Fz(s)\" data-reactid=\"418\" data-symbol=\"AAPL\" href=\"/quote/AAPL/options?strike=210&amp;straddle=false\">210.00</a></td><td class=\"data-col3 Ta(end) Pstart(7px)\" data-reactid=\"419\">65.10</td><td class=\"data-col4 Ta(end) Pstart(7px)\" data-reactid=\"420\">63.20</td><td class=\"data-col5 Ta(end) Pstart(7px)\" data-reactid=\"421\">65.70</td><td class=\"data-col6 Ta(end) Pstart(7px)\" data-reactid=\"422\"><span class=\"Trsdu(0.3s) C($dataGreen)\" data-reactid=\"423\">+4.24</span></td><td class=\"data-col7 Ta(end) Pstart(7px)\" data-reactid=\"424\"><span class=\"Trsdu(0.3s) C($dataGreen)\" data-reactid=\"425\">+6.97%</span></td><td class=\"data-col8 Ta(end) Pstart(7px)\" data-reactid=\"426\">8</td><td class=\"data-col9 Ta(end) Pstart(7px)\" data-reactid=\"427\">1,366</td><td class=\"data-col10 Ta(end) Pstart(7px) Pend(6px) Bdstartc(t)\" data-reactid=\"428\">109.77%</td></tr><tr class=\"data-row23 Bgc($hoverBgColor):h BdT Bdc($seperatorColor) H(33px) in-the-money Bgc($hoverBgColor) Bgc($altRowColor) Whs(nw)\" data-reactid=\"429\"><td class=\"data-col0 Ta(start) Pstart(10px) Bdstartw(8px) Bdstarts(s) Bdstartc(t) in-the-money_Bdstartc($linkColor)\" data-reactid=\"430\"><a class=\"Fz(s) Ell C($linkColor)\" data-reactid=\"431\" href=\"/quote/AAPL191220C00215000?p=AAPL191220C00215000\">AAPL191220C00215000</a></td><td class=\"data-col1 Ta(end) Pstart(7px)\" data-reactid=\"432\">2019-12-13 3:15PM EST</td><td class=\"data-col2 Ta(end) Pstart(7px)\" data-reactid=\"433\"><a class=\"C($linkColor) Fz(s)\" data-reactid=\"434\" data-symbol=\"AAPL\" href=\"/quote/AAPL/options?strike=215&amp;straddle=false\">215.00</a></td><td class=\"data-col3 Ta(end) Pstart(7px)\" data-reactid=\"435\">59.60</td><td class=\"data-col4 Ta(end) Pstart(7px)\" data-reactid=\"436\">58.20</td><td class=\"data-col5 Ta(end) Pstart(7px)\" data-reactid=\"437\">61.70</td><td class=\"data-col6 Ta(end) Pstart(7px)\" data-reactid=\"438\"><span class=\"Trsdu(0.3s) C($dataGreen)\" data-reactid=\"439\">+5.11</span></td><td class=\"data-col7 Ta(end) Pstart(7px)\" data-reactid=\"440\"><span class=\"Trsdu(0.3s) C($dataGreen)\" data-reactid=\"441\">+9.38%</span></td><td class=\"data-col8 Ta(end) Pstart(7px)\" data-reactid=\"442\">30</td><td class=\"data-col9 Ta(end) Pstart(7px)\" data-reactid=\"443\">2,632</td><td class=\"data-col10 Ta(end) Pstart(7px) Pend(6px) Bdstartc(t)\" data-reactid=\"444\">126.88%</td></tr><tr class=\"data-row24 Bgc($hoverBgColor):h BdT Bdc($seperatorColor) H(33px) in-the-money Bgc($hoverBgColor) Whs(nw)\" data-reactid=\"445\"><td class=\"data-col0 Ta(start) Pstart(10px) Bdstartw(8px) Bdstarts(s) Bdstartc(t) in-the-money_Bdstartc($linkColor)\" data-reactid=\"446\"><a class=\"Fz(s) Ell C($linkColor)\" data-reactid=\"447\" href=\"/quote/AAPL191220C00220000?p=AAPL191220C00220000\">AAPL191220C00220000</a></td><td class=\"data-col1 Ta(end) Pstart(7px)\" data-reactid=\"448\">2019-12-13 3:35PM EST</td><td class=\"data-col2 Ta(end) Pstart(7px)\" data-reactid=\"449\"><a class=\"C($linkColor) Fz(s)\" data-reactid=\"450\" data-symbol=\"AAPL\" href=\"/quote/AAPL/options?strike=220&amp;straddle=false\">220.00</a></td><td class=\"data-col3 Ta(end) Pstart(7px)\" data-reactid=\"451\">55.01</td><td class=\"data-col4 Ta(end) Pstart(7px)\" data-reactid=\"452\">53.20</td><td class=\"data-col5 Ta(end) Pstart(7px)\" data-reactid=\"453\">55.55</td><td class=\"data-col6 Ta(end) Pstart(7px)\" data-reactid=\"454\"><span class=\"Trsdu(0.3s) C($dataGreen)\" data-reactid=\"455\">+6.11</span></td><td class=\"data-col7 Ta(end) Pstart(7px)\" data-reactid=\"456\"><span class=\"Trsdu(0.3s) C($dataGreen)\" data-reactid=\"457\">+12.49%</span></td><td class=\"data-col8 Ta(end) Pstart(7px)\" data-reactid=\"458\">45</td><td class=\"data-col9 Ta(end) Pstart(7px)\" data-reactid=\"459\">12,364</td><td class=\"data-col10 Ta(end) Pstart(7px) Pend(6px) Bdstartc(t)\" data-reactid=\"460\">88.38%</td></tr><tr class=\"data-row25 Bgc($hoverBgColor):h BdT Bdc($seperatorColor) H(33px) in-the-money Bgc($hoverBgColor) Bgc($altRowColor) Whs(nw)\" data-reactid=\"461\"><td class=\"data-col0 Ta(start) Pstart(10px) Bdstartw(8px) Bdstarts(s) Bdstartc(t) in-the-money_Bdstartc($linkColor)\" data-reactid=\"462\"><a class=\"Fz(s) Ell C($linkColor)\" data-reactid=\"463\" href=\"/quote/AAPL191220C00225000?p=AAPL191220C00225000\">AAPL191220C00225000</a></td><td class=\"data-col1 Ta(end) Pstart(7px)\" data-reactid=\"464\">2019-12-13 3:49PM EST</td><td class=\"data-col2 Ta(end) Pstart(7px)\" data-reactid=\"465\"><a class=\"C($linkColor) Fz(s)\" data-reactid=\"466\" data-symbol=\"AAPL\" href=\"/quote/AAPL/options?strike=225&amp;straddle=false\">225.00</a></td><td class=\"data-col3 Ta(end) Pstart(7px)\" data-reactid=\"467\">50.15</td><td class=\"data-col4 Ta(end) Pstart(7px)\" data-reactid=\"468\">48.20</td><td class=\"data-col5 Ta(end) Pstart(7px)\" data-reactid=\"469\">50.55</td><td class=\"data-col6 Ta(end) Pstart(7px)\" data-reactid=\"470\"><span class=\"Trsdu(0.3s) C($dataGreen)\" data-reactid=\"471\">+5.17</span></td><td class=\"data-col7 Ta(end) Pstart(7px)\" data-reactid=\"472\"><span class=\"Trsdu(0.3s) C($dataGreen)\" data-reactid=\"473\">+11.49%</span></td><td class=\"data-col8 Ta(end) Pstart(7px)\" data-reactid=\"474\">111</td><td class=\"data-col9 Ta(end) Pstart(7px)\" data-reactid=\"475\">3,282</td><td class=\"data-col10 Ta(end) Pstart(7px) Pend(6px) Bdstartc(t)\" data-reactid=\"476\">80.86%</td></tr><tr class=\"data-row26 Bgc($hoverBgColor):h BdT Bdc($seperatorColor) H(33px) in-the-money Bgc($hoverBgColor) Whs(nw)\" data-reactid=\"477\"><td class=\"data-col0 Ta(start) Pstart(10px) Bdstartw(8px) Bdstarts(s) Bdstartc(t) in-the-money_Bdstartc($linkColor)\" data-reactid=\"478\"><a class=\"Fz(s) Ell C($linkColor)\" data-reactid=\"479\" href=\"/quote/AAPL191220C00230000?p=AAPL191220C00230000\">AAPL191220C00230000</a></td><td class=\"data-col1 Ta(end) Pstart(7px)\" data-reactid=\"480\">2019-12-13 3:59PM EST</td><td class=\"data-col2 Ta(end) Pstart(7px)\" data-reactid=\"481\"><a class=\"C($linkColor) Fz(s)\" data-reactid=\"482\" data-symbol=\"AAPL\" href=\"/quote/AAPL/options?strike=230&amp;straddle=false\">230.00</a></td><td class=\"data-col3 Ta(end) Pstart(7px)\" data-reactid=\"483\">45.35</td><td class=\"data-col4 Ta(end) Pstart(7px)\" data-reactid=\"484\">43.20</td><td class=\"data-col5 Ta(end) Pstart(7px)\" data-reactid=\"485\">45.55</td><td class=\"data-col6 Ta(end) Pstart(7px)\" data-reactid=\"486\"><span class=\"Trsdu(0.3s) C($dataGreen)\" data-reactid=\"487\">+3.60</span></td><td class=\"data-col7 Ta(end) Pstart(7px)\" data-reactid=\"488\"><span class=\"Trsdu(0.3s) C($dataGreen)\" data-reactid=\"489\">+8.62%</span></td><td class=\"data-col8 Ta(end) Pstart(7px)\" data-reactid=\"490\">133</td><td class=\"data-col9 Ta(end) Pstart(7px)\" data-reactid=\"491\">7,233</td><td class=\"data-col10 Ta(end) Pstart(7px) Pend(6px) Bdstartc(t)\" data-reactid=\"492\">73.39%</td></tr><tr class=\"data-row27 Bgc($hoverBgColor):h BdT Bdc($seperatorColor) H(33px) in-the-money Bgc($hoverBgColor) Bgc($altRowColor) Whs(nw)\" data-reactid=\"493\"><td class=\"data-col0 Ta(start) Pstart(10px) Bdstartw(8px) Bdstarts(s) Bdstartc(t) in-the-money_Bdstartc($linkColor)\" data-reactid=\"494\"><a class=\"Fz(s) Ell C($linkColor)\" data-reactid=\"495\" href=\"/quote/AAPL191220C00235000?p=AAPL191220C00235000\">AAPL191220C00235000</a></td><td class=\"data-col1 Ta(end) Pstart(7px)\" data-reactid=\"496\">2019-12-13 3:50PM EST</td><td class=\"data-col2 Ta(end) Pstart(7px)\" data-reactid=\"497\"><a class=\"C($linkColor) Fz(s)\" data-reactid=\"498\" data-symbol=\"AAPL\" href=\"/quote/AAPL/options?strike=235&amp;straddle=false\">235.00</a></td><td class=\"data-col3 Ta(end) Pstart(7px)\" data-reactid=\"499\">40.30</td><td class=\"data-col4 Ta(end) Pstart(7px)\" data-reactid=\"500\">40.00</td><td class=\"data-col5 Ta(end) Pstart(7px)\" data-reactid=\"501\">41.45</td><td class=\"data-col6 Ta(end) Pstart(7px)\" data-reactid=\"502\"><span class=\"Trsdu(0.3s) C($dataGreen)\" data-reactid=\"503\">+3.70</span></td><td class=\"data-col7 Ta(end) Pstart(7px)\" data-reactid=\"504\"><span class=\"Trsdu(0.3s) C($dataGreen)\" data-reactid=\"505\">+10.11%</span></td><td class=\"data-col8 Ta(end) Pstart(7px)\" data-reactid=\"506\">101</td><td class=\"data-col9 Ta(end) Pstart(7px)\" data-reactid=\"507\">13,662</td><td class=\"data-col10 Ta(end) Pstart(7px) Pend(6px) Bdstartc(t)\" data-reactid=\"508\">71.00%</td></tr><tr class=\"data-row28 Bgc($hoverBgColor):h BdT Bdc($seperatorColor) H(33px) in-the-money Bgc($hoverBgColor) Whs(nw)\" data-reactid=\"509\"><td class=\"data-col0 Ta(start) Pstart(10px) Bdstartw(8px) Bdstarts(s) Bdstartc(t) in-the-money_Bdstartc($linkColor)\" data-reactid=\"510\"><a class=\"Fz(s) Ell C($linkColor)\" data-reactid=\"511\" href=\"/quote/AAPL191220C00237500?p=AAPL191220C00237500\">AAPL191220C00237500</a></td><td class=\"data-col1 Ta(end) Pstart(7px)\" data-reactid=\"512\">2019-12-12 2:58PM EST</td><td class=\"data-col2 Ta(end) Pstart(7px)\" data-reactid=\"513\"><a class=\"C($linkColor) Fz(s)\" data-reactid=\"514\" data-symbol=\"AAPL\" href=\"/quote/AAPL/options?strike=237.5&amp;straddle=false\">237.50</a></td><td class=\"data-col3 Ta(end) Pstart(7px)\" data-reactid=\"515\">32.60</td><td class=\"data-col4 Ta(end) Pstart(7px)\" data-reactid=\"516\">35.75</td><td class=\"data-col5 Ta(end) Pstart(7px)\" data-reactid=\"517\">39.20</td><td class=\"data-col6 Ta(end) Pstart(7px)\" data-reactid=\"518\"><span class=\"Trsdu(0.3s) \" data-reactid=\"519\">0.00</span></td><td class=\"data-col7 Ta(end) Pstart(7px)\" data-reactid=\"520\"><span class=\"Trsdu(0.3s) \" data-reactid=\"521\">-</span></td><td class=\"data-col8 Ta(end) Pstart(7px)\" data-reactid=\"522\">2</td><td class=\"data-col9 Ta(end) Pstart(7px)\" data-reactid=\"523\">21</td><td class=\"data-col10 Ta(end) Pstart(7px) Pend(6px) Bdstartc(t)\" data-reactid=\"524\">85.45%</td></tr><tr class=\"data-row29 Bgc($hoverBgColor):h BdT Bdc($seperatorColor) H(33px) in-the-money Bgc($hoverBgColor) Bgc($altRowColor) Whs(nw)\" data-reactid=\"525\"><td class=\"data-col0 Ta(start) Pstart(10px) Bdstartw(8px) Bdstarts(s) Bdstartc(t) in-the-money_Bdstartc($linkColor)\" data-reactid=\"526\"><a class=\"Fz(s) Ell C($linkColor)\" data-reactid=\"527\" href=\"/quote/AAPL191220C00240000?p=AAPL191220C00240000\">AAPL191220C00240000</a></td><td class=\"data-col1 Ta(end) Pstart(7px)\" data-reactid=\"528\">2019-12-13 3:56PM EST</td><td class=\"data-col2 Ta(end) Pstart(7px)\" data-reactid=\"529\"><a class=\"C($linkColor) Fz(s)\" data-reactid=\"530\" data-symbol=\"AAPL\" href=\"/quote/AAPL/options?strike=240&amp;straddle=false\">240.00</a></td><td class=\"data-col3 Ta(end) Pstart(7px)\" data-reactid=\"531\">35.32</td><td class=\"data-col4 Ta(end) Pstart(7px)\" data-reactid=\"532\">35.00</td><td class=\"data-col5 Ta(end) Pstart(7px)\" data-reactid=\"533\">35.90</td><td class=\"data-col6 Ta(end) Pstart(7px)\" data-reactid=\"534\"><span class=\"Trsdu(0.3s) C($dataGreen)\" data-reactid=\"535\">+4.77</span></td><td class=\"data-col7 Ta(end) Pstart(7px)\" data-reactid=\"536\"><span class=\"Trsdu(0.3s) C($dataGreen)\" data-reactid=\"537\">+15.61%</span></td><td class=\"data-col8 Ta(end) Pstart(7px)\" data-reactid=\"538\">851</td><td class=\"data-col9 Ta(end) Pstart(7px)\" data-reactid=\"539\">7,395</td><td class=\"data-col10 Ta(end) Pstart(7px) Pend(6px) Bdstartc(t)\" data-reactid=\"540\">55.57%</td></tr><tr class=\"data-row30 Bgc($hoverBgColor):h BdT Bdc($seperatorColor) H(33px) in-the-money Bgc($hoverBgColor) Whs(nw)\" data-reactid=\"541\"><td class=\"data-col0 Ta(start) Pstart(10px) Bdstartw(8px) Bdstarts(s) Bdstartc(t) in-the-money_Bdstartc($linkColor)\" data-reactid=\"542\"><a class=\"Fz(s) Ell C($linkColor)\" data-reactid=\"543\" href=\"/quote/AAPL191220C00242500?p=AAPL191220C00242500\">AAPL191220C00242500</a></td><td class=\"data-col1 Ta(end) Pstart(7px)\" data-reactid=\"544\">2019-12-13 9:51AM EST</td><td class=\"data-col2 Ta(end) Pstart(7px)\" data-reactid=\"545\"><a class=\"C($linkColor) Fz(s)\" data-reactid=\"546\" data-symbol=\"AAPL\" href=\"/quote/AAPL/options?strike=242.5&amp;straddle=false\">242.50</a></td><td class=\"data-col3 Ta(end) Pstart(7px)\" data-reactid=\"547\">30.75</td><td class=\"data-col4 Ta(end) Pstart(7px)\" data-reactid=\"548\">32.50</td><td class=\"data-col5 Ta(end) Pstart(7px)\" data-reactid=\"549\">34.50</td><td class=\"data-col6 Ta(end) Pstart(7px)\" data-reactid=\"550\"><span class=\"Trsdu(0.3s) C($dataGreen)\" data-reactid=\"551\">+1.75</span></td><td class=\"data-col7 Ta(end) Pstart(7px)\" data-reactid=\"552\"><span class=\"Trsdu(0.3s) C($dataGreen)\" data-reactid=\"553\">+6.03%</span></td><td class=\"data-col8 Ta(end) Pstart(7px)\" data-reactid=\"554\">11</td><td class=\"data-col9 Ta(end) Pstart(7px)\" data-reactid=\"555\">82</td><td class=\"data-col10 Ta(end) Pstart(7px) Pend(6px) Bdstartc(t)\" data-reactid=\"556\">65.06%</td></tr><tr class=\"data-row31 Bgc($hoverBgColor):h BdT Bdc($seperatorColor) H(33px) in-the-money Bgc($hoverBgColor) Bgc($altRowColor) Whs(nw)\" data-reactid=\"557\"><td class=\"data-col0 Ta(start) Pstart(10px) Bdstartw(8px) Bdstarts(s) Bdstartc(t) in-the-money_Bdstartc($linkColor)\" data-reactid=\"558\"><a class=\"Fz(s) Ell C($linkColor)\" data-reactid=\"559\" href=\"/quote/AAPL191220C00245000?p=AAPL191220C00245000\">AAPL191220C00245000</a></td><td class=\"data-col1 Ta(end) Pstart(7px)\" data-reactid=\"560\">2019-12-13 3:55PM EST</td><td class=\"data-col2 Ta(end) Pstart(7px)\" data-reactid=\"561\"><a class=\"C($linkColor) Fz(s)\" data-reactid=\"562\" data-symbol=\"AAPL\" href=\"/quote/AAPL/options?strike=245&amp;straddle=false\">245.00</a></td><td class=\"data-col3 Ta(end) Pstart(7px)\" data-reactid=\"563\">30.36</td><td class=\"data-col4 Ta(end) Pstart(7px)\" data-reactid=\"564\">30.00</td><td class=\"data-col5 Ta(end) Pstart(7px)\" data-reactid=\"565\">30.50</td><td class=\"data-col6 Ta(end) Pstart(7px)\" data-reactid=\"566\"><span class=\"Trsdu(0.3s) C($dataGreen)\" data-reactid=\"567\">+3.66</span></td><td class=\"data-col7 Ta(end) Pstart(7px)\" data-reactid=\"568\"><span class=\"Trsdu(0.3s) C($dataGreen)\" data-reactid=\"569\">+13.71%</span></td><td class=\"data-col8 Ta(end) Pstart(7px)\" data-reactid=\"570\">158</td><td class=\"data-col9 Ta(end) Pstart(7px)\" data-reactid=\"571\">9,571</td><td class=\"data-col10 Ta(end) Pstart(7px) Pend(6px) Bdstartc(t)\" data-reactid=\"572\">50.05%</td></tr><tr class=\"data-row32 Bgc($hoverBgColor):h BdT Bdc($seperatorColor) H(33px) in-the-money Bgc($hoverBgColor) Whs(nw)\" data-reactid=\"573\"><td class=\"data-col0 Ta(start) Pstart(10px) Bdstartw(8px) Bdstarts(s) Bdstartc(t) in-the-money_Bdstartc($linkColor)\" data-reactid=\"574\"><a class=\"Fz(s) Ell C($linkColor)\" data-reactid=\"575\" href=\"/quote/AAPL191220C00247500?p=AAPL191220C00247500\">AAPL191220C00247500</a></td><td class=\"data-col1 Ta(end) Pstart(7px)\" data-reactid=\"576\">2019-12-13 1:03PM EST</td><td class=\"data-col2 Ta(end) Pstart(7px)\" data-reactid=\"577\"><a class=\"C($linkColor) Fz(s)\" data-reactid=\"578\" data-symbol=\"AAPL\" href=\"/quote/AAPL/options?strike=247.5&amp;straddle=false\">247.50</a></td><td class=\"data-col3 Ta(end) Pstart(7px)\" data-reactid=\"579\">27.50</td><td class=\"data-col4 Ta(end) Pstart(7px)\" data-reactid=\"580\">27.60</td><td class=\"data-col5 Ta(end) Pstart(7px)\" data-reactid=\"581\">28.60</td><td class=\"data-col6 Ta(end) Pstart(7px)\" data-reactid=\"582\"><span class=\"Trsdu(0.3s) C($dataGreen)\" data-reactid=\"583\">+3.30</span></td><td class=\"data-col7 Ta(end) Pstart(7px)\" data-reactid=\"584\"><span class=\"Trsdu(0.3s) C($dataGreen)\" data-reactid=\"585\">+13.64%</span></td><td class=\"data-col8 Ta(end) Pstart(7px)\" data-reactid=\"586\">38</td><td class=\"data-col9 Ta(end) Pstart(7px)\" data-reactid=\"587\">118</td><td class=\"data-col10 Ta(end) Pstart(7px) Pend(6px) Bdstartc(t)\" data-reactid=\"588\">58.55%</td></tr><tr class=\"data-row33 Bgc($hoverBgColor):h BdT Bdc($seperatorColor) H(33px) in-the-money Bgc($hoverBgColor) Bgc($altRowColor) Whs(nw)\" data-reactid=\"589\"><td class=\"data-col0 Ta(start) Pstart(10px) Bdstartw(8px) Bdstarts(s) Bdstartc(t) in-the-money_Bdstartc($linkColor)\" data-reactid=\"590\"><a class=\"Fz(s) Ell C($linkColor)\" data-reactid=\"591\" href=\"/quote/AAPL191220C00250000?p=AAPL191220C00250000\">AAPL191220C00250000</a></td><td class=\"data-col1 Ta(end) Pstart(7px)\" data-reactid=\"592\">2019-12-13 3:58PM EST</td><td class=\"data-col2 Ta(end) Pstart(7px)\" data-reactid=\"593\"><a class=\"C($linkColor) Fz(s)\" data-reactid=\"594\" data-symbol=\"AAPL\" href=\"/quote/AAPL/options?strike=250&amp;straddle=false\">250.00</a></td><td class=\"data-col3 Ta(end) Pstart(7px)\" data-reactid=\"595\">25.50</td><td class=\"data-col4 Ta(end) Pstart(7px)\" data-reactid=\"596\">25.15</td><td class=\"data-col5 Ta(end) Pstart(7px)\" data-reactid=\"597\">25.70</td><td class=\"data-col6 Ta(end) Pstart(7px)\" data-reactid=\"598\"><span class=\"Trsdu(0.3s) C($dataGreen)\" data-reactid=\"599\">+3.65</span></td><td class=\"data-col7 Ta(end) Pstart(7px)\" data-reactid=\"600\"><span class=\"Trsdu(0.3s) C($dataGreen)\" data-reactid=\"601\">+16.70%</span></td><td class=\"data-col8 Ta(end) Pstart(7px)\" data-reactid=\"602\">704</td><td class=\"data-col9 Ta(end) Pstart(7px)\" data-reactid=\"603\">16,381</td><td class=\"data-col10 Ta(end) Pstart(7px) Pend(6px) Bdstartc(t)\" data-reactid=\"604\">47.36%</td></tr><tr class=\"data-row34 Bgc($hoverBgColor):h BdT Bdc($seperatorColor) H(33px) in-the-money Bgc($hoverBgColor) Whs(nw)\" data-reactid=\"605\"><td class=\"data-col0 Ta(start) Pstart(10px) Bdstartw(8px) Bdstarts(s) Bdstartc(t) in-the-money_Bdstartc($linkColor)\" data-reactid=\"606\"><a class=\"Fz(s) Ell C($linkColor)\" data-reactid=\"607\" href=\"/quote/AAPL191220C00252500?p=AAPL191220C00252500\">AAPL191220C00252500</a></td><td class=\"data-col1 Ta(end) Pstart(7px)\" data-reactid=\"608\">2019-12-13 3:30PM EST</td><td class=\"data-col2 Ta(end) Pstart(7px)\" data-reactid=\"609\"><a class=\"C($linkColor) Fz(s)\" data-reactid=\"610\" data-symbol=\"AAPL\" href=\"/quote/AAPL/options?strike=252.5&amp;straddle=false\">252.50</a></td><td class=\"data-col3 Ta(end) Pstart(7px)\" data-reactid=\"611\">22.65</td><td class=\"data-col4 Ta(end) Pstart(7px)\" data-reactid=\"612\">22.65</td><td class=\"data-col5 Ta(end) Pstart(7px)\" data-reactid=\"613\">23.60</td><td class=\"data-col6 Ta(end) Pstart(7px)\" data-reactid=\"614\"><span class=\"Trsdu(0.3s) C($dataGreen)\" data-reactid=\"615\">+3.25</span></td><td class=\"data-col7 Ta(end) Pstart(7px)\" data-reactid=\"616\"><span class=\"Trsdu(0.3s) C($dataGreen)\" data-reactid=\"617\">+16.75%</span></td><td class=\"data-col8 Ta(end) Pstart(7px)\" data-reactid=\"618\">49</td><td class=\"data-col9 Ta(end) Pstart(7px)\" data-reactid=\"619\">248</td><td class=\"data-col10 Ta(end) Pstart(7px) Pend(6px) Bdstartc(t)\" data-reactid=\"620\">50.12%</td></tr><tr class=\"data-row35 Bgc($hoverBgColor):h BdT Bdc($seperatorColor) H(33px) in-the-money Bgc($hoverBgColor) Bgc($altRowColor) Whs(nw)\" data-reactid=\"621\"><td class=\"data-col0 Ta(start) Pstart(10px) Bdstartw(8px) Bdstarts(s) Bdstartc(t) in-the-money_Bdstartc($linkColor)\" data-reactid=\"622\"><a class=\"Fz(s) Ell C($linkColor)\" data-reactid=\"623\" href=\"/quote/AAPL191220C00255000?p=AAPL191220C00255000\">AAPL191220C00255000</a></td><td class=\"data-col1 Ta(end) Pstart(7px)\" data-reactid=\"624\">2019-12-13 3:59PM EST</td><td class=\"data-col2 Ta(end) Pstart(7px)\" data-reactid=\"625\"><a class=\"C($linkColor) Fz(s)\" data-reactid=\"626\" data-symbol=\"AAPL\" href=\"/quote/AAPL/options?strike=255&amp;straddle=false\">255.00</a></td><td class=\"data-col3 Ta(end) Pstart(7px)\" data-reactid=\"627\">20.60</td><td class=\"data-col4 Ta(end) Pstart(7px)\" data-reactid=\"628\">20.20</td><td class=\"data-col5 Ta(end) Pstart(7px)\" data-reactid=\"629\">21.60</td><td class=\"data-col6 Ta(end) Pstart(7px)\" data-reactid=\"630\"><span class=\"Trsdu(0.3s) C($dataGreen)\" data-reactid=\"631\">+3.65</span></td><td class=\"data-col7 Ta(end) Pstart(7px)\" data-reactid=\"632\"><span class=\"Trsdu(0.3s) C($dataGreen)\" data-reactid=\"633\">+21.53%</span></td><td class=\"data-col8 Ta(end) Pstart(7px)\" data-reactid=\"634\">605</td><td class=\"data-col9 Ta(end) Pstart(7px)\" data-reactid=\"635\">11,630</td><td class=\"data-col10 Ta(end) Pstart(7px) Pend(6px) Bdstartc(t)\" data-reactid=\"636\">52.27%</td></tr><tr class=\"data-row36 Bgc($hoverBgColor):h BdT Bdc($seperatorColor) H(33px) in-the-money Bgc($hoverBgColor) Whs(nw)\" data-reactid=\"637\"><td class=\"data-col0 Ta(start) Pstart(10px) Bdstartw(8px) Bdstarts(s) Bdstartc(t) in-the-money_Bdstartc($linkColor)\" data-reactid=\"638\"><a class=\"Fz(s) Ell C($linkColor)\" data-reactid=\"639\" href=\"/quote/AAPL191220C00257500?p=AAPL191220C00257500\">AAPL191220C00257500</a></td><td class=\"data-col1 Ta(end) Pstart(7px)\" data-reactid=\"640\">2019-12-13 3:39PM EST</td><td class=\"data-col2 Ta(end) Pstart(7px)\" data-reactid=\"641\"><a class=\"C($linkColor) Fz(s)\" data-reactid=\"642\" data-symbol=\"AAPL\" href=\"/quote/AAPL/options?strike=257.5&amp;straddle=false\">257.50</a></td><td class=\"data-col3 Ta(end) Pstart(7px)\" data-reactid=\"643\">17.81</td><td class=\"data-col4 Ta(end) Pstart(7px)\" data-reactid=\"644\">17.75</td><td class=\"data-col5 Ta(end) Pstart(7px)\" data-reactid=\"645\">18.25</td><td class=\"data-col6 Ta(end) Pstart(7px)\" data-reactid=\"646\"><span class=\"Trsdu(0.3s) C($dataGreen)\" data-reactid=\"647\">+3.31</span></td><td class=\"data-col7 Ta(end) Pstart(7px)\" data-reactid=\"648\"><span class=\"Trsdu(0.3s) C($dataGreen)\" data-reactid=\"649\">+22.83%</span></td><td class=\"data-col8 Ta(end) Pstart(7px)\" data-reactid=\"650\">299</td><td class=\"data-col9 Ta(end) Pstart(7px)\" data-reactid=\"651\">1,396</td><td class=\"data-col10 Ta(end) Pstart(7px) Pend(6px) Bdstartc(t)\" data-reactid=\"652\">36.52%</td></tr><tr class=\"data-row37 Bgc($hoverBgColor):h BdT Bdc($seperatorColor) H(33px) in-the-money Bgc($hoverBgColor) Bgc($altRowColor) Whs(nw)\" data-reactid=\"653\"><td class=\"data-col0 Ta(start) Pstart(10px) Bdstartw(8px) Bdstarts(s) Bdstartc(t) in-the-money_Bdstartc($linkColor)\" data-reactid=\"654\"><a class=\"Fz(s) Ell C($linkColor)\" data-reactid=\"655\" href=\"/quote/AAPL191220C00260000?p=AAPL191220C00260000\">AAPL191220C00260000</a></td><td class=\"data-col1 Ta(end) Pstart(7px)\" data-reactid=\"656\">2019-12-13 3:58PM EST</td><td class=\"data-col2 Ta(end) Pstart(7px)\" data-reactid=\"657\"><a class=\"C($linkColor) Fz(s)\" data-reactid=\"658\" data-symbol=\"AAPL\" href=\"/quote/AAPL/options?strike=260&amp;straddle=false\">260.00</a></td><td class=\"data-col3 Ta(end) Pstart(7px)\" data-reactid=\"659\">15.65</td><td class=\"data-col4 Ta(end) Pstart(7px)\" data-reactid=\"660\">15.25</td><td class=\"data-col5 Ta(end) Pstart(7px)\" data-reactid=\"661\">16.00</td><td class=\"data-col6 Ta(end) Pstart(7px)\" data-reactid=\"662\"><span class=\"Trsdu(0.3s) C($dataGreen)\" data-reactid=\"663\">+3.40</span></td><td class=\"data-col7 Ta(end) Pstart(7px)\" data-reactid=\"664\"><span class=\"Trsdu(0.3s) C($dataGreen)\" data-reactid=\"665\">+27.76%</span></td><td class=\"data-col8 Ta(end) Pstart(7px)\" data-reactid=\"666\">2,785</td><td class=\"data-col9 Ta(end) Pstart(7px)\" data-reactid=\"667\">38,653</td><td class=\"data-col10 Ta(end) Pstart(7px) Pend(6px) Bdstartc(t)\" data-reactid=\"668\">35.99%</td></tr><tr class=\"data-row38 Bgc($hoverBgColor):h BdT Bdc($seperatorColor) H(33px) in-the-money Bgc($hoverBgColor) Whs(nw)\" data-reactid=\"669\"><td class=\"data-col0 Ta(start) Pstart(10px) Bdstartw(8px) Bdstarts(s) Bdstartc(t) in-the-money_Bdstartc($linkColor)\" data-reactid=\"670\"><a class=\"Fz(s) Ell C($linkColor)\" data-reactid=\"671\" href=\"/quote/AAPL191220C00262500?p=AAPL191220C00262500\">AAPL191220C00262500</a></td><td class=\"data-col1 Ta(end) Pstart(7px)\" data-reactid=\"672\">2019-12-13 3:57PM EST</td><td class=\"data-col2 Ta(end) Pstart(7px)\" data-reactid=\"673\"><a class=\"C($linkColor) Fz(s)\" data-reactid=\"674\" data-symbol=\"AAPL\" href=\"/quote/AAPL/options?strike=262.5&amp;straddle=false\">262.50</a></td><td class=\"data-col3 Ta(end) Pstart(7px)\" data-reactid=\"675\">13.20</td><td class=\"data-col4 Ta(end) Pstart(7px)\" data-reactid=\"676\">12.80</td><td class=\"data-col5 Ta(end) Pstart(7px)\" data-reactid=\"677\">13.30</td><td class=\"data-col6 Ta(end) Pstart(7px)\" data-reactid=\"678\"><span class=\"Trsdu(0.3s) C($dataGreen)\" data-reactid=\"679\">+3.23</span></td><td class=\"data-col7 Ta(end) Pstart(7px)\" data-reactid=\"680\"><span class=\"Trsdu(0.3s) C($dataGreen)\" data-reactid=\"681\">+32.40%</span></td><td class=\"data-col8 Ta(end) Pstart(7px)\" data-reactid=\"682\">482</td><td class=\"data-col9 Ta(end) Pstart(7px)\" data-reactid=\"683\">2,245</td><td class=\"data-col10 Ta(end) Pstart(7px) Pend(6px) Bdstartc(t)\" data-reactid=\"684\">29.10%</td></tr><tr class=\"data-row39 Bgc($hoverBgColor):h BdT Bdc($seperatorColor) H(33px) in-the-money Bgc($hoverBgColor) Bgc($altRowColor) Whs(nw)\" data-reactid=\"685\"><td class=\"data-col0 Ta(start) Pstart(10px) Bdstartw(8px) Bdstarts(s) Bdstartc(t) in-the-money_Bdstartc($linkColor)\" data-reactid=\"686\"><a class=\"Fz(s) Ell C($linkColor)\" data-reactid=\"687\" href=\"/quote/AAPL191220C00265000?p=AAPL191220C00265000\">AAPL191220C00265000</a></td><td class=\"data-col1 Ta(end) Pstart(7px)\" data-reactid=\"688\">2019-12-13 3:59PM EST</td><td class=\"data-col2 Ta(end) Pstart(7px)\" data-reactid=\"689\"><a class=\"C($linkColor) Fz(s)\" data-reactid=\"690\" data-symbol=\"AAPL\" href=\"/quote/AAPL/options?strike=265&amp;straddle=false\">265.00</a></td><td class=\"data-col3 Ta(end) Pstart(7px)\" data-reactid=\"691\">10.90</td><td class=\"data-col4 Ta(end) Pstart(7px)\" data-reactid=\"692\">10.65</td><td class=\"data-col5 Ta(end) Pstart(7px)\" data-reactid=\"693\">10.95</td><td class=\"data-col6 Ta(end) Pstart(7px)\" data-reactid=\"694\"><span class=\"Trsdu(0.3s) C($dataGreen)\" data-reactid=\"695\">+3.18</span></td><td class=\"data-col7 Ta(end) Pstart(7px)\" data-reactid=\"696\"><span class=\"Trsdu(0.3s) C($dataGreen)\" data-reactid=\"697\">+41.19%</span></td><td class=\"data-col8 Ta(end) Pstart(7px)\" data-reactid=\"698\">2,445</td><td class=\"data-col9 Ta(end) Pstart(7px)\" data-reactid=\"699\">15,404</td><td class=\"data-col10 Ta(end) Pstart(7px) Pend(6px) Bdstartc(t)\" data-reactid=\"700\">26.64%</td></tr><tr class=\"data-row40 Bgc($hoverBgColor):h BdT Bdc($seperatorColor) H(33px) in-the-money Bgc($hoverBgColor) Whs(nw)\" data-reactid=\"701\"><td class=\"data-col0 Ta(start) Pstart(10px) Bdstartw(8px) Bdstarts(s) Bdstartc(t) in-the-money_Bdstartc($linkColor)\" data-reactid=\"702\"><a class=\"Fz(s) Ell C($linkColor)\" data-reactid=\"703\" href=\"/quote/AAPL191220C00267500?p=AAPL191220C00267500\">AAPL191220C00267500</a></td><td class=\"data-col1 Ta(end) Pstart(7px)\" data-reactid=\"704\">2019-12-13 3:59PM EST</td><td class=\"data-col2 Ta(end) Pstart(7px)\" data-reactid=\"705\"><a class=\"C($linkColor) Fz(s)\" data-reactid=\"706\" data-symbol=\"AAPL\" href=\"/quote/AAPL/options?strike=267.5&amp;straddle=false\">267.50</a></td><td class=\"data-col3 Ta(end) Pstart(7px)\" data-reactid=\"707\">8.52</td><td class=\"data-col4 Ta(end) Pstart(7px)\" data-reactid=\"708\">8.45</td><td class=\"data-col5 Ta(end) Pstart(7px)\" data-reactid=\"709\">8.60</td><td class=\"data-col6 Ta(end) Pstart(7px)\" data-reactid=\"710\"><span class=\"Trsdu(0.3s) C($dataGreen)\" data-reactid=\"711\">+2.74</span></td><td class=\"data-col7 Ta(end) Pstart(7px)\" data-reactid=\"712\"><span class=\"Trsdu(0.3s) C($dataGreen)\" data-reactid=\"713\">+47.40%</span></td><td class=\"data-col8 Ta(end) Pstart(7px)\" data-reactid=\"714\">6,338</td><td class=\"data-col9 Ta(end) Pstart(7px)\" data-reactid=\"715\">7,227</td><td class=\"data-col10 Ta(end) Pstart(7px) Pend(6px) Bdstartc(t)\" data-reactid=\"716\">23.56%</td></tr><tr class=\"data-row41 Bgc($hoverBgColor):h BdT Bdc($seperatorColor) H(33px) in-the-money Bgc($hoverBgColor) Bgc($altRowColor) Whs(nw)\" data-reactid=\"717\"><td class=\"data-col0 Ta(start) Pstart(10px) Bdstartw(8px) Bdstarts(s) Bdstartc(t) in-the-money_Bdstartc($linkColor)\" data-reactid=\"718\"><a class=\"Fz(s) Ell C($linkColor)\" data-reactid=\"719\" href=\"/quote/AAPL191220C00270000?p=AAPL191220C00270000\">AAPL191220C00270000</a></td><td class=\"data-col1 Ta(end) Pstart(7px)\" data-reactid=\"720\">2019-12-13 3:59PM EST</td><td class=\"data-col2 Ta(end) Pstart(7px)\" data-reactid=\"721\"><a class=\"C($linkColor) Fz(s)\" data-reactid=\"722\" data-symbol=\"AAPL\" href=\"/quote/AAPL/options?strike=270&amp;straddle=false\">270.00</a></td><td class=\"data-col3 Ta(end) Pstart(7px)\" data-reactid=\"723\">6.45</td><td class=\"data-col4 Ta(end) Pstart(7px)\" data-reactid=\"724\">6.35</td><td class=\"data-col5 Ta(end) Pstart(7px)\" data-reactid=\"725\">6.50</td><td class=\"data-col6 Ta(end) Pstart(7px)\" data-reactid=\"726\"><span class=\"Trsdu(0.3s) C($dataGreen)\" data-reactid=\"727\">+2.25</span></td><td class=\"data-col7 Ta(end) Pstart(7px)\" data-reactid=\"728\"><span class=\"Trsdu(0.3s) C($dataGreen)\" data-reactid=\"729\">+53.57%</span></td><td class=\"data-col8 Ta(end) Pstart(7px)\" data-reactid=\"730\">12,843</td><td class=\"data-col9 Ta(end) Pstart(7px)\" data-reactid=\"731\">16,890</td><td class=\"data-col10 Ta(end) Pstart(7px) Pend(6px) Bdstartc(t)\" data-reactid=\"732\">21.95%</td></tr><tr class=\"data-row42 Bgc($hoverBgColor):h BdT Bdc($seperatorColor) H(33px) in-the-money Bgc($hoverBgColor) Whs(nw)\" data-reactid=\"733\"><td class=\"data-col0 Ta(start) Pstart(10px) Bdstartw(8px) Bdstarts(s) Bdstartc(t) in-the-money_Bdstartc($linkColor)\" data-reactid=\"734\"><a class=\"Fz(s) Ell C($linkColor)\" data-reactid=\"735\" href=\"/quote/AAPL191220C00272500?p=AAPL191220C00272500\">AAPL191220C00272500</a></td><td class=\"data-col1 Ta(end) Pstart(7px)\" data-reactid=\"736\">2019-12-13 3:59PM EST</td><td class=\"data-col2 Ta(end) Pstart(7px)\" data-reactid=\"737\"><a class=\"C($linkColor) Fz(s)\" data-reactid=\"738\" data-symbol=\"AAPL\" href=\"/quote/AAPL/options?strike=272.5&amp;straddle=false\">272.50</a></td><td class=\"data-col3 Ta(end) Pstart(7px)\" data-reactid=\"739\">4.50</td><td class=\"data-col4 Ta(end) Pstart(7px)\" data-reactid=\"740\">4.50</td><td class=\"data-col5 Ta(end) Pstart(7px)\" data-reactid=\"741\">4.60</td><td class=\"data-col6 Ta(end) Pstart(7px)\" data-reactid=\"742\"><span class=\"Trsdu(0.3s) C($dataGreen)\" data-reactid=\"743\">+1.68</span></td><td class=\"data-col7 Ta(end) Pstart(7px)\" data-reactid=\"744\"><span class=\"Trsdu(0.3s) C($dataGreen)\" data-reactid=\"745\">+59.57%</span></td><td class=\"data-col8 Ta(end) Pstart(7px)\" data-reactid=\"746\">16,667</td><td class=\"data-col9 Ta(end) Pstart(7px)\" data-reactid=\"747\">8,106</td><td class=\"data-col10 Ta(end) Pstart(7px) Pend(6px) Bdstartc(t)\" data-reactid=\"748\">20.46%</td></tr><tr class=\"data-row43 Bgc($hoverBgColor):h BdT Bdc($seperatorColor) H(33px) in-the-money Bgc($hoverBgColor) Bgc($altRowColor) Whs(nw)\" data-reactid=\"749\"><td class=\"data-col0 Ta(start) Pstart(10px) Bdstartw(8px) Bdstarts(s) Bdstartc(t) in-the-money_Bdstartc($linkColor)\" data-reactid=\"750\"><a class=\"Fz(s) Ell C($linkColor)\" data-reactid=\"751\" href=\"/quote/AAPL191220C00275000?p=AAPL191220C00275000\">AAPL191220C00275000</a></td><td class=\"data-col1 Ta(end) Pstart(7px)\" data-reactid=\"752\">2019-12-13 3:59PM EST</td><td class=\"data-col2 Ta(end) Pstart(7px)\" data-reactid=\"753\"><a class=\"C($linkColor) Fz(s)\" data-reactid=\"754\" data-symbol=\"AAPL\" href=\"/quote/AAPL/options?strike=275&amp;straddle=false\">275.00</a></td><td class=\"data-col3 Ta(end) Pstart(7px)\" data-reactid=\"755\">2.94</td><td class=\"data-col4 Ta(end) Pstart(7px)\" data-reactid=\"756\">2.90</td><td class=\"data-col5 Ta(end) Pstart(7px)\" data-reactid=\"757\">3.00</td><td class=\"data-col6 Ta(end) Pstart(7px)\" data-reactid=\"758\"><span class=\"Trsdu(0.3s) C($dataGreen)\" data-reactid=\"759\">+1.12</span></td><td class=\"data-col7 Ta(end) Pstart(7px)\" data-reactid=\"760\"><span class=\"Trsdu(0.3s) C($dataGreen)\" data-reactid=\"761\">+61.54%</span></td><td class=\"data-col8 Ta(end) Pstart(7px)\" data-reactid=\"762\">43,860</td><td class=\"data-col9 Ta(end) Pstart(7px)\" data-reactid=\"763\">23,175</td><td class=\"data-col10 Ta(end) Pstart(7px) Pend(6px) Bdstartc(t)\" data-reactid=\"764\">19.24%</td></tr><tr class=\"data-row44 Bgc($hoverBgColor):h BdT Bdc($seperatorColor) H(33px) Whs(nw)\" data-reactid=\"765\"><td class=\"data-col0 Ta(start) Pstart(10px) Bdstartw(8px) Bdstarts(s) Bdstartc(t) in-the-money_Bdstartc($linkColor)\" data-reactid=\"766\"><a class=\"Fz(s) Ell C($linkColor)\" data-reactid=\"767\" href=\"/quote/AAPL191220C00277500?p=AAPL191220C00277500\">AAPL191220C00277500</a></td><td class=\"data-col1 Ta(end) Pstart(7px)\" data-reactid=\"768\">2019-12-13 3:59PM EST</td><td class=\"data-col2 Ta(end) Pstart(7px)\" data-reactid=\"769\"><a class=\"C($linkColor) Fz(s)\" data-reactid=\"770\" data-symbol=\"AAPL\" href=\"/quote/AAPL/options?strike=277.5&amp;straddle=false\">277.50</a></td><td class=\"data-col3 Ta(end) Pstart(7px)\" data-reactid=\"771\">1.76</td><td class=\"data-col4 Ta(end) Pstart(7px)\" data-reactid=\"772\">1.74</td><td class=\"data-col5 Ta(end) Pstart(7px)\" data-reactid=\"773\">1.77</td><td class=\"data-col6 Ta(end) Pstart(7px)\" data-reactid=\"774\"><span class=\"Trsdu(0.3s) C($dataGreen)\" data-reactid=\"775\">+0.67</span></td><td class=\"data-col7 Ta(end) Pstart(7px)\" data-reactid=\"776\"><span class=\"Trsdu(0.3s) C($dataGreen)\" data-reactid=\"777\">+61.47%</span></td><td class=\"data-col8 Ta(end) Pstart(7px)\" data-reactid=\"778\">18,310</td><td class=\"data-col9 Ta(end) Pstart(7px)\" data-reactid=\"779\">7,391</td><td class=\"data-col10 Ta(end) Pstart(7px) Pend(6px) Bdstartc(t)\" data-reactid=\"780\">18.26%</td></tr><tr class=\"data-row45 Bgc($hoverBgColor):h BdT Bdc($seperatorColor) H(33px) Bgc($altRowColor) Whs(nw)\" data-reactid=\"781\"><td class=\"data-col0 Ta(start) Pstart(10px) Bdstartw(8px) Bdstarts(s) Bdstartc(t) in-the-money_Bdstartc($linkColor)\" data-reactid=\"782\"><a class=\"Fz(s) Ell C($linkColor)\" data-reactid=\"783\" href=\"/quote/AAPL191220C00280000?p=AAPL191220C00280000\">AAPL191220C00280000</a></td><td class=\"data-col1 Ta(end) Pstart(7px)\" data-reactid=\"784\">2019-12-13 3:59PM EST</td><td class=\"data-col2 Ta(end) Pstart(7px)\" data-reactid=\"785\"><a class=\"C($linkColor) Fz(s)\" data-reactid=\"786\" data-symbol=\"AAPL\" href=\"/quote/AAPL/options?strike=280&amp;straddle=false\">280.00</a></td><td class=\"data-col3 Ta(end) Pstart(7px)\" data-reactid=\"787\">0.95</td><td class=\"data-col4 Ta(end) Pstart(7px)\" data-reactid=\"788\">0.93</td><td class=\"data-col5 Ta(end) Pstart(7px)\" data-reactid=\"789\">0.96</td><td class=\"data-col6 Ta(end) Pstart(7px)\" data-reactid=\"790\"><span class=\"Trsdu(0.3s) C($dataGreen)\" data-reactid=\"791\">+0.29</span></td><td class=\"data-col7 Ta(end) Pstart(7px)\" data-reactid=\"792\"><span class=\"Trsdu(0.3s) C($dataGreen)\" data-reactid=\"793\">+43.94%</span></td><td class=\"data-col8 Ta(end) Pstart(7px)\" data-reactid=\"794\">18,836</td><td class=\"data-col9 Ta(end) Pstart(7px)\" data-reactid=\"795\">11,199</td><td class=\"data-col10 Ta(end) Pstart(7px) Pend(6px) Bdstartc(t)\" data-reactid=\"796\">17.77%</td></tr><tr class=\"data-row46 Bgc($hoverBgColor):h BdT Bdc($seperatorColor) H(33px) Whs(nw)\" data-reactid=\"797\"><td class=\"data-col0 Ta(start) Pstart(10px) Bdstartw(8px) Bdstarts(s) Bdstartc(t) in-the-money_Bdstartc($linkColor)\" data-reactid=\"798\"><a class=\"Fz(s) Ell C($linkColor)\" data-reactid=\"799\" href=\"/quote/AAPL191220C00282500?p=AAPL191220C00282500\">AAPL191220C00282500</a></td><td class=\"data-col1 Ta(end) Pstart(7px)\" data-reactid=\"800\">2019-12-13 3:59PM EST</td><td class=\"data-col2 Ta(end) Pstart(7px)\" data-reactid=\"801\"><a class=\"C($linkColor) Fz(s)\" data-reactid=\"802\" data-symbol=\"AAPL\" href=\"/quote/AAPL/options?strike=282.5&amp;straddle=false\">282.50</a></td><td class=\"data-col3 Ta(end) Pstart(7px)\" data-reactid=\"803\">0.48</td><td class=\"data-col4 Ta(end) Pstart(7px)\" data-reactid=\"804\">0.48</td><td class=\"data-col5 Ta(end) Pstart(7px)\" data-reactid=\"805\">0.50</td><td class=\"data-col6 Ta(end) Pstart(7px)\" data-reactid=\"806\"><span class=\"Trsdu(0.3s) C($dataGreen)\" data-reactid=\"807\">+0.09</span></td><td class=\"data-col7 Ta(end) Pstart(7px)\" data-reactid=\"808\"><span class=\"Trsdu(0.3s) C($dataGreen)\" data-reactid=\"809\">+23.08%</span></td><td class=\"data-col8 Ta(end) Pstart(7px)\" data-reactid=\"810\">7,220</td><td class=\"data-col9 Ta(end) Pstart(7px)\" data-reactid=\"811\">4,571</td><td class=\"data-col10 Ta(end) Pstart(7px) Pend(6px) Bdstartc(t)\" data-reactid=\"812\">17.80%</td></tr><tr class=\"data-row47 Bgc($hoverBgColor):h BdT Bdc($seperatorColor) H(33px) Bgc($altRowColor) Whs(nw)\" data-reactid=\"813\"><td class=\"data-col0 Ta(start) Pstart(10px) Bdstartw(8px) Bdstarts(s) Bdstartc(t) in-the-money_Bdstartc($linkColor)\" data-reactid=\"814\"><a class=\"Fz(s) Ell C($linkColor)\" data-reactid=\"815\" href=\"/quote/AAPL191220C00285000?p=AAPL191220C00285000\">AAPL191220C00285000</a></td><td class=\"data-col1 Ta(end) Pstart(7px)\" data-reactid=\"816\">2019-12-13 3:59PM EST</td><td class=\"data-col2 Ta(end) Pstart(7px)\" data-reactid=\"817\"><a class=\"C($linkColor) Fz(s)\" data-reactid=\"818\" data-symbol=\"AAPL\" href=\"/quote/AAPL/options?strike=285&amp;straddle=false\">285.00</a></td><td class=\"data-col3 Ta(end) Pstart(7px)\" data-reactid=\"819\">0.26</td><td class=\"data-col4 Ta(end) Pstart(7px)\" data-reactid=\"820\">0.24</td><td class=\"data-col5 Ta(end) Pstart(7px)\" data-reactid=\"821\">0.26</td><td class=\"data-col6 Ta(end) Pstart(7px)\" data-reactid=\"822\"><span class=\"Trsdu(0.3s) C($dataGreen)\" data-reactid=\"823\">+0.01</span></td><td class=\"data-col7 Ta(end) Pstart(7px)\" data-reactid=\"824\"><span class=\"Trsdu(0.3s) C($dataGreen)\" data-reactid=\"825\">+4.00%</span></td><td class=\"data-col8 Ta(end) Pstart(7px)\" data-reactid=\"826\">8,636</td><td class=\"data-col9 Ta(end) Pstart(7px)\" data-reactid=\"827\">13,394</td><td class=\"data-col10 Ta(end) Pstart(7px) Pend(6px) Bdstartc(t)\" data-reactid=\"828\">18.16%</td></tr><tr class=\"data-row48 Bgc($hoverBgColor):h BdT Bdc($seperatorColor) H(33px) Whs(nw)\" data-reactid=\"829\"><td class=\"data-col0 Ta(start) Pstart(10px) Bdstartw(8px) Bdstarts(s) Bdstartc(t) in-the-money_Bdstartc($linkColor)\" data-reactid=\"830\"><a class=\"Fz(s) Ell C($linkColor)\" data-reactid=\"831\" href=\"/quote/AAPL191220C00287500?p=AAPL191220C00287500\">AAPL191220C00287500</a></td><td class=\"data-col1 Ta(end) Pstart(7px)\" data-reactid=\"832\">2019-12-13 3:59PM EST</td><td class=\"data-col2 Ta(end) Pstart(7px)\" data-reactid=\"833\"><a class=\"C($linkColor) Fz(s)\" data-reactid=\"834\" data-symbol=\"AAPL\" href=\"/quote/AAPL/options?strike=287.5&amp;straddle=false\">287.50</a></td><td class=\"data-col3 Ta(end) Pstart(7px)\" data-reactid=\"835\">0.14</td><td class=\"data-col4 Ta(end) Pstart(7px)\" data-reactid=\"836\">0.13</td><td class=\"data-col5 Ta(end) Pstart(7px)\" data-reactid=\"837\">0.15</td><td class=\"data-col6 Ta(end) Pstart(7px)\" data-reactid=\"838\"><span class=\"Trsdu(0.3s) C($dataRed)\" data-reactid=\"839\">-0.02</span></td><td class=\"data-col7 Ta(end) Pstart(7px)\" data-reactid=\"840\"><span class=\"Trsdu(0.3s) C($dataRed)\" data-reactid=\"841\">-12.50%</span></td><td class=\"data-col8 Ta(end) Pstart(7px)\" data-reactid=\"842\">3,000</td><td class=\"data-col9 Ta(end) Pstart(7px)\" data-reactid=\"843\">4,094</td><td class=\"data-col10 Ta(end) Pstart(7px) Pend(6px) Bdstartc(t)\" data-reactid=\"844\">19.09%</td></tr><tr class=\"data-row49 Bgc($hoverBgColor):h BdT Bdc($seperatorColor) H(33px) Bgc($altRowColor) Whs(nw)\" data-reactid=\"845\"><td class=\"data-col0 Ta(start) Pstart(10px) Bdstartw(8px) Bdstarts(s) Bdstartc(t) in-the-money_Bdstartc($linkColor)\" data-reactid=\"846\"><a class=\"Fz(s) Ell C($linkColor)\" data-reactid=\"847\" href=\"/quote/AAPL191220C00290000?p=AAPL191220C00290000\">AAPL191220C00290000</a></td><td class=\"data-col1 Ta(end) Pstart(7px)\" data-reactid=\"848\">2019-12-13 3:59PM EST</td><td class=\"data-col2 Ta(end) Pstart(7px)\" data-reactid=\"849\"><a class=\"C($linkColor) Fz(s)\" data-reactid=\"850\" data-symbol=\"AAPL\" href=\"/quote/AAPL/options?strike=290&amp;straddle=false\">290.00</a></td><td class=\"data-col3 Ta(end) Pstart(7px)\" data-reactid=\"851\">0.08</td><td class=\"data-col4 Ta(end) Pstart(7px)\" data-reactid=\"852\">0.07</td><td class=\"data-col5 Ta(end) Pstart(7px)\" data-reactid=\"853\">0.08</td><td class=\"data-col6 Ta(end) Pstart(7px)\" data-reactid=\"854\"><span class=\"Trsdu(0.3s) C($dataRed)\" data-reactid=\"855\">-0.04</span></td><td class=\"data-col7 Ta(end) Pstart(7px)\" data-reactid=\"856\"><span class=\"Trsdu(0.3s) C($dataRed)\" data-reactid=\"857\">-33.33%</span></td><td class=\"data-col8 Ta(end) Pstart(7px)\" data-reactid=\"858\">3,480</td><td class=\"data-col9 Ta(end) Pstart(7px)\" data-reactid=\"859\">9,212</td><td class=\"data-col10 Ta(end) Pstart(7px) Pend(6px) Bdstartc(t)\" data-reactid=\"860\">19.73%</td></tr><tr class=\"data-row50 Bgc($hoverBgColor):h BdT Bdc($seperatorColor) H(33px) Whs(nw)\" data-reactid=\"861\"><td class=\"data-col0 Ta(start) Pstart(10px) Bdstartw(8px) Bdstarts(s) Bdstartc(t) in-the-money_Bdstartc($linkColor)\" data-reactid=\"862\"><a class=\"Fz(s) Ell C($linkColor)\" data-reactid=\"863\" href=\"/quote/AAPL191220C00292500?p=AAPL191220C00292500\">AAPL191220C00292500</a></td><td class=\"data-col1 Ta(end) Pstart(7px)\" data-reactid=\"864\">2019-12-13 3:58PM EST</td><td class=\"data-col2 Ta(end) Pstart(7px)\" data-reactid=\"865\"><a class=\"C($linkColor) Fz(s)\" data-reactid=\"866\" data-symbol=\"AAPL\" href=\"/quote/AAPL/options?strike=292.5&amp;straddle=false\">292.50</a></td><td class=\"data-col3 Ta(end) Pstart(7px)\" data-reactid=\"867\">0.05</td><td class=\"data-col4 Ta(end) Pstart(7px)\" data-reactid=\"868\">0.04</td><td class=\"data-col5 Ta(end) Pstart(7px)\" data-reactid=\"869\">0.06</td><td class=\"data-col6 Ta(end) Pstart(7px)\" data-reactid=\"870\"><span class=\"Trsdu(0.3s) C($dataRed)\" data-reactid=\"871\">-0.04</span></td><td class=\"data-col7 Ta(end) Pstart(7px)\" data-reactid=\"872\"><span class=\"Trsdu(0.3s) C($dataRed)\" data-reactid=\"873\">-44.44%</span></td><td class=\"data-col8 Ta(end) Pstart(7px)\" data-reactid=\"874\">365</td><td class=\"data-col9 Ta(end) Pstart(7px)\" data-reactid=\"875\">260</td><td class=\"data-col10 Ta(end) Pstart(7px) Pend(6px) Bdstartc(t)\" data-reactid=\"876\">21.39%</td></tr><tr class=\"data-row51 Bgc($hoverBgColor):h BdT Bdc($seperatorColor) H(33px) Bgc($altRowColor) Whs(nw)\" data-reactid=\"877\"><td class=\"data-col0 Ta(start) Pstart(10px) Bdstartw(8px) Bdstarts(s) Bdstartc(t) in-the-money_Bdstartc($linkColor)\" data-reactid=\"878\"><a class=\"Fz(s) Ell C($linkColor)\" data-reactid=\"879\" href=\"/quote/AAPL191220C00295000?p=AAPL191220C00295000\">AAPL191220C00295000</a></td><td class=\"data-col1 Ta(end) Pstart(7px)\" data-reactid=\"880\">2019-12-13 3:59PM EST</td><td class=\"data-col2 Ta(end) Pstart(7px)\" data-reactid=\"881\"><a class=\"C($linkColor) Fz(s)\" data-reactid=\"882\" data-symbol=\"AAPL\" href=\"/quote/AAPL/options?strike=295&amp;straddle=false\">295.00</a></td><td class=\"data-col3 Ta(end) Pstart(7px)\" data-reactid=\"883\">0.03</td><td class=\"data-col4 Ta(end) Pstart(7px)\" data-reactid=\"884\">0.03</td><td class=\"data-col5 Ta(end) Pstart(7px)\" data-reactid=\"885\">0.06</td><td class=\"data-col6 Ta(end) Pstart(7px)\" data-reactid=\"886\"><span class=\"Trsdu(0.3s) C($dataRed)\" data-reactid=\"887\">-0.02</span></td><td class=\"data-col7 Ta(end) Pstart(7px)\" data-reactid=\"888\"><span class=\"Trsdu(0.3s) C($dataRed)\" data-reactid=\"889\">-40.00%</span></td><td class=\"data-col8 Ta(end) Pstart(7px)\" data-reactid=\"890\">1,083</td><td class=\"data-col9 Ta(end) Pstart(7px)\" data-reactid=\"891\">5,982</td><td class=\"data-col10 Ta(end) Pstart(7px) Pend(6px) Bdstartc(t)\" data-reactid=\"892\">23.83%</td></tr><tr class=\"data-row52 Bgc($hoverBgColor):h BdT Bdc($seperatorColor) H(33px) Whs(nw)\" data-reactid=\"893\"><td class=\"data-col0 Ta(start) Pstart(10px) Bdstartw(8px) Bdstarts(s) Bdstartc(t) in-the-money_Bdstartc($linkColor)\" data-reactid=\"894\"><a class=\"Fz(s) Ell C($linkColor)\" data-reactid=\"895\" href=\"/quote/AAPL191220C00297500?p=AAPL191220C00297500\">AAPL191220C00297500</a></td><td class=\"data-col1 Ta(end) Pstart(7px)\" data-reactid=\"896\">2019-12-13 2:57PM EST</td><td class=\"data-col2 Ta(end) Pstart(7px)\" data-reactid=\"897\"><a class=\"C($linkColor) Fz(s)\" data-reactid=\"898\" data-symbol=\"AAPL\" href=\"/quote/AAPL/options?strike=297.5&amp;straddle=false\">297.50</a></td><td class=\"data-col3 Ta(end) Pstart(7px)\" data-reactid=\"899\">0.02</td><td class=\"data-col4 Ta(end) Pstart(7px)\" data-reactid=\"900\">0.00</td><td class=\"data-col5 Ta(end) Pstart(7px)\" data-reactid=\"901\">0.03</td><td class=\"data-col6 Ta(end) Pstart(7px)\" data-reactid=\"902\"><span class=\"Trsdu(0.3s) C($dataRed)\" data-reactid=\"903\">-0.02</span></td><td class=\"data-col7 Ta(end) Pstart(7px)\" data-reactid=\"904\"><span class=\"Trsdu(0.3s) C($dataRed)\" data-reactid=\"905\">-50.00%</span></td><td class=\"data-col8 Ta(end) Pstart(7px)\" data-reactid=\"906\">1,750</td><td class=\"data-col9 Ta(end) Pstart(7px)\" data-reactid=\"907\">393</td><td class=\"data-col10 Ta(end) Pstart(7px) Pend(6px) Bdstartc(t)\" data-reactid=\"908\">24.02%</td></tr><tr class=\"data-row53 Bgc($hoverBgColor):h BdT Bdc($seperatorColor) H(33px) Bgc($altRowColor) Whs(nw)\" data-reactid=\"909\"><td class=\"data-col0 Ta(start) Pstart(10px) Bdstartw(8px) Bdstarts(s) Bdstartc(t) in-the-money_Bdstartc($linkColor)\" data-reactid=\"910\"><a class=\"Fz(s) Ell C($linkColor)\" data-reactid=\"911\" href=\"/quote/AAPL191220C00300000?p=AAPL191220C00300000\">AAPL191220C00300000</a></td><td class=\"data-col1 Ta(end) Pstart(7px)\" data-reactid=\"912\">2019-12-13 3:52PM EST</td><td class=\"data-col2 Ta(end) Pstart(7px)\" data-reactid=\"913\"><a class=\"C($linkColor) Fz(s)\" data-reactid=\"914\" data-symbol=\"AAPL\" href=\"/quote/AAPL/options?strike=300&amp;straddle=false\">300.00</a></td><td class=\"data-col3 Ta(end) Pstart(7px)\" data-reactid=\"915\">0.03</td><td class=\"data-col4 Ta(end) Pstart(7px)\" data-reactid=\"916\">0.01</td><td class=\"data-col5 Ta(end) Pstart(7px)\" data-reactid=\"917\">0.03</td><td class=\"data-col6 Ta(end) Pstart(7px)\" data-reactid=\"918\"><span class=\"Trsdu(0.3s) C($dataGreen)\" data-reactid=\"919\">+0.01</span></td><td class=\"data-col7 Ta(end) Pstart(7px)\" data-reactid=\"920\"><span class=\"Trsdu(0.3s) C($dataGreen)\" data-reactid=\"921\">+50.00%</span></td><td class=\"data-col8 Ta(end) Pstart(7px)\" data-reactid=\"922\">648</td><td class=\"data-col9 Ta(end) Pstart(7px)\" data-reactid=\"923\">8,002</td><td class=\"data-col10 Ta(end) Pstart(7px) Pend(6px) Bdstartc(t)\" data-reactid=\"924\">26.17%</td></tr><tr class=\"data-row54 Bgc($hoverBgColor):h BdT Bdc($seperatorColor) H(33px) Whs(nw)\" data-reactid=\"925\"><td class=\"data-col0 Ta(start) Pstart(10px) Bdstartw(8px) Bdstarts(s) Bdstartc(t) in-the-money_Bdstartc($linkColor)\" data-reactid=\"926\"><a class=\"Fz(s) Ell C($linkColor)\" data-reactid=\"927\" href=\"/quote/AAPL191220C00302500?p=AAPL191220C00302500\">AAPL191220C00302500</a></td><td class=\"data-col1 Ta(end) Pstart(7px)\" data-reactid=\"928\">2019-12-13 3:59PM EST</td><td class=\"data-col2 Ta(end) Pstart(7px)\" data-reactid=\"929\"><a class=\"C($linkColor) Fz(s)\" data-reactid=\"930\" data-symbol=\"AAPL\" href=\"/quote/AAPL/options?strike=302.5&amp;straddle=false\">302.50</a></td><td class=\"data-col3 Ta(end) Pstart(7px)\" data-reactid=\"931\">0.02</td><td class=\"data-col4 Ta(end) Pstart(7px)\" data-reactid=\"932\">0.01</td><td class=\"data-col5 Ta(end) Pstart(7px)\" data-reactid=\"933\">0.03</td><td class=\"data-col6 Ta(end) Pstart(7px)\" data-reactid=\"934\"><span class=\"Trsdu(0.3s) \" data-reactid=\"935\">0.00</span></td><td class=\"data-col7 Ta(end) Pstart(7px)\" data-reactid=\"936\"><span class=\"Trsdu(0.3s) \" data-reactid=\"937\">-</span></td><td class=\"data-col8 Ta(end) Pstart(7px)\" data-reactid=\"938\">141</td><td class=\"data-col9 Ta(end) Pstart(7px)\" data-reactid=\"939\">215</td><td class=\"data-col10 Ta(end) Pstart(7px) Pend(6px) Bdstartc(t)\" data-reactid=\"940\">28.32%</td></tr><tr class=\"data-row55 Bgc($hoverBgColor):h BdT Bdc($seperatorColor) H(33px) Bgc($altRowColor) Whs(nw)\" data-reactid=\"941\"><td class=\"data-col0 Ta(start) Pstart(10px) Bdstartw(8px) Bdstarts(s) Bdstartc(t) in-the-money_Bdstartc($linkColor)\" data-reactid=\"942\"><a class=\"Fz(s) Ell C($linkColor)\" data-reactid=\"943\" href=\"/quote/AAPL191220C00305000?p=AAPL191220C00305000\">AAPL191220C00305000</a></td><td class=\"data-col1 Ta(end) Pstart(7px)\" data-reactid=\"944\">2019-12-13 12:23PM EST</td><td class=\"data-col2 Ta(end) Pstart(7px)\" data-reactid=\"945\"><a class=\"C($linkColor) Fz(s)\" data-reactid=\"946\" data-symbol=\"AAPL\" href=\"/quote/AAPL/options?strike=305&amp;straddle=false\">305.00</a></td><td class=\"data-col3 Ta(end) Pstart(7px)\" data-reactid=\"947\">0.01</td><td class=\"data-col4 Ta(end) Pstart(7px)\" data-reactid=\"948\">0.00</td><td class=\"data-col5 Ta(end) Pstart(7px)\" data-reactid=\"949\">0.05</td><td class=\"data-col6 Ta(end) Pstart(7px)\" data-reactid=\"950\"><span class=\"Trsdu(0.3s) C($dataRed)\" data-reactid=\"951\">-0.01</span></td><td class=\"data-col7 Ta(end) Pstart(7px)\" data-reactid=\"952\"><span class=\"Trsdu(0.3s) C($dataRed)\" data-reactid=\"953\">-50.00%</span></td><td class=\"data-col8 Ta(end) Pstart(7px)\" data-reactid=\"954\">12</td><td class=\"data-col9 Ta(end) Pstart(7px)\" data-reactid=\"955\">7,384</td><td class=\"data-col10 Ta(end) Pstart(7px) Pend(6px) Bdstartc(t)\" data-reactid=\"956\">32.62%</td></tr><tr class=\"data-row56 Bgc($hoverBgColor):h BdT Bdc($seperatorColor) H(33px) Whs(nw)\" data-reactid=\"957\"><td class=\"data-col0 Ta(start) Pstart(10px) Bdstartw(8px) Bdstarts(s) Bdstartc(t) in-the-money_Bdstartc($linkColor)\" data-reactid=\"958\"><a class=\"Fz(s) Ell C($linkColor)\" data-reactid=\"959\" href=\"/quote/AAPL191220C00310000?p=AAPL191220C00310000\">AAPL191220C00310000</a></td><td class=\"data-col1 Ta(end) Pstart(7px)\" data-reactid=\"960\">2019-12-13 3:57PM EST</td><td class=\"data-col2 Ta(end) Pstart(7px)\" data-reactid=\"961\"><a class=\"C($linkColor) Fz(s)\" data-reactid=\"962\" data-symbol=\"AAPL\" href=\"/quote/AAPL/options?strike=310&amp;straddle=false\">310.00</a></td><td class=\"data-col3 Ta(end) Pstart(7px)\" data-reactid=\"963\">0.01</td><td class=\"data-col4 Ta(end) Pstart(7px)\" data-reactid=\"964\">0.01</td><td class=\"data-col5 Ta(end) Pstart(7px)\" data-reactid=\"965\">0.02</td><td class=\"data-col6 Ta(end) Pstart(7px)\" data-reactid=\"966\"><span class=\"Trsdu(0.3s) \" data-reactid=\"967\">0.00</span></td><td class=\"data-col7 Ta(end) Pstart(7px)\" data-reactid=\"968\"><span class=\"Trsdu(0.3s) \" data-reactid=\"969\">-</span></td><td class=\"data-col8 Ta(end) Pstart(7px)\" data-reactid=\"970\">11</td><td class=\"data-col9 Ta(end) Pstart(7px)\" data-reactid=\"971\">10,601</td><td class=\"data-col10 Ta(end) Pstart(7px) Pend(6px) Bdstartc(t)\" data-reactid=\"972\">33.20%</td></tr><tr class=\"data-row57 Bgc($hoverBgColor):h BdT Bdc($seperatorColor) H(33px) Bgc($altRowColor) Whs(nw)\" data-reactid=\"973\"><td class=\"data-col0 Ta(start) Pstart(10px) Bdstartw(8px) Bdstarts(s) Bdstartc(t) in-the-money_Bdstartc($linkColor)\" data-reactid=\"974\"><a class=\"Fz(s) Ell C($linkColor)\" data-reactid=\"975\" href=\"/quote/AAPL191220C00315000?p=AAPL191220C00315000\">AAPL191220C00315000</a></td><td class=\"data-col1 Ta(end) Pstart(7px)\" data-reactid=\"976\">2019-12-13 2:34PM EST</td><td class=\"data-col2 Ta(end) Pstart(7px)\" data-reactid=\"977\"><a class=\"C($linkColor) Fz(s)\" data-reactid=\"978\" data-symbol=\"AAPL\" href=\"/quote/AAPL/options?strike=315&amp;straddle=false\">315.00</a></td><td class=\"data-col3 Ta(end) Pstart(7px)\" data-reactid=\"979\">0.01</td><td class=\"data-col4 Ta(end) Pstart(7px)\" data-reactid=\"980\">0.00</td><td class=\"data-col5 Ta(end) Pstart(7px)\" data-reactid=\"981\">0.02</td><td class=\"data-col6 Ta(end) Pstart(7px)\" data-reactid=\"982\"><span class=\"Trsdu(0.3s) \" data-reactid=\"983\">0.00</span></td><td class=\"data-col7 Ta(end) Pstart(7px)\" data-reactid=\"984\"><span class=\"Trsdu(0.3s) \" data-reactid=\"985\">-</span></td><td class=\"data-col8 Ta(end) Pstart(7px)\" data-reactid=\"986\">1</td><td class=\"data-col9 Ta(end) Pstart(7px)\" data-reactid=\"987\">11,161</td><td class=\"data-col10 Ta(end) Pstart(7px) Pend(6px) Bdstartc(t)\" data-reactid=\"988\">37.11%</td></tr><tr class=\"data-row58 Bgc($hoverBgColor):h BdT Bdc($seperatorColor) H(33px) Whs(nw)\" data-reactid=\"989\"><td class=\"data-col0 Ta(start) Pstart(10px) Bdstartw(8px) Bdstarts(s) Bdstartc(t) in-the-money_Bdstartc($linkColor)\" data-reactid=\"990\"><a class=\"Fz(s) Ell C($linkColor)\" data-reactid=\"991\" href=\"/quote/AAPL191220C00320000?p=AAPL191220C00320000\">AAPL191220C00320000</a></td><td class=\"data-col1 Ta(end) Pstart(7px)\" data-reactid=\"992\">2019-12-10 1:15PM EST</td><td class=\"data-col2 Ta(end) Pstart(7px)\" data-reactid=\"993\"><a class=\"C($linkColor) Fz(s)\" data-reactid=\"994\" data-symbol=\"AAPL\" href=\"/quote/AAPL/options?strike=320&amp;straddle=false\">320.00</a></td><td class=\"data-col3 Ta(end) Pstart(7px)\" data-reactid=\"995\">0.01</td><td class=\"data-col4 Ta(end) Pstart(7px)\" data-reactid=\"996\">0.00</td><td class=\"data-col5 Ta(end) Pstart(7px)\" data-reactid=\"997\">0.01</td><td class=\"data-col6 Ta(end) Pstart(7px)\" data-reactid=\"998\"><span class=\"Trsdu(0.3s) \" data-reactid=\"999\">0.00</span></td><td class=\"data-col7 Ta(end) Pstart(7px)\" data-reactid=\"1000\"><span class=\"Trsdu(0.3s) \" data-reactid=\"1001\">-</span></td><td class=\"data-col8 Ta(end) Pstart(7px)\" data-reactid=\"1002\">50</td><td class=\"data-col9 Ta(end) Pstart(7px)\" data-reactid=\"1003\">7,040</td><td class=\"data-col10 Ta(end) Pstart(7px) Pend(6px) Bdstartc(t)\" data-reactid=\"1004\">38.28%</td></tr><tr class=\"data-row59 Bgc($hoverBgColor):h BdT Bdc($seperatorColor) H(33px) Bgc($altRowColor) Whs(nw)\" data-reactid=\"1005\"><td class=\"data-col0 Ta(start) Pstart(10px) Bdstartw(8px) Bdstarts(s) Bdstartc(t) in-the-money_Bdstartc($linkColor)\" data-reactid=\"1006\"><a class=\"Fz(s) Ell C($linkColor)\" data-reactid=\"1007\" href=\"/quote/AAPL191220C00325000?p=AAPL191220C00325000\">AAPL191220C00325000</a></td><td class=\"data-col1 Ta(end) Pstart(7px)\" data-reactid=\"1008\">2019-12-09 11:59AM EST</td><td class=\"data-col2 Ta(end) Pstart(7px)\" data-reactid=\"1009\"><a class=\"C($linkColor) Fz(s)\" data-reactid=\"1010\" data-symbol=\"AAPL\" href=\"/quote/AAPL/options?strike=325&amp;straddle=false\">325.00</a></td><td class=\"data-col3 Ta(end) Pstart(7px)\" data-reactid=\"1011\">0.01</td><td class=\"data-col4 Ta(end) Pstart(7px)\" data-reactid=\"1012\">0.00</td><td class=\"data-col5 Ta(end) Pstart(7px)\" data-reactid=\"1013\">0.01</td><td class=\"data-col6 Ta(end) Pstart(7px)\" data-reactid=\"1014\"><span class=\"Trsdu(0.3s) \" data-reactid=\"1015\">0.00</span></td><td class=\"data-col7 Ta(end) Pstart(7px)\" data-reactid=\"1016\"><span class=\"Trsdu(0.3s) \" data-reactid=\"1017\">-</span></td><td class=\"data-col8 Ta(end) Pstart(7px)\" data-reactid=\"1018\">2</td><td class=\"data-col9 Ta(end) Pstart(7px)\" data-reactid=\"1019\">5,625</td><td class=\"data-col10 Ta(end) Pstart(7px) Pend(6px) Bdstartc(t)\" data-reactid=\"1020\">41.41%</td></tr><tr class=\"data-row60 Bgc($hoverBgColor):h BdT Bdc($seperatorColor) H(33px) Whs(nw)\" data-reactid=\"1021\"><td class=\"data-col0 Ta(start) Pstart(10px) Bdstartw(8px) Bdstarts(s) Bdstartc(t) in-the-money_Bdstartc($linkColor)\" data-reactid=\"1022\"><a class=\"Fz(s) Ell C($linkColor)\" data-reactid=\"1023\" href=\"/quote/AAPL191220C00330000?p=AAPL191220C00330000\">AAPL191220C00330000</a></td><td class=\"data-col1 Ta(end) Pstart(7px)\" data-reactid=\"1024\">2019-11-29 11:38AM EST</td><td class=\"data-col2 Ta(end) Pstart(7px)\" data-reactid=\"1025\"><a class=\"C($linkColor) Fz(s)\" data-reactid=\"1026\" data-symbol=\"AAPL\" href=\"/quote/AAPL/options?strike=330&amp;straddle=false\">330.00</a></td><td class=\"data-col3 Ta(end) Pstart(7px)\" data-reactid=\"1027\">0.01</td><td class=\"data-col4 Ta(end) Pstart(7px)\" data-reactid=\"1028\">0.00</td><td class=\"data-col5 Ta(end) Pstart(7px)\" data-reactid=\"1029\">0.01</td><td class=\"data-col6 Ta(end) Pstart(7px)\" data-reactid=\"1030\"><span class=\"Trsdu(0.3s) \" data-reactid=\"1031\">0.00</span></td><td class=\"data-col7 Ta(end) Pstart(7px)\" data-reactid=\"1032\"><span class=\"Trsdu(0.3s) \" data-reactid=\"1033\">-</span></td><td class=\"data-col8 Ta(end) Pstart(7px)\" data-reactid=\"1034\">46</td><td class=\"data-col9 Ta(end) Pstart(7px)\" data-reactid=\"1035\">952</td><td class=\"data-col10 Ta(end) Pstart(7px) Pend(6px) Bdstartc(t)\" data-reactid=\"1036\">45.31%</td></tr><tr class=\"data-row61 Bgc($hoverBgColor):h BdT Bdc($seperatorColor) H(33px) Bgc($altRowColor) Whs(nw)\" data-reactid=\"1037\"><td class=\"data-col0 Ta(start) Pstart(10px) Bdstartw(8px) Bdstarts(s) Bdstartc(t) in-the-money_Bdstartc($linkColor)\" data-reactid=\"1038\"><a class=\"Fz(s) Ell C($linkColor)\" data-reactid=\"1039\" href=\"/quote/AAPL191220C00335000?p=AAPL191220C00335000\">AAPL191220C00335000</a></td><td class=\"data-col1 Ta(end) Pstart(7px)\" data-reactid=\"1040\">2019-12-04 10:54AM EST</td><td class=\"data-col2 Ta(end) Pstart(7px)\" data-reactid=\"1041\"><a class=\"C($linkColor) Fz(s)\" data-reactid=\"1042\" data-symbol=\"AAPL\" href=\"/quote/AAPL/options?strike=335&amp;straddle=false\">335.00</a></td><td class=\"data-col3 Ta(end) Pstart(7px)\" data-reactid=\"1043\">0.01</td><td class=\"data-col4 Ta(end) Pstart(7px)\" data-reactid=\"1044\">0.00</td><td class=\"data-col5 Ta(end) Pstart(7px)\" data-reactid=\"1045\">0.01</td><td class=\"data-col6 Ta(end) Pstart(7px)\" data-reactid=\"1046\"><span class=\"Trsdu(0.3s) \" data-reactid=\"1047\">0.00</span></td><td class=\"data-col7 Ta(end) Pstart(7px)\" data-reactid=\"1048\"><span class=\"Trsdu(0.3s) \" data-reactid=\"1049\">-</span></td><td class=\"data-col8 Ta(end) Pstart(7px)\" data-reactid=\"1050\">50</td><td class=\"data-col9 Ta(end) Pstart(7px)\" data-reactid=\"1051\">640</td><td class=\"data-col10 Ta(end) Pstart(7px) Pend(6px) Bdstartc(t)\" data-reactid=\"1052\">48.44%</td></tr></tbody></table>"
            ]
          },
          "metadata": {
            "tags": []
          },
          "execution_count": 15
        }
      ]
    },
    {
      "cell_type": "markdown",
      "metadata": {
        "id": "j9Cs8x9R3h3I",
        "colab_type": "text"
      },
      "source": [
        "---\n",
        "Допустим, что нам необходимо получить несколько элементов с одинаковым тегом, например, все строки `<tr>`. Для этого может быть использован такой синтаксис:\n",
        "\n",
        "---"
      ]
    },
    {
      "cell_type": "code",
      "metadata": {
        "id": "kso46zTD3h3J",
        "colab_type": "code",
        "colab": {}
      },
      "source": [
        "rows = page.body.table.findAll('tr')\n",
        "rows"
      ],
      "execution_count": 0,
      "outputs": []
    },
    {
      "cell_type": "code",
      "metadata": {
        "id": "SinX7-pa3h3N",
        "colab_type": "code",
        "outputId": "30e60f1c-8099-4a52-f7a6-bc944a953183",
        "colab": {
          "base_uri": "https://localhost:8080/",
          "height": 35
        }
      },
      "source": [
        "len(rows)"
      ],
      "execution_count": 0,
      "outputs": [
        {
          "output_type": "execute_result",
          "data": {
            "text/plain": [
              "63"
            ]
          },
          "metadata": {
            "tags": []
          },
          "execution_count": 17
        }
      ]
    },
    {
      "cell_type": "markdown",
      "metadata": {
        "id": "phXDP8JY3h3U",
        "colab_type": "text"
      },
      "source": [
        "---\n",
        "Мы видим, что список не пуст. Так что по нему можно пройти циклом.\n",
        "\n",
        "---"
      ]
    },
    {
      "cell_type": "code",
      "metadata": {
        "id": "1eyr8ecd3h3X",
        "colab_type": "code",
        "colab": {}
      },
      "source": [
        "for i, row in enumerate(rows):\n",
        "    print(i)\n",
        "    print(row)"
      ],
      "execution_count": 0,
      "outputs": []
    },
    {
      "cell_type": "markdown",
      "metadata": {
        "id": "ga0_qBTt3h3c",
        "colab_type": "text"
      },
      "source": [
        "---\n",
        "У нас есть строчки и каждая из них является таким же объектом BeautifulSoup, как и все предыдущие. Так что к ним можно применить конструкцию row.td\n",
        "\n",
        "---"
      ]
    },
    {
      "cell_type": "code",
      "metadata": {
        "id": "RlgD71b73h3d",
        "colab_type": "code",
        "colab": {}
      },
      "source": [
        "for i, row in enumerate(rows):\n",
        "    print(i)\n",
        "    print(row.td)"
      ],
      "execution_count": 0,
      "outputs": []
    },
    {
      "cell_type": "markdown",
      "metadata": {
        "id": "Bw-NirzK3h3g",
        "colab_type": "text"
      },
      "source": [
        "---\n",
        "Мы видим, что если внутри тега `<row>` есть несколько тегов `<td>`, то row.td возьмет первый из них. Поэтому мы получили первый столбец. Но нас интересует не сам тег `<td>`, а строка, которая там лежит. Её можно напечатать вот так.\n",
        "\n",
        "---"
      ]
    },
    {
      "cell_type": "code",
      "metadata": {
        "id": "_lPnJTif3h3h",
        "colab_type": "code",
        "colab": {}
      },
      "source": [
        "del rows[0] # предварительно удалим первый элемент, т.к. он пуст\n",
        "for i, row in enumerate(rows):\n",
        "    print(i)\n",
        "    print(row.td.string)"
      ],
      "execution_count": 0,
      "outputs": []
    },
    {
      "cell_type": "markdown",
      "metadata": {
        "id": "YaX1jnUE3h3k",
        "colab_type": "text"
      },
      "source": [
        "---\n",
        "Давайте загрузим таблицу в виде списка списков\n",
        "\n",
        "---"
      ]
    },
    {
      "cell_type": "code",
      "metadata": {
        "id": "Jgh7R4qQ3h3l",
        "colab_type": "code",
        "colab": {}
      },
      "source": [
        "table = []\n",
        "for i, row in enumerate(rows):\n",
        "    table.append([])\n",
        "    for cell in row.findAll('td'):\n",
        "        table[-1].append(cell.string)\n",
        "print(table)"
      ],
      "execution_count": 0,
      "outputs": []
    },
    {
      "cell_type": "markdown",
      "metadata": {
        "id": "yl_asxBj3h3o",
        "colab_type": "text"
      },
      "source": [
        "---\n",
        "Можно написать короче:\n",
        "\n",
        "---"
      ]
    },
    {
      "cell_type": "code",
      "metadata": {
        "id": "d_yv7Nye3h3p",
        "colab_type": "code",
        "outputId": "b53abdd7-6078-472e-b274-816f9aad580c",
        "colab": {
          "base_uri": "https://localhost:8080/",
          "height": 55
        }
      },
      "source": [
        "table = [[cell.string.strip() for cell in row('td')] \n",
        "         for row in rows]\n",
        "print(table)"
      ],
      "execution_count": 0,
      "outputs": [
        {
          "output_type": "stream",
          "text": [
            "[['AAPL191220C00100000', '2019-12-04 10:40AM EST', '100.00', '173.10', '173.15', '176.95', '+3.45', '+2.03%', '4', '62', '432.42%'], ['AAPL191220C00105000', '2019-12-09 12:24PM EST', '105.00', '168.10', '168.15', '171.95', '+3.45', '+2.10%', '6', '1', '413.38%'], ['AAPL191220C00110000', '2019-12-12 3:38PM EST', '110.00', '163.85', '163.15', '166.95', '+2.65', '+1.64%', '2', '3', '395.31%'], ['AAPL191220C00115000', '2019-11-06 3:15PM EST', '115.00', '141.62', '153.40', '157.85', '0.00', '-', '3', '1', '0.00%'], ['AAPL191220C00120000', '2019-11-07 9:46AM EST', '120.00', '138.60', '148.50', '152.85', '0.00', '-', '13', '13', '0.00%'], ['AAPL191220C00125000', '2019-11-21 11:46AM EST', '125.00', '137.19', '148.15', '151.90', '0.00', '-', '1', '1', '343.65%'], ['AAPL191220C00130000', '2019-11-06 3:25PM EST', '130.00', '126.17', '138.50', '142.90', '0.00', '-', '10', '8', '0.00%'], ['AAPL191220C00135000', '2019-12-06 11:34AM EST', '135.00', '135.00', '138.15', '141.90', '0.00', '-', '6', '18', '313.97%'], ['AAPL191220C00140000', '2019-12-13 12:08PM EST', '140.00', '134.00', '133.15', '136.95', '+5.23', '+4.06%', '2', '7', '301.66%'], ['AAPL191220C00145000', '2019-12-09 12:16PM EST', '145.00', '120.48', '128.15', '131.95', '0.00', '-', '22', '2', '288.04%'], ['AAPL191220C00150000', '2019-12-13 9:43AM EST', '150.00', '123.50', '123.50', '126.90', '+9.95', '+8.76%', '2', '6', '162.50%'], ['AAPL191220C00155000', '2019-11-06 3:28PM EST', '155.00', '101.50', '113.70', '117.90', '0.00', '-', '17', '0', '0.00%'], ['AAPL191220C00160000', '2019-11-26 10:33AM EST', '160.00', '111.55', '113.15', '116.95', '0.00', '-', '24', '34', '249.71%'], ['AAPL191220C00165000', '2019-11-27 1:56PM EST', '165.00', '101.85', '108.15', '111.95', '0.00', '-', '2', '19', '237.70%'], ['AAPL191220C00170000', '2019-12-13 3:40PM EST', '170.00', '104.95', '103.15', '106.90', '+5.05', '+5.06%', '1', '481', '224.61%'], ['AAPL191220C00175000', '2019-12-13 2:32PM EST', '175.00', '98.64', '98.15', '102.00', '+4.67', '+4.97%', '3', '29', '215.92%'], ['AAPL191220C00180000', '2019-12-13 2:56PM EST', '180.00', '94.45', '93.15', '96.95', '+4.38', '+4.86%', '6', '55', '203.47%'], ['AAPL191220C00185000', '2019-12-10 2:53PM EST', '185.00', '84.40', '88.15', '91.95', '0.00', '-', '1', '58', '192.58%'], ['AAPL191220C00190000', '2019-12-06 9:30AM EST', '190.00', '77.80', '83.15', '86.95', '0.00', '-', '6', '71', '181.98%'], ['AAPL191220C00195000', '2019-12-13 12:06PM EST', '195.00', '79.16', '78.15', '82.00', '+3.98', '+5.29%', '2', '29', '172.66%'], ['AAPL191220C00200000', '2019-12-13 3:37PM EST', '200.00', '74.95', '73.15', '77.00', '+4.15', '+5.86%', '40', '330', '162.40%'], ['AAPL191220C00205000', '2019-12-13 3:53PM EST', '205.00', '70.20', '68.20', '71.90', '+5.02', '+7.70%', '3', '397', '150.29%'], ['AAPL191220C00210000', '2019-12-13 3:46PM EST', '210.00', '65.10', '63.20', '65.70', '+4.24', '+6.97%', '8', '1,366', '109.77%'], ['AAPL191220C00215000', '2019-12-13 3:15PM EST', '215.00', '59.60', '58.20', '61.70', '+5.11', '+9.38%', '30', '2,632', '126.88%'], ['AAPL191220C00220000', '2019-12-13 3:35PM EST', '220.00', '55.01', '53.20', '55.55', '+6.11', '+12.49%', '45', '12,364', '88.38%'], ['AAPL191220C00225000', '2019-12-13 3:49PM EST', '225.00', '50.15', '48.20', '50.55', '+5.17', '+11.49%', '111', '3,282', '80.86%'], ['AAPL191220C00230000', '2019-12-13 3:59PM EST', '230.00', '45.35', '43.20', '45.55', '+3.60', '+8.62%', '133', '7,233', '73.39%'], ['AAPL191220C00235000', '2019-12-13 3:50PM EST', '235.00', '40.30', '40.00', '41.45', '+3.70', '+10.11%', '101', '13,662', '71.00%'], ['AAPL191220C00237500', '2019-12-12 2:58PM EST', '237.50', '32.60', '35.75', '39.20', '0.00', '-', '2', '21', '85.45%'], ['AAPL191220C00240000', '2019-12-13 3:56PM EST', '240.00', '35.32', '35.00', '35.90', '+4.77', '+15.61%', '851', '7,395', '55.57%'], ['AAPL191220C00242500', '2019-12-13 9:51AM EST', '242.50', '30.75', '32.50', '34.50', '+1.75', '+6.03%', '11', '82', '65.06%'], ['AAPL191220C00245000', '2019-12-13 3:55PM EST', '245.00', '30.36', '30.00', '30.50', '+3.66', '+13.71%', '158', '9,571', '50.05%'], ['AAPL191220C00247500', '2019-12-13 1:03PM EST', '247.50', '27.50', '27.60', '28.60', '+3.30', '+13.64%', '38', '118', '58.55%'], ['AAPL191220C00250000', '2019-12-13 3:58PM EST', '250.00', '25.50', '25.15', '25.70', '+3.65', '+16.70%', '704', '16,381', '47.36%'], ['AAPL191220C00252500', '2019-12-13 3:30PM EST', '252.50', '22.65', '22.65', '23.60', '+3.25', '+16.75%', '49', '248', '50.12%'], ['AAPL191220C00255000', '2019-12-13 3:59PM EST', '255.00', '20.60', '20.20', '21.60', '+3.65', '+21.53%', '605', '11,630', '52.27%'], ['AAPL191220C00257500', '2019-12-13 3:39PM EST', '257.50', '17.81', '17.75', '18.25', '+3.31', '+22.83%', '299', '1,396', '36.52%'], ['AAPL191220C00260000', '2019-12-13 3:58PM EST', '260.00', '15.65', '15.25', '16.00', '+3.40', '+27.76%', '2,785', '38,653', '35.99%'], ['AAPL191220C00262500', '2019-12-13 3:57PM EST', '262.50', '13.20', '12.80', '13.30', '+3.23', '+32.40%', '482', '2,245', '29.10%'], ['AAPL191220C00265000', '2019-12-13 3:59PM EST', '265.00', '10.90', '10.65', '10.95', '+3.18', '+41.19%', '2,445', '15,404', '26.64%'], ['AAPL191220C00267500', '2019-12-13 3:59PM EST', '267.50', '8.52', '8.45', '8.60', '+2.74', '+47.40%', '6,338', '7,227', '23.56%'], ['AAPL191220C00270000', '2019-12-13 3:59PM EST', '270.00', '6.45', '6.35', '6.50', '+2.25', '+53.57%', '12,843', '16,890', '21.95%'], ['AAPL191220C00272500', '2019-12-13 3:59PM EST', '272.50', '4.50', '4.50', '4.60', '+1.68', '+59.57%', '16,667', '8,106', '20.46%'], ['AAPL191220C00275000', '2019-12-13 3:59PM EST', '275.00', '2.94', '2.90', '3.00', '+1.12', '+61.54%', '43,860', '23,175', '19.24%'], ['AAPL191220C00277500', '2019-12-13 3:59PM EST', '277.50', '1.76', '1.74', '1.77', '+0.67', '+61.47%', '18,310', '7,391', '18.26%'], ['AAPL191220C00280000', '2019-12-13 3:59PM EST', '280.00', '0.95', '0.93', '0.96', '+0.29', '+43.94%', '18,836', '11,199', '17.77%'], ['AAPL191220C00282500', '2019-12-13 3:59PM EST', '282.50', '0.48', '0.48', '0.50', '+0.09', '+23.08%', '7,220', '4,571', '17.80%'], ['AAPL191220C00285000', '2019-12-13 3:59PM EST', '285.00', '0.26', '0.24', '0.26', '+0.01', '+4.00%', '8,636', '13,394', '18.16%'], ['AAPL191220C00287500', '2019-12-13 3:59PM EST', '287.50', '0.14', '0.13', '0.15', '-0.02', '-12.50%', '3,000', '4,094', '19.09%'], ['AAPL191220C00290000', '2019-12-13 3:59PM EST', '290.00', '0.08', '0.07', '0.08', '-0.04', '-33.33%', '3,480', '9,212', '19.73%'], ['AAPL191220C00292500', '2019-12-13 3:58PM EST', '292.50', '0.05', '0.04', '0.06', '-0.04', '-44.44%', '365', '260', '21.39%'], ['AAPL191220C00295000', '2019-12-13 3:59PM EST', '295.00', '0.03', '0.03', '0.06', '-0.02', '-40.00%', '1,083', '5,982', '23.83%'], ['AAPL191220C00297500', '2019-12-13 2:57PM EST', '297.50', '0.02', '0.00', '0.03', '-0.02', '-50.00%', '1,750', '393', '24.02%'], ['AAPL191220C00300000', '2019-12-13 3:52PM EST', '300.00', '0.03', '0.01', '0.03', '+0.01', '+50.00%', '648', '8,002', '26.17%'], ['AAPL191220C00302500', '2019-12-13 3:59PM EST', '302.50', '0.02', '0.01', '0.03', '0.00', '-', '141', '215', '28.32%'], ['AAPL191220C00305000', '2019-12-13 12:23PM EST', '305.00', '0.01', '0.00', '0.05', '-0.01', '-50.00%', '12', '7,384', '32.62%'], ['AAPL191220C00310000', '2019-12-13 3:57PM EST', '310.00', '0.01', '0.01', '0.02', '0.00', '-', '11', '10,601', '33.20%'], ['AAPL191220C00315000', '2019-12-13 2:34PM EST', '315.00', '0.01', '0.00', '0.02', '0.00', '-', '1', '11,161', '37.11%'], ['AAPL191220C00320000', '2019-12-10 1:15PM EST', '320.00', '0.01', '0.00', '0.01', '0.00', '-', '50', '7,040', '38.28%'], ['AAPL191220C00325000', '2019-12-09 11:59AM EST', '325.00', '0.01', '0.00', '0.01', '0.00', '-', '2', '5,625', '41.41%'], ['AAPL191220C00330000', '2019-11-29 11:38AM EST', '330.00', '0.01', '0.00', '0.01', '0.00', '-', '46', '952', '45.31%'], ['AAPL191220C00335000', '2019-12-04 10:54AM EST', '335.00', '0.01', '0.00', '0.01', '0.00', '-', '50', '640', '48.44%']]\n"
          ],
          "name": "stdout"
        }
      ]
    },
    {
      "cell_type": "code",
      "metadata": {
        "id": "u9GQed2d3h3s",
        "colab_type": "code",
        "colab": {}
      },
      "source": [
        "import pandas as pd\n",
        "dt = pd.DataFrame(table)\n",
        "dt"
      ],
      "execution_count": 0,
      "outputs": []
    },
    {
      "cell_type": "markdown",
      "metadata": {
        "id": "-m38231U3h3v",
        "colab_type": "text"
      },
      "source": [
        "### Поиск данных на HTML-странице\n",
        "\n",
        "\n",
        "Заметим, что в Википедии встречаются ссылки двух типов: внутренние (на другие страницы Википедии) и внешние (на другие сайты), причём они различаются по оформлению — у внешних ссылок есть небольшая стрелочка. Например, мы хотим выбрать все внешние ссылки. Как это сделать?\n",
        "\n",
        "\n",
        "Для того, чтобы браузер отображал внешние ссылки не так, как внутренние, разработчики Википедии используют так называемые css-классы (конечно, это касается не только Википедии — это вообще основной инструмент современного веба). Теги `<a>`, соответствующие внешним ссылкам, имеют специальный атрибут `class`, значение которого включает слово `external`. Именно по нему можно понять, что речь идёт о внешней ссылке. Это можно было бы увидеть, изучив исходный код страницы, но можно сделать проще: воспользоваться встроенным в браузер инспектором кода.\n",
        "\n",
        "\n",
        "В исходном коде в атрибуте class тега `<a>` указана строчка \"external text\", а не просто \"external\" — дело в том, что теги могут иметь сразу несколько классов одновременно, и в данном случае external и text — это два класса данной ссылки. Но мы будем ориентироваться только на external.\n",
        "\n",
        "Итак, мы хотим найти все ссылки с классом external. Это очень просто."
      ]
    },
    {
      "cell_type": "code",
      "metadata": {
        "id": "6BCFzbiO3h3w",
        "colab_type": "code",
        "colab": {}
      },
      "source": [
        "from bs4 import BeautifulSoup\n",
        "import requests"
      ],
      "execution_count": 0,
      "outputs": []
    },
    {
      "cell_type": "code",
      "metadata": {
        "id": "cTzgFBvR3h3z",
        "colab_type": "code",
        "colab": {}
      },
      "source": [
        "url = \"https://ru.wikipedia.org/w/index.php?oldid=75475510\""
      ],
      "execution_count": 0,
      "outputs": []
    },
    {
      "cell_type": "code",
      "metadata": {
        "id": "ePNyxHNI3h32",
        "colab_type": "code",
        "colab": {}
      },
      "source": [
        "req = requests.get(url)"
      ],
      "execution_count": 0,
      "outputs": []
    },
    {
      "cell_type": "code",
      "metadata": {
        "id": "UZalVIHd3h37",
        "colab_type": "code",
        "outputId": "9cf2558c-340d-4166-9b71-65e3a2cbf71e",
        "colab": {
          "base_uri": "https://localhost:8080/",
          "height": 35
        }
      },
      "source": [
        "req.ok"
      ],
      "execution_count": 0,
      "outputs": [
        {
          "output_type": "execute_result",
          "data": {
            "text/plain": [
              "True"
            ]
          },
          "metadata": {
            "tags": []
          },
          "execution_count": 28
        }
      ]
    },
    {
      "cell_type": "code",
      "metadata": {
        "id": "g9pbroq83h3-",
        "colab_type": "code",
        "colab": {}
      },
      "source": [
        "page = BeautifulSoup(req.text, \"html.parser\")"
      ],
      "execution_count": 0,
      "outputs": []
    },
    {
      "cell_type": "code",
      "metadata": {
        "id": "0g1WAzA73h4C",
        "colab_type": "code",
        "colab": {}
      },
      "source": [
        "for link in page.findAll(\"a\", class_='external'):\n",
        "    print(link['href'])"
      ],
      "execution_count": 0,
      "outputs": []
    },
    {
      "cell_type": "markdown",
      "metadata": {
        "id": "Gr88lIha3h4F",
        "colab_type": "text"
      },
      "source": [
        "Как видно из примера выше, достаточно методу `findAll()` передать дополнительный именованный параметр `class_` — обратите внимание на нижнее подчёркивание, без него получится синтаксическая ошибка, потому что слово `class` имеет специальный смысл в Python.\n",
        "\n",
        "### Классы и поиск по дереву\n",
        "Решим теперь другую задачу: допустим, мы хотим найти все ссылки в разделе «Примечания», где находятся сноски к основному тексту. С помощью инспектора кода в Firefox (или аналогичных инструментов для других браузеров) мы легко можем заметить, что весь этот раздел находится внутри тега `<div>` (этот тег описывает прямоугольные блоки, из которых состоят веб-страницы, и является основным тегом для современной веб-вёрстки), имеющем класс `reflist columns reflist-narrow`."
      ]
    },
    {
      "cell_type": "code",
      "metadata": {
        "id": "_npGw1Ll3h4G",
        "colab_type": "code",
        "colab": {}
      },
      "source": [
        "divs = page.findAll('div', class_='reflist columns reflist-narrow')"
      ],
      "execution_count": 0,
      "outputs": []
    },
    {
      "cell_type": "code",
      "metadata": {
        "id": "CCmYAWRW3h4J",
        "colab_type": "code",
        "outputId": "4c71faef-41cc-495c-eea7-c56673563a71",
        "colab": {
          "base_uri": "https://localhost:8080/",
          "height": 35
        }
      },
      "source": [
        "len(divs)"
      ],
      "execution_count": 0,
      "outputs": [
        {
          "output_type": "execute_result",
          "data": {
            "text/plain": [
              "1"
            ]
          },
          "metadata": {
            "tags": []
          },
          "execution_count": 32
        }
      ]
    },
    {
      "cell_type": "markdown",
      "metadata": {
        "id": "LQ89EDP73h4M",
        "colab_type": "text"
      },
      "source": [
        "---\n",
        "Такой `<div>` оказался единственным на странице. Найдём теперь все теги `<a>`, являющиеся потомками (возможно, отдалёнными) этого `<div>`'а.\n",
        "\n",
        "---"
      ]
    },
    {
      "cell_type": "code",
      "metadata": {
        "id": "1MmXMDVZ3h4N",
        "colab_type": "code",
        "outputId": "5e05c822-54f0-4fa6-ead5-b287a6ab4091",
        "colab": {
          "base_uri": "https://localhost:8080/",
          "height": 372
        }
      },
      "source": [
        "div = page.findAll('div', class_='reflist columns reflist-narrow')[0]\n",
        "for link in div(\"a\")[0:20]:\n",
        "    print(link['href'])"
      ],
      "execution_count": 0,
      "outputs": [
        {
          "output_type": "stream",
          "text": [
            "#cite_ref-_26cc6ad5c5a3baa3_1-0\n",
            "#CITEREFЛесскис1999\n",
            "#cite_ref-_6e637976a425c02e_2-0\n",
            "#cite_ref-_6e637976a425c02e_2-1\n",
            "#CITEREFЛосев1993\n",
            "#cite_ref-_26cc6ad5c5a3baa4_3-0\n",
            "#CITEREFЛесскис1999\n",
            "#cite_ref-_a0952ae4a2ede05b_4-0\n",
            "#CITEREFЧудакова1988\n",
            "#cite_ref-_a0952ae4a2ede05a_5-0\n",
            "#CITEREFЧудакова1988\n",
            "#cite_ref-_5f91aa316898efa5_6-0\n",
            "#cite_ref-_5f91aa316898efa5_6-1\n",
            "#cite_ref-_5f91aa316898efa5_6-2\n",
            "#CITEREFСоколов1997\n",
            "#cite_ref-_a0952be4a2ede229_7-0\n",
            "#CITEREFЧудакова1988\n",
            "#cite_ref-8\n",
            "/wiki/%D0%A1%D0%BB%D1%83%D0%B6%D0%B5%D0%B1%D0%BD%D0%B0%D1%8F:%D0%98%D1%81%D1%82%D0%BE%D1%87%D0%BD%D0%B8%D0%BA%D0%B8_%D0%BA%D0%BD%D0%B8%D0%B3/9785986970592\n",
            "#cite_ref-9\n"
          ],
          "name": "stdout"
        }
      ]
    },
    {
      "cell_type": "markdown",
      "metadata": {
        "id": "BNtPBxX_3h4Q",
        "colab_type": "text"
      },
      "source": [
        "---\n",
        "Для экономии места вывеведены только первые 20 ссылок. Это внутренние ссылки на другие фрагменты страницы, поэтому они начинаются с символа `#`.\n",
        "\n",
        "---\n",
        "\n",
        "**Подведём некоторые итоги по поводу поиска информации в HTML-файлах:**\n",
        "\n",
        "- Это всегда творческий процесс: все сайты разные и нет единого рецепта, как извлекать из них нужную информацию.\n",
        "- В первую очередь нужно посмотреть в исходник интересующей вас странички. Проще всего это делать с помощью инструментария веб-разработчика типа Firebug или встроенного инспектора кода в Firefox или аналогичных инструментов для других браузеров.\n",
        "- В HTML-дереве можно ориентироваться по названиям тегов, их классам, id'ам и другим свойствам.\n",
        "- Можно искать нужный элемент итеративно — сначала найти «большой» тег, который включает наш элемент, потом найти в нём элемент поменьше и т.д."
      ]
    },
    {
      "cell_type": "markdown",
      "metadata": {
        "id": "s1MNyUJH3h4S",
        "colab_type": "text"
      },
      "source": [
        "### API и XML\n",
        "\n",
        "Анализируя веб-страницы и извлекая из них информацию мы пытаемся написать программу, которая бы действовала как человек. Это бывает непросто. К счастью, всё чаще разнообразные сайты предлагают информацию, которую может легко обрабатывать не только человек, но и другая программа. Это называется API — application program interface. Обычный интерфейс — это способ взаимодействия человека с программой, а API — одной программы с другой. Например, вашего скрипта на Python с удалённым веб-сервером.\n",
        "\n",
        "Для хранения веб-страниц, которые читают люди, используется язык HTML. Для хранения произвольных структурированных данных, которыми обмениваются между собой программы, используются другие языки — в частности, язык XML, похожий на HTML. Вернее было бы сказать, что XML это метаязык, то есть способ описания языков. В отличие от HTML, набор тегов в XML-документе может быть произвольным (и определяется разработчиком конкретного диалекта XML). Например, если бы мы хотели описать в виде XML некоторую студенческую группу, это могло бы выглядеть так:"
      ]
    },
    {
      "cell_type": "code",
      "metadata": {
        "id": "7xUYC_GJ3h4S",
        "colab_type": "code",
        "colab": {}
      },
      "source": [
        "group = \"\"\"<group>\n",
        "<number>134</number>\n",
        "<student>\n",
        "<firstname>Виталий</firstname>\n",
        "<lastname>Иванов</lastname>\n",
        "</student>\n",
        "<student>\n",
        "<firstname>Мария</firstname>\n",
        "<lastname>Петрова</lastname>\n",
        "</student>\n",
        "</group>\"\"\""
      ],
      "execution_count": 0,
      "outputs": []
    },
    {
      "cell_type": "code",
      "metadata": {
        "id": "nvMZF3fj3h4V",
        "colab_type": "code",
        "colab": {}
      },
      "source": [
        "obj = BeautifulSoup(group, features=\"xml\")\n",
        "print(obj.prettify())"
      ],
      "execution_count": 0,
      "outputs": []
    },
    {
      "cell_type": "markdown",
      "metadata": {
        "id": "H_x5aZ2H3h4X",
        "colab_type": "text"
      },
      "source": [
        "Вот так мы можем найти в нашем XML-документе номер группы:"
      ]
    },
    {
      "cell_type": "code",
      "metadata": {
        "id": "weYFKQai3h4Y",
        "colab_type": "code",
        "outputId": "ed20ead5-0d69-44aa-871f-dcf7f178a041",
        "colab": {
          "base_uri": "https://localhost:8080/"
        }
      },
      "source": [
        "obj.group.number.string"
      ],
      "execution_count": 0,
      "outputs": [
        {
          "output_type": "execute_result",
          "data": {
            "text/plain": [
              "'134'"
            ]
          },
          "metadata": {
            "tags": []
          },
          "execution_count": 36
        }
      ]
    },
    {
      "cell_type": "markdown",
      "metadata": {
        "id": "i7C2xHI03h4a",
        "colab_type": "text"
      },
      "source": [
        "Это значит «в объекте `obj` найти тег `group` в нём найти тег `number` и выдать в виде строки то, что в нём содержится.\n",
        "\n",
        "А вот так можно перечислить всех студентов:"
      ]
    },
    {
      "cell_type": "code",
      "metadata": {
        "id": "7Cv0uQXm3h4b",
        "colab_type": "code",
        "outputId": "82296eee-dca6-4f87-a01c-affb8feb674c",
        "colab": {
          "base_uri": "https://localhost:8080/"
        }
      },
      "source": [
        "for student in obj.group.findAll('student'):\n",
        "    print(student.lastname.string, student.firstname.string)"
      ],
      "execution_count": 0,
      "outputs": [
        {
          "output_type": "stream",
          "text": [
            "Иванов Виталий\n",
            "Петрова Мария\n"
          ],
          "name": "stdout"
        }
      ]
    },
    {
      "cell_type": "markdown",
      "metadata": {
        "id": "ktAwElMc3h4f",
        "colab_type": "text"
      },
      "source": [
        "\n",
        "\n",
        "**Задача:** получить списоквсех статей из некоторой категории в Википедии\n",
        "\n",
        "Вот такой запрос мы можем отправить:"
      ]
    },
    {
      "cell_type": "markdown",
      "metadata": {
        "id": "raIJ_yLF3h4g",
        "colab_type": "text"
      },
      "source": [
        "https://en.wikipedia.org/w/api.php?action=query&list=categorymembers&cmtitle=Category:Physics&cmsort=timestamp&cmdir=desc&format=xmlfm"
      ]
    },
    {
      "cell_type": "markdown",
      "metadata": {
        "id": "0X_jnlqa3h4k",
        "colab_type": "text"
      },
      "source": [
        "Строка `https://en.wikipedia.org/w/api.php` (до знака вопроса) — это *точка входа* в API. Всё, что идёт после знака вопроса — это, собственно, запрос. Он представляет собой что-то вроде словаря и состоит из пар «ключ=значение», разделяемых амперсандом `&`. Некоторые символы приходится кодировать специальным образом.\n",
        "\n",
        "Например, в адресе выше сказано, что мы хотим сделать запрос (`action=query`), перечислить элементы категории `list=categorymembers`, в качестве категории, которая нас интересует, указана `Category:Physics` (`cmtitle=Category:Physics`) и указаны некоторые другие параметры. Если кликнуть по этой ссылке, откроется примерно такая штука:"
      ]
    },
    {
      "cell_type": "markdown",
      "metadata": {
        "id": "1_v_FxbH3h4o",
        "colab_type": "text"
      },
      "source": [
        "```xml\n",
        "<?xml version=\"1.0\"?>\n",
        "<api batchcomplete=\"\">\n",
        "  <continue cmcontinue=\"2015-05-30 19:37:50|1653925\" continue=\"-||\" />\n",
        "  <query>\n",
        "    <categorymembers>\n",
        "      <cm pageid=\"24293838\" ns=\"0\" title=\"Wigner rotation\" />\n",
        "      <cm pageid=\"48583145\" ns=\"0\" title=\"Northwest Nuclear Consortium\" />\n",
        "      <cm pageid=\"48407923\" ns=\"0\" title=\"Hume Feldman\" />\n",
        "      <cm pageid=\"48249441\" ns=\"0\" title=\"Phase Stretch Transform\" />\n",
        "      <cm pageid=\"47723069\" ns=\"0\" title=\"Epicatalysis\" />\n",
        "      <cm pageid=\"2237966\" ns=\"14\" title=\"Category:Surface science\" />\n",
        "      <cm pageid=\"2143601\" ns=\"14\" title=\"Category:Interaction\" />\n",
        "      <cm pageid=\"10844347\" ns=\"14\" title=\"Category:Physical systems\" />\n",
        "      <cm pageid=\"18726608\" ns=\"14\" title=\"Category:Physical quantities\" />\n",
        "      <cm pageid=\"22688097\" ns=\"0\" title=\"Branches of physics\" />\n",
        "    </categorymembers>\n",
        "  </query>\n",
        "</api>\n",
        "```\n",
        "\n"
      ]
    },
    {
      "cell_type": "markdown",
      "metadata": {
        "id": "bs6R58yz3h4p",
        "colab_type": "text"
      },
      "source": [
        "Мы видим здесь разные теги, и видим, что нас интересуют теги `<cm>`, находящиеся внутри тега `<categorymembers>`.\n",
        "\n",
        "Давайте сделаем соответствующий запрос с помощью Python. Для этого нам понадобится уже знакомый модуль `requests`."
      ]
    },
    {
      "cell_type": "code",
      "metadata": {
        "id": "GNsYJ-4j3h4q",
        "colab_type": "code",
        "outputId": "25a5c944-ef9b-470f-adc1-d3e029c00fa4",
        "colab": {
          "base_uri": "https://localhost:8080/"
        }
      },
      "source": [
        "url = \"https://en.wikipedia.org/w/api.php\"\n",
        "params = {\n",
        "    'action':'query',\n",
        "    'list':'categorymembers',\n",
        "    'cmtitle': 'Category:Physics',\n",
        "    'format': 'xml'\n",
        "}\n",
        "\n",
        "req = requests.get(url, params=params)\n",
        "req.ok"
      ],
      "execution_count": 0,
      "outputs": [
        {
          "output_type": "execute_result",
          "data": {
            "text/plain": [
              "True"
            ]
          },
          "metadata": {
            "tags": []
          },
          "execution_count": 38
        }
      ]
    },
    {
      "cell_type": "code",
      "metadata": {
        "id": "LPBXhDct3h4s",
        "colab_type": "code",
        "colab": {}
      },
      "source": [
        "data = BeautifulSoup(req.text, features='xml')"
      ],
      "execution_count": 0,
      "outputs": []
    },
    {
      "cell_type": "code",
      "metadata": {
        "id": "WqXZPcb33h4u",
        "colab_type": "code",
        "outputId": "fbd31eab-7d4a-47f6-c7e8-36ad535a02a6",
        "colab": {
          "base_uri": "https://localhost:8080/"
        }
      },
      "source": [
        "print(data.prettify())"
      ],
      "execution_count": 0,
      "outputs": [
        {
          "output_type": "stream",
          "text": [
            "<?xml version=\"1.0\" encoding=\"utf-8\"?>\n",
            "<api batchcomplete=\"\">\n",
            " <continue cmcontinue=\"page|2d454147514f294f394543293f042943294f454159011901dc18|48520204\" continue=\"-||\"/>\n",
            " <query>\n",
            "  <categorymembers>\n",
            "   <cm ns=\"0\" pageid=\"22939\" title=\"Physics\"/>\n",
            "   <cm ns=\"0\" pageid=\"24489\" title=\"Outline of physics\"/>\n",
            "   <cm ns=\"100\" pageid=\"1653925\" title=\"Portal:Physics\"/>\n",
            "   <cm ns=\"0\" pageid=\"5435566\" title=\"Action-angle coordinates\"/>\n",
            "   <cm ns=\"0\" pageid=\"52657328\" title=\"Bayesian model of computational anatomy\"/>\n",
            "   <cm ns=\"0\" pageid=\"49342572\" title=\"Group actions in computational anatomy\"/>\n",
            "   <cm ns=\"0\" pageid=\"61475631\" title=\"Biorheology (journal)\"/>\n",
            "   <cm ns=\"0\" pageid=\"55503653\" title=\"Camelback potential\"/>\n",
            "   <cm ns=\"0\" pageid=\"2664158\" title=\"Center of percussion\"/>\n",
            "   <cm ns=\"0\" pageid=\"62446002\" title=\"Chemical gardening\"/>\n",
            "  </categorymembers>\n",
            " </query>\n",
            "</api>\n"
          ],
          "name": "stdout"
        }
      ]
    },
    {
      "cell_type": "markdown",
      "metadata": {
        "id": "sC6x3y5T3h4x",
        "colab_type": "text"
      },
      "source": [
        "Найдём все вхождения тега `<cm>` и выведем их атрибут `title`:"
      ]
    },
    {
      "cell_type": "code",
      "metadata": {
        "id": "gBvafd263h4z",
        "colab_type": "code",
        "outputId": "6289a540-5cd7-459f-dafb-71015e89a1c8",
        "colab": {
          "base_uri": "https://localhost:8080/"
        }
      },
      "source": [
        "for cm in data.api.query.categorymembers(\"cm\"):\n",
        "    print(cm['title'])"
      ],
      "execution_count": 0,
      "outputs": [
        {
          "output_type": "stream",
          "text": [
            "Physics\n",
            "Outline of physics\n",
            "Portal:Physics\n",
            "Action-angle coordinates\n",
            "Bayesian model of computational anatomy\n",
            "Group actions in computational anatomy\n",
            "Biorheology (journal)\n",
            "Camelback potential\n",
            "Center of percussion\n",
            "Chemical gardening\n"
          ],
          "name": "stdout"
        }
      ]
    },
    {
      "cell_type": "markdown",
      "metadata": {
        "id": "547XisMz3h44",
        "colab_type": "text"
      },
      "source": [
        "Можно было упростить поиск `<cm>`, не указывая «полный путь» к ним:"
      ]
    },
    {
      "cell_type": "code",
      "metadata": {
        "id": "FTmKROMv3h45",
        "colab_type": "code",
        "outputId": "f1f758b1-ada9-4374-bef9-3463d7989990",
        "colab": {
          "base_uri": "https://localhost:8080/"
        }
      },
      "source": [
        "for cm in data(\"cm\"):\n",
        "    print(cm['title'])"
      ],
      "execution_count": 0,
      "outputs": [
        {
          "output_type": "stream",
          "text": [
            "Physics\n",
            "Outline of physics\n",
            "Portal:Physics\n",
            "Action-angle coordinates\n",
            "Bayesian model of computational anatomy\n",
            "Group actions in computational anatomy\n",
            "Biorheology (journal)\n",
            "Camelback potential\n",
            "Center of percussion\n",
            "Chemical gardening\n"
          ],
          "name": "stdout"
        }
      ]
    },
    {
      "cell_type": "markdown",
      "metadata": {
        "id": "dezlAsZ63h46",
        "colab_type": "text"
      },
      "source": [
        "По умолчанию сервер вернул нам список из 10 элементов. Если мы хотим больше, нужно воспользоваться элементом continue — это своего рода гиперссылка на следующие 10 элементов."
      ]
    },
    {
      "cell_type": "code",
      "metadata": {
        "id": "85mbzK9m3h47",
        "colab_type": "code",
        "outputId": "435fd376-9e60-4f02-82da-2d0f2da24060",
        "colab": {
          "base_uri": "https://localhost:8080/"
        }
      },
      "source": [
        "data.find(\"continue\")['cmcontinue']"
      ],
      "execution_count": 0,
      "outputs": [
        {
          "output_type": "execute_result",
          "data": {
            "text/plain": [
              "'page|2d454147514f294f394543293f042943294f454159011901dc18|48520204'"
            ]
          },
          "metadata": {
            "tags": []
          },
          "execution_count": 43
        }
      ]
    },
    {
      "cell_type": "markdown",
      "metadata": {
        "id": "1AcRehRT3h49",
        "colab_type": "text"
      },
      "source": [
        "Необходимо использовать метод find() вместо того, чтобы просто написать data.continue, потому что continue в Python имеет специальный смысл.\n",
        "\n",
        "Теперь добавим cmcontinue в наш запрос и выполним его ещё раз:"
      ]
    },
    {
      "cell_type": "code",
      "metadata": {
        "id": "8KCR_2L_3h49",
        "colab_type": "code",
        "colab": {}
      },
      "source": [
        "params['cmcontinue'] = data.api(\"continue\")[0]['cmcontinue']"
      ],
      "execution_count": 0,
      "outputs": []
    },
    {
      "cell_type": "code",
      "metadata": {
        "id": "SZTJpkPf3h4_",
        "colab_type": "code",
        "colab": {}
      },
      "source": [
        "req = requests.get(url, params=params)\n",
        "data = BeautifulSoup(g.text, features='xml')\n",
        "for cm in data.api.query.categorymembers(\"cm\"):\n",
        "    print(cm['title'])"
      ],
      "execution_count": 0,
      "outputs": []
    },
    {
      "cell_type": "markdown",
      "metadata": {
        "id": "1RdUKDDz3h5A",
        "colab_type": "text"
      },
      "source": [
        "Мы получили следующие 10 элементов из категории. Продолжая таким образом, можно выкачать её даже целиком (правда, для этого потребуется много времени).\n",
        "\n",
        "Аналогичным образом реализована работа с разнообразными другими API, имеющимися на разных сайтах. Где-то API является полностью открытым (как в Википедии), где-то вам потребуется зарегистрироваться и получить application id и какой-нибудь ключ для доступа к API, где-то попросят даже заплатить (например, автоматический поиск в Google). Есть API, которые позволяют только читать информацию, а бывают и такие, которые позволяют её править. Например, можно написать скрипт, который будет автоматически сохранять какую-то информацию в Google Spreadsheets. Всякий раз при использовании API вам придётся изучить его документацию, но это в любом случае проще, чем обрабатывать HTML-код. Иногда удаётся упростить доступ к API, используя специальные библиотеки."
      ]
    },
    {
      "cell_type": "markdown",
      "metadata": {
        "id": "6XX-1Yy-3h5B",
        "colab_type": "text"
      },
      "source": [
        "## Задание\n",
        "\n",
        "1.\tНеобходимо получить данные (название, ссылка, стоимость) с https://market.yandex.ru/ о какой-нибудь группе товаров. Например: https://market.yandex.ru/search?text=Конструкторы%20LEGO&cvredirect=0&track=redirbarup&local-offers-first=0\n",
        "2.\tПредставить собранные данные в виде DataFrame, записать в файл.\n",
        "3.\tКратко пояснить выбор инструментов сбора данных (HTML, API (xml/json)). \n",
        "\n",
        "P.S.: Можно выбрать другой ресурс для сбора данных и/или изменить список полей итогового DataFrame по своему усмотрению. Аргументировать/согласовать выбор источника/набор данных.\n"
      ]
    },
    {
      "cell_type": "markdown",
      "metadata": {
        "id": "Hxf-rIGVOK8A",
        "colab_type": "text"
      },
      "source": [
        "Я решил взять ресурс [kinopoisk.ru](https://kinopoisk.ru). Сначала я хотел использовать магазины бытовой техники, но на большинстве стоит защита от парсинга, поэтому я и решил сменить предметную область.\n",
        "\n",
        "С кинопоиска мы берем список премьер и забираем их название, ссылку на страницу фильма, год выпуска и компанию-производитель.\n",
        "\n",
        "Поскольку получить интересующую нас информацию из html-коды было несложно, было принято решение использовать requests+BeautifulSoup"
      ]
    },
    {
      "cell_type": "markdown",
      "metadata": {
        "id": "zISuKo88OK3p",
        "colab_type": "text"
      },
      "source": [
        ""
      ]
    },
    {
      "cell_type": "code",
      "metadata": {
        "id": "nrnyPgZH72Ab",
        "colab_type": "code",
        "colab": {
          "base_uri": "https://localhost:8080/",
          "height": 1000
        },
        "outputId": "e210b5b2-de29-431e-8ddf-24f29e09fa48"
      },
      "source": [
        "import requests\n",
        "from bs4 import BeautifulSoup\n",
        "import pandas as pd\n",
        "\n",
        "r = requests.get('https://www.kinopoisk.ru/premiere/')\n",
        "page = BeautifulSoup(r.text, \"html.parser\")\n",
        "films = page.findAll('div', class_='premier_item')\n",
        "titles = [item.find(\"div\",class_='textBlock').find('a').text for item in films]\n",
        "urls = ['https://www.kinopoisk.ru' + item.find(\"div\",class_='textBlock').find('a')['href'] for item in films]\n",
        "years = [item.find(\"div\",class_='textBlock').findAll('span')[1].text.split('(')[1].split(')')[0] for item in films]\n",
        "companies = [item.find(\"s\",class_='company').find('a').text for item in films]\n",
        "dt = pd.DataFrame({'Title':titles,'URL':urls,'Relise year':years,'Company':companies})\n",
        "dt.to_csv(\"premieres.csv\")\n",
        "dt"
      ],
      "execution_count": 176,
      "outputs": [
        {
          "output_type": "execute_result",
          "data": {
            "text/html": [
              "<div>\n",
              "<style scoped>\n",
              "    .dataframe tbody tr th:only-of-type {\n",
              "        vertical-align: middle;\n",
              "    }\n",
              "\n",
              "    .dataframe tbody tr th {\n",
              "        vertical-align: top;\n",
              "    }\n",
              "\n",
              "    .dataframe thead th {\n",
              "        text-align: right;\n",
              "    }\n",
              "</style>\n",
              "<table border=\"1\" class=\"dataframe\">\n",
              "  <thead>\n",
              "    <tr style=\"text-align: right;\">\n",
              "      <th></th>\n",
              "      <th>Title</th>\n",
              "      <th>URL</th>\n",
              "      <th>Relise year</th>\n",
              "      <th>Company</th>\n",
              "    </tr>\n",
              "  </thead>\n",
              "  <tbody>\n",
              "    <tr>\n",
              "      <th>0</th>\n",
              "      <td>Джуманджи: Новый уровень</td>\n",
              "      <td>https://www.kinopoisk.ru/film/1112539/</td>\n",
              "      <td>2019</td>\n",
              "      <td>WDSSPR</td>\n",
              "    </tr>\n",
              "    <tr>\n",
              "      <th>1</th>\n",
              "      <td>Полицейский с Рублевки. Новогодний беспредел 2</td>\n",
              "      <td>https://www.kinopoisk.ru/film/1255106/</td>\n",
              "      <td>2019</td>\n",
              "      <td>Централ Партнершип</td>\n",
              "    </tr>\n",
              "    <tr>\n",
              "      <th>2</th>\n",
              "      <td>Курьер</td>\n",
              "      <td>https://www.kinopoisk.ru/film/1207545/</td>\n",
              "      <td>2019</td>\n",
              "      <td>Вольга</td>\n",
              "    </tr>\n",
              "    <tr>\n",
              "      <th>3</th>\n",
              "      <td>Озеро диких гусей</td>\n",
              "      <td>https://www.kinopoisk.ru/film/1236072/</td>\n",
              "      <td>2019</td>\n",
              "      <td>Престиж Кино</td>\n",
              "    </tr>\n",
              "    <tr>\n",
              "      <th>4</th>\n",
              "      <td>Одной волшебной ночью</td>\n",
              "      <td>https://www.kinopoisk.ru/film/1253425/</td>\n",
              "      <td>2019</td>\n",
              "      <td>ПРОвзгляд</td>\n",
              "    </tr>\n",
              "    <tr>\n",
              "      <th>5</th>\n",
              "      <td>Тайна Мосли</td>\n",
              "      <td>https://www.kinopoisk.ru/film/1034049/</td>\n",
              "      <td>2019</td>\n",
              "      <td>MEGOGO Distribution</td>\n",
              "    </tr>\n",
              "    <tr>\n",
              "      <th>6</th>\n",
              "      <td>Собаки не носят штанов</td>\n",
              "      <td>https://www.kinopoisk.ru/film/1200332/</td>\n",
              "      <td>2019</td>\n",
              "      <td>HHG</td>\n",
              "    </tr>\n",
              "    <tr>\n",
              "      <th>7</th>\n",
              "      <td>Царь зверей</td>\n",
              "      <td>https://www.kinopoisk.ru/film/1203112/</td>\n",
              "      <td>2018</td>\n",
              "      <td>Ракета Релизинг</td>\n",
              "    </tr>\n",
              "    <tr>\n",
              "      <th>8</th>\n",
              "      <td>Щенячий патруль: Мегащенки и отважные птенцы</td>\n",
              "      <td>https://www.kinopoisk.ru/film/1328006/</td>\n",
              "      <td>2019</td>\n",
              "      <td>Пионер</td>\n",
              "    </tr>\n",
              "    <tr>\n",
              "      <th>9</th>\n",
              "      <td>GORILLAZ: Долой фальшивых идолов</td>\n",
              "      <td>https://www.kinopoisk.ru/film/1325555/</td>\n",
              "      <td>2019</td>\n",
              "      <td>CoolConnections</td>\n",
              "    </tr>\n",
              "    <tr>\n",
              "      <th>10</th>\n",
              "      <td>С широко закрытыми глазами</td>\n",
              "      <td>https://www.kinopoisk.ru/film/3608/</td>\n",
              "      <td>1999</td>\n",
              "      <td>Иноекино</td>\n",
              "    </tr>\n",
              "    <tr>\n",
              "      <th>11</th>\n",
              "      <td>Звёздные войны: Скайуокер. Восход</td>\n",
              "      <td>https://www.kinopoisk.ru/film/718222/</td>\n",
              "      <td>2019</td>\n",
              "      <td>WDSSPR</td>\n",
              "    </tr>\n",
              "    <tr>\n",
              "      <th>12</th>\n",
              "      <td>Чёрное Рождество</td>\n",
              "      <td>https://www.kinopoisk.ru/film/1273173/</td>\n",
              "      <td>2019</td>\n",
              "      <td>UPI</td>\n",
              "    </tr>\n",
              "    <tr>\n",
              "      <th>13</th>\n",
              "      <td>Отверженные</td>\n",
              "      <td>https://www.kinopoisk.ru/film/1256262/</td>\n",
              "      <td>2019</td>\n",
              "      <td>Russian World Vision</td>\n",
              "    </tr>\n",
              "    <tr>\n",
              "      <th>14</th>\n",
              "      <td>Реальная любовь в Нью-Йорке</td>\n",
              "      <td>https://www.kinopoisk.ru/film/1138614/</td>\n",
              "      <td>2019</td>\n",
              "      <td>Экспонента</td>\n",
              "    </tr>\n",
              "    <tr>\n",
              "      <th>15</th>\n",
              "      <td>Исцеляющая</td>\n",
              "      <td>https://www.kinopoisk.ru/film/996782/</td>\n",
              "      <td>2018</td>\n",
              "      <td>Кинологистика</td>\n",
              "    </tr>\n",
              "    <tr>\n",
              "      <th>16</th>\n",
              "      <td>Выпьем за любовь</td>\n",
              "      <td>https://www.kinopoisk.ru/film/1069658/</td>\n",
              "      <td>2018</td>\n",
              "      <td>Русский Репортаж</td>\n",
              "    </tr>\n",
              "    <tr>\n",
              "      <th>17</th>\n",
              "      <td>Небо измеряется милями</td>\n",
              "      <td>https://www.kinopoisk.ru/film/1245325/</td>\n",
              "      <td>2019</td>\n",
              "      <td>Планета Информ</td>\n",
              "    </tr>\n",
              "    <tr>\n",
              "      <th>18</th>\n",
              "      <td>Холстон</td>\n",
              "      <td>https://www.kinopoisk.ru/film/1260124/</td>\n",
              "      <td>2019</td>\n",
              "      <td>ЦДК</td>\n",
              "    </tr>\n",
              "    <tr>\n",
              "      <th>19</th>\n",
              "      <td>Эрмитаж. Сила искусства</td>\n",
              "      <td>https://www.kinopoisk.ru/film/1325618/</td>\n",
              "      <td>2019</td>\n",
              "      <td>НеваФильм Emotion</td>\n",
              "    </tr>\n",
              "    <tr>\n",
              "      <th>20</th>\n",
              "      <td>Фиксики против кработов</td>\n",
              "      <td>https://www.kinopoisk.ru/film/1115685/</td>\n",
              "      <td>2019</td>\n",
              "      <td>Каропрокат</td>\n",
              "    </tr>\n",
              "    <tr>\n",
              "      <th>21</th>\n",
              "      <td>МУЛЬТ в кино 109. Добро пожаловать в МУЛЬТсказку!</td>\n",
              "      <td>https://www.kinopoisk.ru/film/1330165/</td>\n",
              "      <td>2019</td>\n",
              "      <td>Мульт в кино</td>\n",
              "    </tr>\n",
              "    <tr>\n",
              "      <th>22</th>\n",
              "      <td>Ходячий замок</td>\n",
              "      <td>https://www.kinopoisk.ru/film/49684/</td>\n",
              "      <td>2004</td>\n",
              "      <td>Пионер</td>\n",
              "    </tr>\n",
              "    <tr>\n",
              "      <th>23</th>\n",
              "      <td>Солярис</td>\n",
              "      <td>https://www.kinopoisk.ru/film/43911/</td>\n",
              "      <td>1972</td>\n",
              "      <td>Искусство кино</td>\n",
              "    </tr>\n",
              "    <tr>\n",
              "      <th>24</th>\n",
              "      <td>Союз Спасения</td>\n",
              "      <td>https://www.kinopoisk.ru/film/972740/</td>\n",
              "      <td>2019</td>\n",
              "      <td>Двадцатый Век Фокс СНГ</td>\n",
              "    </tr>\n",
              "    <tr>\n",
              "      <th>25</th>\n",
              "      <td>Холоп</td>\n",
              "      <td>https://www.kinopoisk.ru/film/1183582/</td>\n",
              "      <td>2019</td>\n",
              "      <td>Централ Партнершип</td>\n",
              "    </tr>\n",
              "    <tr>\n",
              "      <th>26</th>\n",
              "      <td>Иван Царевич и Серый Волк 4</td>\n",
              "      <td>https://www.kinopoisk.ru/film/1235963/</td>\n",
              "      <td>2019</td>\n",
              "      <td>Наше Кино</td>\n",
              "    </tr>\n",
              "    <tr>\n",
              "      <th>27</th>\n",
              "      <td>Байкал. Магия воды</td>\n",
              "      <td>https://www.kinopoisk.ru/film/1108385/</td>\n",
              "      <td>2019</td>\n",
              "      <td>Кинолэнд</td>\n",
              "    </tr>\n",
              "    <tr>\n",
              "      <th>28</th>\n",
              "      <td>Вторжение</td>\n",
              "      <td>https://www.kinopoisk.ru/film/1045582/</td>\n",
              "      <td>2019</td>\n",
              "      <td>WDSSPR</td>\n",
              "    </tr>\n",
              "    <tr>\n",
              "      <th>29</th>\n",
              "      <td>Красные туфельки и семь гномов</td>\n",
              "      <td>https://www.kinopoisk.ru/film/1045594/</td>\n",
              "      <td>2019</td>\n",
              "      <td>MEGOGO Distribution</td>\n",
              "    </tr>\n",
              "    <tr>\n",
              "      <th>30</th>\n",
              "      <td>Тридцать</td>\n",
              "      <td>https://www.kinopoisk.ru/film/1239977/</td>\n",
              "      <td>2019</td>\n",
              "      <td>Cineticle Films</td>\n",
              "    </tr>\n",
              "    <tr>\n",
              "      <th>31</th>\n",
              "      <td>Спрячь бабушку в холодильнике</td>\n",
              "      <td>https://www.kinopoisk.ru/film/1056966/</td>\n",
              "      <td>2018</td>\n",
              "      <td>ПилотКино</td>\n",
              "    </tr>\n",
              "    <tr>\n",
              "      <th>32</th>\n",
              "      <td>Щенячий патруль: скорей спешим на помощь</td>\n",
              "      <td>https://www.kinopoisk.ru/film/1314200/</td>\n",
              "      <td>2019</td>\n",
              "      <td>Пионер</td>\n",
              "    </tr>\n",
              "    <tr>\n",
              "      <th>33</th>\n",
              "      <td>Кошки</td>\n",
              "      <td>https://www.kinopoisk.ru/film/978061/</td>\n",
              "      <td>2019</td>\n",
              "      <td>UPI</td>\n",
              "    </tr>\n",
              "  </tbody>\n",
              "</table>\n",
              "</div>"
            ],
            "text/plain": [
              "                                                Title  ...                 Company\n",
              "0                            Джуманджи: Новый уровень  ...                  WDSSPR\n",
              "1      Полицейский с Рублевки. Новогодний беспредел 2  ...      Централ Партнершип\n",
              "2                                              Курьер  ...                  Вольга\n",
              "3                                   Озеро диких гусей  ...            Престиж Кино\n",
              "4                               Одной волшебной ночью  ...               ПРОвзгляд\n",
              "5                                         Тайна Мосли  ...     MEGOGO Distribution\n",
              "6                              Собаки не носят штанов  ...                     HHG\n",
              "7                                         Царь зверей  ...         Ракета Релизинг\n",
              "8        Щенячий патруль: Мегащенки и отважные птенцы  ...                  Пионер\n",
              "9                    GORILLAZ: Долой фальшивых идолов  ...         CoolConnections\n",
              "10                         С широко закрытыми глазами  ...                Иноекино\n",
              "11                  Звёздные войны: Скайуокер. Восход  ...                  WDSSPR\n",
              "12                                   Чёрное Рождество  ...                     UPI\n",
              "13                                        Отверженные  ...    Russian World Vision\n",
              "14                        Реальная любовь в Нью-Йорке  ...              Экспонента\n",
              "15                                         Исцеляющая  ...           Кинологистика\n",
              "16                                   Выпьем за любовь  ...        Русский Репортаж\n",
              "17                             Небо измеряется милями  ...          Планета Информ\n",
              "18                                            Холстон  ...                     ЦДК\n",
              "19                            Эрмитаж. Сила искусства  ...       НеваФильм Emotion\n",
              "20                            Фиксики против кработов  ...              Каропрокат\n",
              "21  МУЛЬТ в кино 109. Добро пожаловать в МУЛЬТсказку!  ...            Мульт в кино\n",
              "22                                      Ходячий замок  ...                  Пионер\n",
              "23                                            Солярис  ...          Искусство кино\n",
              "24                                      Союз Спасения  ...  Двадцатый Век Фокс СНГ\n",
              "25                                              Холоп  ...      Централ Партнершип\n",
              "26                        Иван Царевич и Серый Волк 4  ...               Наше Кино\n",
              "27                                 Байкал. Магия воды  ...                Кинолэнд\n",
              "28                                          Вторжение  ...                  WDSSPR\n",
              "29                     Красные туфельки и семь гномов  ...     MEGOGO Distribution\n",
              "30                                           Тридцать  ...         Cineticle Films\n",
              "31                      Спрячь бабушку в холодильнике  ...               ПилотКино\n",
              "32           Щенячий патруль: скорей спешим на помощь  ...                  Пионер\n",
              "33                                              Кошки  ...                     UPI\n",
              "\n",
              "[34 rows x 4 columns]"
            ]
          },
          "metadata": {
            "tags": []
          },
          "execution_count": 176
        }
      ]
    }
  ]
}