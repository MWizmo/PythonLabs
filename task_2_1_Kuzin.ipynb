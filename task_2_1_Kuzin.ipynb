{
  "nbformat": 4,
  "nbformat_minor": 0,
  "metadata": {
    "kernelspec": {
      "display_name": "Python 3",
      "language": "python",
      "name": "python3"
    },
    "language_info": {
      "codemirror_mode": {
        "name": "ipython",
        "version": 3
      },
      "file_extension": ".py",
      "mimetype": "text/x-python",
      "name": "python",
      "nbconvert_exporter": "python",
      "pygments_lexer": "ipython3",
      "version": "3.7.3"
    },
    "colab": {
      "name": "task2_1_Kuzin.ipynb",
      "provenance": []
    }
  },
  "cells": [
    {
      "cell_type": "markdown",
      "metadata": {
        "id": "kfv8ccNjHq_u",
        "colab_type": "text"
      },
      "source": [
        "# NumPy (Часть 1)"
      ]
    },
    {
      "cell_type": "markdown",
      "metadata": {
        "id": "DHGFd3wZHq_v",
        "colab_type": "text"
      },
      "source": [
        "## Numpy"
      ]
    },
    {
      "cell_type": "markdown",
      "metadata": {
        "id": "am5zoyUYHq_w",
        "colab_type": "text"
      },
      "source": [
        "**NumPy** представляет собой библиотеку типов и функций для работы с массивами и матрицами, и является мультимодульным пакетом. \n",
        "\n",
        "Наиболее популярные модули: \n",
        "\n",
        "*random (случайный)*, \n",
        "\n",
        "*linalg (линейная алгебра)*, \n",
        "\n",
        "*fft (Fast Fourier Transform – быстрое преобразование Фурье)*, \n",
        "\n",
        "*polynomial (работа с полиномами)* \n",
        "\n",
        "и многие другие. \n",
        "\n",
        "\n",
        "_______________________________________________________________________________\n",
        "\n",
        "Вначале модуль **NumPy** следует загрузить. При этом для него можно создать более короткое имя.\n",
        "\n",
        "*import numpy as np*\n",
        "\n",
        "После этого к любому объекту модуля можно обращаться, используя это короткое имя."
      ]
    },
    {
      "cell_type": "code",
      "metadata": {
        "id": "pAESFZeGHq_x",
        "colab_type": "code",
        "colab": {
          "base_uri": "https://localhost:8080/",
          "height": 485
        },
        "outputId": "4f1c4a49-ed4a-4991-9562-7fc2c48a025b"
      },
      "source": [
        "import numpy as np    # подключение NumPy\n",
        "\n",
        "print(np.__version__) # версия NumPy\n",
        "\n",
        "np.show_config()      # конфигурация NumPy"
      ],
      "execution_count": 1,
      "outputs": [
        {
          "output_type": "stream",
          "text": [
            "1.16.5\n",
            "blas_mkl_info:\n",
            "  NOT AVAILABLE\n",
            "blis_info:\n",
            "  NOT AVAILABLE\n",
            "openblas_info:\n",
            "    libraries = ['openblas', 'openblas']\n",
            "    library_dirs = ['/usr/local/lib']\n",
            "    language = c\n",
            "    define_macros = [('HAVE_CBLAS', None)]\n",
            "blas_opt_info:\n",
            "    libraries = ['openblas', 'openblas']\n",
            "    library_dirs = ['/usr/local/lib']\n",
            "    language = c\n",
            "    define_macros = [('HAVE_CBLAS', None)]\n",
            "lapack_mkl_info:\n",
            "  NOT AVAILABLE\n",
            "openblas_lapack_info:\n",
            "    libraries = ['openblas', 'openblas']\n",
            "    library_dirs = ['/usr/local/lib']\n",
            "    language = c\n",
            "    define_macros = [('HAVE_CBLAS', None)]\n",
            "lapack_opt_info:\n",
            "    libraries = ['openblas', 'openblas']\n",
            "    library_dirs = ['/usr/local/lib']\n",
            "    language = c\n",
            "    define_macros = [('HAVE_CBLAS', None)]\n"
          ],
          "name": "stdout"
        }
      ]
    },
    {
      "cell_type": "markdown",
      "metadata": {
        "id": "uqe8QOHbHq_1",
        "colab_type": "text"
      },
      "source": [
        "## Массивы\n",
        "\n",
        "\n",
        "Основным объектом **NumPy** является массив элементов (в **NumPy** называется **numpy.ndarray**), как правило, чисел. \n",
        "\n",
        "Наиболее важные атрибуты объектов **ndarray**:\n",
        "\n",
        "**ndarray.ndim** - число измерений (чаще их называют \"оси\") массива.\n",
        "\n",
        "**ndarray.shape** - размеры массива, его форма. Это кортеж натуральных чисел, показывающий длину массива по каждой оси. Для матрицы из n строк и m столбов, shape будет (n,m). Число элементов кортежа shape равно ndim.\n",
        "\n",
        "**ndarray.size** - количество элементов массива. Очевидно, равно произведению всех элементов атрибута shape.\n",
        "\n",
        "**ndarray.dtype** - объект, описывающий тип элементов массива. Можно определить dtype, используя стандартные типы данных Python. \n",
        "**NumPy** предоставляет большое количество вариантов, как встроенных, например: bool_, character, int8, int16, int32, int64, float8, float16, float32, float64, complex64, object_, так и возможность определить собственные типы данных, в том числе и составные.\n",
        "\n",
        "**ndarray.itemsize** - размер каждого элемента массива в байтах.\n",
        "\n",
        "**ndarray.data** - буфер, содержащий фактические элементы массива. Обычно не нужно использовать этот атрибут, так как обращаться к элементам массива проще всего с помощью индексов.\n",
        "\n",
        "\n",
        "Существует несколько способов создать массив. Один из них состоит в создании массива из списка с помощью функции array().\n",
        "\n"
      ]
    },
    {
      "cell_type": "code",
      "metadata": {
        "id": "Ln_HExlnHq_2",
        "colab_type": "code",
        "colab": {}
      },
      "source": [
        "x = [2, 3, 4, 6] # создание списка\n",
        "y = np.array(x)  # создание массива средствами NumPy\n",
        "z = np.array(x, float) # создание массива средствами NumPy"
      ],
      "execution_count": 0,
      "outputs": []
    },
    {
      "cell_type": "code",
      "metadata": {
        "id": "urZ5kCyyHq_4",
        "colab_type": "code",
        "colab": {
          "base_uri": "https://localhost:8080/",
          "height": 69
        },
        "outputId": "1c8babdb-452a-4d62-d216-d2b4d9458b28"
      },
      "source": [
        "print(type(x), x)\n",
        "print(type(y), y)\n",
        "print(type(z), z)"
      ],
      "execution_count": 3,
      "outputs": [
        {
          "output_type": "stream",
          "text": [
            "<class 'list'> [2, 3, 4, 6]\n",
            "<class 'numpy.ndarray'> [2 3 4 6]\n",
            "<class 'numpy.ndarray'> [2. 3. 4. 6.]\n"
          ],
          "name": "stdout"
        }
      ]
    },
    {
      "cell_type": "code",
      "metadata": {
        "id": "0X15-6VOHq_7",
        "colab_type": "code",
        "colab": {
          "base_uri": "https://localhost:8080/",
          "height": 166
        },
        "outputId": "9719e03b-2f78-4923-d324-2e98d283c9c3"
      },
      "source": [
        "x.dtype"
      ],
      "execution_count": 4,
      "outputs": [
        {
          "output_type": "error",
          "ename": "AttributeError",
          "evalue": "ignored",
          "traceback": [
            "\u001b[0;31m---------------------------------------------------------------------------\u001b[0m",
            "\u001b[0;31mAttributeError\u001b[0m                            Traceback (most recent call last)",
            "\u001b[0;32m<ipython-input-4-af0675901b82>\u001b[0m in \u001b[0;36m<module>\u001b[0;34m()\u001b[0m\n\u001b[0;32m----> 1\u001b[0;31m \u001b[0mx\u001b[0m\u001b[0;34m.\u001b[0m\u001b[0mdtype\u001b[0m\u001b[0;34m\u001b[0m\u001b[0;34m\u001b[0m\u001b[0m\n\u001b[0m",
            "\u001b[0;31mAttributeError\u001b[0m: 'list' object has no attribute 'dtype'"
          ]
        }
      ]
    },
    {
      "cell_type": "code",
      "metadata": {
        "id": "-lExRlsfHq_9",
        "colab_type": "code",
        "colab": {
          "base_uri": "https://localhost:8080/",
          "height": 35
        },
        "outputId": "ac2b7e27-772c-4386-ae3c-ba2b55b44b6c"
      },
      "source": [
        "y.dtype"
      ],
      "execution_count": 5,
      "outputs": [
        {
          "output_type": "execute_result",
          "data": {
            "text/plain": [
              "dtype('int64')"
            ]
          },
          "metadata": {
            "tags": []
          },
          "execution_count": 5
        }
      ]
    },
    {
      "cell_type": "code",
      "metadata": {
        "id": "SAnjAiC7HrAA",
        "colab_type": "code",
        "colab": {
          "base_uri": "https://localhost:8080/",
          "height": 35
        },
        "outputId": "14ed9820-c5d6-47b6-bb4f-906c78b90fbd"
      },
      "source": [
        "z.dtype"
      ],
      "execution_count": 6,
      "outputs": [
        {
          "output_type": "execute_result",
          "data": {
            "text/plain": [
              "dtype('float64')"
            ]
          },
          "metadata": {
            "tags": []
          },
          "execution_count": 6
        }
      ]
    },
    {
      "cell_type": "markdown",
      "metadata": {
        "id": "2KWuG0xQHrAC",
        "colab_type": "text"
      },
      "source": [
        "## Массивы могут быть и многомерными "
      ]
    },
    {
      "cell_type": "code",
      "metadata": {
        "id": "5TXc3IT8HrAD",
        "colab_type": "code",
        "colab": {}
      },
      "source": [
        "a = np.array([[1, 2, 3], [4, 5, 6]], float) # пример двумерного массива (матрица)\n",
        "b = np.array([[6, 5, 4], [3, 2, 1]])\n",
        "c = np.array([[1, 2], [3, 4], [5, 6]])\n",
        "matrix = [[1, 2, 4], [3, 6, 0]]\n",
        "d = np.array(matrix, float)"
      ],
      "execution_count": 0,
      "outputs": []
    },
    {
      "cell_type": "code",
      "metadata": {
        "id": "tk8lg0e0HrAG",
        "colab_type": "code",
        "colab": {
          "base_uri": "https://localhost:8080/",
          "height": 104
        },
        "outputId": "2a353497-9e4b-4db4-dbfd-c332db2b6f9a"
      },
      "source": [
        "print(a[1,2])\n",
        "print(b[0,0])\n",
        "print(c[2,1])\n",
        "print(matrix[1][1])\n",
        "print(d[1,1])"
      ],
      "execution_count": 9,
      "outputs": [
        {
          "output_type": "stream",
          "text": [
            "6.0\n",
            "6\n",
            "6\n",
            "6\n",
            "6.0\n"
          ],
          "name": "stdout"
        }
      ]
    },
    {
      "cell_type": "markdown",
      "metadata": {
        "id": "URkSjvi3HrAJ",
        "colab_type": "text"
      },
      "source": [
        "## Методы\n",
        "\n",
        "Метод **shape** возвращает количество строк и столбцов в матрице\n",
        "\n",
        "Метод **len** возвращает длину первого измерения (оси)\n",
        "\n",
        "Метод **in** используется для проверки на наличие элемента в массиве\n",
        "\n",
        "Метод **dtype** возвращает тип переменных, хранящихся в массиве"
      ]
    },
    {
      "cell_type": "code",
      "metadata": {
        "id": "Z0OgRzfmHrAL",
        "colab_type": "code",
        "colab": {
          "base_uri": "https://localhost:8080/",
          "height": 208
        },
        "outputId": "f6f0f58d-abca-4f19-cd1c-8c4e7e336541"
      },
      "source": [
        "print('-----------shape-----------') \n",
        "print('a shape: ', a.shape)\n",
        "print('d shape: ', d.shape)\n",
        "print('-----------len-----------') \n",
        "print('a len: ', len(a))\n",
        "print('b len: ', len(b))\n",
        "print('c len: ', len(c))\n",
        "print('-----------in-----------') \n",
        "print('2 in x: ', 2 in x)\n",
        "print('2 in y: ', 2 in y)\n",
        "print('78 in z: ', 78 in z)"
      ],
      "execution_count": 10,
      "outputs": [
        {
          "output_type": "stream",
          "text": [
            "-----------shape-----------\n",
            "a shape:  (2, 3)\n",
            "d shape:  (2, 3)\n",
            "-----------len-----------\n",
            "a len:  2\n",
            "b len:  2\n",
            "c len:  3\n",
            "-----------in-----------\n",
            "2 in x:  True\n",
            "2 in y:  True\n",
            "78 in z:  False\n"
          ],
          "name": "stdout"
        }
      ]
    },
    {
      "cell_type": "markdown",
      "metadata": {
        "id": "2nQlkbLNHrAN",
        "colab_type": "text"
      },
      "source": [
        "### Reshape\n",
        "\n",
        "Массивы можно переформировать при помощи метода, который задает новый многомерный массив.  Метод **reshape** создает новый массив, а не модифицирует оригинальный.\n",
        "\n"
      ]
    },
    {
      "cell_type": "code",
      "metadata": {
        "id": "97fRsC6tHrAO",
        "colab_type": "code",
        "colab": {
          "base_uri": "https://localhost:8080/",
          "height": 156
        },
        "outputId": "b0de54ee-a27b-471c-ebf9-fa0aaca8cdf9"
      },
      "source": [
        "mass = np.array(range(10), float)\n",
        "print('mass v01: ', mass)\n",
        "print('mass v01 shape: ', mass.shape)\n",
        "mass = mass.reshape((5, 2))\n",
        "print('mass v02: ', mass)\n",
        "print('mass v02 shape: ', mass.shape)\n"
      ],
      "execution_count": 11,
      "outputs": [
        {
          "output_type": "stream",
          "text": [
            "mass v01:  [0. 1. 2. 3. 4. 5. 6. 7. 8. 9.]\n",
            "mass v01 shape:  (10,)\n",
            "mass v02:  [[0. 1.]\n",
            " [2. 3.]\n",
            " [4. 5.]\n",
            " [6. 7.]\n",
            " [8. 9.]]\n",
            "mass v02 shape:  (5, 2)\n"
          ],
          "name": "stdout"
        }
      ]
    },
    {
      "cell_type": "markdown",
      "metadata": {
        "id": "QYEB8JpBHrAS",
        "colab_type": "text"
      },
      "source": [
        "### Copy\n",
        "\n",
        "Метод **copy** используется для создания копии существующего массива в памяти. Связывание имен в python работает и с массивами."
      ]
    },
    {
      "cell_type": "code",
      "metadata": {
        "id": "v8EwK6SKHrAT",
        "colab_type": "code",
        "colab": {
          "base_uri": "https://localhost:8080/",
          "height": 69
        },
        "outputId": "ffe92cf1-1fe0-46b7-a49b-81355f3d3c64"
      },
      "source": [
        "a = np.array([1, 2, 3], float)\n",
        "b = a\n",
        "c =  a.copy()\n",
        "a[0] = 0\n",
        "print(a)\n",
        "print(b)\n",
        "print(c)"
      ],
      "execution_count": 12,
      "outputs": [
        {
          "output_type": "stream",
          "text": [
            "[0. 2. 3.]\n",
            "[0. 2. 3.]\n",
            "[1. 2. 3.]\n"
          ],
          "name": "stdout"
        }
      ]
    },
    {
      "cell_type": "markdown",
      "metadata": {
        "id": "XGqQ6seZHrAX",
        "colab_type": "text"
      },
      "source": [
        "### Fill\n",
        "\n",
        "Метод **fill** - заполнение массива одинаковым значением"
      ]
    },
    {
      "cell_type": "code",
      "metadata": {
        "id": "2TePg8EwHrAY",
        "colab_type": "code",
        "colab": {
          "base_uri": "https://localhost:8080/",
          "height": 52
        },
        "outputId": "00b7412c-2568-4021-ddd0-e785b34e8738"
      },
      "source": [
        "a = np.array([1, 2, 3], float)\n",
        "print(a)\n",
        "a.fill(0)\n",
        "print(a)"
      ],
      "execution_count": 13,
      "outputs": [
        {
          "output_type": "stream",
          "text": [
            "[1. 2. 3.]\n",
            "[0. 0. 0.]\n"
          ],
          "name": "stdout"
        }
      ]
    },
    {
      "cell_type": "markdown",
      "metadata": {
        "id": "sKJdXZ9dHrAa",
        "colab_type": "text"
      },
      "source": [
        "###  Transpose\n",
        "Транспонирование массивов также возможно, при этом создается новый массив"
      ]
    },
    {
      "cell_type": "code",
      "metadata": {
        "id": "AYB6HDPGHrAc",
        "colab_type": "code",
        "colab": {
          "base_uri": "https://localhost:8080/",
          "height": 104
        },
        "outputId": "f8898c00-6715-4c89-e844-5b7e03a7bd27"
      },
      "source": [
        "a = np.array(range(6), float).reshape((2, 3))\n",
        "print(a)\n",
        "print(a.transpose())"
      ],
      "execution_count": 14,
      "outputs": [
        {
          "output_type": "stream",
          "text": [
            "[[0. 1. 2.]\n",
            " [3. 4. 5.]]\n",
            "[[0. 3.]\n",
            " [1. 4.]\n",
            " [2. 5.]]\n"
          ],
          "name": "stdout"
        }
      ]
    },
    {
      "cell_type": "markdown",
      "metadata": {
        "id": "IJbXNqs9HrAf",
        "colab_type": "text"
      },
      "source": [
        "### Flatten\n",
        "\n",
        "Многомерный массив можно переконвертировать в одномерный при помощи метода **flatten**"
      ]
    },
    {
      "cell_type": "code",
      "metadata": {
        "id": "Rl5wvPAtHrAg",
        "colab_type": "code",
        "colab": {
          "base_uri": "https://localhost:8080/",
          "height": 69
        },
        "outputId": "0266d97a-ee2d-4bd4-cd6f-38d44f32d2c7"
      },
      "source": [
        "a = np.array([[1, 2, 3], [4, 5, 6]], float)\n",
        "print(a)\n",
        "print(a.flatten())"
      ],
      "execution_count": 15,
      "outputs": [
        {
          "output_type": "stream",
          "text": [
            "[[1. 2. 3.]\n",
            " [4. 5. 6.]]\n",
            "[1. 2. 3. 4. 5. 6.]\n"
          ],
          "name": "stdout"
        }
      ]
    },
    {
      "cell_type": "markdown",
      "metadata": {
        "id": "fouMLkJBHrAi",
        "colab_type": "text"
      },
      "source": [
        "### Concatenate\n",
        "\n",
        "Два или больше массивов можно сконкатенировать при помощи метода **concatenate**"
      ]
    },
    {
      "cell_type": "code",
      "metadata": {
        "id": "eGRnYBOqHrAj",
        "colab_type": "code",
        "colab": {
          "base_uri": "https://localhost:8080/",
          "height": 35
        },
        "outputId": "9acc68ca-4671-4a40-a33e-de89536e3d37"
      },
      "source": [
        "a = np.array([1,2], float)\n",
        "b = np.array([3,4,5,6], float)\n",
        "c = np.array([7,8,9], float)\n",
        "print(np.concatenate((a, b, c)))"
      ],
      "execution_count": 16,
      "outputs": [
        {
          "output_type": "stream",
          "text": [
            "[1. 2. 3. 4. 5. 6. 7. 8. 9.]\n"
          ],
          "name": "stdout"
        }
      ]
    },
    {
      "cell_type": "markdown",
      "metadata": {
        "id": "7228BOzhHrAl",
        "colab_type": "text"
      },
      "source": [
        "Если массив не одномерный, можно задать ось, по которой будет происходить соединение. По умолчанию (не задавая значения оси), соединение будет происходить по первому измерению:\n"
      ]
    },
    {
      "cell_type": "code",
      "metadata": {
        "id": "Je4IPXPzHrAl",
        "colab_type": "code",
        "colab": {
          "base_uri": "https://localhost:8080/",
          "height": 191
        },
        "outputId": "f55bcbda-8093-4c80-aaf2-c7167939a8cb"
      },
      "source": [
        "a = np.array([[1, 2], [3, 4]], float)\n",
        "b = np.array([[5, 6], [7,8]], float)\n",
        "print(np.concatenate((a,b)))\n",
        "print(np.concatenate((a,b), axis=0))\n",
        "print(np.concatenate((a,b), axis=1))"
      ],
      "execution_count": 17,
      "outputs": [
        {
          "output_type": "stream",
          "text": [
            "[[1. 2.]\n",
            " [3. 4.]\n",
            " [5. 6.]\n",
            " [7. 8.]]\n",
            "[[1. 2.]\n",
            " [3. 4.]\n",
            " [5. 6.]\n",
            " [7. 8.]]\n",
            "[[1. 2. 5. 6.]\n",
            " [3. 4. 7. 8.]]\n"
          ],
          "name": "stdout"
        }
      ]
    },
    {
      "cell_type": "markdown",
      "metadata": {
        "id": "HLe3QxCLHrAn",
        "colab_type": "text"
      },
      "source": [
        "## Hstack и Vstack\n",
        "\n",
        "Несколько массивов могут быть объединены вместе вдоль разных осей с помощью функций hstack и vstack. hstack() объединяет массивы по первым осям, vstack() — по последним"
      ]
    },
    {
      "cell_type": "code",
      "metadata": {
        "id": "ECYXsI9HHrAo",
        "colab_type": "code",
        "colab": {
          "base_uri": "https://localhost:8080/",
          "height": 191
        },
        "outputId": "1e24200e-69c8-4334-c51b-08704f17e59a"
      },
      "source": [
        "a = np.array([[1, 2], [3, 4]])\n",
        "print(a)\n",
        "b = np.array([[5, 6], [7, 8]])\n",
        "print(b)\n",
        "print(np.vstack((a, b)))\n",
        "print(np.hstack((a, b)))"
      ],
      "execution_count": 18,
      "outputs": [
        {
          "output_type": "stream",
          "text": [
            "[[1 2]\n",
            " [3 4]]\n",
            "[[5 6]\n",
            " [7 8]]\n",
            "[[1 2]\n",
            " [3 4]\n",
            " [5 6]\n",
            " [7 8]]\n",
            "[[1 2 5 6]\n",
            " [3 4 7 8]]\n"
          ],
          "name": "stdout"
        }
      ]
    },
    {
      "cell_type": "markdown",
      "metadata": {
        "id": "WBhEJjL7HrAr",
        "colab_type": "text"
      },
      "source": [
        "## Column_stack и row_stack\n",
        "\n",
        "Функция column_stack() объединяет одномерные массивы в качестве столбцов двумерного массива. Аналогично для строк имеется функция row_stack()"
      ]
    },
    {
      "cell_type": "code",
      "metadata": {
        "id": "uFlisDG3HrAr",
        "colab_type": "code",
        "colab": {
          "base_uri": "https://localhost:8080/",
          "height": 52
        },
        "outputId": "c43c6a2b-5bee-44e1-ac88-85f34ff601dc"
      },
      "source": [
        "print(np.column_stack((a, b)))"
      ],
      "execution_count": 19,
      "outputs": [
        {
          "output_type": "stream",
          "text": [
            "[[1 2 5 6]\n",
            " [3 4 7 8]]\n"
          ],
          "name": "stdout"
        }
      ]
    },
    {
      "cell_type": "code",
      "metadata": {
        "id": "MhF91DDDHrAu",
        "colab_type": "code",
        "colab": {
          "base_uri": "https://localhost:8080/",
          "height": 87
        },
        "outputId": "f01e1e16-2b4e-40b6-ea3d-97563c477c6f"
      },
      "source": [
        "print(np.row_stack((a, b)))"
      ],
      "execution_count": 20,
      "outputs": [
        {
          "output_type": "stream",
          "text": [
            "[[1 2]\n",
            " [3 4]\n",
            " [5 6]\n",
            " [7 8]]\n"
          ],
          "name": "stdout"
        }
      ]
    },
    {
      "cell_type": "markdown",
      "metadata": {
        "id": "PGH5x1ahHrAw",
        "colab_type": "text"
      },
      "source": [
        "## Hsplit\n",
        "\n",
        "Разбиение массива\n",
        "Используя hsplit() вы можете разбить массив вдоль горизонтальной оси, указав либо число возвращаемых массивов одинаковой формы, либо номера столбцов, после которых массив разрезается \"ножницами\":\n"
      ]
    },
    {
      "cell_type": "code",
      "metadata": {
        "id": "asxnBeCnHrAx",
        "colab_type": "code",
        "colab": {
          "base_uri": "https://localhost:8080/",
          "height": 191
        },
        "outputId": "64106bb2-1c12-434a-cf3c-23d5d9ad9b53"
      },
      "source": [
        "a = np.arange(12).reshape((2, 6))\n",
        "print(a)\n",
        "print(np.hsplit(a, 3))  # Разбить на 3 части\n",
        "print(np.hsplit(a, (3, 4)))  # Разрезать a после третьего и четвёртого столбца"
      ],
      "execution_count": 21,
      "outputs": [
        {
          "output_type": "stream",
          "text": [
            "[[ 0  1  2  3  4  5]\n",
            " [ 6  7  8  9 10 11]]\n",
            "[array([[0, 1],\n",
            "       [6, 7]]), array([[2, 3],\n",
            "       [8, 9]]), array([[ 4,  5],\n",
            "       [10, 11]])]\n",
            "[array([[0, 1, 2],\n",
            "       [6, 7, 8]]), array([[3],\n",
            "       [9]]), array([[ 4,  5],\n",
            "       [10, 11]])]\n"
          ],
          "name": "stdout"
        }
      ]
    },
    {
      "cell_type": "markdown",
      "metadata": {
        "id": "scdF0tD1HrA1",
        "colab_type": "text"
      },
      "source": [
        "## Shuffle\n",
        "\n",
        "Перемешать NumPy массив можно с помощью функции shuffle"
      ]
    },
    {
      "cell_type": "code",
      "metadata": {
        "id": "H3WPCKt6HrA2",
        "colab_type": "code",
        "colab": {
          "base_uri": "https://localhost:8080/",
          "height": 52
        },
        "outputId": "1be1a73b-9914-4a47-9445-af72892ffe64"
      },
      "source": [
        "import random as rand\n",
        "a = np.arange(10)\n",
        "print(a)\n",
        "rand.shuffle(a)\n",
        "print(a)"
      ],
      "execution_count": 23,
      "outputs": [
        {
          "output_type": "stream",
          "text": [
            "[0 1 2 3 4 5 6 7 8 9]\n",
            "[2 4 3 5 8 0 9 7 6 1]\n"
          ],
          "name": "stdout"
        }
      ]
    },
    {
      "cell_type": "markdown",
      "metadata": {
        "id": "tfyTnUAkHrA6",
        "colab_type": "text"
      },
      "source": [
        "### Метод newaxis\n",
        "\n",
        "В заключении, размерность массива может быть увеличена при использовании константы newaxis в квадратных скобках\n"
      ]
    },
    {
      "cell_type": "code",
      "metadata": {
        "id": "Ggj-Q3rQHrA7",
        "colab_type": "code",
        "colab": {
          "base_uri": "https://localhost:8080/",
          "height": 156
        },
        "outputId": "44489e9f-210b-4a0d-9929-1afb2b0d39df"
      },
      "source": [
        "a = np.array([1, 2, 3], float)\n",
        "print(a)\n",
        "print(a[:,np.newaxis])\n",
        "print(a[:,np.newaxis].shape)\n",
        "\n",
        "print(b[np.newaxis,:])\n",
        "print(b[np.newaxis,:].shape)"
      ],
      "execution_count": 24,
      "outputs": [
        {
          "output_type": "stream",
          "text": [
            "[1. 2. 3.]\n",
            "[[1.]\n",
            " [2.]\n",
            " [3.]]\n",
            "(3, 1)\n",
            "[[[5 6]\n",
            "  [7 8]]]\n",
            "(1, 2, 2)\n"
          ],
          "name": "stdout"
        }
      ]
    },
    {
      "cell_type": "markdown",
      "metadata": {
        "id": "331I5DmXHrA9",
        "colab_type": "text"
      },
      "source": [
        "## [Модуль NumPy.random](https://docs.scipy.org/doc/numpy-1.15.0/reference/routines.random.html)\n",
        "\n",
        "Модуль random используется генерации псевдослучайных чисел. Числа являются псевдо случайными, в том плане что, они сгенерированы детерминистически из порождающего элемента (**seed number**), но рассредоточены в статистическом сходстве с случайным образом. Для генерации NumPy использует особенный алгоритм который имеет название Mersenne Twister.\n",
        "\n"
      ]
    },
    {
      "cell_type": "code",
      "metadata": {
        "id": "gy9anmWLHrA-",
        "colab_type": "code",
        "colab": {
          "base_uri": "https://localhost:8080/",
          "height": 52
        },
        "outputId": "e1c874c4-5e3e-4110-b616-11849f3de706"
      },
      "source": [
        "print(np.random)\n",
        "\n",
        "import numpy.random as rand  # можно присвоить отдельное имя\n",
        "print(rand)"
      ],
      "execution_count": 25,
      "outputs": [
        {
          "output_type": "stream",
          "text": [
            "<module 'numpy.random' from '/usr/local/lib/python3.6/dist-packages/numpy/random/__init__.py'>\n",
            "<module 'numpy.random' from '/usr/local/lib/python3.6/dist-packages/numpy/random/__init__.py'>\n"
          ],
          "name": "stdout"
        }
      ]
    },
    {
      "cell_type": "code",
      "metadata": {
        "id": "iRW5npokHrBA",
        "colab_type": "code",
        "colab": {
          "base_uri": "https://localhost:8080/",
          "height": 69
        },
        "outputId": "d2b46edb-aa3d-4fc3-c5ef-b8ffa9184405"
      },
      "source": [
        "rand.seed(5) # задаем пораждающий элемент\n",
        "print(rand.randn(4))\n",
        "rand.seed(5) # задаем пораждающий элемент\n",
        "print(rand.randn(4))\n",
        "rand.seed(3) # задаем пораждающий элемент\n",
        "print(rand.randn(4))"
      ],
      "execution_count": 26,
      "outputs": [
        {
          "output_type": "stream",
          "text": [
            "[ 0.44122749 -0.33087015  2.43077119 -0.25209213]\n",
            "[ 0.44122749 -0.33087015  2.43077119 -0.25209213]\n",
            "[ 1.78862847  0.43650985  0.09649747 -1.8634927 ]\n"
          ],
          "name": "stdout"
        }
      ]
    },
    {
      "cell_type": "markdown",
      "metadata": {
        "id": "oRNVOPBeHrBC",
        "colab_type": "text"
      },
      "source": [
        "**Seed** это целое число. Каждая программа которая запускается с одинаковым seed будет генерировать одинаковую последовательность чисел каждый раз. Это может быть полезно для отладки. Если эта команда не будет выполнена, то NumPy автоматически выбирает случайный seed (базирующийся на времени), который является разным при каждом запуске программы."
      ]
    },
    {
      "cell_type": "code",
      "metadata": {
        "id": "Ukq9Tm_VHrBD",
        "colab_type": "code",
        "colab": {
          "base_uri": "https://localhost:8080/",
          "height": 87
        },
        "outputId": "70178354-a642-4927-fc37-4ffb7d28e55f"
      },
      "source": [
        "print(rand.randn(4, 5))"
      ],
      "execution_count": 27,
      "outputs": [
        {
          "output_type": "stream",
          "text": [
            "[[-0.2773882  -0.35475898 -0.08274148 -0.62700068 -0.04381817]\n",
            " [-0.47721803 -1.31386475  0.88462238  0.88131804  1.70957306]\n",
            " [ 0.05003364 -0.40467741 -0.54535995 -1.54647732  0.98236743]\n",
            " [-1.10106763 -1.18504653 -0.2056499   1.48614836  0.23671627]]\n"
          ],
          "name": "stdout"
        }
      ]
    },
    {
      "cell_type": "code",
      "metadata": {
        "id": "UfK6gBNNHrBG",
        "colab_type": "code",
        "colab": {
          "base_uri": "https://localhost:8080/",
          "height": 52
        },
        "outputId": "78d8a999-db4a-4c29-81fb-1278233cdbc4"
      },
      "source": [
        "rand.rand(6).reshape((2,3)) "
      ],
      "execution_count": 28,
      "outputs": [
        {
          "output_type": "execute_result",
          "data": {
            "text/plain": [
              "array([[0.30636353, 0.22195788, 0.38797126],\n",
              "       [0.93638365, 0.97599542, 0.67238368]])"
            ]
          },
          "metadata": {
            "tags": []
          },
          "execution_count": 28
        }
      ]
    },
    {
      "cell_type": "markdown",
      "metadata": {
        "id": "2_DV365mHrBI",
        "colab_type": "text"
      },
      "source": [
        "# Создание массивов (2)"
      ]
    },
    {
      "cell_type": "markdown",
      "metadata": {
        "id": "5ahRn7l0HrBK",
        "colab_type": "text"
      },
      "source": [
        "## Arange\n",
        "\n",
        "Функция **arange** аналогична по своему назначению функции **range** из стандартной библиотеки Python. Ее основное отличие заключается в том, что **arange** позволяет строить вектор с указанием шага в виде десятичной дроби.\n",
        "\n",
        "Синтаксис использования функции следующий:\n",
        "\n",
        "arange(stop)\n",
        "\n",
        "arange(start, stop)\n",
        "\n",
        "arange(start, stop, step)"
      ]
    },
    {
      "cell_type": "code",
      "metadata": {
        "id": "PqLBD3xQHrBM",
        "colab_type": "code",
        "colab": {
          "base_uri": "https://localhost:8080/",
          "height": 52
        },
        "outputId": "f4eac47c-c208-4ab4-8620-f78a63d0b9b2"
      },
      "source": [
        "a = np.arange(5, dtype=float)\n",
        "print(a)\n",
        "b = np.arange(1, 6, 2, dtype=int)\n",
        "print(b)"
      ],
      "execution_count": 29,
      "outputs": [
        {
          "output_type": "stream",
          "text": [
            "[0. 1. 2. 3. 4.]\n",
            "[1 3 5]\n"
          ],
          "name": "stdout"
        }
      ]
    },
    {
      "cell_type": "markdown",
      "metadata": {
        "id": "Lw_lKOz3HrBO",
        "colab_type": "text"
      },
      "source": [
        "# Задание 1: \n",
        "\n",
        "Опишите результат работы следующей ячейки (создайте новую ячейку типа Markdown и опишите в ней результат)"
      ]
    },
    {
      "cell_type": "code",
      "metadata": {
        "id": "hbGc8cQSHrBQ",
        "colab_type": "code",
        "colab": {
          "base_uri": "https://localhost:8080/",
          "height": 104
        },
        "outputId": "27d61ed1-df50-45b9-d9bd-bdb07bbdea87"
      },
      "source": [
        "print(np.arange(0, 8, 0.1))"
      ],
      "execution_count": 30,
      "outputs": [
        {
          "output_type": "stream",
          "text": [
            "[0.  0.1 0.2 0.3 0.4 0.5 0.6 0.7 0.8 0.9 1.  1.1 1.2 1.3 1.4 1.5 1.6 1.7\n",
            " 1.8 1.9 2.  2.1 2.2 2.3 2.4 2.5 2.6 2.7 2.8 2.9 3.  3.1 3.2 3.3 3.4 3.5\n",
            " 3.6 3.7 3.8 3.9 4.  4.1 4.2 4.3 4.4 4.5 4.6 4.7 4.8 4.9 5.  5.1 5.2 5.3\n",
            " 5.4 5.5 5.6 5.7 5.8 5.9 6.  6.1 6.2 6.3 6.4 6.5 6.6 6.7 6.8 6.9 7.  7.1\n",
            " 7.2 7.3 7.4 7.5 7.6 7.7 7.8 7.9]\n"
          ],
          "name": "stdout"
        }
      ]
    },
    {
      "cell_type": "markdown",
      "metadata": {
        "id": "1fvG5U2LKS4p",
        "colab_type": "text"
      },
      "source": [
        "Здесь создается новый одномерный ndarray, заполняемый числами от 0 до 8 с шагом 0.1.\n"
      ]
    },
    {
      "cell_type": "markdown",
      "metadata": {
        "id": "hxFSGuz7HrBR",
        "colab_type": "text"
      },
      "source": [
        "## Zeros и Ones\n",
        "\n",
        "Функции zeros и ones создают новые массивы с установленной размерностью, заполненные этими значениями. Это, наверное, самые простые в использовании функции для создания массивов"
      ]
    },
    {
      "cell_type": "code",
      "metadata": {
        "id": "wvmm7dTPHrBS",
        "colab_type": "code",
        "colab": {
          "base_uri": "https://localhost:8080/",
          "height": 69
        },
        "outputId": "1c23ad4f-ee10-48f1-f806-53e01aea3c93"
      },
      "source": [
        "print(np.ones((2,3), dtype=float))\n",
        "print(np.zeros(7, dtype=int))"
      ],
      "execution_count": 31,
      "outputs": [
        {
          "output_type": "stream",
          "text": [
            "[[1. 1. 1.]\n",
            " [1. 1. 1.]]\n",
            "[0 0 0 0 0 0 0]\n"
          ],
          "name": "stdout"
        }
      ]
    },
    {
      "cell_type": "markdown",
      "metadata": {
        "id": "XrnuW8FSHrBV",
        "colab_type": "text"
      },
      "source": [
        "## Zeros_like и Ones_like\n",
        "\n",
        "Функции zeros_like и ones_like могут преобразовать уже созданный массив, заполнив его нулями и единицами соответственно"
      ]
    },
    {
      "cell_type": "code",
      "metadata": {
        "id": "dqhIYCBhHrBW",
        "colab_type": "code",
        "colab": {
          "base_uri": "https://localhost:8080/",
          "height": 121
        },
        "outputId": "407e3ffb-31a7-4877-aa77-724d1d07ad24"
      },
      "source": [
        "a = np.array([[1, 2, 3], [4, 5, 6]], float)\n",
        "print(a)\n",
        "print(np.zeros_like(a))\n",
        "print(np.ones_like(a))"
      ],
      "execution_count": 32,
      "outputs": [
        {
          "output_type": "stream",
          "text": [
            "[[1. 2. 3.]\n",
            " [4. 5. 6.]]\n",
            "[[0. 0. 0.]\n",
            " [0. 0. 0.]]\n",
            "[[1. 1. 1.]\n",
            " [1. 1. 1.]]\n"
          ],
          "name": "stdout"
        }
      ]
    },
    {
      "cell_type": "markdown",
      "metadata": {
        "id": "q9QUFVUGHrBY",
        "colab_type": "text"
      },
      "source": [
        "## Identity\n",
        "\n",
        "Для создания квадратной матрицы с главной диагональю, которая заполненная единицами, воспользуемся методом identity"
      ]
    },
    {
      "cell_type": "code",
      "metadata": {
        "id": "8RgRmAssHrBY",
        "colab_type": "code",
        "colab": {
          "base_uri": "https://localhost:8080/",
          "height": 87
        },
        "outputId": "33d4026a-49cf-4a48-8387-c2a263f30903"
      },
      "source": [
        "print(np.identity(4, dtype=float))"
      ],
      "execution_count": 33,
      "outputs": [
        {
          "output_type": "stream",
          "text": [
            "[[1. 0. 0. 0.]\n",
            " [0. 1. 0. 0.]\n",
            " [0. 0. 1. 0.]\n",
            " [0. 0. 0. 1.]]\n"
          ],
          "name": "stdout"
        }
      ]
    },
    {
      "cell_type": "markdown",
      "metadata": {
        "id": "Eog9Iwi4HrBb",
        "colab_type": "text"
      },
      "source": [
        "## Eye\n",
        "Функция eye возвращает матрицу с единичками на к-атой диагонали"
      ]
    },
    {
      "cell_type": "code",
      "metadata": {
        "id": "vI4pwIrMHrBd",
        "colab_type": "code",
        "colab": {
          "base_uri": "https://localhost:8080/",
          "height": 87
        },
        "outputId": "3ab894f9-f8dc-4c0b-cc04-7aabaed0ee7d"
      },
      "source": [
        "print(np.eye(4, k=1, dtype=float))"
      ],
      "execution_count": 34,
      "outputs": [
        {
          "output_type": "stream",
          "text": [
            "[[0. 1. 0. 0.]\n",
            " [0. 0. 1. 0.]\n",
            " [0. 0. 0. 1.]\n",
            " [0. 0. 0. 0.]]\n"
          ],
          "name": "stdout"
        }
      ]
    },
    {
      "cell_type": "markdown",
      "metadata": {
        "id": "4cPYZurYHrBg",
        "colab_type": "text"
      },
      "source": [
        "## Базовые операции\n"
      ]
    },
    {
      "cell_type": "code",
      "metadata": {
        "id": "6pi9pBkAHrBh",
        "colab_type": "code",
        "colab": {
          "base_uri": "https://localhost:8080/",
          "height": 69
        },
        "outputId": "b7f42296-78c7-4e80-c70a-162daa95366d"
      },
      "source": [
        "print (y)\n",
        "print(type(y))\n",
        "print(y[y>3])"
      ],
      "execution_count": 38,
      "outputs": [
        {
          "output_type": "stream",
          "text": [
            "[2 3 4 6]\n",
            "<class 'numpy.ndarray'>\n",
            "[4 6]\n"
          ],
          "name": "stdout"
        }
      ]
    },
    {
      "cell_type": "code",
      "metadata": {
        "id": "Ad5jpqMYHrBj",
        "colab_type": "code",
        "colab": {
          "base_uri": "https://localhost:8080/",
          "height": 69
        },
        "outputId": "91672f28-7c52-4c26-d9d3-9d889d3bc5dd"
      },
      "source": [
        "print (x)\n",
        "print(type(x))\n",
        "print(x * 5)"
      ],
      "execution_count": 39,
      "outputs": [
        {
          "output_type": "stream",
          "text": [
            "[2, 3, 4, 6]\n",
            "<class 'list'>\n",
            "[2, 3, 4, 6, 2, 3, 4, 6, 2, 3, 4, 6, 2, 3, 4, 6, 2, 3, 4, 6]\n"
          ],
          "name": "stdout"
        }
      ]
    },
    {
      "cell_type": "code",
      "metadata": {
        "id": "KZ9WeREDHrBo",
        "colab_type": "code",
        "colab": {
          "base_uri": "https://localhost:8080/",
          "height": 52
        },
        "outputId": "61428d09-9f31-402d-cc43-9ded5d12f5b7"
      },
      "source": [
        "print (y)\n",
        "print(y * 5)"
      ],
      "execution_count": 37,
      "outputs": [
        {
          "output_type": "stream",
          "text": [
            "[2 3 4 6]\n",
            "[10 15 20 30]\n"
          ],
          "name": "stdout"
        }
      ]
    },
    {
      "cell_type": "code",
      "metadata": {
        "id": "YzHTKVqxHrBs",
        "colab_type": "code",
        "colab": {
          "base_uri": "https://localhost:8080/",
          "height": 201
        },
        "outputId": "e4b9bdd6-1055-40af-e49a-0d10f7321c4f"
      },
      "source": [
        "print (x)\n",
        "print(x ** 2)"
      ],
      "execution_count": 40,
      "outputs": [
        {
          "output_type": "stream",
          "text": [
            "[2, 3, 4, 6]\n"
          ],
          "name": "stdout"
        },
        {
          "output_type": "error",
          "ename": "TypeError",
          "evalue": "ignored",
          "traceback": [
            "\u001b[0;31m---------------------------------------------------------------------------\u001b[0m",
            "\u001b[0;31mTypeError\u001b[0m                                 Traceback (most recent call last)",
            "\u001b[0;32m<ipython-input-40-bc94d6ee549b>\u001b[0m in \u001b[0;36m<module>\u001b[0;34m()\u001b[0m\n\u001b[1;32m      1\u001b[0m \u001b[0mprint\u001b[0m \u001b[0;34m(\u001b[0m\u001b[0mx\u001b[0m\u001b[0;34m)\u001b[0m\u001b[0;34m\u001b[0m\u001b[0;34m\u001b[0m\u001b[0m\n\u001b[0;32m----> 2\u001b[0;31m \u001b[0mprint\u001b[0m\u001b[0;34m(\u001b[0m\u001b[0mx\u001b[0m \u001b[0;34m**\u001b[0m \u001b[0;36m2\u001b[0m\u001b[0;34m)\u001b[0m\u001b[0;34m\u001b[0m\u001b[0;34m\u001b[0m\u001b[0m\n\u001b[0m",
            "\u001b[0;31mTypeError\u001b[0m: unsupported operand type(s) for ** or pow(): 'list' and 'int'"
          ]
        }
      ]
    },
    {
      "cell_type": "code",
      "metadata": {
        "id": "sGT4b2G2HrB0",
        "colab_type": "code",
        "colab": {
          "base_uri": "https://localhost:8080/",
          "height": 52
        },
        "outputId": "c5f77e3a-bcf6-4ddc-adbc-bb732d682579"
      },
      "source": [
        "print (y)\n",
        "print(y ** 2)"
      ],
      "execution_count": 41,
      "outputs": [
        {
          "output_type": "stream",
          "text": [
            "[2 3 4 6]\n",
            "[ 4  9 16 36]\n"
          ],
          "name": "stdout"
        }
      ]
    },
    {
      "cell_type": "markdown",
      "metadata": {
        "id": "yvJ_Wg1YHrB2",
        "colab_type": "text"
      },
      "source": [
        "Математические операции над массивами выполняются поэлементно. \n",
        "\n",
        "Создается новый массив, который заполняется результатами действия оператора."
      ]
    },
    {
      "cell_type": "markdown",
      "metadata": {
        "id": "rDYqF1RuHrB3",
        "colab_type": "text"
      },
      "source": [
        "## Вывод \n",
        "\n",
        "Одномерные массивы осуществляют операции индексирования, срезов и итераций схожим образом с обычными списками и другими последовательностями Python (удалять с помощью срезов нельзя)."
      ]
    },
    {
      "cell_type": "code",
      "metadata": {
        "id": "8pyrgHrjHrB4",
        "colab_type": "code",
        "colab": {
          "base_uri": "https://localhost:8080/",
          "height": 52
        },
        "outputId": "d50998ae-a9ed-4e43-b756-78e024f0548b"
      },
      "source": [
        "print(x)\n",
        "print(x[1:3])"
      ],
      "execution_count": 42,
      "outputs": [
        {
          "output_type": "stream",
          "text": [
            "[2, 3, 4, 6]\n",
            "[3, 4]\n"
          ],
          "name": "stdout"
        }
      ]
    },
    {
      "cell_type": "code",
      "metadata": {
        "id": "BV070whfHrB7",
        "colab_type": "code",
        "colab": {
          "base_uri": "https://localhost:8080/",
          "height": 52
        },
        "outputId": "c6065fd7-092f-4b4c-e5eb-971f316f5d65"
      },
      "source": [
        "print(y)\n",
        "print(y[1:3])"
      ],
      "execution_count": 43,
      "outputs": [
        {
          "output_type": "stream",
          "text": [
            "[2 3 4 6]\n",
            "[3 4]\n"
          ],
          "name": "stdout"
        }
      ]
    },
    {
      "cell_type": "code",
      "metadata": {
        "id": "6bRdRj0lHrCD",
        "colab_type": "code",
        "colab": {
          "base_uri": "https://localhost:8080/",
          "height": 201
        },
        "outputId": "a657457c-c898-4382-8b2c-c8a8990d5d6b"
      },
      "source": [
        "print(x)\n",
        "print(x[[0, 2]])"
      ],
      "execution_count": 44,
      "outputs": [
        {
          "output_type": "stream",
          "text": [
            "[2, 3, 4, 6]\n"
          ],
          "name": "stdout"
        },
        {
          "output_type": "error",
          "ename": "TypeError",
          "evalue": "ignored",
          "traceback": [
            "\u001b[0;31m---------------------------------------------------------------------------\u001b[0m",
            "\u001b[0;31mTypeError\u001b[0m                                 Traceback (most recent call last)",
            "\u001b[0;32m<ipython-input-44-3d44c1a99c79>\u001b[0m in \u001b[0;36m<module>\u001b[0;34m()\u001b[0m\n\u001b[1;32m      1\u001b[0m \u001b[0mprint\u001b[0m\u001b[0;34m(\u001b[0m\u001b[0mx\u001b[0m\u001b[0;34m)\u001b[0m\u001b[0;34m\u001b[0m\u001b[0;34m\u001b[0m\u001b[0m\n\u001b[0;32m----> 2\u001b[0;31m \u001b[0mprint\u001b[0m\u001b[0;34m(\u001b[0m\u001b[0mx\u001b[0m\u001b[0;34m[\u001b[0m\u001b[0;34m[\u001b[0m\u001b[0;36m0\u001b[0m\u001b[0;34m,\u001b[0m \u001b[0;36m2\u001b[0m\u001b[0;34m]\u001b[0m\u001b[0;34m]\u001b[0m\u001b[0;34m)\u001b[0m\u001b[0;34m\u001b[0m\u001b[0;34m\u001b[0m\u001b[0m\n\u001b[0m",
            "\u001b[0;31mTypeError\u001b[0m: list indices must be integers or slices, not list"
          ]
        }
      ]
    },
    {
      "cell_type": "code",
      "metadata": {
        "id": "owNy5mDtHrCH",
        "colab_type": "code",
        "colab": {
          "base_uri": "https://localhost:8080/",
          "height": 52
        },
        "outputId": "34d59e6f-fbb7-4686-b2c4-a291ddc18fa2"
      },
      "source": [
        "print(y)\n",
        "print(y[[0, 2]])"
      ],
      "execution_count": 45,
      "outputs": [
        {
          "output_type": "stream",
          "text": [
            "[2 3 4 6]\n",
            "[2 4]\n"
          ],
          "name": "stdout"
        }
      ]
    },
    {
      "cell_type": "markdown",
      "metadata": {
        "id": "P9ljnUrmHrCJ",
        "colab_type": "text"
      },
      "source": [
        "## Задания\n",
        "\n",
        "1) Даны 2 массива A (8x3) и B (2x2). Найти строки в A, которые содержат элементы из каждой строки в B, независимо от порядка элементов в B\n",
        "\n",
        "\n",
        "2) Создайте массив из 1000 элементов со случайными значениями в диапазоне от [1, 10000]. Вывести n наибольших значений в массиве\n",
        "\n",
        "\n",
        "3) Создайте матрицу (90х76) со случайными значениями в диапазоне от [1, 10000]. Посчитайте ранг матрицы.\n"
      ]
    },
    {
      "cell_type": "code",
      "metadata": {
        "id": "O-2CkJbVLI8X",
        "colab_type": "code",
        "colab": {
          "base_uri": "https://localhost:8080/",
          "height": 69
        },
        "outputId": "55e33849-4854-40d6-d9dd-2e4537b436bb"
      },
      "source": [
        "\"\"\"Задание 1\"\"\"\n",
        "\n",
        "a = np.array([[1,2,3],[4,5,6],[7,8,9],[1,2,3],[3,2,1],[4,5,6],[7,8,9],[2,2,3]])\n",
        "b = np.array([[1,2],[3,1]])\n",
        "c = set(b.flatten())\n",
        "for i in range (0,len(a)):\n",
        "  if len(set(a[i]) ^ c) == 0:\n",
        "    print(\"Row\",i + 1,\":\",a[i])"
      ],
      "execution_count": 68,
      "outputs": [
        {
          "output_type": "stream",
          "text": [
            "Row 1 : [1 2 3]\n",
            "Row 4 : [1 2 3]\n",
            "Row 5 : [3 2 1]\n"
          ],
          "name": "stdout"
        }
      ]
    },
    {
      "cell_type": "code",
      "metadata": {
        "id": "d_-wWDiaNFop",
        "colab_type": "code",
        "colab": {
          "base_uri": "https://localhost:8080/",
          "height": 52
        },
        "outputId": "f2a6ebf2-fa20-4552-ddbf-43b906567101"
      },
      "source": [
        "\"\"\"Задание 2\"\"\"\n",
        "\n",
        "r = rand.randint(0, 10000, 1000)\n",
        "n = int(input(\"Введите n >> \"))\n",
        "r.sort()\n",
        "print(r[-n:])"
      ],
      "execution_count": 69,
      "outputs": [
        {
          "output_type": "stream",
          "text": [
            "Введите n >> 10\n",
            "[9856 9884 9893 9903 9910 9976 9981 9985 9991 9992]\n"
          ],
          "name": "stdout"
        }
      ]
    },
    {
      "cell_type": "code",
      "metadata": {
        "id": "dN_coZVHNFmW",
        "colab_type": "code",
        "colab": {
          "base_uri": "https://localhost:8080/",
          "height": 35
        },
        "outputId": "8329756f-f84e-4c43-9399-2cd158c8f902"
      },
      "source": [
        "\"\"\"Задание 3\"\"\"\n",
        "\n",
        "matrix = rand.randint(0, 10000, 90*76).reshape((90,76))\n",
        "matrix.shape\n",
        "print(np.linalg.matrix_rank(matrix))"
      ],
      "execution_count": 73,
      "outputs": [
        {
          "output_type": "stream",
          "text": [
            "76\n"
          ],
          "name": "stdout"
        }
      ]
    },
    {
      "cell_type": "markdown",
      "metadata": {
        "id": "WckzCIBrHrCJ",
        "colab_type": "text"
      },
      "source": [
        "# [Модуль linalg](https://docs.scipy.org/doc/numpy/reference/routines.linalg.html)\n",
        "\n",
        "\n",
        "### Возведение в степень\n",
        "linalg.matrix_power(M, n) - возводит матрицу в степень n.\n",
        "\n",
        "### Разложения\n",
        "linalg.cholesky(a) - разложение Холецкого.\n",
        "\n",
        "linalg.qr(a[, mode]) - QR разложение.\n",
        "\n",
        "linalg.svd(a[, full_matrices, compute_uv]) - сингулярное разложение.\n",
        "\n",
        "\n",
        "linalg.eig(a) - собственные значения и собственные векторы.\n",
        "\n",
        "linalg.norm(x[, ord, axis]) - норма вектора или оператора.\n",
        "\n",
        "linalg.cond(x[, p]) - число обусловленности.\n",
        "\n",
        "linalg.det(a) - определитель.\n",
        "\n",
        "linalg.slogdet(a) - знак и логарифм определителя (для избежания переполнения, если сам определитель очень маленький).\n",
        "\n",
        "### Системы уравнений\n",
        "linalg.solve(a, b) - решает систему линейных уравнений Ax = b.\n",
        "\n",
        "linalg.tensorsolve(a, b[, axes]) - решает тензорную систему линейных уравнений Ax = b.\n",
        "\n",
        "linalg.lstsq(a, b[, rcond]) - метод наименьших квадратов.\n",
        "\n",
        "linalg.inv(a) - обратная матрица."
      ]
    },
    {
      "cell_type": "markdown",
      "metadata": {
        "id": "VFge14KvHrCK",
        "colab_type": "text"
      },
      "source": [
        "## Задания\n",
        "\n",
        "Используя модуль linalg выполните расчеты над автоматически генерируемой вектором/матрицей:\n",
        "\n",
        "1) Решите систему линейных уравнений Ax = b\n",
        "\n",
        "2) Посчитать определитель матрицы\n",
        "\n",
        "3) Определить норму вектора\n",
        "\n",
        "4) Возведите матрицу в степень n\n",
        "\n",
        "5) Выведите обратную матрицу"
      ]
    },
    {
      "cell_type": "code",
      "metadata": {
        "id": "eB7sejREHrCL",
        "colab_type": "code",
        "colab": {}
      },
      "source": [
        "import numpy.linalg as alg"
      ],
      "execution_count": 0,
      "outputs": []
    },
    {
      "cell_type": "code",
      "metadata": {
        "id": "hNZ0HCZePlep",
        "colab_type": "code",
        "colab": {
          "base_uri": "https://localhost:8080/",
          "height": 191
        },
        "outputId": "a09b05ab-fb6f-49e6-a660-3588eb23d3a7"
      },
      "source": [
        "a = rand.randint(0, 100, 25).reshape((5,5))\n",
        "b = rand.randint(0, 100, 5).reshape((5,1))\n",
        "print(a)\n",
        "print(b)"
      ],
      "execution_count": 76,
      "outputs": [
        {
          "output_type": "stream",
          "text": [
            "[[52 11 34 80 38]\n",
            " [77 45 76 81 49]\n",
            " [98 63 75 95 31]\n",
            " [97  1 62 97 99]\n",
            " [ 3 37 54 96 75]]\n",
            "[[36]\n",
            " [ 4]\n",
            " [77]\n",
            " [56]\n",
            " [26]]\n"
          ],
          "name": "stdout"
        }
      ]
    },
    {
      "cell_type": "code",
      "metadata": {
        "id": "YE2L2MFtQDLn",
        "colab_type": "code",
        "colab": {
          "base_uri": "https://localhost:8080/",
          "height": 104
        },
        "outputId": "ee44810c-54a1-44eb-d005-e1c3aa8014cc"
      },
      "source": [
        "print(alg.solve(a,b))  # Task 1"
      ],
      "execution_count": 77,
      "outputs": [
        {
          "output_type": "stream",
          "text": [
            "[[ 1.70982169]\n",
            " [ 3.87788481]\n",
            " [-5.49695689]\n",
            " [ 0.09742802]\n",
            " [ 2.19828506]]\n"
          ],
          "name": "stdout"
        }
      ]
    },
    {
      "cell_type": "code",
      "metadata": {
        "id": "h9EFq0zXQMwX",
        "colab_type": "code",
        "colab": {
          "base_uri": "https://localhost:8080/",
          "height": 35
        },
        "outputId": "a55bc7d7-2107-49c7-9fcc-8a19f3bc0cc3"
      },
      "source": [
        "print(alg.det(a))  # Task 2"
      ],
      "execution_count": 78,
      "outputs": [
        {
          "output_type": "stream",
          "text": [
            "217998036.0000004\n"
          ],
          "name": "stdout"
        }
      ]
    },
    {
      "cell_type": "code",
      "metadata": {
        "id": "yxsyQBUkQZF9",
        "colab_type": "code",
        "colab": {
          "base_uri": "https://localhost:8080/",
          "height": 35
        },
        "outputId": "e780b5c0-0450-4a99-c08d-5d7f30d9c9f3"
      },
      "source": [
        "print(alg.norm(b))  # Task 3"
      ],
      "execution_count": 80,
      "outputs": [
        {
          "output_type": "stream",
          "text": [
            "105.13324878457813\n"
          ],
          "name": "stdout"
        }
      ]
    },
    {
      "cell_type": "code",
      "metadata": {
        "id": "zKXObPKeQmwl",
        "colab_type": "code",
        "colab": {
          "base_uri": "https://localhost:8080/",
          "height": 121
        },
        "outputId": "654f4f79-fce0-4f62-e5af-781f044c5725"
      },
      "source": [
        "n = int(input(\"Enter n>> \"))\n",
        "print(alg.matrix_power(a, n))  # Task 4"
      ],
      "execution_count": 83,
      "outputs": [
        {
          "output_type": "stream",
          "text": [
            "Enter n>> 1\n",
            "[[52 11 34 80 38]\n",
            " [77 45 76 81 49]\n",
            " [98 63 75 95 31]\n",
            " [97  1 62 97 99]\n",
            " [ 3 37 54 96 75]]\n"
          ],
          "name": "stdout"
        }
      ]
    },
    {
      "cell_type": "code",
      "metadata": {
        "id": "hEES3sruQ4Uv",
        "colab_type": "code",
        "colab": {
          "base_uri": "https://localhost:8080/",
          "height": 191
        },
        "outputId": "f6c1015f-afcb-4ccc-b883-d54dbc327bc6"
      },
      "source": [
        "print(alg.inv(a))  # Task 5"
      ],
      "execution_count": 84,
      "outputs": [
        {
          "output_type": "stream",
          "text": [
            "[[-1.16871053e-02 -2.24119588e-02  2.11218875e-02  1.31986740e-02\n",
            "  -5.58868338e-03]\n",
            " [-4.87537420e-02 -6.25168201e-02  5.74801876e-02  1.70955302e-02\n",
            "   1.92216411e-02]\n",
            " [ 3.21775651e-02  9.78747487e-02 -6.56765825e-02 -2.80952118e-02\n",
            "  -1.60161351e-02]\n",
            " [ 3.18439750e-02 -9.02301707e-05 -5.89478705e-03 -1.10740906e-02\n",
            "   9.78981297e-04]\n",
            " [-3.94088046e-02 -3.86162149e-02  2.56306988e-02  2.54416466e-02\n",
            "   1.43527256e-02]]\n"
          ],
          "name": "stdout"
        }
      ]
    }
  ]
}