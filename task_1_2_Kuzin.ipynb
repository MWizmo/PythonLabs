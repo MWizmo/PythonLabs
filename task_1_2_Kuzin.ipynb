{
  "nbformat": 4,
  "nbformat_minor": 0,
  "metadata": {
    "kernelspec": {
      "display_name": "Python 3",
      "language": "python",
      "name": "python3"
    },
    "language_info": {
      "codemirror_mode": {
        "name": "ipython",
        "version": 3
      },
      "file_extension": ".py",
      "mimetype": "text/x-python",
      "name": "python",
      "nbconvert_exporter": "python",
      "pygments_lexer": "ipython3",
      "version": "3.7.3"
    },
    "colab": {
      "name": "task1_2_Kuzin.ipynb",
      "version": "0.3.2",
      "provenance": []
    }
  },
  "cells": [
    {
      "cell_type": "markdown",
      "metadata": {
        "id": "O4k4R80QDIVt",
        "colab_type": "text"
      },
      "source": [
        "Для ввода данных в программу используется функция **input()**. Функция считывает одну строку.\n",
        "\n",
        "Вот программа, которая считывает имя пользователя и приветствует его:"
      ]
    },
    {
      "cell_type": "code",
      "metadata": {
        "id": "Kz8C7wx-DIVw",
        "colab_type": "code",
        "colab": {
          "base_uri": "https://localhost:8080/",
          "height": 69
        },
        "outputId": "f941e115-b630-4526-d49e-ff8cfe80a0ee"
      },
      "source": [
        "print('Как вас зовут?')\n",
        "name = input()  # считываем строку и кладём её в переменную name\n",
        "print('Здравствуйте, ' + name + '!')"
      ],
      "execution_count": 1,
      "outputs": [
        {
          "output_type": "stream",
          "text": [
            "Как вас зовут?\n",
            "Andrey\n",
            "Здравствуйте, Andrey!\n"
          ],
          "name": "stdout"
        }
      ]
    },
    {
      "cell_type": "markdown",
      "metadata": {
        "id": "RyjP-aIvDIV2",
        "colab_type": "text"
      },
      "source": [
        "Напишите программу, которая считывает два числа и выводит их сумму. \n",
        "Для этого считаем два числа и сохраним их в переменные a и b, пользуясь оператором присваивания =. \n",
        "Выполните представленные ниже инструкции: a=3, b=4"
      ]
    },
    {
      "cell_type": "code",
      "metadata": {
        "id": "-qTgyFD1DIV3",
        "colab_type": "code",
        "colab": {
          "base_uri": "https://localhost:8080/",
          "height": 69
        },
        "outputId": "e35d971b-cf68-493a-80bf-414686222976"
      },
      "source": [
        "a = input()\n",
        "b = input()\n",
        "c = a + b\n",
        "print(c)"
      ],
      "execution_count": 2,
      "outputs": [
        {
          "output_type": "stream",
          "text": [
            "3\n",
            "4\n",
            "34\n"
          ],
          "name": "stdout"
        }
      ]
    },
    {
      "cell_type": "markdown",
      "metadata": {
        "id": "UVOx3bobDIV7",
        "colab_type": "text"
      },
      "source": [
        "Результат работы программы: 34. Однако в реальной жизни 3 + 4 = 7. \n",
        "Это произошло потому, что Питон в третьей строчке «сложил» две строки, а не два числа. \n",
        "\n",
        "В Питоне все данные называются объектами. \n",
        "Число 2 представляется объектом «число 2», строка 'hello' – это объект «строка 'hello'».\n",
        "\n",
        "Каждый объект относится к какому-то типу. \n",
        "Строки хранятся в объектах типа **str**, целые числа хранятся в объектах типа **int**, \n",
        "дробные числа (вещественные числа) — в объектах типа **float**. \n",
        "Тип объекта определяет, какие действия можно делать с объектами этого типа. \n",
        "Например, если в переменных **first** и **second** лежат объекты типа **int**, то их можно перемножить, \n",
        "а если в них лежат объекты типа **str**, то их перемножить нельзя:"
      ]
    },
    {
      "cell_type": "code",
      "metadata": {
        "id": "TU2mV5GUDIV8",
        "colab_type": "code",
        "colab": {
          "base_uri": "https://localhost:8080/",
          "height": 218
        },
        "outputId": "b153d937-a529-4d56-845a-201a5ea209a0"
      },
      "source": [
        "first = 5\n",
        "second = 7\n",
        "print(first * second)\n",
        "first = '5'\n",
        "second = '7'\n",
        "print(first * second)"
      ],
      "execution_count": 3,
      "outputs": [
        {
          "output_type": "stream",
          "text": [
            "35\n"
          ],
          "name": "stdout"
        },
        {
          "output_type": "error",
          "ename": "TypeError",
          "evalue": "ignored",
          "traceback": [
            "\u001b[0;31m---------------------------------------------------------------------------\u001b[0m",
            "\u001b[0;31mTypeError\u001b[0m                                 Traceback (most recent call last)",
            "\u001b[0;32m<ipython-input-3-08377140e7bd>\u001b[0m in \u001b[0;36m<module>\u001b[0;34m()\u001b[0m\n\u001b[1;32m      4\u001b[0m \u001b[0mfirst\u001b[0m \u001b[0;34m=\u001b[0m \u001b[0;34m'5'\u001b[0m\u001b[0;34m\u001b[0m\u001b[0;34m\u001b[0m\u001b[0m\n\u001b[1;32m      5\u001b[0m \u001b[0msecond\u001b[0m \u001b[0;34m=\u001b[0m \u001b[0;34m'7'\u001b[0m\u001b[0;34m\u001b[0m\u001b[0;34m\u001b[0m\u001b[0m\n\u001b[0;32m----> 6\u001b[0;31m \u001b[0mprint\u001b[0m\u001b[0;34m(\u001b[0m\u001b[0mfirst\u001b[0m \u001b[0;34m*\u001b[0m \u001b[0msecond\u001b[0m\u001b[0;34m)\u001b[0m\u001b[0;34m\u001b[0m\u001b[0;34m\u001b[0m\u001b[0m\n\u001b[0m",
            "\u001b[0;31mTypeError\u001b[0m: can't multiply sequence by non-int of type 'str'"
          ]
        }
      ]
    },
    {
      "cell_type": "markdown",
      "metadata": {
        "id": "IZubKmZmDIWA",
        "colab_type": "text"
      },
      "source": [
        "Чтобы преобразовать строку из цифр в целое число, воспользуемся функцией **int()**. Например, int('23') вернет число 23.\n",
        "Вот пример правильной программы, которая считывает два числа и выводит их сумму:"
      ]
    },
    {
      "cell_type": "code",
      "metadata": {
        "id": "eB9xFJrBDIWC",
        "colab_type": "code",
        "colab": {
          "base_uri": "https://localhost:8080/",
          "height": 69
        },
        "outputId": "43b7aa8e-ed4a-492f-db67-4c8dcc32987e"
      },
      "source": [
        "a = int(input())\n",
        "b = int(input())\n",
        "s = a + b\n",
        "print(s)"
      ],
      "execution_count": 4,
      "outputs": [
        {
          "output_type": "stream",
          "text": [
            "3\n",
            "4\n",
            "7\n"
          ],
          "name": "stdout"
        }
      ]
    },
    {
      "cell_type": "markdown",
      "metadata": {
        "id": "saKRiBV2DIWH",
        "colab_type": "text"
      },
      "source": [
        "Рассмотрим следующий пример: извлечение квадратного корня"
      ]
    },
    {
      "cell_type": "code",
      "metadata": {
        "id": "wD3Q7_MpDIWI",
        "colab_type": "code",
        "colab": {
          "base_uri": "https://localhost:8080/",
          "height": 166
        },
        "outputId": "270822e6-b1c2-4bb8-f20b-1d88b1d9355b"
      },
      "source": [
        "sqrt(4)"
      ],
      "execution_count": 5,
      "outputs": [
        {
          "output_type": "error",
          "ename": "NameError",
          "evalue": "ignored",
          "traceback": [
            "\u001b[0;31m---------------------------------------------------------------------------\u001b[0m",
            "\u001b[0;31mNameError\u001b[0m                                 Traceback (most recent call last)",
            "\u001b[0;32m<ipython-input-5-317e033d29d5>\u001b[0m in \u001b[0;36m<module>\u001b[0;34m()\u001b[0m\n\u001b[0;32m----> 1\u001b[0;31m \u001b[0msqrt\u001b[0m\u001b[0;34m(\u001b[0m\u001b[0;36m4\u001b[0m\u001b[0;34m)\u001b[0m\u001b[0;34m\u001b[0m\u001b[0;34m\u001b[0m\u001b[0m\n\u001b[0m",
            "\u001b[0;31mNameError\u001b[0m: name 'sqrt' is not defined"
          ]
        }
      ]
    },
    {
      "cell_type": "markdown",
      "metadata": {
        "id": "sC4PlanFDIWM",
        "colab_type": "text"
      },
      "source": [
        "Извлечение квадратного корня не входит в комплект математических операций, доступных в Python по умолчанию, \n",
        "поэтому попытка выполнить инструкцию привела к ошибке. \n",
        "\n",
        "NameError: name 'sqrt' is not defined \n",
        "    \n",
        "Для определения данной функции необходимо подключить соответствующую библиотеку    \n",
        "\n",
        "Это можно сделать разными способами."
      ]
    },
    {
      "cell_type": "code",
      "metadata": {
        "id": "H2PU1G23DIWN",
        "colab_type": "code",
        "colab": {
          "base_uri": "https://localhost:8080/",
          "height": 35
        },
        "outputId": "73a163ae-f9cc-449d-f173-e3688f307b42"
      },
      "source": [
        "import math\n",
        "math.sqrt(4)"
      ],
      "execution_count": 6,
      "outputs": [
        {
          "output_type": "execute_result",
          "data": {
            "text/plain": [
              "2.0"
            ]
          },
          "metadata": {
            "tags": []
          },
          "execution_count": 6
        }
      ]
    },
    {
      "cell_type": "markdown",
      "metadata": {
        "id": "VWo-y8-iDIWQ",
        "colab_type": "text"
      },
      "source": [
        "После того, как модуль math импортирован, вы можете узнать, какие ещё в нём есть функции. \n",
        "В IPython Notebook для этого достаточно ввести имя модуля, поставить точку и нажать кнопку «Tab». Вот, например, синус:"
      ]
    },
    {
      "cell_type": "code",
      "metadata": {
        "id": "vjTbT0iIDIWR",
        "colab_type": "code",
        "colab": {
          "base_uri": "https://localhost:8080/",
          "height": 35
        },
        "outputId": "3233f7f8-0a2c-4025-cd68-ce10b98d33a8"
      },
      "source": [
        "math.sin(0)"
      ],
      "execution_count": 7,
      "outputs": [
        {
          "output_type": "execute_result",
          "data": {
            "text/plain": [
              "0.0"
            ]
          },
          "metadata": {
            "tags": []
          },
          "execution_count": 7
        }
      ]
    },
    {
      "cell_type": "markdown",
      "metadata": {
        "id": "n2nU4BfzDIWX",
        "colab_type": "text"
      },
      "source": [
        "Приведенный синтаксис может оказаться неудобным, если вам часто приходится вызывать какие-то математические функции. \n",
        "Чтобы не писать каждый раз слово «math», можно импортировать из модуля конкретные функции."
      ]
    },
    {
      "cell_type": "code",
      "metadata": {
        "id": "7gcgW84eDIWZ",
        "colab_type": "code",
        "colab": {}
      },
      "source": [
        "from math import sqrt"
      ],
      "execution_count": 0,
      "outputs": []
    },
    {
      "cell_type": "code",
      "metadata": {
        "id": "Z7GElPrqDIWe",
        "colab_type": "code",
        "colab": {
          "base_uri": "https://localhost:8080/",
          "height": 35
        },
        "outputId": "bead62b1-5376-4a00-c218-e5afa6e99fc1"
      },
      "source": [
        "sqrt(4)"
      ],
      "execution_count": 9,
      "outputs": [
        {
          "output_type": "execute_result",
          "data": {
            "text/plain": [
              "2.0"
            ]
          },
          "metadata": {
            "tags": []
          },
          "execution_count": 9
        }
      ]
    },
    {
      "cell_type": "markdown",
      "metadata": {
        "id": "W6QFkjgHDIWi",
        "colab_type": "text"
      },
      "source": [
        "Вещественные числа в программировании не так просты. Вот, например, посчитаем синус числа π:"
      ]
    },
    {
      "cell_type": "code",
      "metadata": {
        "id": "Fuv7o-4iDIWj",
        "colab_type": "code",
        "colab": {
          "base_uri": "https://localhost:8080/",
          "height": 35
        },
        "outputId": "ff9fe49d-ebf0-40c4-da7d-3e12761b597d"
      },
      "source": [
        "from math import pi, sin\n",
        "sin(pi)\n",
        "# думаете, получится 0? Ха-ха!"
      ],
      "execution_count": 10,
      "outputs": [
        {
          "output_type": "execute_result",
          "data": {
            "text/plain": [
              "1.2246467991473532e-16"
            ]
          },
          "metadata": {
            "tags": []
          },
          "execution_count": 10
        }
      ]
    },
    {
      "cell_type": "markdown",
      "metadata": {
        "id": "nG-X7I6WDIWm",
        "colab_type": "text"
      },
      "source": [
        "Непонятный ответ? Во-первых, это так называемая компьютерная форма экспоненциальной записи чисел. \n",
        "Она удобна, если нужно уметь записывать очень большие или очень маленькие числа: \n",
        "1.2E2 означает 1,2⋅102, то есть 1200, а 2.4e-3 — то же самое, что 2,4⋅10−3=0,0024. \n",
        "Результат, посчитанный Python для sinπ, имеет порядок 10−16 — это очень маленькое число, близкое к нулю. \n",
        "Почему не «настоящий» ноль? \n",
        "Все вычисления в вещественных числах делаются компьютером с некоторой ограниченной точностью, \n",
        "поэтому зачастую вместо «честных» ответов получаются такие приближенные. К этому надо быть готовым."
      ]
    },
    {
      "cell_type": "markdown",
      "metadata": {
        "id": "DpNcMYyaDIWn",
        "colab_type": "text"
      },
      "source": [
        "# Переменные"
      ]
    },
    {
      "cell_type": "markdown",
      "metadata": {
        "id": "VxpikAHADIWo",
        "colab_type": "text"
      },
      "source": [
        "Понятие «переменной» в программировании похоже на аналогичное понятие в математике. \n",
        "Переменная — это ячейка памяти, обозначаемая каким-то именем. \n",
        "В этой ячейке могут храниться числа, строки и более сложные объекты. \n",
        "Мы пока поработаем немножко с числовыми переменными."
      ]
    },
    {
      "cell_type": "code",
      "metadata": {
        "id": "9jdpLqTJDIWp",
        "colab_type": "code",
        "colab": {
          "base_uri": "https://localhost:8080/",
          "height": 35
        },
        "outputId": "1585bdee-cc8c-4fac-f5a8-6c82dd7d6157"
      },
      "source": [
        "x = 4\n",
        "x"
      ],
      "execution_count": 11,
      "outputs": [
        {
          "output_type": "execute_result",
          "data": {
            "text/plain": [
              "4"
            ]
          },
          "metadata": {
            "tags": []
          },
          "execution_count": 11
        }
      ]
    },
    {
      "cell_type": "markdown",
      "metadata": {
        "id": "p9Z2JaAiDIWs",
        "colab_type": "text"
      },
      "source": [
        "В отличие, например, от языков C или Паскаль, \n",
        "в Питоне не нужно как-то специально объявлять переменную — достаточно просто присвоить ей значение, и можно пользоваться!"
      ]
    },
    {
      "cell_type": "code",
      "metadata": {
        "id": "q7GCAfjVDIWt",
        "colab_type": "code",
        "colab": {
          "base_uri": "https://localhost:8080/",
          "height": 35
        },
        "outputId": "49e2d024-67ae-4f74-d92b-d6baad6229eb"
      },
      "source": [
        "x + 2"
      ],
      "execution_count": 12,
      "outputs": [
        {
          "output_type": "execute_result",
          "data": {
            "text/plain": [
              "6"
            ]
          },
          "metadata": {
            "tags": []
          },
          "execution_count": 12
        }
      ]
    },
    {
      "cell_type": "code",
      "metadata": {
        "id": "QLDBL4PKDIWw",
        "colab_type": "code",
        "colab": {}
      },
      "source": [
        "x = x + 2"
      ],
      "execution_count": 0,
      "outputs": []
    },
    {
      "cell_type": "markdown",
      "metadata": {
        "id": "y8Mvec19DIWz",
        "colab_type": "text"
      },
      "source": [
        "С математической точки зрения, приведенная выше строчка кажется бессмыслицей — равенством, которое никогда не является верным. \n",
        "С точки зрения программирования, это команда, которая говорит «вычисли значение того, \n",
        "что стоит в правой части равенства, и присвой то, что получилось, переменной, стоящей в левой части равенства». \n",
        "Если вы знакомы с языком Pascal, вы бы написали «:=» вместо «=», \n",
        "но в Питоне используется синтаксис, более похожий на C — одиночное равенство означает операцию присвоения значения."
      ]
    },
    {
      "cell_type": "code",
      "metadata": {
        "id": "ZP25GR7NDIW1",
        "colab_type": "code",
        "colab": {
          "base_uri": "https://localhost:8080/",
          "height": 35
        },
        "outputId": "2b795c8b-59b5-4506-e36b-cbfb315df0c5"
      },
      "source": [
        "x"
      ],
      "execution_count": 14,
      "outputs": [
        {
          "output_type": "execute_result",
          "data": {
            "text/plain": [
              "6"
            ]
          },
          "metadata": {
            "tags": []
          },
          "execution_count": 14
        }
      ]
    },
    {
      "cell_type": "markdown",
      "metadata": {
        "id": "1MqDezqKDIW5",
        "colab_type": "text"
      },
      "source": [
        "Переменные могут хранить не только числа, но и другие данные."
      ]
    },
    {
      "cell_type": "markdown",
      "metadata": {
        "id": "HvJbNwvrDIW6",
        "colab_type": "text"
      },
      "source": [
        "# Ввод данных"
      ]
    },
    {
      "cell_type": "markdown",
      "metadata": {
        "id": "dMQXTJfbDIW7",
        "colab_type": "text"
      },
      "source": [
        "Работа в Jupyter / IPython Notebook редко требует писать код, который сам по себе запрашивает данные с клавиатуры, \n",
        "но для других приложений (и в частности для домашних работ) это может потребоваться. \n",
        "К тому же, написание интерактивных приложений само по себе забавное занятие. \n",
        "Напишем, например, программу, которая здоровается с нами по имени."
      ]
    },
    {
      "cell_type": "code",
      "metadata": {
        "id": "uioqZkHdDIW9",
        "colab_type": "code",
        "colab": {
          "base_uri": "https://localhost:8080/",
          "height": 52
        },
        "outputId": "d56337e9-d53a-47ab-99a7-298a78d45d41"
      },
      "source": [
        "name = input(\"Введите ваше имя: \")\n",
        "print(\"Привет,\",name)"
      ],
      "execution_count": 15,
      "outputs": [
        {
          "output_type": "stream",
          "text": [
            "Введите ваше имя: Андрей\n",
            "Привет, Андрей\n"
          ],
          "name": "stdout"
        }
      ]
    },
    {
      "cell_type": "markdown",
      "metadata": {
        "id": "f7mrJ8ZVDIXB",
        "colab_type": "text"
      },
      "source": [
        "Что здесь произшло? В первой строчке мы использовали функцию input. \n",
        "Она вывела на экран строчку, которую ей передали (обязательно в кавычках) и запросила ответ с клавиатуры. \n",
        "Указали своё имя. После чего **input** вернула строчку \"_________\" и эта строчка была присвоена переменной name. \n",
        "После этого во второй строке была вызвана функция **print** и ей были переданы две строчки — \"Привет,\" и то, \n",
        "что хранилось в переменной **name**. \n",
        "Функция **print** вывела эти две строчки последовательно, разделив пробелом. \n",
        "Заметим, что в переменной name по-прежнему лежит та строчка, которую мы ввели с клавиатуры."
      ]
    },
    {
      "cell_type": "code",
      "metadata": {
        "id": "T_ehhiKcDIXE",
        "colab_type": "code",
        "colab": {
          "base_uri": "https://localhost:8080/",
          "height": 35
        },
        "outputId": "bdafce7f-373a-41c9-cb69-e0d1c38bdae8"
      },
      "source": [
        "name"
      ],
      "execution_count": 16,
      "outputs": [
        {
          "output_type": "execute_result",
          "data": {
            "text/plain": [
              "'Андрей'"
            ]
          },
          "metadata": {
            "tags": []
          },
          "execution_count": 16
        }
      ]
    },
    {
      "cell_type": "markdown",
      "metadata": {
        "id": "SX17F_ykDIXI",
        "colab_type": "text"
      },
      "source": [
        "Попробуем теперь написать программу «удвоитель». \n",
        "Она должна будет принимать на вход число, удваивать его и возвращать результат. (x=12)"
      ]
    },
    {
      "cell_type": "code",
      "metadata": {
        "id": "fgr-j4DNDIXJ",
        "colab_type": "code",
        "colab": {
          "base_uri": "https://localhost:8080/",
          "height": 52
        },
        "outputId": "d5ec56a0-64d1-413d-c537-8e6bf137fab0"
      },
      "source": [
        "x = input(\"Введите какое-нибудь число: \")\n",
        "print(x*2)"
      ],
      "execution_count": 17,
      "outputs": [
        {
          "output_type": "stream",
          "text": [
            "Введите какое-нибудь число: 5\n",
            "55\n"
          ],
          "name": "stdout"
        }
      ]
    },
    {
      "cell_type": "markdown",
      "metadata": {
        "id": "66JBgAN1DIXM",
        "colab_type": "text"
      },
      "source": [
        "Что-то здесь не то. Конечно, в некотором смысле компьютер сделал то, что мы его просили — было одно число 12, \n",
        "а стало два, но мы-то хотели чего-то другого. Почему так получилось? Дело в том, \n",
        "что input всегда возращает строку (он же не знает, что мы введём — цифлы или какие-то другие символы; \n",
        "он не понимает, что в запросе сказан «Введите какое-нибудь число» — для него это просто какая-то строка). \n",
        "И в переменной x сейчас не число 12, а строка '12' (обратите внимание на апострофы)."
      ]
    },
    {
      "cell_type": "code",
      "metadata": {
        "id": "DqbwYrO2DIXN",
        "colab_type": "code",
        "colab": {
          "base_uri": "https://localhost:8080/",
          "height": 35
        },
        "outputId": "f85966f4-ab5f-47f0-bcc4-3555f4f5fce2"
      },
      "source": [
        "x"
      ],
      "execution_count": 18,
      "outputs": [
        {
          "output_type": "execute_result",
          "data": {
            "text/plain": [
              "'5'"
            ]
          },
          "metadata": {
            "tags": []
          },
          "execution_count": 18
        }
      ]
    },
    {
      "cell_type": "markdown",
      "metadata": {
        "id": "YN1CdETIDIXQ",
        "colab_type": "text"
      },
      "source": [
        "Чтобы работать с ним как с числом, надо его превратить из строкового типа в числовой. \n",
        "Например, если мы хотим работать только с целыми числами, то подходящим будет тип **int** (от слова integer, целое число)."
      ]
    },
    {
      "cell_type": "code",
      "metadata": {
        "id": "oHH7dmzxDIXR",
        "colab_type": "code",
        "colab": {
          "base_uri": "https://localhost:8080/",
          "height": 35
        },
        "outputId": "e750e18e-d47f-459c-f8c0-d79f6cf92056"
      },
      "source": [
        "int(x)"
      ],
      "execution_count": 19,
      "outputs": [
        {
          "output_type": "execute_result",
          "data": {
            "text/plain": [
              "5"
            ]
          },
          "metadata": {
            "tags": []
          },
          "execution_count": 19
        }
      ]
    },
    {
      "cell_type": "markdown",
      "metadata": {
        "id": "eWCQspzxDIXU",
        "colab_type": "text"
      },
      "source": [
        "Видите, апострофов нет — это уже число. Слово int это одновременно и обозначение типа данных (целые числа) и функция, \n",
        "которая превращает то, что ей передали в качестве аргумента, в указанный тип данных.\n",
        "\n",
        "Перепишем программу-удвоитель следующим образом:"
      ]
    },
    {
      "cell_type": "code",
      "metadata": {
        "id": "ci85iXZmDIXV",
        "colab_type": "code",
        "colab": {
          "base_uri": "https://localhost:8080/",
          "height": 52
        },
        "outputId": "91705bb9-457f-450c-863a-62cc620b478c"
      },
      "source": [
        "x_str = input(\"Введите какое-нибудь число: \")\n",
        "x = int(x_str)\n",
        "print(x*2)"
      ],
      "execution_count": 20,
      "outputs": [
        {
          "output_type": "stream",
          "text": [
            "Введите какое-нибудь число: 6\n",
            "12\n"
          ],
          "name": "stdout"
        }
      ]
    },
    {
      "cell_type": "markdown",
      "metadata": {
        "id": "ZERrdeb3DIXY",
        "colab_type": "text"
      },
      "source": [
        "Совсем другое дело! Теперь в x_str лежит строчка, которую мы ввели, в x помещается результат её преобразования в целое число, \n",
        "и дальше это число удваивается и выводится на экран. Можно было бы не вводить дополнительную переменную (и сэкономить строчку):"
      ]
    },
    {
      "cell_type": "markdown",
      "metadata": {
        "id": "8r1t-cu8DIXZ",
        "colab_type": "text"
      },
      "source": [
        "Попробуем ещё раз. Введите х = 12.34"
      ]
    },
    {
      "cell_type": "code",
      "metadata": {
        "id": "2VioI13GDIXZ",
        "colab_type": "code",
        "colab": {}
      },
      "source": [
        "x = int(input(\"Введите какое-нибудь число: \"))\n",
        "print(x*2)"
      ],
      "execution_count": 0,
      "outputs": []
    },
    {
      "cell_type": "markdown",
      "metadata": {
        "id": "ZliQ3ErXDIXc",
        "colab_type": "text"
      },
      "source": [
        "Вы попробовали ввести число 12.34 (нецелое) и Python не смог привести его в типу **int** \n",
        "(то есть сделать из строчки \"12.34\" целое число и выдал ошибку. \n",
        "Если бы мы хотели работать с нецелыми числами, \n",
        "нам нужно было использовать тип **float** (от слова float, плавать — обозначает плавающую точку)."
      ]
    },
    {
      "cell_type": "markdown",
      "metadata": {
        "id": "BOWt1PM0DIXe",
        "colab_type": "text"
      },
      "source": [
        "Попробуем ещё раз. "
      ]
    },
    {
      "cell_type": "code",
      "metadata": {
        "id": "K22GyF8rDIXf",
        "colab_type": "code",
        "colab": {
          "base_uri": "https://localhost:8080/",
          "height": 52
        },
        "outputId": "b2dd94be-b39f-4c5f-fee4-6c3c66100576"
      },
      "source": [
        "x = float(input(\"Введите какое-нибудь число (не обязательно целое): \"))\n",
        "print(x*2)"
      ],
      "execution_count": 21,
      "outputs": [
        {
          "output_type": "stream",
          "text": [
            "Введите какое-нибудь число (не обязательно целое): -3.5\n",
            "-7.0\n"
          ],
          "name": "stdout"
        }
      ]
    },
    {
      "cell_type": "code",
      "metadata": {
        "id": "17jXJQ4XDIXj",
        "colab_type": "code",
        "colab": {}
      },
      "source": [
        "a = 1 # первое число\n",
        "b = 1 # второе число\n",
        "i = 2 # номер того числа, которое находится в переменной b (сейчас это a_2)"
      ],
      "execution_count": 0,
      "outputs": []
    },
    {
      "cell_type": "markdown",
      "metadata": {
        "id": "Ss8LWRipDIXn",
        "colab_type": "text"
      },
      "source": [
        "Мы будем хранить два последних числа, поскольку именно они определяют следующее, \n",
        "а также номер последнего найденного числа (переменная i)."
      ]
    },
    {
      "cell_type": "code",
      "metadata": {
        "id": "2agFEWpKDIXn",
        "colab_type": "code",
        "colab": {
          "base_uri": "https://localhost:8080/",
          "height": 35
        },
        "outputId": "e464d4fa-4825-4b7b-f357-9db7be59f37e"
      },
      "source": [
        "c = a + b # нашли следующее число\n",
        "i = i + 1 # увеличили i на 1\n",
        "a = b   # значение a нам уже не нужно, а вот значение b ещё пригодится\n",
        "b = c   # запомнили вычисленное значение\n",
        "print(i, b)"
      ],
      "execution_count": 23,
      "outputs": [
        {
          "output_type": "stream",
          "text": [
            "3 2\n"
          ],
          "name": "stdout"
        }
      ]
    },
    {
      "cell_type": "markdown",
      "metadata": {
        "id": "_R-FQ4WaDIXs",
        "colab_type": "text"
      },
      "source": [
        "Питон выполняет команды последовательно, строчку за строчкой, поэтому порядок следоавния команд очень важен. \n",
        "Выполняя эту ячейку несколько раз, вы будете получать каждый раз очередное число Фибоначчи.\n",
        "\n",
        "**Контрольный вопрос**. Что произойдёт, если мы поменяем местами две строчки до print?"
      ]
    },
    {
      "cell_type": "code",
      "metadata": {
        "id": "koMVSPnuDIXt",
        "colab_type": "code",
        "colab": {
          "base_uri": "https://localhost:8080/",
          "height": 35
        },
        "outputId": "f43c4ea0-e8b6-44dd-a790-069b22c2a635"
      },
      "source": [
        "# Повторим этот код ещё раз\n",
        "\n",
        "c = a + b # нашли следующее число\n",
        "i = i + 1 # увеличили i на 1\n",
        "a = b   # значение a нам уже не нужно, а вот значение b ещё пригодится\n",
        "b = c   # запомнили вычисленное значение\n",
        "print(i, b)"
      ],
      "execution_count": 24,
      "outputs": [
        {
          "output_type": "stream",
          "text": [
            "4 3\n"
          ],
          "name": "stdout"
        }
      ]
    },
    {
      "cell_type": "code",
      "metadata": {
        "id": "hjPoWa43DIXv",
        "colab_type": "code",
        "colab": {
          "base_uri": "https://localhost:8080/",
          "height": 35
        },
        "outputId": "b308e716-81a4-4952-a7c8-7af96563ad37"
      },
      "source": [
        "# И ещё раз\n",
        "\n",
        "c = a + b # нашли следующее число\n",
        "i = i + 1 # увеличили i на 1\n",
        "a = b   # значение a нам уже не нужно, а вот значение b ещё пригодится\n",
        "b = c   # запомнили вычисленное значение\n",
        "print(i, b)"
      ],
      "execution_count": 25,
      "outputs": [
        {
          "output_type": "stream",
          "text": [
            "5 5\n"
          ],
          "name": "stdout"
        }
      ]
    },
    {
      "cell_type": "code",
      "metadata": {
        "id": "hxTbvoDJDIXx",
        "colab_type": "code",
        "colab": {
          "base_uri": "https://localhost:8080/",
          "height": 35
        },
        "outputId": "5703da1a-f020-4f25-fd34-bd01184ab19d"
      },
      "source": [
        "# И ещё раз\n",
        "\n",
        "c = a + b # нашли следующее число\n",
        "i = i + 1 # увеличили i на 1\n",
        "a = b   # значение a нам уже не нужно, а вот значение b ещё пригодится\n",
        "b = c   # запомнили вычисленное значение\n",
        "print(i, b)"
      ],
      "execution_count": 26,
      "outputs": [
        {
          "output_type": "stream",
          "text": [
            "6 8\n"
          ],
          "name": "stdout"
        }
      ]
    },
    {
      "cell_type": "markdown",
      "metadata": {
        "id": "JBHRxfB8DIXz",
        "colab_type": "text"
      },
      "source": [
        "**Совет**: Можно было не копироать эту ячейку с кодом много раз, а просто запускать одну и ту же ячейку неколько раз. \n",
        "\n",
        "Проще всего это сделать с помощью комбинации Ctrl+Enter."
      ]
    },
    {
      "cell_type": "markdown",
      "metadata": {
        "id": "SGXYhrUQDIX1",
        "colab_type": "text"
      },
      "source": [
        "# Практическое задание № 1\n",
        "Вычислите 2 в 179 стпени. Выведите на экран вычисленное значение."
      ]
    },
    {
      "cell_type": "code",
      "metadata": {
        "id": "VIgacqLTEXWu",
        "colab_type": "code",
        "colab": {
          "base_uri": "https://localhost:8080/",
          "height": 35
        },
        "outputId": "37186b3c-1ab6-4de7-e772-c49a8d13304d"
      },
      "source": [
        "print(2**179)"
      ],
      "execution_count": 27,
      "outputs": [
        {
          "output_type": "stream",
          "text": [
            "766247770432944429179173513575154591809369561091801088\n"
          ],
          "name": "stdout"
        }
      ]
    },
    {
      "cell_type": "markdown",
      "metadata": {
        "id": "mpbTROo7DIX1",
        "colab_type": "text"
      },
      "source": [
        "# Практическое задание № 2\n",
        "Запишите слово Python 100 раз подряд. Сдайте на проверку программу, которая выводит эту строчку (только буквы, без кавычек).\n",
        "\n",
        "**Подсказка:** Попробуйте умножить строку на число. Что получится?"
      ]
    },
    {
      "cell_type": "code",
      "metadata": {
        "id": "tNSA0disEcH5",
        "colab_type": "code",
        "colab": {
          "base_uri": "https://localhost:8080/",
          "height": 55
        },
        "outputId": "e068aba1-64d4-4131-e45c-5489f0b52f4a"
      },
      "source": [
        "print('Python'*100)"
      ],
      "execution_count": 28,
      "outputs": [
        {
          "output_type": "stream",
          "text": [
            "PythonPythonPythonPythonPythonPythonPythonPythonPythonPythonPythonPythonPythonPythonPythonPythonPythonPythonPythonPythonPythonPythonPythonPythonPythonPythonPythonPythonPythonPythonPythonPythonPythonPythonPythonPythonPythonPythonPythonPythonPythonPythonPythonPythonPythonPythonPythonPythonPythonPythonPythonPythonPythonPythonPythonPythonPythonPythonPythonPythonPythonPythonPythonPythonPythonPythonPythonPythonPythonPythonPythonPythonPythonPythonPythonPythonPythonPythonPythonPythonPythonPythonPythonPythonPythonPythonPythonPythonPythonPythonPythonPythonPythonPythonPythonPythonPythonPythonPythonPython\n"
          ],
          "name": "stdout"
        }
      ]
    },
    {
      "cell_type": "markdown",
      "metadata": {
        "id": "4YW0xOAlDIX2",
        "colab_type": "text"
      },
      "source": [
        "# Практическое задание № 3\n",
        "Дано два числа: a и b. Найдите гипотенузу треугольника с заданными катетами.\n",
        "\n",
        "**Входные данные**\n",
        "В двух строках вводятся два числа (числа целые, положительные, не превышают 1000).\n",
        "\n",
        "**Выходные данные**\n",
        "Выведите ответ на задачу.\n",
        "\n",
        "**Пример**\n",
        "\n",
        "Входные данные\n",
        "\n",
        "3\n",
        "\n",
        "4\n",
        "\n",
        "Выходные данные\n",
        "\n",
        "5.0"
      ]
    },
    {
      "cell_type": "code",
      "metadata": {
        "id": "_7CCrRVHEfyq",
        "colab_type": "code",
        "colab": {
          "base_uri": "https://localhost:8080/",
          "height": 69
        },
        "outputId": "c06c1713-f145-4acc-8032-d0046d555fb7"
      },
      "source": [
        "a = int(input('First number:'))\n",
        "b = int(input('Second number:'))\n",
        "print('Hypothenus is ', sqrt(a*a + b*b))"
      ],
      "execution_count": 29,
      "outputs": [
        {
          "output_type": "stream",
          "text": [
            "First number:3\n",
            "Second number:4\n",
            "Hypothenus is  5.0\n"
          ],
          "name": "stdout"
        }
      ]
    },
    {
      "cell_type": "markdown",
      "metadata": {
        "id": "IixIHrWuDIX3",
        "colab_type": "text"
      },
      "source": [
        "# Практическое задание № 4\n",
        "N школьников делят K яблок поровну, неделящийся остаток остается в корзинке. Сколько яблок достанется каждому школьнику?\n",
        "\n",
        "**Входные данные**\n",
        "Программа получает на вход числа N и K.\n",
        "\n",
        "**Выходные данные**\n",
        "Программа должна вывести искомое количество яблок.\n",
        "\n",
        "**Примеры**\n",
        "\n",
        "Входные данные\n",
        "\n",
        "3\n",
        "\n",
        "14\n",
        "\n",
        "Выходные данные\n",
        "\n",
        "4"
      ]
    },
    {
      "cell_type": "code",
      "metadata": {
        "id": "BF8Y3BS0E3AZ",
        "colab_type": "code",
        "colab": {
          "base_uri": "https://localhost:8080/",
          "height": 69
        },
        "outputId": "fe495c82-3b3c-4dc4-d606-d36f75712e88"
      },
      "source": [
        "n = int(input('N:'))\n",
        "k = int(input('K:'))\n",
        "print(k//n)"
      ],
      "execution_count": 33,
      "outputs": [
        {
          "output_type": "stream",
          "text": [
            "N:5\n",
            "K:21\n",
            "4\n"
          ],
          "name": "stdout"
        }
      ]
    },
    {
      "cell_type": "markdown",
      "metadata": {
        "id": "IFP6yAQKDIX4",
        "colab_type": "text"
      },
      "source": [
        "# Практическое задание № 5\n",
        "Дано трехзначное число. Найдите сумму его цифр.\n",
        "\n",
        "**Входные данные**\n",
        "Вводится целое положительное число. Гарантируется, что оно соответствует условию задачи.\n",
        "\n",
        "**Выходные данные**\n",
        "Выведите ответ на задачу.\n",
        "\n",
        "**Пример**\n",
        "\n",
        "Входные данные\n",
        "\n",
        "179\n",
        "\n",
        "Выходные данные\n",
        "\n",
        "17"
      ]
    },
    {
      "cell_type": "code",
      "metadata": {
        "id": "AulV1XK6FKKd",
        "colab_type": "code",
        "colab": {
          "base_uri": "https://localhost:8080/",
          "height": 52
        },
        "outputId": "fe469326-6e13-4532-d8cc-212efb041514"
      },
      "source": [
        "num = int(input('Enter number:'))\n",
        "print(num%10+num//100 + ((num//10)%10))"
      ],
      "execution_count": 40,
      "outputs": [
        {
          "output_type": "stream",
          "text": [
            "Enter number:412\n",
            "7\n"
          ],
          "name": "stdout"
        }
      ]
    }
  ]
}