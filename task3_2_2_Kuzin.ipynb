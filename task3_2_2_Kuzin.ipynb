{
  "nbformat": 4,
  "nbformat_minor": 0,
  "metadata": {
    "kernelspec": {
      "display_name": "Python 3",
      "language": "python",
      "name": "python3"
    },
    "language_info": {
      "codemirror_mode": {
        "name": "ipython",
        "version": 3
      },
      "file_extension": ".py",
      "mimetype": "text/x-python",
      "name": "python",
      "nbconvert_exporter": "python",
      "pygments_lexer": "ipython3",
      "version": "3.7.3"
    },
    "colab": {
      "name": "task3_2_2.ipynb",
      "provenance": [],
      "toc_visible": true
    }
  },
  "cells": [
    {
      "cell_type": "code",
      "metadata": {
        "id": "wAaJPpJsaWJ_",
        "colab_type": "code",
        "colab": {}
      },
      "source": [
        "import numpy as np\n",
        "import pandas as pd\n",
        "from pandas import Series, DataFrame"
      ],
      "execution_count": 0,
      "outputs": []
    },
    {
      "cell_type": "code",
      "metadata": {
        "id": "zUAB-QfmaWKD",
        "colab_type": "code",
        "outputId": "541878f2-febf-4f38-c2d5-49baf971cd03",
        "colab": {
          "base_uri": "https://localhost:8080/",
          "height": 170
        }
      },
      "source": [
        "data = DataFrame(np.arange(16).reshape((4, 4)),\n",
        "                 index=['Ohio', 'Colorado', 'Utah', 'New York'],\n",
        "                 columns= ['one', 'two', 'three', 'four'])\n",
        "data"
      ],
      "execution_count": 0,
      "outputs": [
        {
          "output_type": "execute_result",
          "data": {
            "text/html": [
              "<div>\n",
              "<style scoped>\n",
              "    .dataframe tbody tr th:only-of-type {\n",
              "        vertical-align: middle;\n",
              "    }\n",
              "\n",
              "    .dataframe tbody tr th {\n",
              "        vertical-align: top;\n",
              "    }\n",
              "\n",
              "    .dataframe thead th {\n",
              "        text-align: right;\n",
              "    }\n",
              "</style>\n",
              "<table border=\"1\" class=\"dataframe\">\n",
              "  <thead>\n",
              "    <tr style=\"text-align: right;\">\n",
              "      <th></th>\n",
              "      <th>one</th>\n",
              "      <th>two</th>\n",
              "      <th>three</th>\n",
              "      <th>four</th>\n",
              "    </tr>\n",
              "  </thead>\n",
              "  <tbody>\n",
              "    <tr>\n",
              "      <th>Ohio</th>\n",
              "      <td>0</td>\n",
              "      <td>1</td>\n",
              "      <td>2</td>\n",
              "      <td>3</td>\n",
              "    </tr>\n",
              "    <tr>\n",
              "      <th>Colorado</th>\n",
              "      <td>4</td>\n",
              "      <td>5</td>\n",
              "      <td>6</td>\n",
              "      <td>7</td>\n",
              "    </tr>\n",
              "    <tr>\n",
              "      <th>Utah</th>\n",
              "      <td>8</td>\n",
              "      <td>9</td>\n",
              "      <td>10</td>\n",
              "      <td>11</td>\n",
              "    </tr>\n",
              "    <tr>\n",
              "      <th>New York</th>\n",
              "      <td>12</td>\n",
              "      <td>13</td>\n",
              "      <td>14</td>\n",
              "      <td>15</td>\n",
              "    </tr>\n",
              "  </tbody>\n",
              "</table>\n",
              "</div>"
            ],
            "text/plain": [
              "          one  two  three  four\n",
              "Ohio        0    1      2     3\n",
              "Colorado    4    5      6     7\n",
              "Utah        8    9     10    11\n",
              "New York   12   13     14    15"
            ]
          },
          "metadata": {
            "tags": []
          },
          "execution_count": 2
        }
      ]
    },
    {
      "cell_type": "markdown",
      "metadata": {
        "id": "cGi0h5BdaWKH",
        "colab_type": "text"
      },
      "source": [
        "## Переиндексация  методом **.iloc** и **.loc**\n",
        "\n",
        "**.iloc** - использует целые числа для чтения и записи данных\n",
        "\n",
        "**.loc** - использует метки для чтения и записи данных"
      ]
    },
    {
      "cell_type": "code",
      "metadata": {
        "id": "UcKfQWmsaWKI",
        "colab_type": "code",
        "outputId": "663cddcb-1ccb-445b-ad61-6545a3316016",
        "colab": {
          "base_uri": "https://localhost:8080/",
          "height": 70
        }
      },
      "source": [
        "data.iloc[1,[3, 1]]"
      ],
      "execution_count": 0,
      "outputs": [
        {
          "output_type": "execute_result",
          "data": {
            "text/plain": [
              "four    7\n",
              "two     5\n",
              "Name: Colorado, dtype: int64"
            ]
          },
          "metadata": {
            "tags": []
          },
          "execution_count": 3
        }
      ]
    },
    {
      "cell_type": "code",
      "metadata": {
        "id": "HOXSeCMUaWKP",
        "colab_type": "code",
        "outputId": "edf47ecc-d75f-44ec-889f-310521613296",
        "colab": {
          "base_uri": "https://localhost:8080/",
          "height": 139
        }
      },
      "source": [
        "data.loc['Colorado':'New York'] "
      ],
      "execution_count": 0,
      "outputs": [
        {
          "output_type": "execute_result",
          "data": {
            "text/html": [
              "<div>\n",
              "<style scoped>\n",
              "    .dataframe tbody tr th:only-of-type {\n",
              "        vertical-align: middle;\n",
              "    }\n",
              "\n",
              "    .dataframe tbody tr th {\n",
              "        vertical-align: top;\n",
              "    }\n",
              "\n",
              "    .dataframe thead th {\n",
              "        text-align: right;\n",
              "    }\n",
              "</style>\n",
              "<table border=\"1\" class=\"dataframe\">\n",
              "  <thead>\n",
              "    <tr style=\"text-align: right;\">\n",
              "      <th></th>\n",
              "      <th>one</th>\n",
              "      <th>two</th>\n",
              "      <th>three</th>\n",
              "      <th>four</th>\n",
              "    </tr>\n",
              "  </thead>\n",
              "  <tbody>\n",
              "    <tr>\n",
              "      <th>Colorado</th>\n",
              "      <td>4</td>\n",
              "      <td>5</td>\n",
              "      <td>6</td>\n",
              "      <td>7</td>\n",
              "    </tr>\n",
              "    <tr>\n",
              "      <th>Utah</th>\n",
              "      <td>8</td>\n",
              "      <td>9</td>\n",
              "      <td>10</td>\n",
              "      <td>11</td>\n",
              "    </tr>\n",
              "    <tr>\n",
              "      <th>New York</th>\n",
              "      <td>12</td>\n",
              "      <td>13</td>\n",
              "      <td>14</td>\n",
              "      <td>15</td>\n",
              "    </tr>\n",
              "  </tbody>\n",
              "</table>\n",
              "</div>"
            ],
            "text/plain": [
              "          one  two  three  four\n",
              "Colorado    4    5      6     7\n",
              "Utah        8    9     10    11\n",
              "New York   12   13     14    15"
            ]
          },
          "metadata": {
            "tags": []
          },
          "execution_count": 4
        }
      ]
    },
    {
      "cell_type": "code",
      "metadata": {
        "id": "hHDNNpUZaWKS",
        "colab_type": "code",
        "outputId": "2f32becb-5745-4cbd-fbfa-9891631ded78",
        "colab": {
          "base_uri": "https://localhost:8080/",
          "height": 170
        }
      },
      "source": [
        "data.iloc[1, 1] = '21'\n",
        "data"
      ],
      "execution_count": 0,
      "outputs": [
        {
          "output_type": "execute_result",
          "data": {
            "text/html": [
              "<div>\n",
              "<style scoped>\n",
              "    .dataframe tbody tr th:only-of-type {\n",
              "        vertical-align: middle;\n",
              "    }\n",
              "\n",
              "    .dataframe tbody tr th {\n",
              "        vertical-align: top;\n",
              "    }\n",
              "\n",
              "    .dataframe thead th {\n",
              "        text-align: right;\n",
              "    }\n",
              "</style>\n",
              "<table border=\"1\" class=\"dataframe\">\n",
              "  <thead>\n",
              "    <tr style=\"text-align: right;\">\n",
              "      <th></th>\n",
              "      <th>one</th>\n",
              "      <th>two</th>\n",
              "      <th>three</th>\n",
              "      <th>four</th>\n",
              "    </tr>\n",
              "  </thead>\n",
              "  <tbody>\n",
              "    <tr>\n",
              "      <th>Ohio</th>\n",
              "      <td>0</td>\n",
              "      <td>1</td>\n",
              "      <td>2</td>\n",
              "      <td>3</td>\n",
              "    </tr>\n",
              "    <tr>\n",
              "      <th>Colorado</th>\n",
              "      <td>4</td>\n",
              "      <td>21</td>\n",
              "      <td>6</td>\n",
              "      <td>7</td>\n",
              "    </tr>\n",
              "    <tr>\n",
              "      <th>Utah</th>\n",
              "      <td>8</td>\n",
              "      <td>9</td>\n",
              "      <td>10</td>\n",
              "      <td>11</td>\n",
              "    </tr>\n",
              "    <tr>\n",
              "      <th>New York</th>\n",
              "      <td>12</td>\n",
              "      <td>13</td>\n",
              "      <td>14</td>\n",
              "      <td>15</td>\n",
              "    </tr>\n",
              "  </tbody>\n",
              "</table>\n",
              "</div>"
            ],
            "text/plain": [
              "          one two  three  four\n",
              "Ohio        0   1      2     3\n",
              "Colorado    4  21      6     7\n",
              "Utah        8   9     10    11\n",
              "New York   12  13     14    15"
            ]
          },
          "metadata": {
            "tags": []
          },
          "execution_count": 5
        }
      ]
    },
    {
      "cell_type": "code",
      "metadata": {
        "id": "hN06zUVZaWKV",
        "colab_type": "code",
        "outputId": "92c2a32d-caaf-419c-8c34-821a7e33240e",
        "colab": {
          "base_uri": "https://localhost:8080/",
          "height": 109
        }
      },
      "source": [
        "data.loc['Ohio':'Colorado', ['four', 'two']]"
      ],
      "execution_count": 0,
      "outputs": [
        {
          "output_type": "execute_result",
          "data": {
            "text/html": [
              "<div>\n",
              "<style scoped>\n",
              "    .dataframe tbody tr th:only-of-type {\n",
              "        vertical-align: middle;\n",
              "    }\n",
              "\n",
              "    .dataframe tbody tr th {\n",
              "        vertical-align: top;\n",
              "    }\n",
              "\n",
              "    .dataframe thead th {\n",
              "        text-align: right;\n",
              "    }\n",
              "</style>\n",
              "<table border=\"1\" class=\"dataframe\">\n",
              "  <thead>\n",
              "    <tr style=\"text-align: right;\">\n",
              "      <th></th>\n",
              "      <th>four</th>\n",
              "      <th>two</th>\n",
              "    </tr>\n",
              "  </thead>\n",
              "  <tbody>\n",
              "    <tr>\n",
              "      <th>Ohio</th>\n",
              "      <td>3</td>\n",
              "      <td>1</td>\n",
              "    </tr>\n",
              "    <tr>\n",
              "      <th>Colorado</th>\n",
              "      <td>7</td>\n",
              "      <td>21</td>\n",
              "    </tr>\n",
              "  </tbody>\n",
              "</table>\n",
              "</div>"
            ],
            "text/plain": [
              "          four two\n",
              "Ohio         3   1\n",
              "Colorado     7  21"
            ]
          },
          "metadata": {
            "tags": []
          },
          "execution_count": 6
        }
      ]
    },
    {
      "cell_type": "markdown",
      "metadata": {
        "id": "uTdMFoeCaWKY",
        "colab_type": "text"
      },
      "source": [
        "## Применение функций и отображение\n",
        "\n",
        "**.apply** - функция применяется по столбцам или по строкам (к объекту Series)\n",
        "\n",
        "\n",
        "**.applymap** - функция применяется поэлементно"
      ]
    },
    {
      "cell_type": "code",
      "metadata": {
        "id": "bBRt08cMaWKa",
        "colab_type": "code",
        "outputId": "abb15e0f-e946-4859-9e96-38d590e83b40",
        "colab": {
          "base_uri": "https://localhost:8080/",
          "height": 175
        }
      },
      "source": [
        "frame = DataFrame(np.random.randn(4, 3), columns=list('abc'),\n",
        "                  index= ('Utah', 'Ohio', 'Texas', 'Oregon'))\n",
        "frame"
      ],
      "execution_count": 2,
      "outputs": [
        {
          "output_type": "execute_result",
          "data": {
            "text/html": [
              "<div>\n",
              "<style scoped>\n",
              "    .dataframe tbody tr th:only-of-type {\n",
              "        vertical-align: middle;\n",
              "    }\n",
              "\n",
              "    .dataframe tbody tr th {\n",
              "        vertical-align: top;\n",
              "    }\n",
              "\n",
              "    .dataframe thead th {\n",
              "        text-align: right;\n",
              "    }\n",
              "</style>\n",
              "<table border=\"1\" class=\"dataframe\">\n",
              "  <thead>\n",
              "    <tr style=\"text-align: right;\">\n",
              "      <th></th>\n",
              "      <th>a</th>\n",
              "      <th>b</th>\n",
              "      <th>c</th>\n",
              "    </tr>\n",
              "  </thead>\n",
              "  <tbody>\n",
              "    <tr>\n",
              "      <th>Utah</th>\n",
              "      <td>-0.728314</td>\n",
              "      <td>0.155622</td>\n",
              "      <td>-1.139570</td>\n",
              "    </tr>\n",
              "    <tr>\n",
              "      <th>Ohio</th>\n",
              "      <td>-1.200004</td>\n",
              "      <td>-0.434230</td>\n",
              "      <td>1.205376</td>\n",
              "    </tr>\n",
              "    <tr>\n",
              "      <th>Texas</th>\n",
              "      <td>1.041788</td>\n",
              "      <td>1.716944</td>\n",
              "      <td>0.745826</td>\n",
              "    </tr>\n",
              "    <tr>\n",
              "      <th>Oregon</th>\n",
              "      <td>-0.044610</td>\n",
              "      <td>1.208175</td>\n",
              "      <td>0.510249</td>\n",
              "    </tr>\n",
              "  </tbody>\n",
              "</table>\n",
              "</div>"
            ],
            "text/plain": [
              "               a         b         c\n",
              "Utah   -0.728314  0.155622 -1.139570\n",
              "Ohio   -1.200004 -0.434230  1.205376\n",
              "Texas   1.041788  1.716944  0.745826\n",
              "Oregon -0.044610  1.208175  0.510249"
            ]
          },
          "metadata": {
            "tags": []
          },
          "execution_count": 2
        }
      ]
    },
    {
      "cell_type": "code",
      "metadata": {
        "id": "cDAN_Kg8aWKd",
        "colab_type": "code",
        "outputId": "eb2b7851-43ac-4f8d-8cc3-8de803a726a5",
        "colab": {
          "base_uri": "https://localhost:8080/",
          "height": 340
        }
      },
      "source": [
        "print(frame.apply(np.sum))\n",
        "print(frame.apply(np.sum, axis=1))\n",
        "frame"
      ],
      "execution_count": 4,
      "outputs": [
        {
          "output_type": "stream",
          "text": [
            "a   -0.931140\n",
            "b    2.646510\n",
            "c    1.321881\n",
            "dtype: float64\n",
            "Utah     -1.712262\n",
            "Ohio     -0.428859\n",
            "Texas     3.504558\n",
            "Oregon    1.673813\n",
            "dtype: float64\n"
          ],
          "name": "stdout"
        },
        {
          "output_type": "execute_result",
          "data": {
            "text/html": [
              "<div>\n",
              "<style scoped>\n",
              "    .dataframe tbody tr th:only-of-type {\n",
              "        vertical-align: middle;\n",
              "    }\n",
              "\n",
              "    .dataframe tbody tr th {\n",
              "        vertical-align: top;\n",
              "    }\n",
              "\n",
              "    .dataframe thead th {\n",
              "        text-align: right;\n",
              "    }\n",
              "</style>\n",
              "<table border=\"1\" class=\"dataframe\">\n",
              "  <thead>\n",
              "    <tr style=\"text-align: right;\">\n",
              "      <th></th>\n",
              "      <th>a</th>\n",
              "      <th>b</th>\n",
              "      <th>c</th>\n",
              "    </tr>\n",
              "  </thead>\n",
              "  <tbody>\n",
              "    <tr>\n",
              "      <th>Utah</th>\n",
              "      <td>-0.728314</td>\n",
              "      <td>0.155622</td>\n",
              "      <td>-1.139570</td>\n",
              "    </tr>\n",
              "    <tr>\n",
              "      <th>Ohio</th>\n",
              "      <td>-1.200004</td>\n",
              "      <td>-0.434230</td>\n",
              "      <td>1.205376</td>\n",
              "    </tr>\n",
              "    <tr>\n",
              "      <th>Texas</th>\n",
              "      <td>1.041788</td>\n",
              "      <td>1.716944</td>\n",
              "      <td>0.745826</td>\n",
              "    </tr>\n",
              "    <tr>\n",
              "      <th>Oregon</th>\n",
              "      <td>-0.044610</td>\n",
              "      <td>1.208175</td>\n",
              "      <td>0.510249</td>\n",
              "    </tr>\n",
              "  </tbody>\n",
              "</table>\n",
              "</div>"
            ],
            "text/plain": [
              "               a         b         c\n",
              "Utah   -0.728314  0.155622 -1.139570\n",
              "Ohio   -1.200004 -0.434230  1.205376\n",
              "Texas   1.041788  1.716944  0.745826\n",
              "Oregon -0.044610  1.208175  0.510249"
            ]
          },
          "metadata": {
            "tags": []
          },
          "execution_count": 4
        }
      ]
    },
    {
      "cell_type": "code",
      "metadata": {
        "id": "Zj2CYJjUaWKh",
        "colab_type": "code",
        "colab": {}
      },
      "source": [
        "form = lambda х: '%.2f' % х\n",
        "print(frame.applymap(form))\n",
        "print(frame.apply(form))"
      ],
      "execution_count": 0,
      "outputs": []
    },
    {
      "cell_type": "markdown",
      "metadata": {
        "id": "8V-6ooU3aWKk",
        "colab_type": "text"
      },
      "source": [
        "## Сортировка и ранжирование\n",
        "\n",
        "Для лексикографической сортировки по индексу служит метод **.sort_index**, который возвращает новый отсортированный объект\n"
      ]
    },
    {
      "cell_type": "code",
      "metadata": {
        "id": "ctEzBQrKaWKl",
        "colab_type": "code",
        "outputId": "a5ba3d01-cbac-4714-a28b-1bc737cfa1cf",
        "colab": {
          "base_uri": "https://localhost:8080/",
          "height": 109
        }
      },
      "source": [
        "obj = Series(range(4), index= ['d', 'a', 'b', 'c'])\n",
        "obj.sort_index()"
      ],
      "execution_count": 6,
      "outputs": [
        {
          "output_type": "execute_result",
          "data": {
            "text/plain": [
              "a    1\n",
              "b    2\n",
              "c    3\n",
              "d    0\n",
              "dtype: int64"
            ]
          },
          "metadata": {
            "tags": []
          },
          "execution_count": 6
        }
      ]
    },
    {
      "cell_type": "code",
      "metadata": {
        "id": "O_w97pX2aWKo",
        "colab_type": "code",
        "outputId": "d7b787a8-b841-4294-f0a4-31b77b7af4bf",
        "colab": {
          "base_uri": "https://localhost:8080/",
          "height": 177
        }
      },
      "source": [
        "frame = DataFrame(np.arange(8).reshape((2, 4)), index=['three', 'one'],\n",
        "                    columns=['d', 'a', 'b', 'c'])\n",
        "print(frame.sort_index())\n",
        "print(frame.sort_index(axis=1))\n",
        "print(frame.sort_index(axis=1, ascending=False)) # сортировать в порядке убывания"
      ],
      "execution_count": 0,
      "outputs": [
        {
          "output_type": "stream",
          "text": [
            "       d  a  b  c\n",
            "one    4  5  6  7\n",
            "three  0  1  2  3\n",
            "       a  b  c  d\n",
            "three  1  2  3  0\n",
            "one    5  6  7  4\n",
            "       d  c  b  a\n",
            "three  0  3  2  1\n",
            "one    4  7  6  5\n"
          ],
          "name": "stdout"
        }
      ]
    },
    {
      "cell_type": "markdown",
      "metadata": {
        "id": "ew8H8fXbaWKs",
        "colab_type": "text"
      },
      "source": [
        "---\n",
        "Для лексикографической сортировки по значению служит метод **.sort_values**, который возвращает новый отсортированный объект\n",
        "\n",
        "\n",
        "---"
      ]
    },
    {
      "cell_type": "code",
      "metadata": {
        "id": "UcXKoqKbaWKu",
        "colab_type": "code",
        "outputId": "d5eeebc9-9b84-477c-b675-612566760ad2",
        "colab": {
          "base_uri": "https://localhost:8080/",
          "height": 347
        }
      },
      "source": [
        "frame = DataFrame({'b': [4, 7, -3, 2], 'a': [0, 1, 0, 1]})\n",
        "print(frame)\n",
        "print(frame.sort_values(by='b'))\n",
        "frame.sort_values(by=['a', 'b'], inplace = True) # не создаем новый объект, выполняем сортировку \"на месте\"\n",
        "frame"
      ],
      "execution_count": 0,
      "outputs": [
        {
          "output_type": "stream",
          "text": [
            "   b  a\n",
            "0  4  0\n",
            "1  7  1\n",
            "2 -3  0\n",
            "3  2  1\n",
            "   b  a\n",
            "2 -3  0\n",
            "3  2  1\n",
            "0  4  0\n",
            "1  7  1\n"
          ],
          "name": "stdout"
        },
        {
          "output_type": "execute_result",
          "data": {
            "text/html": [
              "<div>\n",
              "<style scoped>\n",
              "    .dataframe tbody tr th:only-of-type {\n",
              "        vertical-align: middle;\n",
              "    }\n",
              "\n",
              "    .dataframe tbody tr th {\n",
              "        vertical-align: top;\n",
              "    }\n",
              "\n",
              "    .dataframe thead th {\n",
              "        text-align: right;\n",
              "    }\n",
              "</style>\n",
              "<table border=\"1\" class=\"dataframe\">\n",
              "  <thead>\n",
              "    <tr style=\"text-align: right;\">\n",
              "      <th></th>\n",
              "      <th>b</th>\n",
              "      <th>a</th>\n",
              "    </tr>\n",
              "  </thead>\n",
              "  <tbody>\n",
              "    <tr>\n",
              "      <th>2</th>\n",
              "      <td>-3</td>\n",
              "      <td>0</td>\n",
              "    </tr>\n",
              "    <tr>\n",
              "      <th>0</th>\n",
              "      <td>4</td>\n",
              "      <td>0</td>\n",
              "    </tr>\n",
              "    <tr>\n",
              "      <th>3</th>\n",
              "      <td>2</td>\n",
              "      <td>1</td>\n",
              "    </tr>\n",
              "    <tr>\n",
              "      <th>1</th>\n",
              "      <td>7</td>\n",
              "      <td>1</td>\n",
              "    </tr>\n",
              "  </tbody>\n",
              "</table>\n",
              "</div>"
            ],
            "text/plain": [
              "   b  a\n",
              "2 -3  0\n",
              "0  4  0\n",
              "3  2  1\n",
              "1  7  1"
            ]
          },
          "metadata": {
            "tags": []
          },
          "execution_count": 12
        }
      ]
    },
    {
      "cell_type": "markdown",
      "metadata": {
        "id": "dlgVrMAwaWKx",
        "colab_type": "text"
      },
      "source": [
        "## Индексы по осям с повторяющимися значениями\n",
        "\n"
      ]
    },
    {
      "cell_type": "code",
      "metadata": {
        "id": "7VoNH4KwaWKy",
        "colab_type": "code",
        "outputId": "23c8b5a0-7040-4ffd-de73-22565debffae",
        "colab": {
          "base_uri": "https://localhost:8080/",
          "height": 319
        }
      },
      "source": [
        "obj = Series ( range ( 5) , index= ['a', 'a', 'b', 'b', 'c'])\n",
        "print(obj)\n",
        "print('\\n')\n",
        "print(obj.index.is_unique)\n",
        "print('\\n')\n",
        "print(obj['a'])\n",
        "print('\\n')\n",
        "print(obj['c'])"
      ],
      "execution_count": 0,
      "outputs": [
        {
          "output_type": "stream",
          "text": [
            "a    0\n",
            "a    1\n",
            "b    2\n",
            "b    3\n",
            "c    4\n",
            "dtype: int64\n",
            "\n",
            "\n",
            "False\n",
            "\n",
            "\n",
            "a    0\n",
            "a    1\n",
            "dtype: int64\n",
            "\n",
            "\n",
            "4\n"
          ],
          "name": "stdout"
        }
      ]
    },
    {
      "cell_type": "code",
      "metadata": {
        "id": "ItCy1yxCaWK1",
        "colab_type": "code",
        "colab": {}
      },
      "source": [
        "data = DataFrame(np.random.randn(4, 3), index = ['a', 'a', 'b', 'b'])\n",
        "print(data)\n",
        "print('\\n')\n",
        "print(data.index.is_unique)\n",
        "print('\\n')\n",
        "print(data.loc['a'])"
      ],
      "execution_count": 0,
      "outputs": []
    },
    {
      "cell_type": "markdown",
      "metadata": {
        "id": "Qty7hrPyaWK4",
        "colab_type": "text"
      },
      "source": [
        "## Редукция и вычисление описательных статистик\n",
        "\n",
        "Объекты pandas оснащены набором стандартных математических и статистических методов. Большая их часть попадает в категорию редукций, или сводных статистик – методов, которые вычисляют единственное значение (например, сумму или среднее) для Series или объект Series - для строк либо столбцов DataFrame.\n",
        "\n",
        "\n",
        "По сравнению с эквивалентными методами массивов NumPy, все они игнорируют отсутствующие значения.\n"
      ]
    },
    {
      "cell_type": "code",
      "metadata": {
        "id": "NwG24rP4aWK5",
        "colab_type": "code",
        "outputId": "4b753326-5ae5-4999-ae1b-0ad7da5101dc",
        "colab": {
          "base_uri": "https://localhost:8080/",
          "height": 170
        }
      },
      "source": [
        "data = DataFrame([[1.4, np.nan], [7.1, -4.5],[np.nan, np.nan], [0.75, -1.3]],\n",
        "                index = ['a', 'b', 'c', 'd'],\n",
        "                columns = ['one', 'two'])\n",
        "data"
      ],
      "execution_count": 0,
      "outputs": [
        {
          "output_type": "execute_result",
          "data": {
            "text/html": [
              "<div>\n",
              "<style scoped>\n",
              "    .dataframe tbody tr th:only-of-type {\n",
              "        vertical-align: middle;\n",
              "    }\n",
              "\n",
              "    .dataframe tbody tr th {\n",
              "        vertical-align: top;\n",
              "    }\n",
              "\n",
              "    .dataframe thead th {\n",
              "        text-align: right;\n",
              "    }\n",
              "</style>\n",
              "<table border=\"1\" class=\"dataframe\">\n",
              "  <thead>\n",
              "    <tr style=\"text-align: right;\">\n",
              "      <th></th>\n",
              "      <th>one</th>\n",
              "      <th>two</th>\n",
              "    </tr>\n",
              "  </thead>\n",
              "  <tbody>\n",
              "    <tr>\n",
              "      <th>a</th>\n",
              "      <td>1.40</td>\n",
              "      <td>NaN</td>\n",
              "    </tr>\n",
              "    <tr>\n",
              "      <th>b</th>\n",
              "      <td>7.10</td>\n",
              "      <td>-4.5</td>\n",
              "    </tr>\n",
              "    <tr>\n",
              "      <th>c</th>\n",
              "      <td>NaN</td>\n",
              "      <td>NaN</td>\n",
              "    </tr>\n",
              "    <tr>\n",
              "      <th>d</th>\n",
              "      <td>0.75</td>\n",
              "      <td>-1.3</td>\n",
              "    </tr>\n",
              "  </tbody>\n",
              "</table>\n",
              "</div>"
            ],
            "text/plain": [
              "    one  two\n",
              "a  1.40  NaN\n",
              "b  7.10 -4.5\n",
              "c   NaN  NaN\n",
              "d  0.75 -1.3"
            ]
          },
          "metadata": {
            "tags": []
          },
          "execution_count": 14
        }
      ]
    },
    {
      "cell_type": "markdown",
      "metadata": {
        "id": "L3kP0LQ3aWK8",
        "colab_type": "text"
      },
      "source": [
        "---\n",
        "Метод **sum** объекта DataFrame возвращает Series, содержащий суммы по столбцам (строкам):\n",
        "\n",
        "\n",
        "---"
      ]
    },
    {
      "cell_type": "code",
      "metadata": {
        "id": "S5_Wo4ZiaWK-",
        "colab_type": "code",
        "outputId": "6f33d8f0-226b-4c2c-cff5-5e5cda05cef2",
        "colab": {
          "base_uri": "https://localhost:8080/",
          "height": 70
        }
      },
      "source": [
        "data.sum()"
      ],
      "execution_count": 0,
      "outputs": [
        {
          "output_type": "execute_result",
          "data": {
            "text/plain": [
              "one    9.25\n",
              "two   -5.80\n",
              "dtype: float64"
            ]
          },
          "metadata": {
            "tags": []
          },
          "execution_count": 15
        }
      ]
    },
    {
      "cell_type": "code",
      "metadata": {
        "id": "gMo4k5igaWLC",
        "colab_type": "code",
        "outputId": "8419961e-5bdc-4343-8c0c-c28c9305c806",
        "colab": {
          "base_uri": "https://localhost:8080/",
          "height": 106
        }
      },
      "source": [
        "data.sum(axis=1, skipna= False) # skipna= False - исключает отсутствующие значения"
      ],
      "execution_count": 0,
      "outputs": [
        {
          "output_type": "execute_result",
          "data": {
            "text/plain": [
              "a     NaN\n",
              "b    2.60\n",
              "c     NaN\n",
              "d   -0.55\n",
              "dtype: float64"
            ]
          },
          "metadata": {
            "tags": []
          },
          "execution_count": 16
        }
      ]
    },
    {
      "cell_type": "markdown",
      "metadata": {
        "id": "SUIErxqLaWLE",
        "colab_type": "text"
      },
      "source": [
        "##### Параметры методов редукции\n",
        "\n",
        "|Аргумент|Описание|\n",
        "|:---|:---|\n",
        "|axis|Ось, по которой производится редуцирование. В случае DataFrame 0 означает строки, 1 - столбцы.|\n",
        "|skipna|Исключать отсутствующие значения. По умолчанию True|\n",
        "|level|Редуцировать с группировкой по уровням, если индекс по оси иерархический (Multilndex)|"
      ]
    },
    {
      "cell_type": "markdown",
      "metadata": {
        "id": "sqHMnlUKaWLF",
        "colab_type": "text"
      },
      "source": [
        "### Методы косвенных статистик"
      ]
    },
    {
      "cell_type": "code",
      "metadata": {
        "id": "CT7d3bKsbMhx",
        "colab_type": "code",
        "outputId": "10e48b4d-72fc-490d-c83d-1f08e9722a75",
        "colab": {
          "base_uri": "https://localhost:8080/",
          "height": 170
        }
      },
      "source": [
        "data"
      ],
      "execution_count": 0,
      "outputs": [
        {
          "output_type": "execute_result",
          "data": {
            "text/html": [
              "<div>\n",
              "<style scoped>\n",
              "    .dataframe tbody tr th:only-of-type {\n",
              "        vertical-align: middle;\n",
              "    }\n",
              "\n",
              "    .dataframe tbody tr th {\n",
              "        vertical-align: top;\n",
              "    }\n",
              "\n",
              "    .dataframe thead th {\n",
              "        text-align: right;\n",
              "    }\n",
              "</style>\n",
              "<table border=\"1\" class=\"dataframe\">\n",
              "  <thead>\n",
              "    <tr style=\"text-align: right;\">\n",
              "      <th></th>\n",
              "      <th>one</th>\n",
              "      <th>two</th>\n",
              "    </tr>\n",
              "  </thead>\n",
              "  <tbody>\n",
              "    <tr>\n",
              "      <th>a</th>\n",
              "      <td>1.40</td>\n",
              "      <td>NaN</td>\n",
              "    </tr>\n",
              "    <tr>\n",
              "      <th>b</th>\n",
              "      <td>7.10</td>\n",
              "      <td>-4.5</td>\n",
              "    </tr>\n",
              "    <tr>\n",
              "      <th>c</th>\n",
              "      <td>NaN</td>\n",
              "      <td>NaN</td>\n",
              "    </tr>\n",
              "    <tr>\n",
              "      <th>d</th>\n",
              "      <td>0.75</td>\n",
              "      <td>-1.3</td>\n",
              "    </tr>\n",
              "  </tbody>\n",
              "</table>\n",
              "</div>"
            ],
            "text/plain": [
              "    one  two\n",
              "a  1.40  NaN\n",
              "b  7.10 -4.5\n",
              "c   NaN  NaN\n",
              "d  0.75 -1.3"
            ]
          },
          "metadata": {
            "tags": []
          },
          "execution_count": 19
        }
      ]
    },
    {
      "cell_type": "code",
      "metadata": {
        "id": "TqG1K_6paWLG",
        "colab_type": "code",
        "outputId": "a24b8c55-83b2-4b0b-e2d7-dc0d6a719ef9",
        "colab": {
          "base_uri": "https://localhost:8080/",
          "height": 70
        }
      },
      "source": [
        "data.idxmin() # Индекс, при котором достигается минимум"
      ],
      "execution_count": 0,
      "outputs": [
        {
          "output_type": "execute_result",
          "data": {
            "text/plain": [
              "one    d\n",
              "two    b\n",
              "dtype: object"
            ]
          },
          "metadata": {
            "tags": []
          },
          "execution_count": 17
        }
      ]
    },
    {
      "cell_type": "code",
      "metadata": {
        "id": "Xf14hb6raWLN",
        "colab_type": "code",
        "outputId": "9924face-338e-435d-9fc2-8c8dc886fba1",
        "colab": {
          "base_uri": "https://localhost:8080/",
          "height": 70
        }
      },
      "source": [
        "data.idxmax() # Индекс, при котором достигается  максимум"
      ],
      "execution_count": 0,
      "outputs": [
        {
          "output_type": "execute_result",
          "data": {
            "text/plain": [
              "one    b\n",
              "two    d\n",
              "dtype: object"
            ]
          },
          "metadata": {
            "tags": []
          },
          "execution_count": 20
        }
      ]
    },
    {
      "cell_type": "code",
      "metadata": {
        "id": "6RivIs8SaWLT",
        "colab_type": "code",
        "outputId": "8fb2645d-ff4d-4ebd-8340-9ab28a94e93a",
        "colab": {
          "base_uri": "https://localhost:8080/",
          "height": 170
        }
      },
      "source": [
        "data.cumsum()  # Нарастающий итог (аккумулирующий метод)"
      ],
      "execution_count": 0,
      "outputs": [
        {
          "output_type": "execute_result",
          "data": {
            "text/html": [
              "<div>\n",
              "<style scoped>\n",
              "    .dataframe tbody tr th:only-of-type {\n",
              "        vertical-align: middle;\n",
              "    }\n",
              "\n",
              "    .dataframe tbody tr th {\n",
              "        vertical-align: top;\n",
              "    }\n",
              "\n",
              "    .dataframe thead th {\n",
              "        text-align: right;\n",
              "    }\n",
              "</style>\n",
              "<table border=\"1\" class=\"dataframe\">\n",
              "  <thead>\n",
              "    <tr style=\"text-align: right;\">\n",
              "      <th></th>\n",
              "      <th>one</th>\n",
              "      <th>two</th>\n",
              "    </tr>\n",
              "  </thead>\n",
              "  <tbody>\n",
              "    <tr>\n",
              "      <th>a</th>\n",
              "      <td>1.40</td>\n",
              "      <td>NaN</td>\n",
              "    </tr>\n",
              "    <tr>\n",
              "      <th>b</th>\n",
              "      <td>8.50</td>\n",
              "      <td>-4.5</td>\n",
              "    </tr>\n",
              "    <tr>\n",
              "      <th>c</th>\n",
              "      <td>NaN</td>\n",
              "      <td>NaN</td>\n",
              "    </tr>\n",
              "    <tr>\n",
              "      <th>d</th>\n",
              "      <td>9.25</td>\n",
              "      <td>-5.8</td>\n",
              "    </tr>\n",
              "  </tbody>\n",
              "</table>\n",
              "</div>"
            ],
            "text/plain": [
              "    one  two\n",
              "a  1.40  NaN\n",
              "b  8.50 -4.5\n",
              "c   NaN  NaN\n",
              "d  9.25 -5.8"
            ]
          },
          "metadata": {
            "tags": []
          },
          "execution_count": 21
        }
      ]
    },
    {
      "cell_type": "code",
      "metadata": {
        "id": "5VHk14QbaWLX",
        "colab_type": "code",
        "outputId": "24746fa0-bff9-41b5-83aa-76c4a8afd3da",
        "colab": {
          "base_uri": "https://localhost:8080/",
          "height": 291
        }
      },
      "source": [
        "data.describe() # Несколько сводных статистик за одно обращение"
      ],
      "execution_count": 0,
      "outputs": [
        {
          "output_type": "execute_result",
          "data": {
            "text/html": [
              "<div>\n",
              "<style scoped>\n",
              "    .dataframe tbody tr th:only-of-type {\n",
              "        vertical-align: middle;\n",
              "    }\n",
              "\n",
              "    .dataframe tbody tr th {\n",
              "        vertical-align: top;\n",
              "    }\n",
              "\n",
              "    .dataframe thead th {\n",
              "        text-align: right;\n",
              "    }\n",
              "</style>\n",
              "<table border=\"1\" class=\"dataframe\">\n",
              "  <thead>\n",
              "    <tr style=\"text-align: right;\">\n",
              "      <th></th>\n",
              "      <th>one</th>\n",
              "      <th>two</th>\n",
              "    </tr>\n",
              "  </thead>\n",
              "  <tbody>\n",
              "    <tr>\n",
              "      <th>count</th>\n",
              "      <td>3.000000</td>\n",
              "      <td>2.000000</td>\n",
              "    </tr>\n",
              "    <tr>\n",
              "      <th>mean</th>\n",
              "      <td>3.083333</td>\n",
              "      <td>-2.900000</td>\n",
              "    </tr>\n",
              "    <tr>\n",
              "      <th>std</th>\n",
              "      <td>3.493685</td>\n",
              "      <td>2.262742</td>\n",
              "    </tr>\n",
              "    <tr>\n",
              "      <th>min</th>\n",
              "      <td>0.750000</td>\n",
              "      <td>-4.500000</td>\n",
              "    </tr>\n",
              "    <tr>\n",
              "      <th>25%</th>\n",
              "      <td>1.075000</td>\n",
              "      <td>-3.700000</td>\n",
              "    </tr>\n",
              "    <tr>\n",
              "      <th>50%</th>\n",
              "      <td>1.400000</td>\n",
              "      <td>-2.900000</td>\n",
              "    </tr>\n",
              "    <tr>\n",
              "      <th>75%</th>\n",
              "      <td>4.250000</td>\n",
              "      <td>-2.100000</td>\n",
              "    </tr>\n",
              "    <tr>\n",
              "      <th>max</th>\n",
              "      <td>7.100000</td>\n",
              "      <td>-1.300000</td>\n",
              "    </tr>\n",
              "  </tbody>\n",
              "</table>\n",
              "</div>"
            ],
            "text/plain": [
              "            one       two\n",
              "count  3.000000  2.000000\n",
              "mean   3.083333 -2.900000\n",
              "std    3.493685  2.262742\n",
              "min    0.750000 -4.500000\n",
              "25%    1.075000 -3.700000\n",
              "50%    1.400000 -2.900000\n",
              "75%    4.250000 -2.100000\n",
              "max    7.100000 -1.300000"
            ]
          },
          "metadata": {
            "tags": []
          },
          "execution_count": 22
        }
      ]
    },
    {
      "cell_type": "code",
      "metadata": {
        "id": "AavEVx9_aWLZ",
        "colab_type": "code",
        "outputId": "f2df6b40-17e6-40e8-a46c-fd397993fab0",
        "colab": {
          "base_uri": "https://localhost:8080/",
          "height": 106
        }
      },
      "source": [
        "obj = Series( ['a', 'a', 'b', 'c' ] * 4)\n",
        "obj.describe()"
      ],
      "execution_count": 0,
      "outputs": [
        {
          "output_type": "execute_result",
          "data": {
            "text/plain": [
              "count     16\n",
              "unique     3\n",
              "top        a\n",
              "freq       8\n",
              "dtype: object"
            ]
          },
          "metadata": {
            "tags": []
          },
          "execution_count": 23
        }
      ]
    },
    {
      "cell_type": "markdown",
      "metadata": {
        "id": "Xi-YoKlZaWLd",
        "colab_type": "text"
      },
      "source": [
        "#### Описательные и сводные статистики\n",
        "\n",
        "|Метод|Описание|\n",
        "|:---|:---|\n",
        "|count|Количество значений, исключая отсутствующие|\n",
        "|describe|Вычисляет набор сводных статистик для Series или для каждого столбца DataFrame|\n",
        "|min, max|Вычисляет минимальное или максимальное значение|\n",
        "|argmin, argmax|Вычисляет позицию в индексе (целые числа), при котором достигается минимальное или максимальное значение соответственно|\n",
        "|idxmin, idxmax|Вычисляет значение индекса, при котором достигается минимальное или максимальное значение соответственно|\n",
        "|quantile|Вычисляет выборочный квантиль в диапазоне от 0 до 1|\n",
        "|sum|Сумма значений|\n",
        "|mean|Среднее значение|\n",
        "|median|Медиана (50%-ый квантиль)|\n",
        "|mad|Среднее абсолютное отклонение от среднего|\n",
        "|var|Выборочная дисперсия|\n",
        "|std|Выборочное стандартное отклонение|\n",
        "|skew|Асимметрия (третий момент)|\n",
        "|kurt|Куртозис (четвертый момент)|\n",
        "|cumsum|Нарастающая сумма|\n",
        "|cummin, cummax|Нарастающий минимум или максимум соответственно|\n",
        "|cumprod|Нарастающее произведение|\n",
        "|diff|Первая арифметическая разность (полезно для временных рядов)|\n",
        "|pct_change|Вычисляет процентное изменение|"
      ]
    },
    {
      "cell_type": "markdown",
      "metadata": {
        "id": "neGeY3FvaWLe",
        "colab_type": "text"
      },
      "source": [
        "### Корреляция и ковариация\n",
        "\n",
        "\n",
        "\n",
        "Некоторые сводные статистики, например корреляция и ковариация, вычисляются по парам аргументов. \n",
        "\n",
        "Рассмотрим объекты DataFrame, содержащие цены акций и объемы биржевых сделок, взятые с сайта Уаhoo! Finance:"
      ]
    },
    {
      "cell_type": "code",
      "metadata": {
        "id": "QtJZlb_yaWLf",
        "colab_type": "code",
        "colab": {}
      },
      "source": [
        "pip install pandas_datareader"
      ],
      "execution_count": 0,
      "outputs": []
    },
    {
      "cell_type": "code",
      "metadata": {
        "id": "46teBPJkaWLi",
        "colab_type": "code",
        "colab": {}
      },
      "source": [
        "from pandas_datareader import data as web\n",
        "\n",
        "all_data = {}\n",
        "for ticker in ['AAPL', 'IBM', 'MSFT', 'GOOG']:\n",
        "    all_data[ticker] = web.get_data_yahoo(ticker, '1/1/2008', '1/1/2018')\n",
        "\n",
        "price = DataFrame({tic: data['Adj Close'] for tic, data in all_data.items()})\n",
        "volume = DataFrame ({tic: data ['Volume'] for tic, data in all_data.items()})\n"
      ],
      "execution_count": 0,
      "outputs": []
    },
    {
      "cell_type": "code",
      "metadata": {
        "id": "MmriOdGQaWLk",
        "colab_type": "code",
        "outputId": "e4f795d3-0ebd-4549-e2b8-aa550c53a3f3",
        "colab": {
          "base_uri": "https://localhost:8080/",
          "height": 230
        }
      },
      "source": [
        "\"\"\"\n",
        ".pct_change() вычисляет процентное изменение \n",
        "между текущим и предыдущим элементом. \n",
        "Эта функция по умолчанию рассчитывает процентное изменение \n",
        "от непосредственно предыдущей строки.\n",
        "\"\"\"\n",
        "returns = price.pct_change()\n",
        "returns.tail() # 5 нижних строк фрейма данных"
      ],
      "execution_count": 0,
      "outputs": [
        {
          "output_type": "execute_result",
          "data": {
            "text/html": [
              "<div>\n",
              "<style scoped>\n",
              "    .dataframe tbody tr th:only-of-type {\n",
              "        vertical-align: middle;\n",
              "    }\n",
              "\n",
              "    .dataframe tbody tr th {\n",
              "        vertical-align: top;\n",
              "    }\n",
              "\n",
              "    .dataframe thead th {\n",
              "        text-align: right;\n",
              "    }\n",
              "</style>\n",
              "<table border=\"1\" class=\"dataframe\">\n",
              "  <thead>\n",
              "    <tr style=\"text-align: right;\">\n",
              "      <th></th>\n",
              "      <th>AAPL</th>\n",
              "      <th>IBM</th>\n",
              "      <th>MSFT</th>\n",
              "      <th>GOOG</th>\n",
              "    </tr>\n",
              "    <tr>\n",
              "      <th>Date</th>\n",
              "      <th></th>\n",
              "      <th></th>\n",
              "      <th></th>\n",
              "      <th></th>\n",
              "    </tr>\n",
              "  </thead>\n",
              "  <tbody>\n",
              "    <tr>\n",
              "      <th>2017-12-22</th>\n",
              "      <td>0.000000</td>\n",
              "      <td>0.006601</td>\n",
              "      <td>0.000117</td>\n",
              "      <td>-0.003300</td>\n",
              "    </tr>\n",
              "    <tr>\n",
              "      <th>2017-12-26</th>\n",
              "      <td>-0.025370</td>\n",
              "      <td>0.002164</td>\n",
              "      <td>-0.001287</td>\n",
              "      <td>-0.003188</td>\n",
              "    </tr>\n",
              "    <tr>\n",
              "      <th>2017-12-27</th>\n",
              "      <td>0.000176</td>\n",
              "      <td>0.001963</td>\n",
              "      <td>0.003630</td>\n",
              "      <td>-0.006974</td>\n",
              "    </tr>\n",
              "    <tr>\n",
              "      <th>2017-12-28</th>\n",
              "      <td>0.002814</td>\n",
              "      <td>0.005943</td>\n",
              "      <td>0.000117</td>\n",
              "      <td>-0.001172</td>\n",
              "    </tr>\n",
              "    <tr>\n",
              "      <th>2017-12-29</th>\n",
              "      <td>-0.010814</td>\n",
              "      <td>-0.004025</td>\n",
              "      <td>-0.002100</td>\n",
              "      <td>-0.001660</td>\n",
              "    </tr>\n",
              "  </tbody>\n",
              "</table>\n",
              "</div>"
            ],
            "text/plain": [
              "                AAPL       IBM      MSFT      GOOG\n",
              "Date                                              \n",
              "2017-12-22  0.000000  0.006601  0.000117 -0.003300\n",
              "2017-12-26 -0.025370  0.002164 -0.001287 -0.003188\n",
              "2017-12-27  0.000176  0.001963  0.003630 -0.006974\n",
              "2017-12-28  0.002814  0.005943  0.000117 -0.001172\n",
              "2017-12-29 -0.010814 -0.004025 -0.002100 -0.001660"
            ]
          },
          "metadata": {
            "tags": []
          },
          "execution_count": 26
        }
      ]
    },
    {
      "cell_type": "markdown",
      "metadata": {
        "id": "wKczIBwaaWLm",
        "colab_type": "text"
      },
      "source": [
        "---\n",
        "Метод **.corr** объекта Series вычисляет корреляцию перекрывающихся, отличных от NA, выровненных по индексу значений в двух объектах Series. Соответственно, метод **.cov** вычисляет ковариацию\n",
        "\n",
        "\n",
        "---    "
      ]
    },
    {
      "cell_type": "code",
      "metadata": {
        "id": "YQRw-I5taWLn",
        "colab_type": "code",
        "outputId": "fdadb261-df58-47ed-bd29-025e11a0efd1",
        "colab": {
          "base_uri": "https://localhost:8080/",
          "height": 35
        }
      },
      "source": [
        "returns.MSFT.corr(returns.IBM)"
      ],
      "execution_count": 0,
      "outputs": [
        {
          "output_type": "execute_result",
          "data": {
            "text/plain": [
              "0.534304585914431"
            ]
          },
          "metadata": {
            "tags": []
          },
          "execution_count": 27
        }
      ]
    },
    {
      "cell_type": "code",
      "metadata": {
        "id": "YofVAWgWaWLp",
        "colab_type": "code",
        "outputId": "3fdd8e28-f0b1-4783-a91e-4d49be56e019",
        "colab": {
          "base_uri": "https://localhost:8080/",
          "height": 35
        }
      },
      "source": [
        "returns.MSFT.cov(returns.IBM)"
      ],
      "execution_count": 0,
      "outputs": [
        {
          "output_type": "execute_result",
          "data": {
            "text/plain": [
              "0.00013019837983718676"
            ]
          },
          "metadata": {
            "tags": []
          },
          "execution_count": 28
        }
      ]
    },
    {
      "cell_type": "markdown",
      "metadata": {
        "id": "AwZ8kb2QaWLt",
        "colab_type": "text"
      },
      "source": [
        "---\n",
        "Методы **.corr** и **.cov** объекта DataFrame возвращают соответственно полную корреляционную или ковариационную матрицу в виде DataFrame\n",
        "\n",
        "---"
      ]
    },
    {
      "cell_type": "code",
      "metadata": {
        "id": "OwDyzWNjaWLu",
        "colab_type": "code",
        "outputId": "0ba3b208-212e-4a15-cdee-42cd8a37bb12",
        "colab": {
          "base_uri": "https://localhost:8080/",
          "height": 170
        }
      },
      "source": [
        "returns.corr()"
      ],
      "execution_count": 0,
      "outputs": [
        {
          "output_type": "execute_result",
          "data": {
            "text/html": [
              "<div>\n",
              "<style scoped>\n",
              "    .dataframe tbody tr th:only-of-type {\n",
              "        vertical-align: middle;\n",
              "    }\n",
              "\n",
              "    .dataframe tbody tr th {\n",
              "        vertical-align: top;\n",
              "    }\n",
              "\n",
              "    .dataframe thead th {\n",
              "        text-align: right;\n",
              "    }\n",
              "</style>\n",
              "<table border=\"1\" class=\"dataframe\">\n",
              "  <thead>\n",
              "    <tr style=\"text-align: right;\">\n",
              "      <th></th>\n",
              "      <th>AAPL</th>\n",
              "      <th>IBM</th>\n",
              "      <th>MSFT</th>\n",
              "      <th>GOOG</th>\n",
              "    </tr>\n",
              "  </thead>\n",
              "  <tbody>\n",
              "    <tr>\n",
              "      <th>AAPL</th>\n",
              "      <td>1.000000</td>\n",
              "      <td>0.459086</td>\n",
              "      <td>0.472724</td>\n",
              "      <td>0.530553</td>\n",
              "    </tr>\n",
              "    <tr>\n",
              "      <th>IBM</th>\n",
              "      <td>0.459086</td>\n",
              "      <td>1.000000</td>\n",
              "      <td>0.534305</td>\n",
              "      <td>0.449593</td>\n",
              "    </tr>\n",
              "    <tr>\n",
              "      <th>MSFT</th>\n",
              "      <td>0.472724</td>\n",
              "      <td>0.534305</td>\n",
              "      <td>1.000000</td>\n",
              "      <td>0.537285</td>\n",
              "    </tr>\n",
              "    <tr>\n",
              "      <th>GOOG</th>\n",
              "      <td>0.530553</td>\n",
              "      <td>0.449593</td>\n",
              "      <td>0.537285</td>\n",
              "      <td>1.000000</td>\n",
              "    </tr>\n",
              "  </tbody>\n",
              "</table>\n",
              "</div>"
            ],
            "text/plain": [
              "          AAPL       IBM      MSFT      GOOG\n",
              "AAPL  1.000000  0.459086  0.472724  0.530553\n",
              "IBM   0.459086  1.000000  0.534305  0.449593\n",
              "MSFT  0.472724  0.534305  1.000000  0.537285\n",
              "GOOG  0.530553  0.449593  0.537285  1.000000"
            ]
          },
          "metadata": {
            "tags": []
          },
          "execution_count": 29
        }
      ]
    },
    {
      "cell_type": "code",
      "metadata": {
        "id": "3bysAtv9aWLy",
        "colab_type": "code",
        "outputId": "7f71563c-056b-4efc-85ec-69c2dc87d27e",
        "colab": {
          "base_uri": "https://localhost:8080/",
          "height": 170
        }
      },
      "source": [
        "returns.cov()"
      ],
      "execution_count": 0,
      "outputs": [
        {
          "output_type": "execute_result",
          "data": {
            "text/html": [
              "<div>\n",
              "<style scoped>\n",
              "    .dataframe tbody tr th:only-of-type {\n",
              "        vertical-align: middle;\n",
              "    }\n",
              "\n",
              "    .dataframe tbody tr th {\n",
              "        vertical-align: top;\n",
              "    }\n",
              "\n",
              "    .dataframe thead th {\n",
              "        text-align: right;\n",
              "    }\n",
              "</style>\n",
              "<table border=\"1\" class=\"dataframe\">\n",
              "  <thead>\n",
              "    <tr style=\"text-align: right;\">\n",
              "      <th></th>\n",
              "      <th>AAPL</th>\n",
              "      <th>IBM</th>\n",
              "      <th>MSFT</th>\n",
              "      <th>GOOG</th>\n",
              "    </tr>\n",
              "  </thead>\n",
              "  <tbody>\n",
              "    <tr>\n",
              "      <th>AAPL</th>\n",
              "      <td>0.000385</td>\n",
              "      <td>0.000125</td>\n",
              "      <td>0.000162</td>\n",
              "      <td>0.000192</td>\n",
              "    </tr>\n",
              "    <tr>\n",
              "      <th>IBM</th>\n",
              "      <td>0.000125</td>\n",
              "      <td>0.000194</td>\n",
              "      <td>0.000130</td>\n",
              "      <td>0.000116</td>\n",
              "    </tr>\n",
              "    <tr>\n",
              "      <th>MSFT</th>\n",
              "      <td>0.000162</td>\n",
              "      <td>0.000130</td>\n",
              "      <td>0.000307</td>\n",
              "      <td>0.000174</td>\n",
              "    </tr>\n",
              "    <tr>\n",
              "      <th>GOOG</th>\n",
              "      <td>0.000192</td>\n",
              "      <td>0.000116</td>\n",
              "      <td>0.000174</td>\n",
              "      <td>0.000342</td>\n",
              "    </tr>\n",
              "  </tbody>\n",
              "</table>\n",
              "</div>"
            ],
            "text/plain": [
              "          AAPL       IBM      MSFT      GOOG\n",
              "AAPL  0.000385  0.000125  0.000162  0.000192\n",
              "IBM   0.000125  0.000194  0.000130  0.000116\n",
              "MSFT  0.000162  0.000130  0.000307  0.000174\n",
              "GOOG  0.000192  0.000116  0.000174  0.000342"
            ]
          },
          "metadata": {
            "tags": []
          },
          "execution_count": 30
        }
      ]
    },
    {
      "cell_type": "markdown",
      "metadata": {
        "id": "od0l2WbyaWL5",
        "colab_type": "text"
      },
      "source": [
        "## Уникальные значения, счетчики значений и членство"
      ]
    },
    {
      "cell_type": "code",
      "metadata": {
        "id": "FbJ4KiY2aWL6",
        "colab_type": "code",
        "colab": {}
      },
      "source": [
        "obj = Series(['c', 'a', 'd', 'a', 'a', 'b', 'b', 'c', 'c'])"
      ],
      "execution_count": 0,
      "outputs": []
    },
    {
      "cell_type": "code",
      "metadata": {
        "id": "pP3QwFTbaWL9",
        "colab_type": "code",
        "colab": {}
      },
      "source": [
        "\"\"\"\n",
        "Вычисляет массив уникальных значений в Series \n",
        "и возвращает их в порядке появления\n",
        "\"\"\"\n",
        "uniques = obj.unique() \n",
        "uniques"
      ],
      "execution_count": 0,
      "outputs": []
    },
    {
      "cell_type": "code",
      "metadata": {
        "id": "4uEjIm0vaWMA",
        "colab_type": "code",
        "colab": {}
      },
      "source": [
        "\"\"\"\n",
        "Возвращает объект Series, который содержит уникальное значение \n",
        "в качестве индекса и его частоту в качестве соответствующего значения. \n",
        "Отсортирован в порядке убывания частот\n",
        "\"\"\"\n",
        "obj.value_counts() "
      ],
      "execution_count": 0,
      "outputs": []
    },
    {
      "cell_type": "code",
      "metadata": {
        "id": "fKkQs-AsaWMC",
        "colab_type": "code",
        "colab": {}
      },
      "source": [
        "\"\"\"\n",
        "Вычисляет булев массив, показывающий, \n",
        "содержится ли каждое принадлежащее Series значение \n",
        "в переданной последовательности\n",
        "\"\"\"\n",
        "obj.isin(['b', 'с']) "
      ],
      "execution_count": 0,
      "outputs": []
    },
    {
      "cell_type": "markdown",
      "metadata": {
        "id": "gcwPVPaBaWMF",
        "colab_type": "text"
      },
      "source": [
        "## Обработка отсутствующих данных\n",
        "\n",
        "\n",
        "Отсутствующие данные – типичное явление в большинстве аналитических приложений. При проектировании pandas в качестве одной из целей ставилась задача сделать работу с отсутствующими данными как можно менее болезненной. \n",
        "\n",
        "В pandas для представления отсутствующих данных в любых массивах - как чисел с плавающей точкой, так и иных – используется значение с плавающей точкой NaN (не число). Это просто признак, который легко распознать\n"
      ]
    },
    {
      "cell_type": "code",
      "metadata": {
        "id": "MOsglIIQaWMG",
        "colab_type": "code",
        "colab": {
          "base_uri": "https://localhost:8080/",
          "height": 109
        },
        "outputId": "7b2723a8-2776-4aff-ba56-fb06d68bfc33"
      },
      "source": [
        "string_data = Series(['mango', 'artichoke', np.nan, 'avocado'])\n",
        "string_data"
      ],
      "execution_count": 7,
      "outputs": [
        {
          "output_type": "execute_result",
          "data": {
            "text/plain": [
              "0        mango\n",
              "1    artichoke\n",
              "2          NaN\n",
              "3      avocado\n",
              "dtype: object"
            ]
          },
          "metadata": {
            "tags": []
          },
          "execution_count": 7
        }
      ]
    },
    {
      "cell_type": "code",
      "metadata": {
        "id": "JF2A8Mr3aWMI",
        "colab_type": "code",
        "colab": {
          "base_uri": "https://localhost:8080/",
          "height": 109
        },
        "outputId": "b783e619-ac00-454a-b84f-3a12131b0df9"
      },
      "source": [
        "string_data.isnull()"
      ],
      "execution_count": 8,
      "outputs": [
        {
          "output_type": "execute_result",
          "data": {
            "text/plain": [
              "0    False\n",
              "1    False\n",
              "2     True\n",
              "3    False\n",
              "dtype: bool"
            ]
          },
          "metadata": {
            "tags": []
          },
          "execution_count": 8
        }
      ]
    },
    {
      "cell_type": "markdown",
      "metadata": {
        "id": "oZhIWZF2aWMK",
        "colab_type": "text"
      },
      "source": [
        "---\n",
        "Встроенное в Python значение **None** также рассматривается как отсутствующее в массивах объектов\n",
        "\n",
        "\n",
        "---"
      ]
    },
    {
      "cell_type": "code",
      "metadata": {
        "id": "IQD1pHIFaWML",
        "colab_type": "code",
        "colab": {
          "base_uri": "https://localhost:8080/",
          "height": 109
        },
        "outputId": "6a67296b-3e93-4e53-e292-fca81fa4b989"
      },
      "source": [
        "string_data[0] = None\n",
        "string_data.isnull()"
      ],
      "execution_count": 9,
      "outputs": [
        {
          "output_type": "execute_result",
          "data": {
            "text/plain": [
              "0     True\n",
              "1    False\n",
              "2     True\n",
              "3    False\n",
              "dtype: bool"
            ]
          },
          "metadata": {
            "tags": []
          },
          "execution_count": 9
        }
      ]
    },
    {
      "cell_type": "markdown",
      "metadata": {
        "id": "UTD3SjlOaWMN",
        "colab_type": "text"
      },
      "source": [
        "##### Методы обработки отсутствующих данных\n",
        "\n",
        "|Метод|Описание|\n",
        "|:---|:---|\n",
        "|dropna|Фильтрует метки оси в зависимости от того, существуют ли для метки отсутствующие данные, причем есть возможность указать различные пороги, определяющие, какое количество отсутствующих данных считать допустимым:|\n",
        "|fillna|Восполняет отсутствующие данные указанным значением или использует какой-нибудь метод интерполяции, например 'ffill' или 'bfill'|\n",
        "|isnull|Возвращает объект, содержащий булевы значения, которые показывают, какие значения отсутствуют|\n",
        "|notnull|Логическое отрицание isnull|"
      ]
    },
    {
      "cell_type": "markdown",
      "metadata": {
        "id": "Aq-RvitAaWMN",
        "colab_type": "text"
      },
      "source": [
        "### Фильтрация отсутствующих данных"
      ]
    },
    {
      "cell_type": "code",
      "metadata": {
        "id": "8HgIFtmfaWMO",
        "colab_type": "code",
        "colab": {
          "base_uri": "https://localhost:8080/",
          "height": 90
        },
        "outputId": "db766897-8965-461a-a530-e74a56e80394"
      },
      "source": [
        "from numpy import nan as NA\n",
        "data = Series([1, NA, 3.5, NA, 7])\n",
        "data.dropna()"
      ],
      "execution_count": 10,
      "outputs": [
        {
          "output_type": "execute_result",
          "data": {
            "text/plain": [
              "0    1.0\n",
              "2    3.5\n",
              "4    7.0\n",
              "dtype: float64"
            ]
          },
          "metadata": {
            "tags": []
          },
          "execution_count": 10
        }
      ]
    },
    {
      "cell_type": "code",
      "metadata": {
        "id": "xbfxB_yraWMR",
        "colab_type": "code",
        "colab": {
          "base_uri": "https://localhost:8080/",
          "height": 90
        },
        "outputId": "a6748f5e-5434-4cfd-a19a-480ad63d0867"
      },
      "source": [
        "\"\"\"\n",
        "или\n",
        "\"\"\"\n",
        "data[data.notnull()]"
      ],
      "execution_count": 11,
      "outputs": [
        {
          "output_type": "execute_result",
          "data": {
            "text/plain": [
              "0    1.0\n",
              "2    3.5\n",
              "4    7.0\n",
              "dtype: float64"
            ]
          },
          "metadata": {
            "tags": []
          },
          "execution_count": 11
        }
      ]
    },
    {
      "cell_type": "markdown",
      "metadata": {
        "id": "N9HrS5IhaWMU",
        "colab_type": "text"
      },
      "source": [
        "---\n",
        "В случае объектов DataFrame все немного сложнее. Можно отбрасывать строки или столбцы, если они содержат только NА-значения или хотя бы одно NА-значение.\n",
        "По умолчанию метод **dropna** отбрасывает все строки, содержащие хотя бы одно отсутствующее значение:\n",
        "    \n",
        "---"
      ]
    },
    {
      "cell_type": "code",
      "metadata": {
        "id": "632gXffSaWMW",
        "colab_type": "code",
        "colab": {
          "base_uri": "https://localhost:8080/",
          "height": 175
        },
        "outputId": "d30ae07f-4c0b-4d61-bb20-e47e0339e84b"
      },
      "source": [
        "data = DataFrame([[1., 6.5, 3.], [1., NA, NA], [NA, NA, NA] , [NA, 6.5, 3. ] ] )\n",
        "data"
      ],
      "execution_count": 12,
      "outputs": [
        {
          "output_type": "execute_result",
          "data": {
            "text/html": [
              "<div>\n",
              "<style scoped>\n",
              "    .dataframe tbody tr th:only-of-type {\n",
              "        vertical-align: middle;\n",
              "    }\n",
              "\n",
              "    .dataframe tbody tr th {\n",
              "        vertical-align: top;\n",
              "    }\n",
              "\n",
              "    .dataframe thead th {\n",
              "        text-align: right;\n",
              "    }\n",
              "</style>\n",
              "<table border=\"1\" class=\"dataframe\">\n",
              "  <thead>\n",
              "    <tr style=\"text-align: right;\">\n",
              "      <th></th>\n",
              "      <th>0</th>\n",
              "      <th>1</th>\n",
              "      <th>2</th>\n",
              "    </tr>\n",
              "  </thead>\n",
              "  <tbody>\n",
              "    <tr>\n",
              "      <th>0</th>\n",
              "      <td>1.0</td>\n",
              "      <td>6.5</td>\n",
              "      <td>3.0</td>\n",
              "    </tr>\n",
              "    <tr>\n",
              "      <th>1</th>\n",
              "      <td>1.0</td>\n",
              "      <td>NaN</td>\n",
              "      <td>NaN</td>\n",
              "    </tr>\n",
              "    <tr>\n",
              "      <th>2</th>\n",
              "      <td>NaN</td>\n",
              "      <td>NaN</td>\n",
              "      <td>NaN</td>\n",
              "    </tr>\n",
              "    <tr>\n",
              "      <th>3</th>\n",
              "      <td>NaN</td>\n",
              "      <td>6.5</td>\n",
              "      <td>3.0</td>\n",
              "    </tr>\n",
              "  </tbody>\n",
              "</table>\n",
              "</div>"
            ],
            "text/plain": [
              "     0    1    2\n",
              "0  1.0  6.5  3.0\n",
              "1  1.0  NaN  NaN\n",
              "2  NaN  NaN  NaN\n",
              "3  NaN  6.5  3.0"
            ]
          },
          "metadata": {
            "tags": []
          },
          "execution_count": 12
        }
      ]
    },
    {
      "cell_type": "code",
      "metadata": {
        "id": "CPIrrkoEaWMY",
        "colab_type": "code",
        "colab": {
          "base_uri": "https://localhost:8080/",
          "height": 81
        },
        "outputId": "42c2c23c-687a-4fc5-d260-a78d1f8f4020"
      },
      "source": [
        "cleaned = data.dropna()\n",
        "cleaned"
      ],
      "execution_count": 13,
      "outputs": [
        {
          "output_type": "execute_result",
          "data": {
            "text/html": [
              "<div>\n",
              "<style scoped>\n",
              "    .dataframe tbody tr th:only-of-type {\n",
              "        vertical-align: middle;\n",
              "    }\n",
              "\n",
              "    .dataframe tbody tr th {\n",
              "        vertical-align: top;\n",
              "    }\n",
              "\n",
              "    .dataframe thead th {\n",
              "        text-align: right;\n",
              "    }\n",
              "</style>\n",
              "<table border=\"1\" class=\"dataframe\">\n",
              "  <thead>\n",
              "    <tr style=\"text-align: right;\">\n",
              "      <th></th>\n",
              "      <th>0</th>\n",
              "      <th>1</th>\n",
              "      <th>2</th>\n",
              "    </tr>\n",
              "  </thead>\n",
              "  <tbody>\n",
              "    <tr>\n",
              "      <th>0</th>\n",
              "      <td>1.0</td>\n",
              "      <td>6.5</td>\n",
              "      <td>3.0</td>\n",
              "    </tr>\n",
              "  </tbody>\n",
              "</table>\n",
              "</div>"
            ],
            "text/plain": [
              "     0    1    2\n",
              "0  1.0  6.5  3.0"
            ]
          },
          "metadata": {
            "tags": []
          },
          "execution_count": 13
        }
      ]
    },
    {
      "cell_type": "markdown",
      "metadata": {
        "id": "klug-fuMaWMf",
        "colab_type": "text"
      },
      "source": [
        "---\n",
        "Если передать параметр how= 'all', то будут отброшены строки, которые целиком состоят из отсутствующих значений\n",
        "\n",
        "----\n",
        "    "
      ]
    },
    {
      "cell_type": "code",
      "metadata": {
        "id": "NuwyHrrqaWMf",
        "colab_type": "code",
        "colab": {
          "base_uri": "https://localhost:8080/",
          "height": 143
        },
        "outputId": "3e367b06-e6ae-402d-8c6f-cdbdb2108c7c"
      },
      "source": [
        "data.dropna( how='all')"
      ],
      "execution_count": 14,
      "outputs": [
        {
          "output_type": "execute_result",
          "data": {
            "text/html": [
              "<div>\n",
              "<style scoped>\n",
              "    .dataframe tbody tr th:only-of-type {\n",
              "        vertical-align: middle;\n",
              "    }\n",
              "\n",
              "    .dataframe tbody tr th {\n",
              "        vertical-align: top;\n",
              "    }\n",
              "\n",
              "    .dataframe thead th {\n",
              "        text-align: right;\n",
              "    }\n",
              "</style>\n",
              "<table border=\"1\" class=\"dataframe\">\n",
              "  <thead>\n",
              "    <tr style=\"text-align: right;\">\n",
              "      <th></th>\n",
              "      <th>0</th>\n",
              "      <th>1</th>\n",
              "      <th>2</th>\n",
              "    </tr>\n",
              "  </thead>\n",
              "  <tbody>\n",
              "    <tr>\n",
              "      <th>0</th>\n",
              "      <td>1.0</td>\n",
              "      <td>6.5</td>\n",
              "      <td>3.0</td>\n",
              "    </tr>\n",
              "    <tr>\n",
              "      <th>1</th>\n",
              "      <td>1.0</td>\n",
              "      <td>NaN</td>\n",
              "      <td>NaN</td>\n",
              "    </tr>\n",
              "    <tr>\n",
              "      <th>3</th>\n",
              "      <td>NaN</td>\n",
              "      <td>6.5</td>\n",
              "      <td>3.0</td>\n",
              "    </tr>\n",
              "  </tbody>\n",
              "</table>\n",
              "</div>"
            ],
            "text/plain": [
              "     0    1    2\n",
              "0  1.0  6.5  3.0\n",
              "1  1.0  NaN  NaN\n",
              "3  NaN  6.5  3.0"
            ]
          },
          "metadata": {
            "tags": []
          },
          "execution_count": 14
        }
      ]
    },
    {
      "cell_type": "markdown",
      "metadata": {
        "id": "1-fjcpy2aWMi",
        "colab_type": "text"
      },
      "source": [
        "---\n",
        "Для отбрасывания столбцов достаточно передать параметр axis = 1\n",
        "\n",
        "\n",
        "---"
      ]
    },
    {
      "cell_type": "code",
      "metadata": {
        "id": "LVlfMYMSaWMi",
        "colab_type": "code",
        "colab": {
          "base_uri": "https://localhost:8080/",
          "height": 175
        },
        "outputId": "d2ca2e69-8548-4630-f120-ff3b6faa3360"
      },
      "source": [
        "data[4] = NA\n",
        "data"
      ],
      "execution_count": 15,
      "outputs": [
        {
          "output_type": "execute_result",
          "data": {
            "text/html": [
              "<div>\n",
              "<style scoped>\n",
              "    .dataframe tbody tr th:only-of-type {\n",
              "        vertical-align: middle;\n",
              "    }\n",
              "\n",
              "    .dataframe tbody tr th {\n",
              "        vertical-align: top;\n",
              "    }\n",
              "\n",
              "    .dataframe thead th {\n",
              "        text-align: right;\n",
              "    }\n",
              "</style>\n",
              "<table border=\"1\" class=\"dataframe\">\n",
              "  <thead>\n",
              "    <tr style=\"text-align: right;\">\n",
              "      <th></th>\n",
              "      <th>0</th>\n",
              "      <th>1</th>\n",
              "      <th>2</th>\n",
              "      <th>4</th>\n",
              "    </tr>\n",
              "  </thead>\n",
              "  <tbody>\n",
              "    <tr>\n",
              "      <th>0</th>\n",
              "      <td>1.0</td>\n",
              "      <td>6.5</td>\n",
              "      <td>3.0</td>\n",
              "      <td>NaN</td>\n",
              "    </tr>\n",
              "    <tr>\n",
              "      <th>1</th>\n",
              "      <td>1.0</td>\n",
              "      <td>NaN</td>\n",
              "      <td>NaN</td>\n",
              "      <td>NaN</td>\n",
              "    </tr>\n",
              "    <tr>\n",
              "      <th>2</th>\n",
              "      <td>NaN</td>\n",
              "      <td>NaN</td>\n",
              "      <td>NaN</td>\n",
              "      <td>NaN</td>\n",
              "    </tr>\n",
              "    <tr>\n",
              "      <th>3</th>\n",
              "      <td>NaN</td>\n",
              "      <td>6.5</td>\n",
              "      <td>3.0</td>\n",
              "      <td>NaN</td>\n",
              "    </tr>\n",
              "  </tbody>\n",
              "</table>\n",
              "</div>"
            ],
            "text/plain": [
              "     0    1    2   4\n",
              "0  1.0  6.5  3.0 NaN\n",
              "1  1.0  NaN  NaN NaN\n",
              "2  NaN  NaN  NaN NaN\n",
              "3  NaN  6.5  3.0 NaN"
            ]
          },
          "metadata": {
            "tags": []
          },
          "execution_count": 15
        }
      ]
    },
    {
      "cell_type": "code",
      "metadata": {
        "id": "MbjOVXnOaWMm",
        "colab_type": "code",
        "colab": {
          "base_uri": "https://localhost:8080/",
          "height": 175
        },
        "outputId": "7d96e228-0354-4be1-a859-5b9c9d686633"
      },
      "source": [
        "data.dropna(axis=1, how='all')"
      ],
      "execution_count": 16,
      "outputs": [
        {
          "output_type": "execute_result",
          "data": {
            "text/html": [
              "<div>\n",
              "<style scoped>\n",
              "    .dataframe tbody tr th:only-of-type {\n",
              "        vertical-align: middle;\n",
              "    }\n",
              "\n",
              "    .dataframe tbody tr th {\n",
              "        vertical-align: top;\n",
              "    }\n",
              "\n",
              "    .dataframe thead th {\n",
              "        text-align: right;\n",
              "    }\n",
              "</style>\n",
              "<table border=\"1\" class=\"dataframe\">\n",
              "  <thead>\n",
              "    <tr style=\"text-align: right;\">\n",
              "      <th></th>\n",
              "      <th>0</th>\n",
              "      <th>1</th>\n",
              "      <th>2</th>\n",
              "    </tr>\n",
              "  </thead>\n",
              "  <tbody>\n",
              "    <tr>\n",
              "      <th>0</th>\n",
              "      <td>1.0</td>\n",
              "      <td>6.5</td>\n",
              "      <td>3.0</td>\n",
              "    </tr>\n",
              "    <tr>\n",
              "      <th>1</th>\n",
              "      <td>1.0</td>\n",
              "      <td>NaN</td>\n",
              "      <td>NaN</td>\n",
              "    </tr>\n",
              "    <tr>\n",
              "      <th>2</th>\n",
              "      <td>NaN</td>\n",
              "      <td>NaN</td>\n",
              "      <td>NaN</td>\n",
              "    </tr>\n",
              "    <tr>\n",
              "      <th>3</th>\n",
              "      <td>NaN</td>\n",
              "      <td>6.5</td>\n",
              "      <td>3.0</td>\n",
              "    </tr>\n",
              "  </tbody>\n",
              "</table>\n",
              "</div>"
            ],
            "text/plain": [
              "     0    1    2\n",
              "0  1.0  6.5  3.0\n",
              "1  1.0  NaN  NaN\n",
              "2  NaN  NaN  NaN\n",
              "3  NaN  6.5  3.0"
            ]
          },
          "metadata": {
            "tags": []
          },
          "execution_count": 16
        }
      ]
    },
    {
      "cell_type": "code",
      "metadata": {
        "id": "CJpJ1vViaWMq",
        "colab_type": "code",
        "colab": {
          "base_uri": "https://localhost:8080/",
          "height": 112
        },
        "outputId": "088b1e0d-5558-4cf5-dbc4-cc5dffac5c4c"
      },
      "source": [
        "data.dropna(thresh=2) # Отбрасываем строки, содержащие менее двух значений (данных)"
      ],
      "execution_count": 17,
      "outputs": [
        {
          "output_type": "execute_result",
          "data": {
            "text/html": [
              "<div>\n",
              "<style scoped>\n",
              "    .dataframe tbody tr th:only-of-type {\n",
              "        vertical-align: middle;\n",
              "    }\n",
              "\n",
              "    .dataframe tbody tr th {\n",
              "        vertical-align: top;\n",
              "    }\n",
              "\n",
              "    .dataframe thead th {\n",
              "        text-align: right;\n",
              "    }\n",
              "</style>\n",
              "<table border=\"1\" class=\"dataframe\">\n",
              "  <thead>\n",
              "    <tr style=\"text-align: right;\">\n",
              "      <th></th>\n",
              "      <th>0</th>\n",
              "      <th>1</th>\n",
              "      <th>2</th>\n",
              "      <th>4</th>\n",
              "    </tr>\n",
              "  </thead>\n",
              "  <tbody>\n",
              "    <tr>\n",
              "      <th>0</th>\n",
              "      <td>1.0</td>\n",
              "      <td>6.5</td>\n",
              "      <td>3.0</td>\n",
              "      <td>NaN</td>\n",
              "    </tr>\n",
              "    <tr>\n",
              "      <th>3</th>\n",
              "      <td>NaN</td>\n",
              "      <td>6.5</td>\n",
              "      <td>3.0</td>\n",
              "      <td>NaN</td>\n",
              "    </tr>\n",
              "  </tbody>\n",
              "</table>\n",
              "</div>"
            ],
            "text/plain": [
              "     0    1    2   4\n",
              "0  1.0  6.5  3.0 NaN\n",
              "3  NaN  6.5  3.0 NaN"
            ]
          },
          "metadata": {
            "tags": []
          },
          "execution_count": 17
        }
      ]
    },
    {
      "cell_type": "markdown",
      "metadata": {
        "id": "0HhlKBT2aWMs",
        "colab_type": "text"
      },
      "source": [
        "### Восполнение отсутствующих данных\n",
        "\n",
        "Иногда отсутствующие данные желательно не отфильтровывать (и потенциально вместе с ними отбрасывать полезные данные), а каким-то способом заполнить «дыры». В большинстве случаев для этой цели можно использовать метод **.fillna**. Ему передается константа, подставляемая вместо отсутствующих значений"
      ]
    },
    {
      "cell_type": "code",
      "metadata": {
        "id": "bDqGfViIaWMs",
        "colab_type": "code",
        "outputId": "08fbd6b1-21ce-4b78-bb46-c35cb8466d29",
        "colab": {
          "base_uri": "https://localhost:8080/",
          "height": 175
        }
      },
      "source": [
        "data.fillna(0)"
      ],
      "execution_count": 18,
      "outputs": [
        {
          "output_type": "execute_result",
          "data": {
            "text/html": [
              "<div>\n",
              "<style scoped>\n",
              "    .dataframe tbody tr th:only-of-type {\n",
              "        vertical-align: middle;\n",
              "    }\n",
              "\n",
              "    .dataframe tbody tr th {\n",
              "        vertical-align: top;\n",
              "    }\n",
              "\n",
              "    .dataframe thead th {\n",
              "        text-align: right;\n",
              "    }\n",
              "</style>\n",
              "<table border=\"1\" class=\"dataframe\">\n",
              "  <thead>\n",
              "    <tr style=\"text-align: right;\">\n",
              "      <th></th>\n",
              "      <th>0</th>\n",
              "      <th>1</th>\n",
              "      <th>2</th>\n",
              "      <th>4</th>\n",
              "    </tr>\n",
              "  </thead>\n",
              "  <tbody>\n",
              "    <tr>\n",
              "      <th>0</th>\n",
              "      <td>1.0</td>\n",
              "      <td>6.5</td>\n",
              "      <td>3.0</td>\n",
              "      <td>0.0</td>\n",
              "    </tr>\n",
              "    <tr>\n",
              "      <th>1</th>\n",
              "      <td>1.0</td>\n",
              "      <td>0.0</td>\n",
              "      <td>0.0</td>\n",
              "      <td>0.0</td>\n",
              "    </tr>\n",
              "    <tr>\n",
              "      <th>2</th>\n",
              "      <td>0.0</td>\n",
              "      <td>0.0</td>\n",
              "      <td>0.0</td>\n",
              "      <td>0.0</td>\n",
              "    </tr>\n",
              "    <tr>\n",
              "      <th>3</th>\n",
              "      <td>0.0</td>\n",
              "      <td>6.5</td>\n",
              "      <td>3.0</td>\n",
              "      <td>0.0</td>\n",
              "    </tr>\n",
              "  </tbody>\n",
              "</table>\n",
              "</div>"
            ],
            "text/plain": [
              "     0    1    2    4\n",
              "0  1.0  6.5  3.0  0.0\n",
              "1  1.0  0.0  0.0  0.0\n",
              "2  0.0  0.0  0.0  0.0\n",
              "3  0.0  6.5  3.0  0.0"
            ]
          },
          "metadata": {
            "tags": []
          },
          "execution_count": 18
        }
      ]
    },
    {
      "cell_type": "markdown",
      "metadata": {
        "id": "vLxG1fSgaWMu",
        "colab_type": "text"
      },
      "source": [
        "Если передать методу **.fillna** словарь, то можно будет подставлять вместо отсутствующих данных значение, зависящее от столбца"
      ]
    },
    {
      "cell_type": "code",
      "metadata": {
        "id": "l3hADU1UaWMv",
        "colab_type": "code",
        "outputId": "215f59af-97d3-4e6f-f3b7-777179a8100f",
        "colab": {
          "base_uri": "https://localhost:8080/",
          "height": 175
        }
      },
      "source": [
        "data.fillna ( {1: 0.5, 2: 1, 3: -1}, inplace = True) # Модифицируем существующий объект\n",
        "data "
      ],
      "execution_count": 25,
      "outputs": [
        {
          "output_type": "execute_result",
          "data": {
            "text/html": [
              "<div>\n",
              "<style scoped>\n",
              "    .dataframe tbody tr th:only-of-type {\n",
              "        vertical-align: middle;\n",
              "    }\n",
              "\n",
              "    .dataframe tbody tr th {\n",
              "        vertical-align: top;\n",
              "    }\n",
              "\n",
              "    .dataframe thead th {\n",
              "        text-align: right;\n",
              "    }\n",
              "</style>\n",
              "<table border=\"1\" class=\"dataframe\">\n",
              "  <thead>\n",
              "    <tr style=\"text-align: right;\">\n",
              "      <th></th>\n",
              "      <th>0</th>\n",
              "      <th>1</th>\n",
              "      <th>2</th>\n",
              "      <th>4</th>\n",
              "    </tr>\n",
              "  </thead>\n",
              "  <tbody>\n",
              "    <tr>\n",
              "      <th>0</th>\n",
              "      <td>1.0</td>\n",
              "      <td>6.5</td>\n",
              "      <td>3.0</td>\n",
              "      <td>NaN</td>\n",
              "    </tr>\n",
              "    <tr>\n",
              "      <th>1</th>\n",
              "      <td>1.0</td>\n",
              "      <td>0.5</td>\n",
              "      <td>1.0</td>\n",
              "      <td>NaN</td>\n",
              "    </tr>\n",
              "    <tr>\n",
              "      <th>2</th>\n",
              "      <td>NaN</td>\n",
              "      <td>0.5</td>\n",
              "      <td>1.0</td>\n",
              "      <td>NaN</td>\n",
              "    </tr>\n",
              "    <tr>\n",
              "      <th>3</th>\n",
              "      <td>NaN</td>\n",
              "      <td>6.5</td>\n",
              "      <td>3.0</td>\n",
              "      <td>NaN</td>\n",
              "    </tr>\n",
              "  </tbody>\n",
              "</table>\n",
              "</div>"
            ],
            "text/plain": [
              "     0    1    2   4\n",
              "0  1.0  6.5  3.0 NaN\n",
              "1  1.0  0.5  1.0 NaN\n",
              "2  NaN  0.5  1.0 NaN\n",
              "3  NaN  6.5  3.0 NaN"
            ]
          },
          "metadata": {
            "tags": []
          },
          "execution_count": 25
        }
      ]
    },
    {
      "cell_type": "markdown",
      "metadata": {
        "id": "nrtK7rvWaWMz",
        "colab_type": "text"
      },
      "source": [
        "---\n",
        "Методы интерполяции, применяемые для переиндексации, годятся и для **.fillna**\n",
        "\n",
        "---"
      ]
    },
    {
      "cell_type": "code",
      "metadata": {
        "id": "km-6lgpUaWMz",
        "colab_type": "code",
        "colab": {
          "base_uri": "https://localhost:8080/",
          "height": 238
        },
        "outputId": "efb2d836-de19-47bc-feca-8ddefb078023"
      },
      "source": [
        "data = DataFrame(np.random.randn(6, 3))\n",
        "data.iloc[2:, 1] = NA \n",
        "data.iloc[4:, 2] = NA\n",
        "data"
      ],
      "execution_count": 26,
      "outputs": [
        {
          "output_type": "execute_result",
          "data": {
            "text/html": [
              "<div>\n",
              "<style scoped>\n",
              "    .dataframe tbody tr th:only-of-type {\n",
              "        vertical-align: middle;\n",
              "    }\n",
              "\n",
              "    .dataframe tbody tr th {\n",
              "        vertical-align: top;\n",
              "    }\n",
              "\n",
              "    .dataframe thead th {\n",
              "        text-align: right;\n",
              "    }\n",
              "</style>\n",
              "<table border=\"1\" class=\"dataframe\">\n",
              "  <thead>\n",
              "    <tr style=\"text-align: right;\">\n",
              "      <th></th>\n",
              "      <th>0</th>\n",
              "      <th>1</th>\n",
              "      <th>2</th>\n",
              "    </tr>\n",
              "  </thead>\n",
              "  <tbody>\n",
              "    <tr>\n",
              "      <th>0</th>\n",
              "      <td>-1.293078</td>\n",
              "      <td>0.034023</td>\n",
              "      <td>-1.241906</td>\n",
              "    </tr>\n",
              "    <tr>\n",
              "      <th>1</th>\n",
              "      <td>-0.237277</td>\n",
              "      <td>-0.593180</td>\n",
              "      <td>0.067014</td>\n",
              "    </tr>\n",
              "    <tr>\n",
              "      <th>2</th>\n",
              "      <td>1.234836</td>\n",
              "      <td>NaN</td>\n",
              "      <td>0.783739</td>\n",
              "    </tr>\n",
              "    <tr>\n",
              "      <th>3</th>\n",
              "      <td>1.520014</td>\n",
              "      <td>NaN</td>\n",
              "      <td>-0.325061</td>\n",
              "    </tr>\n",
              "    <tr>\n",
              "      <th>4</th>\n",
              "      <td>-0.371158</td>\n",
              "      <td>NaN</td>\n",
              "      <td>NaN</td>\n",
              "    </tr>\n",
              "    <tr>\n",
              "      <th>5</th>\n",
              "      <td>0.050303</td>\n",
              "      <td>NaN</td>\n",
              "      <td>NaN</td>\n",
              "    </tr>\n",
              "  </tbody>\n",
              "</table>\n",
              "</div>"
            ],
            "text/plain": [
              "          0         1         2\n",
              "0 -1.293078  0.034023 -1.241906\n",
              "1 -0.237277 -0.593180  0.067014\n",
              "2  1.234836       NaN  0.783739\n",
              "3  1.520014       NaN -0.325061\n",
              "4 -0.371158       NaN       NaN\n",
              "5  0.050303       NaN       NaN"
            ]
          },
          "metadata": {
            "tags": []
          },
          "execution_count": 26
        }
      ]
    },
    {
      "cell_type": "code",
      "metadata": {
        "id": "tKBGPN7laWM1",
        "colab_type": "code",
        "colab": {
          "base_uri": "https://localhost:8080/",
          "height": 238
        },
        "outputId": "3ae93c88-5edb-4c2e-c9b6-09905c008134"
      },
      "source": [
        "data.fillna(method= 'ffill')"
      ],
      "execution_count": 27,
      "outputs": [
        {
          "output_type": "execute_result",
          "data": {
            "text/html": [
              "<div>\n",
              "<style scoped>\n",
              "    .dataframe tbody tr th:only-of-type {\n",
              "        vertical-align: middle;\n",
              "    }\n",
              "\n",
              "    .dataframe tbody tr th {\n",
              "        vertical-align: top;\n",
              "    }\n",
              "\n",
              "    .dataframe thead th {\n",
              "        text-align: right;\n",
              "    }\n",
              "</style>\n",
              "<table border=\"1\" class=\"dataframe\">\n",
              "  <thead>\n",
              "    <tr style=\"text-align: right;\">\n",
              "      <th></th>\n",
              "      <th>0</th>\n",
              "      <th>1</th>\n",
              "      <th>2</th>\n",
              "    </tr>\n",
              "  </thead>\n",
              "  <tbody>\n",
              "    <tr>\n",
              "      <th>0</th>\n",
              "      <td>-1.293078</td>\n",
              "      <td>0.034023</td>\n",
              "      <td>-1.241906</td>\n",
              "    </tr>\n",
              "    <tr>\n",
              "      <th>1</th>\n",
              "      <td>-0.237277</td>\n",
              "      <td>-0.593180</td>\n",
              "      <td>0.067014</td>\n",
              "    </tr>\n",
              "    <tr>\n",
              "      <th>2</th>\n",
              "      <td>1.234836</td>\n",
              "      <td>-0.593180</td>\n",
              "      <td>0.783739</td>\n",
              "    </tr>\n",
              "    <tr>\n",
              "      <th>3</th>\n",
              "      <td>1.520014</td>\n",
              "      <td>-0.593180</td>\n",
              "      <td>-0.325061</td>\n",
              "    </tr>\n",
              "    <tr>\n",
              "      <th>4</th>\n",
              "      <td>-0.371158</td>\n",
              "      <td>-0.593180</td>\n",
              "      <td>-0.325061</td>\n",
              "    </tr>\n",
              "    <tr>\n",
              "      <th>5</th>\n",
              "      <td>0.050303</td>\n",
              "      <td>-0.593180</td>\n",
              "      <td>-0.325061</td>\n",
              "    </tr>\n",
              "  </tbody>\n",
              "</table>\n",
              "</div>"
            ],
            "text/plain": [
              "          0         1         2\n",
              "0 -1.293078  0.034023 -1.241906\n",
              "1 -0.237277 -0.593180  0.067014\n",
              "2  1.234836 -0.593180  0.783739\n",
              "3  1.520014 -0.593180 -0.325061\n",
              "4 -0.371158 -0.593180 -0.325061\n",
              "5  0.050303 -0.593180 -0.325061"
            ]
          },
          "metadata": {
            "tags": []
          },
          "execution_count": 27
        }
      ]
    },
    {
      "cell_type": "code",
      "metadata": {
        "id": "pE-LJjNqaWM2",
        "colab_type": "code",
        "colab": {}
      },
      "source": [
        "data.fillna(method='ffill', limit=2) # Limit – для  прямого и обратного восполнения максимальное количество непрерывных заполняемых промежутков"
      ],
      "execution_count": 0,
      "outputs": []
    },
    {
      "cell_type": "markdown",
      "metadata": {
        "id": "E81LEiTqaWM5",
        "colab_type": "text"
      },
      "source": [
        "#### Аргументы метода fillna\n",
        "|Аргумент |Описание|\n",
        "|:---|:---|\n",
        "|value|Скалярное значение или похожий на словарь объект для восполнения отсутствующих значений|\n",
        "|method|Метод интерполяции. По умолчанию, если не задано других аргументов, предполагается метод 'fill'|\n",
        "|axis|Ось, по которой производится восполнение. По умолчанию axis= 0|\n",
        "|inplace|Модифицировать исходный объект, не создавая копию|\n",
        "|limit|Для прямого и обратного восполнения максимальное количество непрерывных заполняемых промежутков|"
      ]
    },
    {
      "cell_type": "markdown",
      "metadata": {
        "id": "GSY0wos2aWM6",
        "colab_type": "text"
      },
      "source": [
        "# Упражнение"
      ]
    },
    {
      "cell_type": "code",
      "metadata": {
        "id": "E4zjgvRDaWM7",
        "colab_type": "code",
        "colab": {}
      },
      "source": [
        "data_task = pd.read_csv('ttask3_2_2.csv')"
      ],
      "execution_count": 0,
      "outputs": []
    },
    {
      "cell_type": "code",
      "metadata": {
        "id": "Lyq3HY1vbmno",
        "colab_type": "code",
        "outputId": "91e79783-12f3-4b9d-b9a0-de6dfac0a68f",
        "colab": {
          "base_uri": "https://localhost:8080/",
          "height": 645
        }
      },
      "source": [
        "data_task"
      ],
      "execution_count": 29,
      "outputs": [
        {
          "output_type": "execute_result",
          "data": {
            "text/html": [
              "<div>\n",
              "<style scoped>\n",
              "    .dataframe tbody tr th:only-of-type {\n",
              "        vertical-align: middle;\n",
              "    }\n",
              "\n",
              "    .dataframe tbody tr th {\n",
              "        vertical-align: top;\n",
              "    }\n",
              "\n",
              "    .dataframe thead th {\n",
              "        text-align: right;\n",
              "    }\n",
              "</style>\n",
              "<table border=\"1\" class=\"dataframe\">\n",
              "  <thead>\n",
              "    <tr style=\"text-align: right;\">\n",
              "      <th></th>\n",
              "      <th>A</th>\n",
              "      <th>B</th>\n",
              "      <th>C</th>\n",
              "      <th>D</th>\n",
              "      <th>E</th>\n",
              "    </tr>\n",
              "  </thead>\n",
              "  <tbody>\n",
              "    <tr>\n",
              "      <th>0</th>\n",
              "      <td>1.0</td>\n",
              "      <td>123/45</td>\n",
              "      <td>15 p.</td>\n",
              "      <td>sale</td>\n",
              "      <td>3%</td>\n",
              "    </tr>\n",
              "    <tr>\n",
              "      <th>1</th>\n",
              "      <td>3.0</td>\n",
              "      <td>165/56</td>\n",
              "      <td>654p.</td>\n",
              "      <td>NaN</td>\n",
              "      <td>NaN</td>\n",
              "    </tr>\n",
              "    <tr>\n",
              "      <th>2</th>\n",
              "      <td>6.0</td>\n",
              "      <td>54/23</td>\n",
              "      <td>458 p.</td>\n",
              "      <td>NaN</td>\n",
              "      <td>NaN</td>\n",
              "    </tr>\n",
              "    <tr>\n",
              "      <th>3</th>\n",
              "      <td>5.0</td>\n",
              "      <td>82/64</td>\n",
              "      <td>65 p.</td>\n",
              "      <td>sale</td>\n",
              "      <td>15%</td>\n",
              "    </tr>\n",
              "    <tr>\n",
              "      <th>4</th>\n",
              "      <td>3.0</td>\n",
              "      <td>46/</td>\n",
              "      <td>456</td>\n",
              "      <td>sale</td>\n",
              "      <td>10%</td>\n",
              "    </tr>\n",
              "    <tr>\n",
              "      <th>5</th>\n",
              "      <td>5.0</td>\n",
              "      <td>NaN</td>\n",
              "      <td>347 p.</td>\n",
              "      <td>sale</td>\n",
              "      <td>10%</td>\n",
              "    </tr>\n",
              "    <tr>\n",
              "      <th>6</th>\n",
              "      <td>9.0</td>\n",
              "      <td>36/45</td>\n",
              "      <td>164 p.</td>\n",
              "      <td>sale</td>\n",
              "      <td>10%</td>\n",
              "    </tr>\n",
              "    <tr>\n",
              "      <th>7</th>\n",
              "      <td>5.0</td>\n",
              "      <td>145/2</td>\n",
              "      <td>3494p.</td>\n",
              "      <td>sale</td>\n",
              "      <td>14%</td>\n",
              "    </tr>\n",
              "    <tr>\n",
              "      <th>8</th>\n",
              "      <td>6.0</td>\n",
              "      <td>5/568</td>\n",
              "      <td>1348 p.</td>\n",
              "      <td>sale</td>\n",
              "      <td>10%</td>\n",
              "    </tr>\n",
              "    <tr>\n",
              "      <th>9</th>\n",
              "      <td>9.0</td>\n",
              "      <td>NaN</td>\n",
              "      <td>354p.</td>\n",
              "      <td>sale</td>\n",
              "      <td>10%</td>\n",
              "    </tr>\n",
              "    <tr>\n",
              "      <th>10</th>\n",
              "      <td>NaN</td>\n",
              "      <td>NaN</td>\n",
              "      <td>123p.</td>\n",
              "      <td>sale</td>\n",
              "      <td>10%</td>\n",
              "    </tr>\n",
              "    <tr>\n",
              "      <th>11</th>\n",
              "      <td>9.0</td>\n",
              "      <td>34/45</td>\n",
              "      <td>964p.</td>\n",
              "      <td>sale</td>\n",
              "      <td>12%</td>\n",
              "    </tr>\n",
              "    <tr>\n",
              "      <th>12</th>\n",
              "      <td>NaN</td>\n",
              "      <td>48/495</td>\n",
              "      <td>100p.</td>\n",
              "      <td>sale</td>\n",
              "      <td>46%</td>\n",
              "    </tr>\n",
              "    <tr>\n",
              "      <th>13</th>\n",
              "      <td>7.0</td>\n",
              "      <td>3214/2</td>\n",
              "      <td>250 p.</td>\n",
              "      <td>sale</td>\n",
              "      <td>1%</td>\n",
              "    </tr>\n",
              "    <tr>\n",
              "      <th>14</th>\n",
              "      <td>3.0</td>\n",
              "      <td>123/45</td>\n",
              "      <td>169p.</td>\n",
              "      <td>NaN</td>\n",
              "      <td>NaN</td>\n",
              "    </tr>\n",
              "    <tr>\n",
              "      <th>15</th>\n",
              "      <td>98.0</td>\n",
              "      <td>123/64</td>\n",
              "      <td>34p.</td>\n",
              "      <td>NaN</td>\n",
              "      <td>5%</td>\n",
              "    </tr>\n",
              "    <tr>\n",
              "      <th>16</th>\n",
              "      <td>5.0</td>\n",
              "      <td>672/95</td>\n",
              "      <td>95p.</td>\n",
              "      <td>sale</td>\n",
              "      <td>3%</td>\n",
              "    </tr>\n",
              "    <tr>\n",
              "      <th>17</th>\n",
              "      <td>2.0</td>\n",
              "      <td>/3</td>\n",
              "      <td>164p.</td>\n",
              "      <td>sale</td>\n",
              "      <td>3%</td>\n",
              "    </tr>\n",
              "    <tr>\n",
              "      <th>18</th>\n",
              "      <td>9.0</td>\n",
              "      <td>35/-</td>\n",
              "      <td>p.</td>\n",
              "      <td>sale</td>\n",
              "      <td>3%</td>\n",
              "    </tr>\n",
              "  </tbody>\n",
              "</table>\n",
              "</div>"
            ],
            "text/plain": [
              "       A       B        C     D    E\n",
              "0    1.0  123/45    15 p.  sale   3%\n",
              "1    3.0  165/56    654p.   NaN  NaN\n",
              "2    6.0   54/23   458 p.   NaN  NaN\n",
              "3    5.0   82/64    65 p.  sale  15%\n",
              "4    3.0     46/      456  sale  10%\n",
              "5    5.0     NaN   347 p.  sale  10%\n",
              "6    9.0   36/45   164 p.  sale  10%\n",
              "7    5.0   145/2   3494p.  sale  14%\n",
              "8    6.0   5/568  1348 p.  sale  10%\n",
              "9    9.0     NaN    354p.  sale  10%\n",
              "10   NaN     NaN   123p.   sale  10%\n",
              "11   9.0   34/45    964p.  sale  12%\n",
              "12   NaN  48/495    100p.  sale  46%\n",
              "13   7.0  3214/2   250 p.  sale   1%\n",
              "14   3.0  123/45    169p.   NaN  NaN\n",
              "15  98.0  123/64     34p.   NaN   5%\n",
              "16   5.0  672/95     95p.  sale   3%\n",
              "17   2.0      /3    164p.  sale   3%\n",
              "18   9.0    35/-       p.  sale   3%"
            ]
          },
          "metadata": {
            "tags": []
          },
          "execution_count": 29
        }
      ]
    },
    {
      "cell_type": "markdown",
      "metadata": {
        "id": "DDg4pdmCaWM9",
        "colab_type": "text"
      },
      "source": [
        "Выполнить следующие преобразования DataFrame:\n",
        "\n",
        "1)\tЗаполнить отсутствующие данные. В столбце «А» пустые значения заменить на «1», «E» - «0», «B» - средние значения по столбцу.\n",
        "\n",
        "2)\tСтолбец «B» разделить на два столбца «B1»(данные до знака «/») и «B2» (данные после  знака «/»). \n",
        "\n",
        "3)\tИз столбца «С» убрать «p.».\n",
        "\n",
        "4)\tДобавить столбец «F» (стоимость со скидкой), заполнить его данными согласно формуле: «A»\\*«С» - «E» .\n"
      ]
    },
    {
      "cell_type": "code",
      "metadata": {
        "id": "UIrLxOaOMFfI",
        "colab_type": "code",
        "colab": {}
      },
      "source": [
        "def normalize_b(cell):\n",
        "  if isinstance(cell, str):\n",
        "    items = cell.split('/')\n",
        "    if items[0] and items[1] and items[0]!='-' and items[1]!='-':\n",
        "      return int(items[0])/int(items[1])\n",
        "    elif items[0] or items[1]=='-':\n",
        "      return int(items[0])\n",
        "    else:\n",
        "      return 0\n",
        "  else:\n",
        "    return cell"
      ],
      "execution_count": 0,
      "outputs": []
    },
    {
      "cell_type": "code",
      "metadata": {
        "id": "AZPZjHjkbrNA",
        "colab_type": "code",
        "colab": {}
      },
      "source": [
        "data_task['A'] = data_task['A'].fillna(1)\n",
        "data_task['E'] = data_task['E'].fillna(0)\n",
        "old_b = data_task['B']\n",
        "data_task['B'] = data_task['B'].apply(normalize_b)\n",
        "data_task['B'] = data_task['B'].fillna(data_task['B'].mean())"
      ],
      "execution_count": 0,
      "outputs": []
    },
    {
      "cell_type": "code",
      "metadata": {
        "id": "AZaqumRzLbmq",
        "colab_type": "code",
        "colab": {
          "base_uri": "https://localhost:8080/",
          "height": 645
        },
        "outputId": "c70d91dc-5faa-4685-9378-c014777cb0b5"
      },
      "source": [
        "data_task"
      ],
      "execution_count": 95,
      "outputs": [
        {
          "output_type": "execute_result",
          "data": {
            "text/html": [
              "<div>\n",
              "<style scoped>\n",
              "    .dataframe tbody tr th:only-of-type {\n",
              "        vertical-align: middle;\n",
              "    }\n",
              "\n",
              "    .dataframe tbody tr th {\n",
              "        vertical-align: top;\n",
              "    }\n",
              "\n",
              "    .dataframe thead th {\n",
              "        text-align: right;\n",
              "    }\n",
              "</style>\n",
              "<table border=\"1\" class=\"dataframe\">\n",
              "  <thead>\n",
              "    <tr style=\"text-align: right;\">\n",
              "      <th></th>\n",
              "      <th>A</th>\n",
              "      <th>B</th>\n",
              "      <th>C</th>\n",
              "      <th>D</th>\n",
              "      <th>E</th>\n",
              "    </tr>\n",
              "  </thead>\n",
              "  <tbody>\n",
              "    <tr>\n",
              "      <th>0</th>\n",
              "      <td>1.0</td>\n",
              "      <td>2.733333</td>\n",
              "      <td>15 p.</td>\n",
              "      <td>sale</td>\n",
              "      <td>3%</td>\n",
              "    </tr>\n",
              "    <tr>\n",
              "      <th>1</th>\n",
              "      <td>3.0</td>\n",
              "      <td>2.946429</td>\n",
              "      <td>654p.</td>\n",
              "      <td>NaN</td>\n",
              "      <td>0</td>\n",
              "    </tr>\n",
              "    <tr>\n",
              "      <th>2</th>\n",
              "      <td>6.0</td>\n",
              "      <td>2.347826</td>\n",
              "      <td>458 p.</td>\n",
              "      <td>NaN</td>\n",
              "      <td>0</td>\n",
              "    </tr>\n",
              "    <tr>\n",
              "      <th>3</th>\n",
              "      <td>5.0</td>\n",
              "      <td>1.281250</td>\n",
              "      <td>65 p.</td>\n",
              "      <td>sale</td>\n",
              "      <td>15%</td>\n",
              "    </tr>\n",
              "    <tr>\n",
              "      <th>4</th>\n",
              "      <td>3.0</td>\n",
              "      <td>46.000000</td>\n",
              "      <td>456</td>\n",
              "      <td>sale</td>\n",
              "      <td>10%</td>\n",
              "    </tr>\n",
              "    <tr>\n",
              "      <th>5</th>\n",
              "      <td>5.0</td>\n",
              "      <td>111.449941</td>\n",
              "      <td>347 p.</td>\n",
              "      <td>sale</td>\n",
              "      <td>10%</td>\n",
              "    </tr>\n",
              "    <tr>\n",
              "      <th>6</th>\n",
              "      <td>9.0</td>\n",
              "      <td>0.800000</td>\n",
              "      <td>164 p.</td>\n",
              "      <td>sale</td>\n",
              "      <td>10%</td>\n",
              "    </tr>\n",
              "    <tr>\n",
              "      <th>7</th>\n",
              "      <td>5.0</td>\n",
              "      <td>72.500000</td>\n",
              "      <td>3494p.</td>\n",
              "      <td>sale</td>\n",
              "      <td>14%</td>\n",
              "    </tr>\n",
              "    <tr>\n",
              "      <th>8</th>\n",
              "      <td>6.0</td>\n",
              "      <td>0.008803</td>\n",
              "      <td>1348 p.</td>\n",
              "      <td>sale</td>\n",
              "      <td>10%</td>\n",
              "    </tr>\n",
              "    <tr>\n",
              "      <th>9</th>\n",
              "      <td>9.0</td>\n",
              "      <td>111.449941</td>\n",
              "      <td>354p.</td>\n",
              "      <td>sale</td>\n",
              "      <td>10%</td>\n",
              "    </tr>\n",
              "    <tr>\n",
              "      <th>10</th>\n",
              "      <td>1.0</td>\n",
              "      <td>111.449941</td>\n",
              "      <td>123p.</td>\n",
              "      <td>sale</td>\n",
              "      <td>10%</td>\n",
              "    </tr>\n",
              "    <tr>\n",
              "      <th>11</th>\n",
              "      <td>9.0</td>\n",
              "      <td>0.755556</td>\n",
              "      <td>964p.</td>\n",
              "      <td>sale</td>\n",
              "      <td>12%</td>\n",
              "    </tr>\n",
              "    <tr>\n",
              "      <th>12</th>\n",
              "      <td>1.0</td>\n",
              "      <td>0.096970</td>\n",
              "      <td>100p.</td>\n",
              "      <td>sale</td>\n",
              "      <td>46%</td>\n",
              "    </tr>\n",
              "    <tr>\n",
              "      <th>13</th>\n",
              "      <td>7.0</td>\n",
              "      <td>1607.000000</td>\n",
              "      <td>250 p.</td>\n",
              "      <td>sale</td>\n",
              "      <td>1%</td>\n",
              "    </tr>\n",
              "    <tr>\n",
              "      <th>14</th>\n",
              "      <td>3.0</td>\n",
              "      <td>2.733333</td>\n",
              "      <td>169p.</td>\n",
              "      <td>NaN</td>\n",
              "      <td>0</td>\n",
              "    </tr>\n",
              "    <tr>\n",
              "      <th>15</th>\n",
              "      <td>98.0</td>\n",
              "      <td>1.921875</td>\n",
              "      <td>34p.</td>\n",
              "      <td>NaN</td>\n",
              "      <td>5%</td>\n",
              "    </tr>\n",
              "    <tr>\n",
              "      <th>16</th>\n",
              "      <td>5.0</td>\n",
              "      <td>7.073684</td>\n",
              "      <td>95p.</td>\n",
              "      <td>sale</td>\n",
              "      <td>3%</td>\n",
              "    </tr>\n",
              "    <tr>\n",
              "      <th>17</th>\n",
              "      <td>2.0</td>\n",
              "      <td>0.000000</td>\n",
              "      <td>164p.</td>\n",
              "      <td>sale</td>\n",
              "      <td>3%</td>\n",
              "    </tr>\n",
              "    <tr>\n",
              "      <th>18</th>\n",
              "      <td>9.0</td>\n",
              "      <td>35.000000</td>\n",
              "      <td>p.</td>\n",
              "      <td>sale</td>\n",
              "      <td>3%</td>\n",
              "    </tr>\n",
              "  </tbody>\n",
              "</table>\n",
              "</div>"
            ],
            "text/plain": [
              "       A            B        C     D    E\n",
              "0    1.0     2.733333    15 p.  sale   3%\n",
              "1    3.0     2.946429    654p.   NaN    0\n",
              "2    6.0     2.347826   458 p.   NaN    0\n",
              "3    5.0     1.281250    65 p.  sale  15%\n",
              "4    3.0    46.000000      456  sale  10%\n",
              "5    5.0   111.449941   347 p.  sale  10%\n",
              "6    9.0     0.800000   164 p.  sale  10%\n",
              "7    5.0    72.500000   3494p.  sale  14%\n",
              "8    6.0     0.008803  1348 p.  sale  10%\n",
              "9    9.0   111.449941    354p.  sale  10%\n",
              "10   1.0   111.449941   123p.   sale  10%\n",
              "11   9.0     0.755556    964p.  sale  12%\n",
              "12   1.0     0.096970    100p.  sale  46%\n",
              "13   7.0  1607.000000   250 p.  sale   1%\n",
              "14   3.0     2.733333    169p.   NaN    0\n",
              "15  98.0     1.921875     34p.   NaN   5%\n",
              "16   5.0     7.073684     95p.  sale   3%\n",
              "17   2.0     0.000000    164p.  sale   3%\n",
              "18   9.0    35.000000       p.  sale   3%"
            ]
          },
          "metadata": {
            "tags": []
          },
          "execution_count": 95
        }
      ]
    },
    {
      "cell_type": "code",
      "metadata": {
        "id": "oY7ekb9FMBjl",
        "colab_type": "code",
        "colab": {}
      },
      "source": [
        "old_b"
      ],
      "execution_count": 0,
      "outputs": []
    },
    {
      "cell_type": "code",
      "metadata": {
        "id": "Hwe8Pb_CKL5y",
        "colab_type": "code",
        "colab": {}
      },
      "source": [
        "def return_first_value(cell):\n",
        "  if isinstance(cell, str):\n",
        "    item = cell.split('/')[0]\n",
        "    if item and item!='-':\n",
        "      return int(item)\n",
        "  return 0\n",
        "\n",
        "def return_second_value(cell):\n",
        "  if isinstance(cell, str):\n",
        "    item = cell.split('/')[1]\n",
        "    if item and item!='-':\n",
        "      return int(item)\n",
        "  return 0"
      ],
      "execution_count": 0,
      "outputs": []
    },
    {
      "cell_type": "code",
      "metadata": {
        "id": "OMKvcq2tMvSn",
        "colab_type": "code",
        "colab": {}
      },
      "source": [
        "data_task['B1'] = old_b.apply(return_first_value)\n",
        "data_task['B2'] = old_b.apply(return_second_value)"
      ],
      "execution_count": 0,
      "outputs": []
    },
    {
      "cell_type": "code",
      "metadata": {
        "id": "2fgoQ11yNAu6",
        "colab_type": "code",
        "colab": {
          "base_uri": "https://localhost:8080/",
          "height": 1000
        },
        "outputId": "d2fa4347-095b-4d75-edd4-691263ad6559"
      },
      "source": [
        "print(old_b)\n",
        "data_task"
      ],
      "execution_count": 105,
      "outputs": [
        {
          "output_type": "stream",
          "text": [
            "0     123/45\n",
            "1     165/56\n",
            "2      54/23\n",
            "3      82/64\n",
            "4        46/\n",
            "5        NaN\n",
            "6      36/45\n",
            "7      145/2\n",
            "8      5/568\n",
            "9        NaN\n",
            "10       NaN\n",
            "11     34/45\n",
            "12    48/495\n",
            "13    3214/2\n",
            "14    123/45\n",
            "15    123/64\n",
            "16    672/95\n",
            "17        /3\n",
            "18      35/-\n",
            "Name: B, dtype: object\n"
          ],
          "name": "stdout"
        },
        {
          "output_type": "execute_result",
          "data": {
            "text/html": [
              "<div>\n",
              "<style scoped>\n",
              "    .dataframe tbody tr th:only-of-type {\n",
              "        vertical-align: middle;\n",
              "    }\n",
              "\n",
              "    .dataframe tbody tr th {\n",
              "        vertical-align: top;\n",
              "    }\n",
              "\n",
              "    .dataframe thead th {\n",
              "        text-align: right;\n",
              "    }\n",
              "</style>\n",
              "<table border=\"1\" class=\"dataframe\">\n",
              "  <thead>\n",
              "    <tr style=\"text-align: right;\">\n",
              "      <th></th>\n",
              "      <th>A</th>\n",
              "      <th>B</th>\n",
              "      <th>C</th>\n",
              "      <th>D</th>\n",
              "      <th>E</th>\n",
              "      <th>B1</th>\n",
              "      <th>B2</th>\n",
              "    </tr>\n",
              "  </thead>\n",
              "  <tbody>\n",
              "    <tr>\n",
              "      <th>0</th>\n",
              "      <td>1.0</td>\n",
              "      <td>2.733333</td>\n",
              "      <td>15 p.</td>\n",
              "      <td>sale</td>\n",
              "      <td>3%</td>\n",
              "      <td>123</td>\n",
              "      <td>45</td>\n",
              "    </tr>\n",
              "    <tr>\n",
              "      <th>1</th>\n",
              "      <td>3.0</td>\n",
              "      <td>2.946429</td>\n",
              "      <td>654p.</td>\n",
              "      <td>NaN</td>\n",
              "      <td>0</td>\n",
              "      <td>165</td>\n",
              "      <td>56</td>\n",
              "    </tr>\n",
              "    <tr>\n",
              "      <th>2</th>\n",
              "      <td>6.0</td>\n",
              "      <td>2.347826</td>\n",
              "      <td>458 p.</td>\n",
              "      <td>NaN</td>\n",
              "      <td>0</td>\n",
              "      <td>54</td>\n",
              "      <td>23</td>\n",
              "    </tr>\n",
              "    <tr>\n",
              "      <th>3</th>\n",
              "      <td>5.0</td>\n",
              "      <td>1.281250</td>\n",
              "      <td>65 p.</td>\n",
              "      <td>sale</td>\n",
              "      <td>15%</td>\n",
              "      <td>82</td>\n",
              "      <td>64</td>\n",
              "    </tr>\n",
              "    <tr>\n",
              "      <th>4</th>\n",
              "      <td>3.0</td>\n",
              "      <td>46.000000</td>\n",
              "      <td>456</td>\n",
              "      <td>sale</td>\n",
              "      <td>10%</td>\n",
              "      <td>46</td>\n",
              "      <td>0</td>\n",
              "    </tr>\n",
              "    <tr>\n",
              "      <th>5</th>\n",
              "      <td>5.0</td>\n",
              "      <td>111.449941</td>\n",
              "      <td>347 p.</td>\n",
              "      <td>sale</td>\n",
              "      <td>10%</td>\n",
              "      <td>0</td>\n",
              "      <td>0</td>\n",
              "    </tr>\n",
              "    <tr>\n",
              "      <th>6</th>\n",
              "      <td>9.0</td>\n",
              "      <td>0.800000</td>\n",
              "      <td>164 p.</td>\n",
              "      <td>sale</td>\n",
              "      <td>10%</td>\n",
              "      <td>36</td>\n",
              "      <td>45</td>\n",
              "    </tr>\n",
              "    <tr>\n",
              "      <th>7</th>\n",
              "      <td>5.0</td>\n",
              "      <td>72.500000</td>\n",
              "      <td>3494p.</td>\n",
              "      <td>sale</td>\n",
              "      <td>14%</td>\n",
              "      <td>145</td>\n",
              "      <td>2</td>\n",
              "    </tr>\n",
              "    <tr>\n",
              "      <th>8</th>\n",
              "      <td>6.0</td>\n",
              "      <td>0.008803</td>\n",
              "      <td>1348 p.</td>\n",
              "      <td>sale</td>\n",
              "      <td>10%</td>\n",
              "      <td>5</td>\n",
              "      <td>568</td>\n",
              "    </tr>\n",
              "    <tr>\n",
              "      <th>9</th>\n",
              "      <td>9.0</td>\n",
              "      <td>111.449941</td>\n",
              "      <td>354p.</td>\n",
              "      <td>sale</td>\n",
              "      <td>10%</td>\n",
              "      <td>0</td>\n",
              "      <td>0</td>\n",
              "    </tr>\n",
              "    <tr>\n",
              "      <th>10</th>\n",
              "      <td>1.0</td>\n",
              "      <td>111.449941</td>\n",
              "      <td>123p.</td>\n",
              "      <td>sale</td>\n",
              "      <td>10%</td>\n",
              "      <td>0</td>\n",
              "      <td>0</td>\n",
              "    </tr>\n",
              "    <tr>\n",
              "      <th>11</th>\n",
              "      <td>9.0</td>\n",
              "      <td>0.755556</td>\n",
              "      <td>964p.</td>\n",
              "      <td>sale</td>\n",
              "      <td>12%</td>\n",
              "      <td>34</td>\n",
              "      <td>45</td>\n",
              "    </tr>\n",
              "    <tr>\n",
              "      <th>12</th>\n",
              "      <td>1.0</td>\n",
              "      <td>0.096970</td>\n",
              "      <td>100p.</td>\n",
              "      <td>sale</td>\n",
              "      <td>46%</td>\n",
              "      <td>48</td>\n",
              "      <td>495</td>\n",
              "    </tr>\n",
              "    <tr>\n",
              "      <th>13</th>\n",
              "      <td>7.0</td>\n",
              "      <td>1607.000000</td>\n",
              "      <td>250 p.</td>\n",
              "      <td>sale</td>\n",
              "      <td>1%</td>\n",
              "      <td>3214</td>\n",
              "      <td>2</td>\n",
              "    </tr>\n",
              "    <tr>\n",
              "      <th>14</th>\n",
              "      <td>3.0</td>\n",
              "      <td>2.733333</td>\n",
              "      <td>169p.</td>\n",
              "      <td>NaN</td>\n",
              "      <td>0</td>\n",
              "      <td>123</td>\n",
              "      <td>45</td>\n",
              "    </tr>\n",
              "    <tr>\n",
              "      <th>15</th>\n",
              "      <td>98.0</td>\n",
              "      <td>1.921875</td>\n",
              "      <td>34p.</td>\n",
              "      <td>NaN</td>\n",
              "      <td>5%</td>\n",
              "      <td>123</td>\n",
              "      <td>64</td>\n",
              "    </tr>\n",
              "    <tr>\n",
              "      <th>16</th>\n",
              "      <td>5.0</td>\n",
              "      <td>7.073684</td>\n",
              "      <td>95p.</td>\n",
              "      <td>sale</td>\n",
              "      <td>3%</td>\n",
              "      <td>672</td>\n",
              "      <td>95</td>\n",
              "    </tr>\n",
              "    <tr>\n",
              "      <th>17</th>\n",
              "      <td>2.0</td>\n",
              "      <td>0.000000</td>\n",
              "      <td>164p.</td>\n",
              "      <td>sale</td>\n",
              "      <td>3%</td>\n",
              "      <td>0</td>\n",
              "      <td>3</td>\n",
              "    </tr>\n",
              "    <tr>\n",
              "      <th>18</th>\n",
              "      <td>9.0</td>\n",
              "      <td>35.000000</td>\n",
              "      <td>p.</td>\n",
              "      <td>sale</td>\n",
              "      <td>3%</td>\n",
              "      <td>35</td>\n",
              "      <td>0</td>\n",
              "    </tr>\n",
              "  </tbody>\n",
              "</table>\n",
              "</div>"
            ],
            "text/plain": [
              "       A            B        C     D    E    B1   B2\n",
              "0    1.0     2.733333    15 p.  sale   3%   123   45\n",
              "1    3.0     2.946429    654p.   NaN    0   165   56\n",
              "2    6.0     2.347826   458 p.   NaN    0    54   23\n",
              "3    5.0     1.281250    65 p.  sale  15%    82   64\n",
              "4    3.0    46.000000      456  sale  10%    46    0\n",
              "5    5.0   111.449941   347 p.  sale  10%     0    0\n",
              "6    9.0     0.800000   164 p.  sale  10%    36   45\n",
              "7    5.0    72.500000   3494p.  sale  14%   145    2\n",
              "8    6.0     0.008803  1348 p.  sale  10%     5  568\n",
              "9    9.0   111.449941    354p.  sale  10%     0    0\n",
              "10   1.0   111.449941   123p.   sale  10%     0    0\n",
              "11   9.0     0.755556    964p.  sale  12%    34   45\n",
              "12   1.0     0.096970    100p.  sale  46%    48  495\n",
              "13   7.0  1607.000000   250 p.  sale   1%  3214    2\n",
              "14   3.0     2.733333    169p.   NaN    0   123   45\n",
              "15  98.0     1.921875     34p.   NaN   5%   123   64\n",
              "16   5.0     7.073684     95p.  sale   3%   672   95\n",
              "17   2.0     0.000000    164p.  sale   3%     0    3\n",
              "18   9.0    35.000000       p.  sale   3%    35    0"
            ]
          },
          "metadata": {
            "tags": []
          },
          "execution_count": 105
        }
      ]
    },
    {
      "cell_type": "code",
      "metadata": {
        "id": "QCsJd6AcGykn",
        "colab_type": "code",
        "colab": {}
      },
      "source": [
        "def delete_percents(cell):\n",
        "  if isinstance(cell, str):\n",
        "    return int(cell[:-1])\n",
        "  else:\n",
        "    return cell"
      ],
      "execution_count": 0,
      "outputs": []
    },
    {
      "cell_type": "code",
      "metadata": {
        "id": "art2PUrPJEDS",
        "colab_type": "code",
        "colab": {}
      },
      "source": [
        "def delete_rubles(cell):\n",
        "  if isinstance(cell, str):\n",
        "    rubles = cell.split('p')[0]\n",
        "    if rubles:\n",
        "      return int(rubles)\n",
        "    else:\n",
        "      return 0\n",
        "  else:\n",
        "    return cell"
      ],
      "execution_count": 0,
      "outputs": []
    },
    {
      "cell_type": "code",
      "metadata": {
        "id": "fPXRf9J-G-qG",
        "colab_type": "code",
        "colab": {
          "base_uri": "https://localhost:8080/",
          "height": 645
        },
        "outputId": "7e7dc2f9-78d9-4dd2-a0f8-5088a6f6d1c0"
      },
      "source": [
        "data_task['E'] = data_task['E'].apply(delete_percents)\n",
        "data_task['C'] = data_task['C'].apply(delete_rubles)\n",
        "data_task"
      ],
      "execution_count": 113,
      "outputs": [
        {
          "output_type": "execute_result",
          "data": {
            "text/html": [
              "<div>\n",
              "<style scoped>\n",
              "    .dataframe tbody tr th:only-of-type {\n",
              "        vertical-align: middle;\n",
              "    }\n",
              "\n",
              "    .dataframe tbody tr th {\n",
              "        vertical-align: top;\n",
              "    }\n",
              "\n",
              "    .dataframe thead th {\n",
              "        text-align: right;\n",
              "    }\n",
              "</style>\n",
              "<table border=\"1\" class=\"dataframe\">\n",
              "  <thead>\n",
              "    <tr style=\"text-align: right;\">\n",
              "      <th></th>\n",
              "      <th>A</th>\n",
              "      <th>B</th>\n",
              "      <th>C</th>\n",
              "      <th>D</th>\n",
              "      <th>E</th>\n",
              "      <th>B1</th>\n",
              "      <th>B2</th>\n",
              "    </tr>\n",
              "  </thead>\n",
              "  <tbody>\n",
              "    <tr>\n",
              "      <th>0</th>\n",
              "      <td>1.0</td>\n",
              "      <td>2.733333</td>\n",
              "      <td>15</td>\n",
              "      <td>sale</td>\n",
              "      <td>3</td>\n",
              "      <td>123</td>\n",
              "      <td>45</td>\n",
              "    </tr>\n",
              "    <tr>\n",
              "      <th>1</th>\n",
              "      <td>3.0</td>\n",
              "      <td>2.946429</td>\n",
              "      <td>654</td>\n",
              "      <td>NaN</td>\n",
              "      <td>0</td>\n",
              "      <td>165</td>\n",
              "      <td>56</td>\n",
              "    </tr>\n",
              "    <tr>\n",
              "      <th>2</th>\n",
              "      <td>6.0</td>\n",
              "      <td>2.347826</td>\n",
              "      <td>458</td>\n",
              "      <td>NaN</td>\n",
              "      <td>0</td>\n",
              "      <td>54</td>\n",
              "      <td>23</td>\n",
              "    </tr>\n",
              "    <tr>\n",
              "      <th>3</th>\n",
              "      <td>5.0</td>\n",
              "      <td>1.281250</td>\n",
              "      <td>65</td>\n",
              "      <td>sale</td>\n",
              "      <td>15</td>\n",
              "      <td>82</td>\n",
              "      <td>64</td>\n",
              "    </tr>\n",
              "    <tr>\n",
              "      <th>4</th>\n",
              "      <td>3.0</td>\n",
              "      <td>46.000000</td>\n",
              "      <td>456</td>\n",
              "      <td>sale</td>\n",
              "      <td>10</td>\n",
              "      <td>46</td>\n",
              "      <td>0</td>\n",
              "    </tr>\n",
              "    <tr>\n",
              "      <th>5</th>\n",
              "      <td>5.0</td>\n",
              "      <td>111.449941</td>\n",
              "      <td>347</td>\n",
              "      <td>sale</td>\n",
              "      <td>10</td>\n",
              "      <td>0</td>\n",
              "      <td>0</td>\n",
              "    </tr>\n",
              "    <tr>\n",
              "      <th>6</th>\n",
              "      <td>9.0</td>\n",
              "      <td>0.800000</td>\n",
              "      <td>164</td>\n",
              "      <td>sale</td>\n",
              "      <td>10</td>\n",
              "      <td>36</td>\n",
              "      <td>45</td>\n",
              "    </tr>\n",
              "    <tr>\n",
              "      <th>7</th>\n",
              "      <td>5.0</td>\n",
              "      <td>72.500000</td>\n",
              "      <td>3494</td>\n",
              "      <td>sale</td>\n",
              "      <td>14</td>\n",
              "      <td>145</td>\n",
              "      <td>2</td>\n",
              "    </tr>\n",
              "    <tr>\n",
              "      <th>8</th>\n",
              "      <td>6.0</td>\n",
              "      <td>0.008803</td>\n",
              "      <td>1348</td>\n",
              "      <td>sale</td>\n",
              "      <td>10</td>\n",
              "      <td>5</td>\n",
              "      <td>568</td>\n",
              "    </tr>\n",
              "    <tr>\n",
              "      <th>9</th>\n",
              "      <td>9.0</td>\n",
              "      <td>111.449941</td>\n",
              "      <td>354</td>\n",
              "      <td>sale</td>\n",
              "      <td>10</td>\n",
              "      <td>0</td>\n",
              "      <td>0</td>\n",
              "    </tr>\n",
              "    <tr>\n",
              "      <th>10</th>\n",
              "      <td>1.0</td>\n",
              "      <td>111.449941</td>\n",
              "      <td>123</td>\n",
              "      <td>sale</td>\n",
              "      <td>10</td>\n",
              "      <td>0</td>\n",
              "      <td>0</td>\n",
              "    </tr>\n",
              "    <tr>\n",
              "      <th>11</th>\n",
              "      <td>9.0</td>\n",
              "      <td>0.755556</td>\n",
              "      <td>964</td>\n",
              "      <td>sale</td>\n",
              "      <td>12</td>\n",
              "      <td>34</td>\n",
              "      <td>45</td>\n",
              "    </tr>\n",
              "    <tr>\n",
              "      <th>12</th>\n",
              "      <td>1.0</td>\n",
              "      <td>0.096970</td>\n",
              "      <td>100</td>\n",
              "      <td>sale</td>\n",
              "      <td>46</td>\n",
              "      <td>48</td>\n",
              "      <td>495</td>\n",
              "    </tr>\n",
              "    <tr>\n",
              "      <th>13</th>\n",
              "      <td>7.0</td>\n",
              "      <td>1607.000000</td>\n",
              "      <td>250</td>\n",
              "      <td>sale</td>\n",
              "      <td>1</td>\n",
              "      <td>3214</td>\n",
              "      <td>2</td>\n",
              "    </tr>\n",
              "    <tr>\n",
              "      <th>14</th>\n",
              "      <td>3.0</td>\n",
              "      <td>2.733333</td>\n",
              "      <td>169</td>\n",
              "      <td>NaN</td>\n",
              "      <td>0</td>\n",
              "      <td>123</td>\n",
              "      <td>45</td>\n",
              "    </tr>\n",
              "    <tr>\n",
              "      <th>15</th>\n",
              "      <td>98.0</td>\n",
              "      <td>1.921875</td>\n",
              "      <td>34</td>\n",
              "      <td>NaN</td>\n",
              "      <td>5</td>\n",
              "      <td>123</td>\n",
              "      <td>64</td>\n",
              "    </tr>\n",
              "    <tr>\n",
              "      <th>16</th>\n",
              "      <td>5.0</td>\n",
              "      <td>7.073684</td>\n",
              "      <td>95</td>\n",
              "      <td>sale</td>\n",
              "      <td>3</td>\n",
              "      <td>672</td>\n",
              "      <td>95</td>\n",
              "    </tr>\n",
              "    <tr>\n",
              "      <th>17</th>\n",
              "      <td>2.0</td>\n",
              "      <td>0.000000</td>\n",
              "      <td>164</td>\n",
              "      <td>sale</td>\n",
              "      <td>3</td>\n",
              "      <td>0</td>\n",
              "      <td>3</td>\n",
              "    </tr>\n",
              "    <tr>\n",
              "      <th>18</th>\n",
              "      <td>9.0</td>\n",
              "      <td>35.000000</td>\n",
              "      <td>0</td>\n",
              "      <td>sale</td>\n",
              "      <td>3</td>\n",
              "      <td>35</td>\n",
              "      <td>0</td>\n",
              "    </tr>\n",
              "  </tbody>\n",
              "</table>\n",
              "</div>"
            ],
            "text/plain": [
              "       A            B     C     D   E    B1   B2\n",
              "0    1.0     2.733333    15  sale   3   123   45\n",
              "1    3.0     2.946429   654   NaN   0   165   56\n",
              "2    6.0     2.347826   458   NaN   0    54   23\n",
              "3    5.0     1.281250    65  sale  15    82   64\n",
              "4    3.0    46.000000   456  sale  10    46    0\n",
              "5    5.0   111.449941   347  sale  10     0    0\n",
              "6    9.0     0.800000   164  sale  10    36   45\n",
              "7    5.0    72.500000  3494  sale  14   145    2\n",
              "8    6.0     0.008803  1348  sale  10     5  568\n",
              "9    9.0   111.449941   354  sale  10     0    0\n",
              "10   1.0   111.449941   123  sale  10     0    0\n",
              "11   9.0     0.755556   964  sale  12    34   45\n",
              "12   1.0     0.096970   100  sale  46    48  495\n",
              "13   7.0  1607.000000   250  sale   1  3214    2\n",
              "14   3.0     2.733333   169   NaN   0   123   45\n",
              "15  98.0     1.921875    34   NaN   5   123   64\n",
              "16   5.0     7.073684    95  sale   3   672   95\n",
              "17   2.0     0.000000   164  sale   3     0    3\n",
              "18   9.0    35.000000     0  sale   3    35    0"
            ]
          },
          "metadata": {
            "tags": []
          },
          "execution_count": 113
        }
      ]
    },
    {
      "cell_type": "code",
      "metadata": {
        "id": "RcgXrLBlNkWx",
        "colab_type": "code",
        "colab": {
          "base_uri": "https://localhost:8080/",
          "height": 645
        },
        "outputId": "6ee5fc87-6881-4024-eaf4-ccf9356cee38"
      },
      "source": [
        "# F = A * С - E\n",
        "data_task['F'] = data_task['A']*data_task['C'] - data_task['E']\n",
        "data_task"
      ],
      "execution_count": 114,
      "outputs": [
        {
          "output_type": "execute_result",
          "data": {
            "text/html": [
              "<div>\n",
              "<style scoped>\n",
              "    .dataframe tbody tr th:only-of-type {\n",
              "        vertical-align: middle;\n",
              "    }\n",
              "\n",
              "    .dataframe tbody tr th {\n",
              "        vertical-align: top;\n",
              "    }\n",
              "\n",
              "    .dataframe thead th {\n",
              "        text-align: right;\n",
              "    }\n",
              "</style>\n",
              "<table border=\"1\" class=\"dataframe\">\n",
              "  <thead>\n",
              "    <tr style=\"text-align: right;\">\n",
              "      <th></th>\n",
              "      <th>A</th>\n",
              "      <th>B</th>\n",
              "      <th>C</th>\n",
              "      <th>D</th>\n",
              "      <th>E</th>\n",
              "      <th>B1</th>\n",
              "      <th>B2</th>\n",
              "      <th>F</th>\n",
              "    </tr>\n",
              "  </thead>\n",
              "  <tbody>\n",
              "    <tr>\n",
              "      <th>0</th>\n",
              "      <td>1.0</td>\n",
              "      <td>2.733333</td>\n",
              "      <td>15</td>\n",
              "      <td>sale</td>\n",
              "      <td>3</td>\n",
              "      <td>123</td>\n",
              "      <td>45</td>\n",
              "      <td>12.0</td>\n",
              "    </tr>\n",
              "    <tr>\n",
              "      <th>1</th>\n",
              "      <td>3.0</td>\n",
              "      <td>2.946429</td>\n",
              "      <td>654</td>\n",
              "      <td>NaN</td>\n",
              "      <td>0</td>\n",
              "      <td>165</td>\n",
              "      <td>56</td>\n",
              "      <td>1962.0</td>\n",
              "    </tr>\n",
              "    <tr>\n",
              "      <th>2</th>\n",
              "      <td>6.0</td>\n",
              "      <td>2.347826</td>\n",
              "      <td>458</td>\n",
              "      <td>NaN</td>\n",
              "      <td>0</td>\n",
              "      <td>54</td>\n",
              "      <td>23</td>\n",
              "      <td>2748.0</td>\n",
              "    </tr>\n",
              "    <tr>\n",
              "      <th>3</th>\n",
              "      <td>5.0</td>\n",
              "      <td>1.281250</td>\n",
              "      <td>65</td>\n",
              "      <td>sale</td>\n",
              "      <td>15</td>\n",
              "      <td>82</td>\n",
              "      <td>64</td>\n",
              "      <td>310.0</td>\n",
              "    </tr>\n",
              "    <tr>\n",
              "      <th>4</th>\n",
              "      <td>3.0</td>\n",
              "      <td>46.000000</td>\n",
              "      <td>456</td>\n",
              "      <td>sale</td>\n",
              "      <td>10</td>\n",
              "      <td>46</td>\n",
              "      <td>0</td>\n",
              "      <td>1358.0</td>\n",
              "    </tr>\n",
              "    <tr>\n",
              "      <th>5</th>\n",
              "      <td>5.0</td>\n",
              "      <td>111.449941</td>\n",
              "      <td>347</td>\n",
              "      <td>sale</td>\n",
              "      <td>10</td>\n",
              "      <td>0</td>\n",
              "      <td>0</td>\n",
              "      <td>1725.0</td>\n",
              "    </tr>\n",
              "    <tr>\n",
              "      <th>6</th>\n",
              "      <td>9.0</td>\n",
              "      <td>0.800000</td>\n",
              "      <td>164</td>\n",
              "      <td>sale</td>\n",
              "      <td>10</td>\n",
              "      <td>36</td>\n",
              "      <td>45</td>\n",
              "      <td>1466.0</td>\n",
              "    </tr>\n",
              "    <tr>\n",
              "      <th>7</th>\n",
              "      <td>5.0</td>\n",
              "      <td>72.500000</td>\n",
              "      <td>3494</td>\n",
              "      <td>sale</td>\n",
              "      <td>14</td>\n",
              "      <td>145</td>\n",
              "      <td>2</td>\n",
              "      <td>17456.0</td>\n",
              "    </tr>\n",
              "    <tr>\n",
              "      <th>8</th>\n",
              "      <td>6.0</td>\n",
              "      <td>0.008803</td>\n",
              "      <td>1348</td>\n",
              "      <td>sale</td>\n",
              "      <td>10</td>\n",
              "      <td>5</td>\n",
              "      <td>568</td>\n",
              "      <td>8078.0</td>\n",
              "    </tr>\n",
              "    <tr>\n",
              "      <th>9</th>\n",
              "      <td>9.0</td>\n",
              "      <td>111.449941</td>\n",
              "      <td>354</td>\n",
              "      <td>sale</td>\n",
              "      <td>10</td>\n",
              "      <td>0</td>\n",
              "      <td>0</td>\n",
              "      <td>3176.0</td>\n",
              "    </tr>\n",
              "    <tr>\n",
              "      <th>10</th>\n",
              "      <td>1.0</td>\n",
              "      <td>111.449941</td>\n",
              "      <td>123</td>\n",
              "      <td>sale</td>\n",
              "      <td>10</td>\n",
              "      <td>0</td>\n",
              "      <td>0</td>\n",
              "      <td>113.0</td>\n",
              "    </tr>\n",
              "    <tr>\n",
              "      <th>11</th>\n",
              "      <td>9.0</td>\n",
              "      <td>0.755556</td>\n",
              "      <td>964</td>\n",
              "      <td>sale</td>\n",
              "      <td>12</td>\n",
              "      <td>34</td>\n",
              "      <td>45</td>\n",
              "      <td>8664.0</td>\n",
              "    </tr>\n",
              "    <tr>\n",
              "      <th>12</th>\n",
              "      <td>1.0</td>\n",
              "      <td>0.096970</td>\n",
              "      <td>100</td>\n",
              "      <td>sale</td>\n",
              "      <td>46</td>\n",
              "      <td>48</td>\n",
              "      <td>495</td>\n",
              "      <td>54.0</td>\n",
              "    </tr>\n",
              "    <tr>\n",
              "      <th>13</th>\n",
              "      <td>7.0</td>\n",
              "      <td>1607.000000</td>\n",
              "      <td>250</td>\n",
              "      <td>sale</td>\n",
              "      <td>1</td>\n",
              "      <td>3214</td>\n",
              "      <td>2</td>\n",
              "      <td>1749.0</td>\n",
              "    </tr>\n",
              "    <tr>\n",
              "      <th>14</th>\n",
              "      <td>3.0</td>\n",
              "      <td>2.733333</td>\n",
              "      <td>169</td>\n",
              "      <td>NaN</td>\n",
              "      <td>0</td>\n",
              "      <td>123</td>\n",
              "      <td>45</td>\n",
              "      <td>507.0</td>\n",
              "    </tr>\n",
              "    <tr>\n",
              "      <th>15</th>\n",
              "      <td>98.0</td>\n",
              "      <td>1.921875</td>\n",
              "      <td>34</td>\n",
              "      <td>NaN</td>\n",
              "      <td>5</td>\n",
              "      <td>123</td>\n",
              "      <td>64</td>\n",
              "      <td>3327.0</td>\n",
              "    </tr>\n",
              "    <tr>\n",
              "      <th>16</th>\n",
              "      <td>5.0</td>\n",
              "      <td>7.073684</td>\n",
              "      <td>95</td>\n",
              "      <td>sale</td>\n",
              "      <td>3</td>\n",
              "      <td>672</td>\n",
              "      <td>95</td>\n",
              "      <td>472.0</td>\n",
              "    </tr>\n",
              "    <tr>\n",
              "      <th>17</th>\n",
              "      <td>2.0</td>\n",
              "      <td>0.000000</td>\n",
              "      <td>164</td>\n",
              "      <td>sale</td>\n",
              "      <td>3</td>\n",
              "      <td>0</td>\n",
              "      <td>3</td>\n",
              "      <td>325.0</td>\n",
              "    </tr>\n",
              "    <tr>\n",
              "      <th>18</th>\n",
              "      <td>9.0</td>\n",
              "      <td>35.000000</td>\n",
              "      <td>0</td>\n",
              "      <td>sale</td>\n",
              "      <td>3</td>\n",
              "      <td>35</td>\n",
              "      <td>0</td>\n",
              "      <td>-3.0</td>\n",
              "    </tr>\n",
              "  </tbody>\n",
              "</table>\n",
              "</div>"
            ],
            "text/plain": [
              "       A            B     C     D   E    B1   B2        F\n",
              "0    1.0     2.733333    15  sale   3   123   45     12.0\n",
              "1    3.0     2.946429   654   NaN   0   165   56   1962.0\n",
              "2    6.0     2.347826   458   NaN   0    54   23   2748.0\n",
              "3    5.0     1.281250    65  sale  15    82   64    310.0\n",
              "4    3.0    46.000000   456  sale  10    46    0   1358.0\n",
              "5    5.0   111.449941   347  sale  10     0    0   1725.0\n",
              "6    9.0     0.800000   164  sale  10    36   45   1466.0\n",
              "7    5.0    72.500000  3494  sale  14   145    2  17456.0\n",
              "8    6.0     0.008803  1348  sale  10     5  568   8078.0\n",
              "9    9.0   111.449941   354  sale  10     0    0   3176.0\n",
              "10   1.0   111.449941   123  sale  10     0    0    113.0\n",
              "11   9.0     0.755556   964  sale  12    34   45   8664.0\n",
              "12   1.0     0.096970   100  sale  46    48  495     54.0\n",
              "13   7.0  1607.000000   250  sale   1  3214    2   1749.0\n",
              "14   3.0     2.733333   169   NaN   0   123   45    507.0\n",
              "15  98.0     1.921875    34   NaN   5   123   64   3327.0\n",
              "16   5.0     7.073684    95  sale   3   672   95    472.0\n",
              "17   2.0     0.000000   164  sale   3     0    3    325.0\n",
              "18   9.0    35.000000     0  sale   3    35    0     -3.0"
            ]
          },
          "metadata": {
            "tags": []
          },
          "execution_count": 114
        }
      ]
    }
  ]
}